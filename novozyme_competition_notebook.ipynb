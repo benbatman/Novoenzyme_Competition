{
  "nbformat": 4,
  "nbformat_minor": 0,
  "metadata": {
    "colab": {
      "provenance": [],
      "authorship_tag": "ABX9TyOH7Ku9ppafw3Zr6+6+dy0s",
      "include_colab_link": true
    },
    "kernelspec": {
      "name": "python3",
      "display_name": "Python 3"
    },
    "language_info": {
      "name": "python"
    },
    "gpuClass": "standard",
    "accelerator": "GPU"
  },
  "cells": [
    {
      "cell_type": "markdown",
      "metadata": {
        "id": "view-in-github",
        "colab_type": "text"
      },
      "source": [
        "<a href=\"https://colab.research.google.com/github/benbatman/Novoenzyme_Competition/blob/main/novozyme_competition_notebook.ipynb\" target=\"_parent\"><img src=\"https://colab.research.google.com/assets/colab-badge.svg\" alt=\"Open In Colab\"/></a>"
      ]
    },
    {
      "cell_type": "markdown",
      "source": [
        "# The Challenge\n",
        "\n",
        "Take in a dataset of enzyme amino acid sequences and determine the thermal stability of them.\n",
        "\n",
        "**Features:** \n",
        "- Amino acid sequence\n",
        "- pH\n",
        "- Data source (will not include in model as not useful)\n",
        "\n",
        "**Target:**\n",
        "- thermostability of enzyme variants based on experimental melting temperature data\n",
        "\n",
        "**Initial Strategy:** \n",
        "- Update the data with the corrected dataset Kaggle provided\n",
        "- Separate aa sequences into separate characters \n",
        "- Prepare a `TextVectorizer` for the train characters\n",
        "- Create an `Embedding` layer for the vectorized chars \n",
        "Create `tf.data.Dataset` performant datasets for training and validation sets\n",
        "- Train on only 10% of the data to find what works \n",
        "- Find what works and then scale up to 100% of the training data\n"
      ],
      "metadata": {
        "id": "b9xsBIggH9Iz"
      }
    },
    {
      "cell_type": "code",
      "source": [
        "!nvidia-smi -L"
      ],
      "metadata": {
        "colab": {
          "base_uri": "https://localhost:8080/"
        },
        "id": "XyXWAXXQoncl",
        "outputId": "d9bbef6c-4c85-468e-c3dc-11d436081cef"
      },
      "execution_count": 1,
      "outputs": [
        {
          "output_type": "stream",
          "name": "stdout",
          "text": [
            "GPU 0: Tesla T4 (UUID: GPU-60157827-c05a-663a-07f8-968d7c7b0a6f)\n"
          ]
        }
      ]
    },
    {
      "cell_type": "code",
      "source": [
        "import tensorflow as tf \n",
        "print(tf.__version__)"
      ],
      "metadata": {
        "colab": {
          "base_uri": "https://localhost:8080/"
        },
        "id": "msOt3uRT6Ult",
        "outputId": "9f5de591-0367-492d-f413-a0f61478199b"
      },
      "execution_count": 2,
      "outputs": [
        {
          "output_type": "stream",
          "name": "stdout",
          "text": [
            "2.9.2\n"
          ]
        }
      ]
    },
    {
      "cell_type": "code",
      "execution_count": 3,
      "metadata": {
        "colab": {
          "base_uri": "https://localhost:8080/"
        },
        "id": "-exRSH4Bn_f6",
        "outputId": "8fc682b8-1b97-49b7-dcd5-c9c40b278768"
      },
      "outputs": [
        {
          "output_type": "stream",
          "name": "stdout",
          "text": [
            "Mounted at /content/drive\n"
          ]
        }
      ],
      "source": [
        "# Get the data\n",
        "from google.colab import drive\n",
        "drive.mount('/content/drive')"
      ]
    },
    {
      "cell_type": "code",
      "source": [
        "# Unzip the folder\n",
        "!unzip \"/content/drive/MyDrive/Novozyme_Competition/novozyme_competition/novozymes-enzyme-stability-prediction.zip\""
      ],
      "metadata": {
        "colab": {
          "base_uri": "https://localhost:8080/"
        },
        "id": "aZxKavf_oQTO",
        "outputId": "4ffaa8db-5657-4ffe-e4d0-9ba0826e31d4"
      },
      "execution_count": 4,
      "outputs": [
        {
          "output_type": "stream",
          "name": "stdout",
          "text": [
            "Archive:  /content/drive/MyDrive/Novozyme_Competition/novozyme_competition/novozymes-enzyme-stability-prediction.zip\n",
            "  inflating: sample_submission.csv   \n",
            "  inflating: test.csv                \n",
            "  inflating: train.csv               \n",
            "  inflating: train_updates_20220929.csv  \n",
            "  inflating: wildtype_structure_prediction_af2.pdb  \n"
          ]
        }
      ]
    },
    {
      "cell_type": "markdown",
      "source": [
        "## Data Preparation"
      ],
      "metadata": {
        "id": "Juxl5MivK78o"
      }
    },
    {
      "cell_type": "code",
      "source": [
        "# Read in the CSV files\n",
        "import pandas as pd \n",
        "train_df = pd.read_csv(\"train.csv\")\n",
        "test_df = pd.read_csv(\"test.csv\")\n",
        "train_update_df = pd.read_csv(\"train_updates_20220929.csv\")"
      ],
      "metadata": {
        "id": "gW7Oa4Zpp5lu"
      },
      "execution_count": 5,
      "outputs": []
    },
    {
      "cell_type": "code",
      "source": [
        "train_df.head()"
      ],
      "metadata": {
        "colab": {
          "base_uri": "https://localhost:8080/",
          "height": 206
        },
        "id": "FVF8fDsnM93W",
        "outputId": "8a7a0cb4-5e5e-440b-d128-9b12a6f36d3a"
      },
      "execution_count": 6,
      "outputs": [
        {
          "output_type": "execute_result",
          "data": {
            "text/plain": [
              "   seq_id                                   protein_sequence   pH  \\\n",
              "0       0  AAAAKAAALALLGEAPEVVDIWLPAGWRQPFRVFRLERKGDGVLVG...  7.0   \n",
              "1       1  AAADGEPLHNEEERAGAGQVGRSLPQESEEQRTGSRPRRRRDLGSR...  7.0   \n",
              "2       2  AAAFSTPRATSYRILSSAGSGSTRADAPQVRRLHTTRDLLAKDYYA...  7.0   \n",
              "3       3  AAASGLRTAIPAQPLRHLLQPAPRPCLRPFGLLSVRAGSARRSGLL...  7.0   \n",
              "4       4  AAATKSGPRRQSQGASVRTFTPFYFLVEPVDTLSVRGSSVILNCSA...  7.0   \n",
              "\n",
              "                         data_source    tm  \n",
              "0  doi.org/10.1038/s41592-020-0801-4  75.7  \n",
              "1  doi.org/10.1038/s41592-020-0801-4  50.5  \n",
              "2  doi.org/10.1038/s41592-020-0801-4  40.5  \n",
              "3  doi.org/10.1038/s41592-020-0801-4  47.2  \n",
              "4  doi.org/10.1038/s41592-020-0801-4  49.5  "
            ],
            "text/html": [
              "\n",
              "  <div id=\"df-62bb2cd9-fd0e-44dc-8639-40d75dde4f3f\">\n",
              "    <div class=\"colab-df-container\">\n",
              "      <div>\n",
              "<style scoped>\n",
              "    .dataframe tbody tr th:only-of-type {\n",
              "        vertical-align: middle;\n",
              "    }\n",
              "\n",
              "    .dataframe tbody tr th {\n",
              "        vertical-align: top;\n",
              "    }\n",
              "\n",
              "    .dataframe thead th {\n",
              "        text-align: right;\n",
              "    }\n",
              "</style>\n",
              "<table border=\"1\" class=\"dataframe\">\n",
              "  <thead>\n",
              "    <tr style=\"text-align: right;\">\n",
              "      <th></th>\n",
              "      <th>seq_id</th>\n",
              "      <th>protein_sequence</th>\n",
              "      <th>pH</th>\n",
              "      <th>data_source</th>\n",
              "      <th>tm</th>\n",
              "    </tr>\n",
              "  </thead>\n",
              "  <tbody>\n",
              "    <tr>\n",
              "      <th>0</th>\n",
              "      <td>0</td>\n",
              "      <td>AAAAKAAALALLGEAPEVVDIWLPAGWRQPFRVFRLERKGDGVLVG...</td>\n",
              "      <td>7.0</td>\n",
              "      <td>doi.org/10.1038/s41592-020-0801-4</td>\n",
              "      <td>75.7</td>\n",
              "    </tr>\n",
              "    <tr>\n",
              "      <th>1</th>\n",
              "      <td>1</td>\n",
              "      <td>AAADGEPLHNEEERAGAGQVGRSLPQESEEQRTGSRPRRRRDLGSR...</td>\n",
              "      <td>7.0</td>\n",
              "      <td>doi.org/10.1038/s41592-020-0801-4</td>\n",
              "      <td>50.5</td>\n",
              "    </tr>\n",
              "    <tr>\n",
              "      <th>2</th>\n",
              "      <td>2</td>\n",
              "      <td>AAAFSTPRATSYRILSSAGSGSTRADAPQVRRLHTTRDLLAKDYYA...</td>\n",
              "      <td>7.0</td>\n",
              "      <td>doi.org/10.1038/s41592-020-0801-4</td>\n",
              "      <td>40.5</td>\n",
              "    </tr>\n",
              "    <tr>\n",
              "      <th>3</th>\n",
              "      <td>3</td>\n",
              "      <td>AAASGLRTAIPAQPLRHLLQPAPRPCLRPFGLLSVRAGSARRSGLL...</td>\n",
              "      <td>7.0</td>\n",
              "      <td>doi.org/10.1038/s41592-020-0801-4</td>\n",
              "      <td>47.2</td>\n",
              "    </tr>\n",
              "    <tr>\n",
              "      <th>4</th>\n",
              "      <td>4</td>\n",
              "      <td>AAATKSGPRRQSQGASVRTFTPFYFLVEPVDTLSVRGSSVILNCSA...</td>\n",
              "      <td>7.0</td>\n",
              "      <td>doi.org/10.1038/s41592-020-0801-4</td>\n",
              "      <td>49.5</td>\n",
              "    </tr>\n",
              "  </tbody>\n",
              "</table>\n",
              "</div>\n",
              "      <button class=\"colab-df-convert\" onclick=\"convertToInteractive('df-62bb2cd9-fd0e-44dc-8639-40d75dde4f3f')\"\n",
              "              title=\"Convert this dataframe to an interactive table.\"\n",
              "              style=\"display:none;\">\n",
              "        \n",
              "  <svg xmlns=\"http://www.w3.org/2000/svg\" height=\"24px\"viewBox=\"0 0 24 24\"\n",
              "       width=\"24px\">\n",
              "    <path d=\"M0 0h24v24H0V0z\" fill=\"none\"/>\n",
              "    <path d=\"M18.56 5.44l.94 2.06.94-2.06 2.06-.94-2.06-.94-.94-2.06-.94 2.06-2.06.94zm-11 1L8.5 8.5l.94-2.06 2.06-.94-2.06-.94L8.5 2.5l-.94 2.06-2.06.94zm10 10l.94 2.06.94-2.06 2.06-.94-2.06-.94-.94-2.06-.94 2.06-2.06.94z\"/><path d=\"M17.41 7.96l-1.37-1.37c-.4-.4-.92-.59-1.43-.59-.52 0-1.04.2-1.43.59L10.3 9.45l-7.72 7.72c-.78.78-.78 2.05 0 2.83L4 21.41c.39.39.9.59 1.41.59.51 0 1.02-.2 1.41-.59l7.78-7.78 2.81-2.81c.8-.78.8-2.07 0-2.86zM5.41 20L4 18.59l7.72-7.72 1.47 1.35L5.41 20z\"/>\n",
              "  </svg>\n",
              "      </button>\n",
              "      \n",
              "  <style>\n",
              "    .colab-df-container {\n",
              "      display:flex;\n",
              "      flex-wrap:wrap;\n",
              "      gap: 12px;\n",
              "    }\n",
              "\n",
              "    .colab-df-convert {\n",
              "      background-color: #E8F0FE;\n",
              "      border: none;\n",
              "      border-radius: 50%;\n",
              "      cursor: pointer;\n",
              "      display: none;\n",
              "      fill: #1967D2;\n",
              "      height: 32px;\n",
              "      padding: 0 0 0 0;\n",
              "      width: 32px;\n",
              "    }\n",
              "\n",
              "    .colab-df-convert:hover {\n",
              "      background-color: #E2EBFA;\n",
              "      box-shadow: 0px 1px 2px rgba(60, 64, 67, 0.3), 0px 1px 3px 1px rgba(60, 64, 67, 0.15);\n",
              "      fill: #174EA6;\n",
              "    }\n",
              "\n",
              "    [theme=dark] .colab-df-convert {\n",
              "      background-color: #3B4455;\n",
              "      fill: #D2E3FC;\n",
              "    }\n",
              "\n",
              "    [theme=dark] .colab-df-convert:hover {\n",
              "      background-color: #434B5C;\n",
              "      box-shadow: 0px 1px 3px 1px rgba(0, 0, 0, 0.15);\n",
              "      filter: drop-shadow(0px 1px 2px rgba(0, 0, 0, 0.3));\n",
              "      fill: #FFFFFF;\n",
              "    }\n",
              "  </style>\n",
              "\n",
              "      <script>\n",
              "        const buttonEl =\n",
              "          document.querySelector('#df-62bb2cd9-fd0e-44dc-8639-40d75dde4f3f button.colab-df-convert');\n",
              "        buttonEl.style.display =\n",
              "          google.colab.kernel.accessAllowed ? 'block' : 'none';\n",
              "\n",
              "        async function convertToInteractive(key) {\n",
              "          const element = document.querySelector('#df-62bb2cd9-fd0e-44dc-8639-40d75dde4f3f');\n",
              "          const dataTable =\n",
              "            await google.colab.kernel.invokeFunction('convertToInteractive',\n",
              "                                                     [key], {});\n",
              "          if (!dataTable) return;\n",
              "\n",
              "          const docLinkHtml = 'Like what you see? Visit the ' +\n",
              "            '<a target=\"_blank\" href=https://colab.research.google.com/notebooks/data_table.ipynb>data table notebook</a>'\n",
              "            + ' to learn more about interactive tables.';\n",
              "          element.innerHTML = '';\n",
              "          dataTable['output_type'] = 'display_data';\n",
              "          await google.colab.output.renderOutput(dataTable, element);\n",
              "          const docLink = document.createElement('div');\n",
              "          docLink.innerHTML = docLinkHtml;\n",
              "          element.appendChild(docLink);\n",
              "        }\n",
              "      </script>\n",
              "    </div>\n",
              "  </div>\n",
              "  "
            ]
          },
          "metadata": {},
          "execution_count": 6
        }
      ]
    },
    {
      "cell_type": "code",
      "source": [
        "len(train_df), len(train_update_df), len(test_df)"
      ],
      "metadata": {
        "colab": {
          "base_uri": "https://localhost:8080/"
        },
        "id": "ZRx3IMabI3RN",
        "outputId": "89023b47-c8c1-43d2-eb58-93c0ae3604f4"
      },
      "execution_count": 7,
      "outputs": [
        {
          "output_type": "execute_result",
          "data": {
            "text/plain": [
              "(31390, 2434, 2413)"
            ]
          },
          "metadata": {},
          "execution_count": 7
        }
      ]
    },
    {
      "cell_type": "code",
      "source": [
        "test_df.head()"
      ],
      "metadata": {
        "colab": {
          "base_uri": "https://localhost:8080/",
          "height": 206
        },
        "id": "Xo1SBazdsuWn",
        "outputId": "d826020d-df58-4c6c-dd4c-02b7f3cd940d"
      },
      "execution_count": 8,
      "outputs": [
        {
          "output_type": "execute_result",
          "data": {
            "text/plain": [
              "   seq_id                                   protein_sequence  pH data_source\n",
              "0   31390  VPVNPEPDATSVENVAEKTGSGDSQSDPIKADLEVKGQSALPFDVD...   8   Novozymes\n",
              "1   31391  VPVNPEPDATSVENVAKKTGSGDSQSDPIKADLEVKGQSALPFDVD...   8   Novozymes\n",
              "2   31392  VPVNPEPDATSVENVAKTGSGDSQSDPIKADLEVKGQSALPFDVDC...   8   Novozymes\n",
              "3   31393  VPVNPEPDATSVENVALCTGSGDSQSDPIKADLEVKGQSALPFDVD...   8   Novozymes\n",
              "4   31394  VPVNPEPDATSVENVALFTGSGDSQSDPIKADLEVKGQSALPFDVD...   8   Novozymes"
            ],
            "text/html": [
              "\n",
              "  <div id=\"df-d3311be5-c4ac-4c6f-80d2-cd86b40ebf72\">\n",
              "    <div class=\"colab-df-container\">\n",
              "      <div>\n",
              "<style scoped>\n",
              "    .dataframe tbody tr th:only-of-type {\n",
              "        vertical-align: middle;\n",
              "    }\n",
              "\n",
              "    .dataframe tbody tr th {\n",
              "        vertical-align: top;\n",
              "    }\n",
              "\n",
              "    .dataframe thead th {\n",
              "        text-align: right;\n",
              "    }\n",
              "</style>\n",
              "<table border=\"1\" class=\"dataframe\">\n",
              "  <thead>\n",
              "    <tr style=\"text-align: right;\">\n",
              "      <th></th>\n",
              "      <th>seq_id</th>\n",
              "      <th>protein_sequence</th>\n",
              "      <th>pH</th>\n",
              "      <th>data_source</th>\n",
              "    </tr>\n",
              "  </thead>\n",
              "  <tbody>\n",
              "    <tr>\n",
              "      <th>0</th>\n",
              "      <td>31390</td>\n",
              "      <td>VPVNPEPDATSVENVAEKTGSGDSQSDPIKADLEVKGQSALPFDVD...</td>\n",
              "      <td>8</td>\n",
              "      <td>Novozymes</td>\n",
              "    </tr>\n",
              "    <tr>\n",
              "      <th>1</th>\n",
              "      <td>31391</td>\n",
              "      <td>VPVNPEPDATSVENVAKKTGSGDSQSDPIKADLEVKGQSALPFDVD...</td>\n",
              "      <td>8</td>\n",
              "      <td>Novozymes</td>\n",
              "    </tr>\n",
              "    <tr>\n",
              "      <th>2</th>\n",
              "      <td>31392</td>\n",
              "      <td>VPVNPEPDATSVENVAKTGSGDSQSDPIKADLEVKGQSALPFDVDC...</td>\n",
              "      <td>8</td>\n",
              "      <td>Novozymes</td>\n",
              "    </tr>\n",
              "    <tr>\n",
              "      <th>3</th>\n",
              "      <td>31393</td>\n",
              "      <td>VPVNPEPDATSVENVALCTGSGDSQSDPIKADLEVKGQSALPFDVD...</td>\n",
              "      <td>8</td>\n",
              "      <td>Novozymes</td>\n",
              "    </tr>\n",
              "    <tr>\n",
              "      <th>4</th>\n",
              "      <td>31394</td>\n",
              "      <td>VPVNPEPDATSVENVALFTGSGDSQSDPIKADLEVKGQSALPFDVD...</td>\n",
              "      <td>8</td>\n",
              "      <td>Novozymes</td>\n",
              "    </tr>\n",
              "  </tbody>\n",
              "</table>\n",
              "</div>\n",
              "      <button class=\"colab-df-convert\" onclick=\"convertToInteractive('df-d3311be5-c4ac-4c6f-80d2-cd86b40ebf72')\"\n",
              "              title=\"Convert this dataframe to an interactive table.\"\n",
              "              style=\"display:none;\">\n",
              "        \n",
              "  <svg xmlns=\"http://www.w3.org/2000/svg\" height=\"24px\"viewBox=\"0 0 24 24\"\n",
              "       width=\"24px\">\n",
              "    <path d=\"M0 0h24v24H0V0z\" fill=\"none\"/>\n",
              "    <path d=\"M18.56 5.44l.94 2.06.94-2.06 2.06-.94-2.06-.94-.94-2.06-.94 2.06-2.06.94zm-11 1L8.5 8.5l.94-2.06 2.06-.94-2.06-.94L8.5 2.5l-.94 2.06-2.06.94zm10 10l.94 2.06.94-2.06 2.06-.94-2.06-.94-.94-2.06-.94 2.06-2.06.94z\"/><path d=\"M17.41 7.96l-1.37-1.37c-.4-.4-.92-.59-1.43-.59-.52 0-1.04.2-1.43.59L10.3 9.45l-7.72 7.72c-.78.78-.78 2.05 0 2.83L4 21.41c.39.39.9.59 1.41.59.51 0 1.02-.2 1.41-.59l7.78-7.78 2.81-2.81c.8-.78.8-2.07 0-2.86zM5.41 20L4 18.59l7.72-7.72 1.47 1.35L5.41 20z\"/>\n",
              "  </svg>\n",
              "      </button>\n",
              "      \n",
              "  <style>\n",
              "    .colab-df-container {\n",
              "      display:flex;\n",
              "      flex-wrap:wrap;\n",
              "      gap: 12px;\n",
              "    }\n",
              "\n",
              "    .colab-df-convert {\n",
              "      background-color: #E8F0FE;\n",
              "      border: none;\n",
              "      border-radius: 50%;\n",
              "      cursor: pointer;\n",
              "      display: none;\n",
              "      fill: #1967D2;\n",
              "      height: 32px;\n",
              "      padding: 0 0 0 0;\n",
              "      width: 32px;\n",
              "    }\n",
              "\n",
              "    .colab-df-convert:hover {\n",
              "      background-color: #E2EBFA;\n",
              "      box-shadow: 0px 1px 2px rgba(60, 64, 67, 0.3), 0px 1px 3px 1px rgba(60, 64, 67, 0.15);\n",
              "      fill: #174EA6;\n",
              "    }\n",
              "\n",
              "    [theme=dark] .colab-df-convert {\n",
              "      background-color: #3B4455;\n",
              "      fill: #D2E3FC;\n",
              "    }\n",
              "\n",
              "    [theme=dark] .colab-df-convert:hover {\n",
              "      background-color: #434B5C;\n",
              "      box-shadow: 0px 1px 3px 1px rgba(0, 0, 0, 0.15);\n",
              "      filter: drop-shadow(0px 1px 2px rgba(0, 0, 0, 0.3));\n",
              "      fill: #FFFFFF;\n",
              "    }\n",
              "  </style>\n",
              "\n",
              "      <script>\n",
              "        const buttonEl =\n",
              "          document.querySelector('#df-d3311be5-c4ac-4c6f-80d2-cd86b40ebf72 button.colab-df-convert');\n",
              "        buttonEl.style.display =\n",
              "          google.colab.kernel.accessAllowed ? 'block' : 'none';\n",
              "\n",
              "        async function convertToInteractive(key) {\n",
              "          const element = document.querySelector('#df-d3311be5-c4ac-4c6f-80d2-cd86b40ebf72');\n",
              "          const dataTable =\n",
              "            await google.colab.kernel.invokeFunction('convertToInteractive',\n",
              "                                                     [key], {});\n",
              "          if (!dataTable) return;\n",
              "\n",
              "          const docLinkHtml = 'Like what you see? Visit the ' +\n",
              "            '<a target=\"_blank\" href=https://colab.research.google.com/notebooks/data_table.ipynb>data table notebook</a>'\n",
              "            + ' to learn more about interactive tables.';\n",
              "          element.innerHTML = '';\n",
              "          dataTable['output_type'] = 'display_data';\n",
              "          await google.colab.output.renderOutput(dataTable, element);\n",
              "          const docLink = document.createElement('div');\n",
              "          docLink.innerHTML = docLinkHtml;\n",
              "          element.appendChild(docLink);\n",
              "        }\n",
              "      </script>\n",
              "    </div>\n",
              "  </div>\n",
              "  "
            ]
          },
          "metadata": {},
          "execution_count": 8
        }
      ]
    },
    {
      "cell_type": "code",
      "source": [
        "test_df.tail()"
      ],
      "metadata": {
        "colab": {
          "base_uri": "https://localhost:8080/",
          "height": 206
        },
        "id": "pe5K0u7GLhpI",
        "outputId": "67933715-0ab9-4351-cdae-51a721f6ae12"
      },
      "execution_count": 9,
      "outputs": [
        {
          "output_type": "execute_result",
          "data": {
            "text/plain": [
              "      seq_id                                   protein_sequence  pH  \\\n",
              "2408   33798  VPVNPEPDATSVENVILKTGSGDSQSDPIKADLEVKGQSALPFDVD...   8   \n",
              "2409   33799  VPVNPEPDATSVENVLLKTGSGDSQSDPIKADLEVKGQSALPFDVD...   8   \n",
              "2410   33800  VPVNPEPDATSVENVNLKTGSGDSQSDPIKADLEVKGQSALPFDVD...   8   \n",
              "2411   33801  VPVNPEPDATSVENVPLKTGSGDSQSDPIKADLEVKGQSALPFDVD...   8   \n",
              "2412   33802  VPVNPEPDATSVENVWLKTGSGDSQSDPIKADLEVKGQSALPFDVD...   8   \n",
              "\n",
              "     data_source  \n",
              "2408   Novozymes  \n",
              "2409   Novozymes  \n",
              "2410   Novozymes  \n",
              "2411   Novozymes  \n",
              "2412   Novozymes  "
            ],
            "text/html": [
              "\n",
              "  <div id=\"df-a475df2c-77ac-40fc-8d3f-8de1239565cf\">\n",
              "    <div class=\"colab-df-container\">\n",
              "      <div>\n",
              "<style scoped>\n",
              "    .dataframe tbody tr th:only-of-type {\n",
              "        vertical-align: middle;\n",
              "    }\n",
              "\n",
              "    .dataframe tbody tr th {\n",
              "        vertical-align: top;\n",
              "    }\n",
              "\n",
              "    .dataframe thead th {\n",
              "        text-align: right;\n",
              "    }\n",
              "</style>\n",
              "<table border=\"1\" class=\"dataframe\">\n",
              "  <thead>\n",
              "    <tr style=\"text-align: right;\">\n",
              "      <th></th>\n",
              "      <th>seq_id</th>\n",
              "      <th>protein_sequence</th>\n",
              "      <th>pH</th>\n",
              "      <th>data_source</th>\n",
              "    </tr>\n",
              "  </thead>\n",
              "  <tbody>\n",
              "    <tr>\n",
              "      <th>2408</th>\n",
              "      <td>33798</td>\n",
              "      <td>VPVNPEPDATSVENVILKTGSGDSQSDPIKADLEVKGQSALPFDVD...</td>\n",
              "      <td>8</td>\n",
              "      <td>Novozymes</td>\n",
              "    </tr>\n",
              "    <tr>\n",
              "      <th>2409</th>\n",
              "      <td>33799</td>\n",
              "      <td>VPVNPEPDATSVENVLLKTGSGDSQSDPIKADLEVKGQSALPFDVD...</td>\n",
              "      <td>8</td>\n",
              "      <td>Novozymes</td>\n",
              "    </tr>\n",
              "    <tr>\n",
              "      <th>2410</th>\n",
              "      <td>33800</td>\n",
              "      <td>VPVNPEPDATSVENVNLKTGSGDSQSDPIKADLEVKGQSALPFDVD...</td>\n",
              "      <td>8</td>\n",
              "      <td>Novozymes</td>\n",
              "    </tr>\n",
              "    <tr>\n",
              "      <th>2411</th>\n",
              "      <td>33801</td>\n",
              "      <td>VPVNPEPDATSVENVPLKTGSGDSQSDPIKADLEVKGQSALPFDVD...</td>\n",
              "      <td>8</td>\n",
              "      <td>Novozymes</td>\n",
              "    </tr>\n",
              "    <tr>\n",
              "      <th>2412</th>\n",
              "      <td>33802</td>\n",
              "      <td>VPVNPEPDATSVENVWLKTGSGDSQSDPIKADLEVKGQSALPFDVD...</td>\n",
              "      <td>8</td>\n",
              "      <td>Novozymes</td>\n",
              "    </tr>\n",
              "  </tbody>\n",
              "</table>\n",
              "</div>\n",
              "      <button class=\"colab-df-convert\" onclick=\"convertToInteractive('df-a475df2c-77ac-40fc-8d3f-8de1239565cf')\"\n",
              "              title=\"Convert this dataframe to an interactive table.\"\n",
              "              style=\"display:none;\">\n",
              "        \n",
              "  <svg xmlns=\"http://www.w3.org/2000/svg\" height=\"24px\"viewBox=\"0 0 24 24\"\n",
              "       width=\"24px\">\n",
              "    <path d=\"M0 0h24v24H0V0z\" fill=\"none\"/>\n",
              "    <path d=\"M18.56 5.44l.94 2.06.94-2.06 2.06-.94-2.06-.94-.94-2.06-.94 2.06-2.06.94zm-11 1L8.5 8.5l.94-2.06 2.06-.94-2.06-.94L8.5 2.5l-.94 2.06-2.06.94zm10 10l.94 2.06.94-2.06 2.06-.94-2.06-.94-.94-2.06-.94 2.06-2.06.94z\"/><path d=\"M17.41 7.96l-1.37-1.37c-.4-.4-.92-.59-1.43-.59-.52 0-1.04.2-1.43.59L10.3 9.45l-7.72 7.72c-.78.78-.78 2.05 0 2.83L4 21.41c.39.39.9.59 1.41.59.51 0 1.02-.2 1.41-.59l7.78-7.78 2.81-2.81c.8-.78.8-2.07 0-2.86zM5.41 20L4 18.59l7.72-7.72 1.47 1.35L5.41 20z\"/>\n",
              "  </svg>\n",
              "      </button>\n",
              "      \n",
              "  <style>\n",
              "    .colab-df-container {\n",
              "      display:flex;\n",
              "      flex-wrap:wrap;\n",
              "      gap: 12px;\n",
              "    }\n",
              "\n",
              "    .colab-df-convert {\n",
              "      background-color: #E8F0FE;\n",
              "      border: none;\n",
              "      border-radius: 50%;\n",
              "      cursor: pointer;\n",
              "      display: none;\n",
              "      fill: #1967D2;\n",
              "      height: 32px;\n",
              "      padding: 0 0 0 0;\n",
              "      width: 32px;\n",
              "    }\n",
              "\n",
              "    .colab-df-convert:hover {\n",
              "      background-color: #E2EBFA;\n",
              "      box-shadow: 0px 1px 2px rgba(60, 64, 67, 0.3), 0px 1px 3px 1px rgba(60, 64, 67, 0.15);\n",
              "      fill: #174EA6;\n",
              "    }\n",
              "\n",
              "    [theme=dark] .colab-df-convert {\n",
              "      background-color: #3B4455;\n",
              "      fill: #D2E3FC;\n",
              "    }\n",
              "\n",
              "    [theme=dark] .colab-df-convert:hover {\n",
              "      background-color: #434B5C;\n",
              "      box-shadow: 0px 1px 3px 1px rgba(0, 0, 0, 0.15);\n",
              "      filter: drop-shadow(0px 1px 2px rgba(0, 0, 0, 0.3));\n",
              "      fill: #FFFFFF;\n",
              "    }\n",
              "  </style>\n",
              "\n",
              "      <script>\n",
              "        const buttonEl =\n",
              "          document.querySelector('#df-a475df2c-77ac-40fc-8d3f-8de1239565cf button.colab-df-convert');\n",
              "        buttonEl.style.display =\n",
              "          google.colab.kernel.accessAllowed ? 'block' : 'none';\n",
              "\n",
              "        async function convertToInteractive(key) {\n",
              "          const element = document.querySelector('#df-a475df2c-77ac-40fc-8d3f-8de1239565cf');\n",
              "          const dataTable =\n",
              "            await google.colab.kernel.invokeFunction('convertToInteractive',\n",
              "                                                     [key], {});\n",
              "          if (!dataTable) return;\n",
              "\n",
              "          const docLinkHtml = 'Like what you see? Visit the ' +\n",
              "            '<a target=\"_blank\" href=https://colab.research.google.com/notebooks/data_table.ipynb>data table notebook</a>'\n",
              "            + ' to learn more about interactive tables.';\n",
              "          element.innerHTML = '';\n",
              "          dataTable['output_type'] = 'display_data';\n",
              "          await google.colab.output.renderOutput(dataTable, element);\n",
              "          const docLink = document.createElement('div');\n",
              "          docLink.innerHTML = docLinkHtml;\n",
              "          element.appendChild(docLink);\n",
              "        }\n",
              "      </script>\n",
              "    </div>\n",
              "  </div>\n",
              "  "
            ]
          },
          "metadata": {},
          "execution_count": 9
        }
      ]
    },
    {
      "cell_type": "code",
      "source": [
        "# DataFrame as that has rows that need to be taken out and rows that need to be added\n",
        "train_update_df.head()"
      ],
      "metadata": {
        "colab": {
          "base_uri": "https://localhost:8080/",
          "height": 206
        },
        "id": "koAlh_3LIEUq",
        "outputId": "3715031f-6a39-4bfe-a426-20f0a5a15469"
      },
      "execution_count": 10,
      "outputs": [
        {
          "output_type": "execute_result",
          "data": {
            "text/plain": [
              "   seq_id protein_sequence  pH  data_source  tm\n",
              "0      69              NaN NaN          NaN NaN\n",
              "1      70              NaN NaN          NaN NaN\n",
              "2      71              NaN NaN          NaN NaN\n",
              "3      72              NaN NaN          NaN NaN\n",
              "4      73              NaN NaN          NaN NaN"
            ],
            "text/html": [
              "\n",
              "  <div id=\"df-0c9aed92-7080-4fb5-9852-b328934cdc4d\">\n",
              "    <div class=\"colab-df-container\">\n",
              "      <div>\n",
              "<style scoped>\n",
              "    .dataframe tbody tr th:only-of-type {\n",
              "        vertical-align: middle;\n",
              "    }\n",
              "\n",
              "    .dataframe tbody tr th {\n",
              "        vertical-align: top;\n",
              "    }\n",
              "\n",
              "    .dataframe thead th {\n",
              "        text-align: right;\n",
              "    }\n",
              "</style>\n",
              "<table border=\"1\" class=\"dataframe\">\n",
              "  <thead>\n",
              "    <tr style=\"text-align: right;\">\n",
              "      <th></th>\n",
              "      <th>seq_id</th>\n",
              "      <th>protein_sequence</th>\n",
              "      <th>pH</th>\n",
              "      <th>data_source</th>\n",
              "      <th>tm</th>\n",
              "    </tr>\n",
              "  </thead>\n",
              "  <tbody>\n",
              "    <tr>\n",
              "      <th>0</th>\n",
              "      <td>69</td>\n",
              "      <td>NaN</td>\n",
              "      <td>NaN</td>\n",
              "      <td>NaN</td>\n",
              "      <td>NaN</td>\n",
              "    </tr>\n",
              "    <tr>\n",
              "      <th>1</th>\n",
              "      <td>70</td>\n",
              "      <td>NaN</td>\n",
              "      <td>NaN</td>\n",
              "      <td>NaN</td>\n",
              "      <td>NaN</td>\n",
              "    </tr>\n",
              "    <tr>\n",
              "      <th>2</th>\n",
              "      <td>71</td>\n",
              "      <td>NaN</td>\n",
              "      <td>NaN</td>\n",
              "      <td>NaN</td>\n",
              "      <td>NaN</td>\n",
              "    </tr>\n",
              "    <tr>\n",
              "      <th>3</th>\n",
              "      <td>72</td>\n",
              "      <td>NaN</td>\n",
              "      <td>NaN</td>\n",
              "      <td>NaN</td>\n",
              "      <td>NaN</td>\n",
              "    </tr>\n",
              "    <tr>\n",
              "      <th>4</th>\n",
              "      <td>73</td>\n",
              "      <td>NaN</td>\n",
              "      <td>NaN</td>\n",
              "      <td>NaN</td>\n",
              "      <td>NaN</td>\n",
              "    </tr>\n",
              "  </tbody>\n",
              "</table>\n",
              "</div>\n",
              "      <button class=\"colab-df-convert\" onclick=\"convertToInteractive('df-0c9aed92-7080-4fb5-9852-b328934cdc4d')\"\n",
              "              title=\"Convert this dataframe to an interactive table.\"\n",
              "              style=\"display:none;\">\n",
              "        \n",
              "  <svg xmlns=\"http://www.w3.org/2000/svg\" height=\"24px\"viewBox=\"0 0 24 24\"\n",
              "       width=\"24px\">\n",
              "    <path d=\"M0 0h24v24H0V0z\" fill=\"none\"/>\n",
              "    <path d=\"M18.56 5.44l.94 2.06.94-2.06 2.06-.94-2.06-.94-.94-2.06-.94 2.06-2.06.94zm-11 1L8.5 8.5l.94-2.06 2.06-.94-2.06-.94L8.5 2.5l-.94 2.06-2.06.94zm10 10l.94 2.06.94-2.06 2.06-.94-2.06-.94-.94-2.06-.94 2.06-2.06.94z\"/><path d=\"M17.41 7.96l-1.37-1.37c-.4-.4-.92-.59-1.43-.59-.52 0-1.04.2-1.43.59L10.3 9.45l-7.72 7.72c-.78.78-.78 2.05 0 2.83L4 21.41c.39.39.9.59 1.41.59.51 0 1.02-.2 1.41-.59l7.78-7.78 2.81-2.81c.8-.78.8-2.07 0-2.86zM5.41 20L4 18.59l7.72-7.72 1.47 1.35L5.41 20z\"/>\n",
              "  </svg>\n",
              "      </button>\n",
              "      \n",
              "  <style>\n",
              "    .colab-df-container {\n",
              "      display:flex;\n",
              "      flex-wrap:wrap;\n",
              "      gap: 12px;\n",
              "    }\n",
              "\n",
              "    .colab-df-convert {\n",
              "      background-color: #E8F0FE;\n",
              "      border: none;\n",
              "      border-radius: 50%;\n",
              "      cursor: pointer;\n",
              "      display: none;\n",
              "      fill: #1967D2;\n",
              "      height: 32px;\n",
              "      padding: 0 0 0 0;\n",
              "      width: 32px;\n",
              "    }\n",
              "\n",
              "    .colab-df-convert:hover {\n",
              "      background-color: #E2EBFA;\n",
              "      box-shadow: 0px 1px 2px rgba(60, 64, 67, 0.3), 0px 1px 3px 1px rgba(60, 64, 67, 0.15);\n",
              "      fill: #174EA6;\n",
              "    }\n",
              "\n",
              "    [theme=dark] .colab-df-convert {\n",
              "      background-color: #3B4455;\n",
              "      fill: #D2E3FC;\n",
              "    }\n",
              "\n",
              "    [theme=dark] .colab-df-convert:hover {\n",
              "      background-color: #434B5C;\n",
              "      box-shadow: 0px 1px 3px 1px rgba(0, 0, 0, 0.15);\n",
              "      filter: drop-shadow(0px 1px 2px rgba(0, 0, 0, 0.3));\n",
              "      fill: #FFFFFF;\n",
              "    }\n",
              "  </style>\n",
              "\n",
              "      <script>\n",
              "        const buttonEl =\n",
              "          document.querySelector('#df-0c9aed92-7080-4fb5-9852-b328934cdc4d button.colab-df-convert');\n",
              "        buttonEl.style.display =\n",
              "          google.colab.kernel.accessAllowed ? 'block' : 'none';\n",
              "\n",
              "        async function convertToInteractive(key) {\n",
              "          const element = document.querySelector('#df-0c9aed92-7080-4fb5-9852-b328934cdc4d');\n",
              "          const dataTable =\n",
              "            await google.colab.kernel.invokeFunction('convertToInteractive',\n",
              "                                                     [key], {});\n",
              "          if (!dataTable) return;\n",
              "\n",
              "          const docLinkHtml = 'Like what you see? Visit the ' +\n",
              "            '<a target=\"_blank\" href=https://colab.research.google.com/notebooks/data_table.ipynb>data table notebook</a>'\n",
              "            + ' to learn more about interactive tables.';\n",
              "          element.innerHTML = '';\n",
              "          dataTable['output_type'] = 'display_data';\n",
              "          await google.colab.output.renderOutput(dataTable, element);\n",
              "          const docLink = document.createElement('div');\n",
              "          docLink.innerHTML = docLinkHtml;\n",
              "          element.appendChild(docLink);\n",
              "        }\n",
              "      </script>\n",
              "    </div>\n",
              "  </div>\n",
              "  "
            ]
          },
          "metadata": {},
          "execution_count": 10
        }
      ]
    },
    {
      "cell_type": "code",
      "source": [
        "import numpy as np "
      ],
      "metadata": {
        "id": "e_0E8rdIIpQS"
      },
      "execution_count": 11,
      "outputs": []
    },
    {
      "cell_type": "code",
      "source": [
        "# Indices for rows that should be added\n",
        "np.where(train_update_df['pH'].notnull() == True)"
      ],
      "metadata": {
        "colab": {
          "base_uri": "https://localhost:8080/"
        },
        "id": "5qtLDTZntSlO",
        "outputId": "a44f511b-76fc-4da9-83cb-a0680bd92bb8"
      },
      "execution_count": 12,
      "outputs": [
        {
          "output_type": "execute_result",
          "data": {
            "text/plain": [
              "(array([  25,   28,   29,   30,   33,   38,   39,   40,   46,   47,   57,\n",
              "          58,   59,   60,   61,   62,   63,   64,   65,   66,   68,   69,\n",
              "         965,  966, 1079]),)"
            ]
          },
          "metadata": {},
          "execution_count": 12
        }
      ]
    },
    {
      "cell_type": "code",
      "source": [
        "# Verify\n",
        "train_update_df.iloc[28]"
      ],
      "metadata": {
        "colab": {
          "base_uri": "https://localhost:8080/"
        },
        "id": "8cob3sV5L8pY",
        "outputId": "e0c2d339-440d-4963-927f-3a3311cc2e2b"
      },
      "execution_count": 13,
      "outputs": [
        {
          "output_type": "execute_result",
          "data": {
            "text/plain": [
              "seq_id                                                            986\n",
              "protein_sequence    DVSGTVCLSALPPEATDTLNLIASDGPFPYSQDGVTFQNRESVLPT...\n",
              "pH                                                                7.0\n",
              "data_source                                                       NaN\n",
              "tm                                                               48.4\n",
              "Name: 28, dtype: object"
            ]
          },
          "metadata": {},
          "execution_count": 13
        }
      ]
    },
    {
      "cell_type": "code",
      "source": [
        "# Number of rows in train_update_df that need to be added main dataframe should \n",
        "# equal 25 per the kaggle website\n",
        "len(np.where(train_update_df['pH'].notnull() == True)[0])"
      ],
      "metadata": {
        "colab": {
          "base_uri": "https://localhost:8080/"
        },
        "id": "QUoyBFx__qTK",
        "outputId": "eb2b5813-ccab-4b57-cb57-394375450242"
      },
      "execution_count": 14,
      "outputs": [
        {
          "output_type": "execute_result",
          "data": {
            "text/plain": [
              "25"
            ]
          },
          "metadata": {},
          "execution_count": 14
        }
      ]
    },
    {
      "cell_type": "code",
      "source": [
        "# dataframe of rows to add to the primary train_df DataFrame\n",
        "train_update_df.iloc[np.where(train_update_df['pH'].notnull() == True)[0]]"
      ],
      "metadata": {
        "colab": {
          "base_uri": "https://localhost:8080/",
          "height": 833
        },
        "id": "MVLzjeKcLGdb",
        "outputId": "29892077-bba4-47cd-a9ec-7ca72efe40ef"
      },
      "execution_count": 15,
      "outputs": [
        {
          "output_type": "execute_result",
          "data": {
            "text/plain": [
              "      seq_id                                   protein_sequence   pH  \\\n",
              "25       973  DTSGTVCLSALPPEATDTLNLIASDGPFPYSQDGVVFQNRESVLPT...  7.0   \n",
              "28       986  DVSGTVCLSALPPEATDTLNLIASDGPFPYSQDGVTFQNRESVLPT...  7.0   \n",
              "29       988  DVSGTVCLSALPPEATDTLNLIASDGPFPYSQDGVVFANRESVLPT...  7.0   \n",
              "30       989  DVSGTVCLSALPPEATDTLNLIASDGPFPYSQDGVVFANRESVLPT...  5.5   \n",
              "33      1003  DVSGTVCLSALPPEATDTLNLIASDGPFPYSQDGVVFQNRESTLPT...  7.0   \n",
              "38      1012  DVSGTVCLSALPPEATDTLNLIASDGPFPYSQDGVVFQNRESVLPT...  7.0   \n",
              "39      1014  DVSGTVCLSALPPEATDTLNLIASDGPFPYSQDGVVFQNRESVLPT...  5.5   \n",
              "40      1018  DVSGTVCLSALPPEATDTLNLIASDGPFPYSQDGVVFQNRESVLPT...  7.0   \n",
              "46      1037  DVSGTVCLSALPPEATDTLNLIASDGPFPYSQDGVVFQNRESVLPT...  7.0   \n",
              "47      1042  DVSGTVCLSALPPEATDTLNLIASDGPFPYSQDGVVFQNRESVLPT...  7.0   \n",
              "57      1079  DVSGTVCLSALPPEATDTLNLIASDGPFPYSQDGVVFQNRESVLPT...  5.5   \n",
              "58      1081  DVSGTVCLSALPPEATDTLNLIASDGPFPYSQDGVVFQNRESVLPT...  7.0   \n",
              "59      1088  DVSGTVCLSALPPEATDTLNLIASDGPFPYSQDGVVFQNRESVLPT...  7.0   \n",
              "60      1093  DVSGTVCLSALPPEATDTLNLIASDGPFPYSQDGVVFQNRESVLPT...  7.0   \n",
              "61      1096  DVSGTVCLSALPPEATDTLNLIASDGPFPYSQDGVVFQNRESVLPT...  7.0   \n",
              "62      1098  DVSGTVCLSALPPEATDTLNLIASDGPFPYSQDGVVFQNRESVLPT...  7.0   \n",
              "63      1100  DVSGTVCLSALPPEATDTLNLIASDGPFPYSQDGVVFQNRESVLPT...  5.5   \n",
              "64      1108  DVSGTVCLSALPPEATDTLNLIASDGPFPYSQDGVVFQNRKSVLPT...  7.0   \n",
              "65      1111  DVSGTVCLSALPPEATDTLNLIASDGPFPYSQDGVVFQNRKSVLPT...  5.5   \n",
              "66      1120  DVSGTVCLSALPPEATDVLNLIASDGPFPYSQDGVVFQNRESVLPT...  7.0   \n",
              "68      1122  DVSGTVCLSALPPEAVDTLNLIASDGPFPYSQDGVVFQNRESVLPT...  7.0   \n",
              "69      1125  DVSGVVCLSALPPEATDTLNLIASDGPFPYSQDGVVFQNRESVLPT...  7.0   \n",
              "965    13447  MKALIVLGLVLLSVTVQGKVFERCELARTLKRLGMDGYRGISLANW...  2.7   \n",
              "966    13449  MKALIVLGLVLLSVTVQGKVFERCELARTLKRLGMDGYRGISLANW...  2.7   \n",
              "1079   14640  MKMSRLCLSVALLVLLGTLAASTPGCDTSNQAKAQRPDFCLEPPYT...  7.0   \n",
              "\n",
              "      data_source    tm  \n",
              "25            NaN  48.4  \n",
              "28            NaN  48.4  \n",
              "29            NaN  49.0  \n",
              "30            NaN  55.6  \n",
              "33            NaN  48.4  \n",
              "38            NaN  48.4  \n",
              "39            NaN  55.6  \n",
              "40            NaN  49.0  \n",
              "46            NaN  49.0  \n",
              "47            NaN  48.4  \n",
              "57            NaN  55.6  \n",
              "58            NaN  49.0  \n",
              "59            NaN  48.4  \n",
              "60            NaN  48.4  \n",
              "61            NaN  48.4  \n",
              "62            NaN  48.4  \n",
              "63            NaN  55.6  \n",
              "64            NaN  49.0  \n",
              "65            NaN  55.6  \n",
              "66            NaN  48.4  \n",
              "68            NaN  48.4  \n",
              "69            NaN  48.4  \n",
              "965           NaN  64.9  \n",
              "966           NaN  64.9  \n",
              "1079          NaN  39.0  "
            ],
            "text/html": [
              "\n",
              "  <div id=\"df-4bcd778d-2791-472d-b436-3284eb7926cc\">\n",
              "    <div class=\"colab-df-container\">\n",
              "      <div>\n",
              "<style scoped>\n",
              "    .dataframe tbody tr th:only-of-type {\n",
              "        vertical-align: middle;\n",
              "    }\n",
              "\n",
              "    .dataframe tbody tr th {\n",
              "        vertical-align: top;\n",
              "    }\n",
              "\n",
              "    .dataframe thead th {\n",
              "        text-align: right;\n",
              "    }\n",
              "</style>\n",
              "<table border=\"1\" class=\"dataframe\">\n",
              "  <thead>\n",
              "    <tr style=\"text-align: right;\">\n",
              "      <th></th>\n",
              "      <th>seq_id</th>\n",
              "      <th>protein_sequence</th>\n",
              "      <th>pH</th>\n",
              "      <th>data_source</th>\n",
              "      <th>tm</th>\n",
              "    </tr>\n",
              "  </thead>\n",
              "  <tbody>\n",
              "    <tr>\n",
              "      <th>25</th>\n",
              "      <td>973</td>\n",
              "      <td>DTSGTVCLSALPPEATDTLNLIASDGPFPYSQDGVVFQNRESVLPT...</td>\n",
              "      <td>7.0</td>\n",
              "      <td>NaN</td>\n",
              "      <td>48.4</td>\n",
              "    </tr>\n",
              "    <tr>\n",
              "      <th>28</th>\n",
              "      <td>986</td>\n",
              "      <td>DVSGTVCLSALPPEATDTLNLIASDGPFPYSQDGVTFQNRESVLPT...</td>\n",
              "      <td>7.0</td>\n",
              "      <td>NaN</td>\n",
              "      <td>48.4</td>\n",
              "    </tr>\n",
              "    <tr>\n",
              "      <th>29</th>\n",
              "      <td>988</td>\n",
              "      <td>DVSGTVCLSALPPEATDTLNLIASDGPFPYSQDGVVFANRESVLPT...</td>\n",
              "      <td>7.0</td>\n",
              "      <td>NaN</td>\n",
              "      <td>49.0</td>\n",
              "    </tr>\n",
              "    <tr>\n",
              "      <th>30</th>\n",
              "      <td>989</td>\n",
              "      <td>DVSGTVCLSALPPEATDTLNLIASDGPFPYSQDGVVFANRESVLPT...</td>\n",
              "      <td>5.5</td>\n",
              "      <td>NaN</td>\n",
              "      <td>55.6</td>\n",
              "    </tr>\n",
              "    <tr>\n",
              "      <th>33</th>\n",
              "      <td>1003</td>\n",
              "      <td>DVSGTVCLSALPPEATDTLNLIASDGPFPYSQDGVVFQNRESTLPT...</td>\n",
              "      <td>7.0</td>\n",
              "      <td>NaN</td>\n",
              "      <td>48.4</td>\n",
              "    </tr>\n",
              "    <tr>\n",
              "      <th>38</th>\n",
              "      <td>1012</td>\n",
              "      <td>DVSGTVCLSALPPEATDTLNLIASDGPFPYSQDGVVFQNRESVLPT...</td>\n",
              "      <td>7.0</td>\n",
              "      <td>NaN</td>\n",
              "      <td>48.4</td>\n",
              "    </tr>\n",
              "    <tr>\n",
              "      <th>39</th>\n",
              "      <td>1014</td>\n",
              "      <td>DVSGTVCLSALPPEATDTLNLIASDGPFPYSQDGVVFQNRESVLPT...</td>\n",
              "      <td>5.5</td>\n",
              "      <td>NaN</td>\n",
              "      <td>55.6</td>\n",
              "    </tr>\n",
              "    <tr>\n",
              "      <th>40</th>\n",
              "      <td>1018</td>\n",
              "      <td>DVSGTVCLSALPPEATDTLNLIASDGPFPYSQDGVVFQNRESVLPT...</td>\n",
              "      <td>7.0</td>\n",
              "      <td>NaN</td>\n",
              "      <td>49.0</td>\n",
              "    </tr>\n",
              "    <tr>\n",
              "      <th>46</th>\n",
              "      <td>1037</td>\n",
              "      <td>DVSGTVCLSALPPEATDTLNLIASDGPFPYSQDGVVFQNRESVLPT...</td>\n",
              "      <td>7.0</td>\n",
              "      <td>NaN</td>\n",
              "      <td>49.0</td>\n",
              "    </tr>\n",
              "    <tr>\n",
              "      <th>47</th>\n",
              "      <td>1042</td>\n",
              "      <td>DVSGTVCLSALPPEATDTLNLIASDGPFPYSQDGVVFQNRESVLPT...</td>\n",
              "      <td>7.0</td>\n",
              "      <td>NaN</td>\n",
              "      <td>48.4</td>\n",
              "    </tr>\n",
              "    <tr>\n",
              "      <th>57</th>\n",
              "      <td>1079</td>\n",
              "      <td>DVSGTVCLSALPPEATDTLNLIASDGPFPYSQDGVVFQNRESVLPT...</td>\n",
              "      <td>5.5</td>\n",
              "      <td>NaN</td>\n",
              "      <td>55.6</td>\n",
              "    </tr>\n",
              "    <tr>\n",
              "      <th>58</th>\n",
              "      <td>1081</td>\n",
              "      <td>DVSGTVCLSALPPEATDTLNLIASDGPFPYSQDGVVFQNRESVLPT...</td>\n",
              "      <td>7.0</td>\n",
              "      <td>NaN</td>\n",
              "      <td>49.0</td>\n",
              "    </tr>\n",
              "    <tr>\n",
              "      <th>59</th>\n",
              "      <td>1088</td>\n",
              "      <td>DVSGTVCLSALPPEATDTLNLIASDGPFPYSQDGVVFQNRESVLPT...</td>\n",
              "      <td>7.0</td>\n",
              "      <td>NaN</td>\n",
              "      <td>48.4</td>\n",
              "    </tr>\n",
              "    <tr>\n",
              "      <th>60</th>\n",
              "      <td>1093</td>\n",
              "      <td>DVSGTVCLSALPPEATDTLNLIASDGPFPYSQDGVVFQNRESVLPT...</td>\n",
              "      <td>7.0</td>\n",
              "      <td>NaN</td>\n",
              "      <td>48.4</td>\n",
              "    </tr>\n",
              "    <tr>\n",
              "      <th>61</th>\n",
              "      <td>1096</td>\n",
              "      <td>DVSGTVCLSALPPEATDTLNLIASDGPFPYSQDGVVFQNRESVLPT...</td>\n",
              "      <td>7.0</td>\n",
              "      <td>NaN</td>\n",
              "      <td>48.4</td>\n",
              "    </tr>\n",
              "    <tr>\n",
              "      <th>62</th>\n",
              "      <td>1098</td>\n",
              "      <td>DVSGTVCLSALPPEATDTLNLIASDGPFPYSQDGVVFQNRESVLPT...</td>\n",
              "      <td>7.0</td>\n",
              "      <td>NaN</td>\n",
              "      <td>48.4</td>\n",
              "    </tr>\n",
              "    <tr>\n",
              "      <th>63</th>\n",
              "      <td>1100</td>\n",
              "      <td>DVSGTVCLSALPPEATDTLNLIASDGPFPYSQDGVVFQNRESVLPT...</td>\n",
              "      <td>5.5</td>\n",
              "      <td>NaN</td>\n",
              "      <td>55.6</td>\n",
              "    </tr>\n",
              "    <tr>\n",
              "      <th>64</th>\n",
              "      <td>1108</td>\n",
              "      <td>DVSGTVCLSALPPEATDTLNLIASDGPFPYSQDGVVFQNRKSVLPT...</td>\n",
              "      <td>7.0</td>\n",
              "      <td>NaN</td>\n",
              "      <td>49.0</td>\n",
              "    </tr>\n",
              "    <tr>\n",
              "      <th>65</th>\n",
              "      <td>1111</td>\n",
              "      <td>DVSGTVCLSALPPEATDTLNLIASDGPFPYSQDGVVFQNRKSVLPT...</td>\n",
              "      <td>5.5</td>\n",
              "      <td>NaN</td>\n",
              "      <td>55.6</td>\n",
              "    </tr>\n",
              "    <tr>\n",
              "      <th>66</th>\n",
              "      <td>1120</td>\n",
              "      <td>DVSGTVCLSALPPEATDVLNLIASDGPFPYSQDGVVFQNRESVLPT...</td>\n",
              "      <td>7.0</td>\n",
              "      <td>NaN</td>\n",
              "      <td>48.4</td>\n",
              "    </tr>\n",
              "    <tr>\n",
              "      <th>68</th>\n",
              "      <td>1122</td>\n",
              "      <td>DVSGTVCLSALPPEAVDTLNLIASDGPFPYSQDGVVFQNRESVLPT...</td>\n",
              "      <td>7.0</td>\n",
              "      <td>NaN</td>\n",
              "      <td>48.4</td>\n",
              "    </tr>\n",
              "    <tr>\n",
              "      <th>69</th>\n",
              "      <td>1125</td>\n",
              "      <td>DVSGVVCLSALPPEATDTLNLIASDGPFPYSQDGVVFQNRESVLPT...</td>\n",
              "      <td>7.0</td>\n",
              "      <td>NaN</td>\n",
              "      <td>48.4</td>\n",
              "    </tr>\n",
              "    <tr>\n",
              "      <th>965</th>\n",
              "      <td>13447</td>\n",
              "      <td>MKALIVLGLVLLSVTVQGKVFERCELARTLKRLGMDGYRGISLANW...</td>\n",
              "      <td>2.7</td>\n",
              "      <td>NaN</td>\n",
              "      <td>64.9</td>\n",
              "    </tr>\n",
              "    <tr>\n",
              "      <th>966</th>\n",
              "      <td>13449</td>\n",
              "      <td>MKALIVLGLVLLSVTVQGKVFERCELARTLKRLGMDGYRGISLANW...</td>\n",
              "      <td>2.7</td>\n",
              "      <td>NaN</td>\n",
              "      <td>64.9</td>\n",
              "    </tr>\n",
              "    <tr>\n",
              "      <th>1079</th>\n",
              "      <td>14640</td>\n",
              "      <td>MKMSRLCLSVALLVLLGTLAASTPGCDTSNQAKAQRPDFCLEPPYT...</td>\n",
              "      <td>7.0</td>\n",
              "      <td>NaN</td>\n",
              "      <td>39.0</td>\n",
              "    </tr>\n",
              "  </tbody>\n",
              "</table>\n",
              "</div>\n",
              "      <button class=\"colab-df-convert\" onclick=\"convertToInteractive('df-4bcd778d-2791-472d-b436-3284eb7926cc')\"\n",
              "              title=\"Convert this dataframe to an interactive table.\"\n",
              "              style=\"display:none;\">\n",
              "        \n",
              "  <svg xmlns=\"http://www.w3.org/2000/svg\" height=\"24px\"viewBox=\"0 0 24 24\"\n",
              "       width=\"24px\">\n",
              "    <path d=\"M0 0h24v24H0V0z\" fill=\"none\"/>\n",
              "    <path d=\"M18.56 5.44l.94 2.06.94-2.06 2.06-.94-2.06-.94-.94-2.06-.94 2.06-2.06.94zm-11 1L8.5 8.5l.94-2.06 2.06-.94-2.06-.94L8.5 2.5l-.94 2.06-2.06.94zm10 10l.94 2.06.94-2.06 2.06-.94-2.06-.94-.94-2.06-.94 2.06-2.06.94z\"/><path d=\"M17.41 7.96l-1.37-1.37c-.4-.4-.92-.59-1.43-.59-.52 0-1.04.2-1.43.59L10.3 9.45l-7.72 7.72c-.78.78-.78 2.05 0 2.83L4 21.41c.39.39.9.59 1.41.59.51 0 1.02-.2 1.41-.59l7.78-7.78 2.81-2.81c.8-.78.8-2.07 0-2.86zM5.41 20L4 18.59l7.72-7.72 1.47 1.35L5.41 20z\"/>\n",
              "  </svg>\n",
              "      </button>\n",
              "      \n",
              "  <style>\n",
              "    .colab-df-container {\n",
              "      display:flex;\n",
              "      flex-wrap:wrap;\n",
              "      gap: 12px;\n",
              "    }\n",
              "\n",
              "    .colab-df-convert {\n",
              "      background-color: #E8F0FE;\n",
              "      border: none;\n",
              "      border-radius: 50%;\n",
              "      cursor: pointer;\n",
              "      display: none;\n",
              "      fill: #1967D2;\n",
              "      height: 32px;\n",
              "      padding: 0 0 0 0;\n",
              "      width: 32px;\n",
              "    }\n",
              "\n",
              "    .colab-df-convert:hover {\n",
              "      background-color: #E2EBFA;\n",
              "      box-shadow: 0px 1px 2px rgba(60, 64, 67, 0.3), 0px 1px 3px 1px rgba(60, 64, 67, 0.15);\n",
              "      fill: #174EA6;\n",
              "    }\n",
              "\n",
              "    [theme=dark] .colab-df-convert {\n",
              "      background-color: #3B4455;\n",
              "      fill: #D2E3FC;\n",
              "    }\n",
              "\n",
              "    [theme=dark] .colab-df-convert:hover {\n",
              "      background-color: #434B5C;\n",
              "      box-shadow: 0px 1px 3px 1px rgba(0, 0, 0, 0.15);\n",
              "      filter: drop-shadow(0px 1px 2px rgba(0, 0, 0, 0.3));\n",
              "      fill: #FFFFFF;\n",
              "    }\n",
              "  </style>\n",
              "\n",
              "      <script>\n",
              "        const buttonEl =\n",
              "          document.querySelector('#df-4bcd778d-2791-472d-b436-3284eb7926cc button.colab-df-convert');\n",
              "        buttonEl.style.display =\n",
              "          google.colab.kernel.accessAllowed ? 'block' : 'none';\n",
              "\n",
              "        async function convertToInteractive(key) {\n",
              "          const element = document.querySelector('#df-4bcd778d-2791-472d-b436-3284eb7926cc');\n",
              "          const dataTable =\n",
              "            await google.colab.kernel.invokeFunction('convertToInteractive',\n",
              "                                                     [key], {});\n",
              "          if (!dataTable) return;\n",
              "\n",
              "          const docLinkHtml = 'Like what you see? Visit the ' +\n",
              "            '<a target=\"_blank\" href=https://colab.research.google.com/notebooks/data_table.ipynb>data table notebook</a>'\n",
              "            + ' to learn more about interactive tables.';\n",
              "          element.innerHTML = '';\n",
              "          dataTable['output_type'] = 'display_data';\n",
              "          await google.colab.output.renderOutput(dataTable, element);\n",
              "          const docLink = document.createElement('div');\n",
              "          docLink.innerHTML = docLinkHtml;\n",
              "          element.appendChild(docLink);\n",
              "        }\n",
              "      </script>\n",
              "    </div>\n",
              "  </div>\n",
              "  "
            ]
          },
          "metadata": {},
          "execution_count": 15
        }
      ]
    },
    {
      "cell_type": "code",
      "source": [
        "# All rows that need to be taken out of the original train_df \n",
        "# These rows in the main train_df dataframe are of bad quality per Kaggle\n",
        "# Using pH column as proxy to determine which rows should be removed\n",
        "rows_to_drop = train_update_df.iloc[np.where(train_update_df['pH'].isnull() == True)[0]]\n",
        "rows_to_drop"
      ],
      "metadata": {
        "colab": {
          "base_uri": "https://localhost:8080/",
          "height": 423
        },
        "id": "KovhO01LTA4k",
        "outputId": "e41a9f81-d280-4ca0-b6b8-81f7df28149b"
      },
      "execution_count": 16,
      "outputs": [
        {
          "output_type": "execute_result",
          "data": {
            "text/plain": [
              "      seq_id protein_sequence  pH  data_source  tm\n",
              "0         69              NaN NaN          NaN NaN\n",
              "1         70              NaN NaN          NaN NaN\n",
              "2         71              NaN NaN          NaN NaN\n",
              "3         72              NaN NaN          NaN NaN\n",
              "4         73              NaN NaN          NaN NaN\n",
              "...      ...              ...  ..          ...  ..\n",
              "2429   30738              NaN NaN          NaN NaN\n",
              "2430   30739              NaN NaN          NaN NaN\n",
              "2431   30740              NaN NaN          NaN NaN\n",
              "2432   30741              NaN NaN          NaN NaN\n",
              "2433   30742              NaN NaN          NaN NaN\n",
              "\n",
              "[2409 rows x 5 columns]"
            ],
            "text/html": [
              "\n",
              "  <div id=\"df-229313cf-d008-4e2d-9389-eee196d8a440\">\n",
              "    <div class=\"colab-df-container\">\n",
              "      <div>\n",
              "<style scoped>\n",
              "    .dataframe tbody tr th:only-of-type {\n",
              "        vertical-align: middle;\n",
              "    }\n",
              "\n",
              "    .dataframe tbody tr th {\n",
              "        vertical-align: top;\n",
              "    }\n",
              "\n",
              "    .dataframe thead th {\n",
              "        text-align: right;\n",
              "    }\n",
              "</style>\n",
              "<table border=\"1\" class=\"dataframe\">\n",
              "  <thead>\n",
              "    <tr style=\"text-align: right;\">\n",
              "      <th></th>\n",
              "      <th>seq_id</th>\n",
              "      <th>protein_sequence</th>\n",
              "      <th>pH</th>\n",
              "      <th>data_source</th>\n",
              "      <th>tm</th>\n",
              "    </tr>\n",
              "  </thead>\n",
              "  <tbody>\n",
              "    <tr>\n",
              "      <th>0</th>\n",
              "      <td>69</td>\n",
              "      <td>NaN</td>\n",
              "      <td>NaN</td>\n",
              "      <td>NaN</td>\n",
              "      <td>NaN</td>\n",
              "    </tr>\n",
              "    <tr>\n",
              "      <th>1</th>\n",
              "      <td>70</td>\n",
              "      <td>NaN</td>\n",
              "      <td>NaN</td>\n",
              "      <td>NaN</td>\n",
              "      <td>NaN</td>\n",
              "    </tr>\n",
              "    <tr>\n",
              "      <th>2</th>\n",
              "      <td>71</td>\n",
              "      <td>NaN</td>\n",
              "      <td>NaN</td>\n",
              "      <td>NaN</td>\n",
              "      <td>NaN</td>\n",
              "    </tr>\n",
              "    <tr>\n",
              "      <th>3</th>\n",
              "      <td>72</td>\n",
              "      <td>NaN</td>\n",
              "      <td>NaN</td>\n",
              "      <td>NaN</td>\n",
              "      <td>NaN</td>\n",
              "    </tr>\n",
              "    <tr>\n",
              "      <th>4</th>\n",
              "      <td>73</td>\n",
              "      <td>NaN</td>\n",
              "      <td>NaN</td>\n",
              "      <td>NaN</td>\n",
              "      <td>NaN</td>\n",
              "    </tr>\n",
              "    <tr>\n",
              "      <th>...</th>\n",
              "      <td>...</td>\n",
              "      <td>...</td>\n",
              "      <td>...</td>\n",
              "      <td>...</td>\n",
              "      <td>...</td>\n",
              "    </tr>\n",
              "    <tr>\n",
              "      <th>2429</th>\n",
              "      <td>30738</td>\n",
              "      <td>NaN</td>\n",
              "      <td>NaN</td>\n",
              "      <td>NaN</td>\n",
              "      <td>NaN</td>\n",
              "    </tr>\n",
              "    <tr>\n",
              "      <th>2430</th>\n",
              "      <td>30739</td>\n",
              "      <td>NaN</td>\n",
              "      <td>NaN</td>\n",
              "      <td>NaN</td>\n",
              "      <td>NaN</td>\n",
              "    </tr>\n",
              "    <tr>\n",
              "      <th>2431</th>\n",
              "      <td>30740</td>\n",
              "      <td>NaN</td>\n",
              "      <td>NaN</td>\n",
              "      <td>NaN</td>\n",
              "      <td>NaN</td>\n",
              "    </tr>\n",
              "    <tr>\n",
              "      <th>2432</th>\n",
              "      <td>30741</td>\n",
              "      <td>NaN</td>\n",
              "      <td>NaN</td>\n",
              "      <td>NaN</td>\n",
              "      <td>NaN</td>\n",
              "    </tr>\n",
              "    <tr>\n",
              "      <th>2433</th>\n",
              "      <td>30742</td>\n",
              "      <td>NaN</td>\n",
              "      <td>NaN</td>\n",
              "      <td>NaN</td>\n",
              "      <td>NaN</td>\n",
              "    </tr>\n",
              "  </tbody>\n",
              "</table>\n",
              "<p>2409 rows × 5 columns</p>\n",
              "</div>\n",
              "      <button class=\"colab-df-convert\" onclick=\"convertToInteractive('df-229313cf-d008-4e2d-9389-eee196d8a440')\"\n",
              "              title=\"Convert this dataframe to an interactive table.\"\n",
              "              style=\"display:none;\">\n",
              "        \n",
              "  <svg xmlns=\"http://www.w3.org/2000/svg\" height=\"24px\"viewBox=\"0 0 24 24\"\n",
              "       width=\"24px\">\n",
              "    <path d=\"M0 0h24v24H0V0z\" fill=\"none\"/>\n",
              "    <path d=\"M18.56 5.44l.94 2.06.94-2.06 2.06-.94-2.06-.94-.94-2.06-.94 2.06-2.06.94zm-11 1L8.5 8.5l.94-2.06 2.06-.94-2.06-.94L8.5 2.5l-.94 2.06-2.06.94zm10 10l.94 2.06.94-2.06 2.06-.94-2.06-.94-.94-2.06-.94 2.06-2.06.94z\"/><path d=\"M17.41 7.96l-1.37-1.37c-.4-.4-.92-.59-1.43-.59-.52 0-1.04.2-1.43.59L10.3 9.45l-7.72 7.72c-.78.78-.78 2.05 0 2.83L4 21.41c.39.39.9.59 1.41.59.51 0 1.02-.2 1.41-.59l7.78-7.78 2.81-2.81c.8-.78.8-2.07 0-2.86zM5.41 20L4 18.59l7.72-7.72 1.47 1.35L5.41 20z\"/>\n",
              "  </svg>\n",
              "      </button>\n",
              "      \n",
              "  <style>\n",
              "    .colab-df-container {\n",
              "      display:flex;\n",
              "      flex-wrap:wrap;\n",
              "      gap: 12px;\n",
              "    }\n",
              "\n",
              "    .colab-df-convert {\n",
              "      background-color: #E8F0FE;\n",
              "      border: none;\n",
              "      border-radius: 50%;\n",
              "      cursor: pointer;\n",
              "      display: none;\n",
              "      fill: #1967D2;\n",
              "      height: 32px;\n",
              "      padding: 0 0 0 0;\n",
              "      width: 32px;\n",
              "    }\n",
              "\n",
              "    .colab-df-convert:hover {\n",
              "      background-color: #E2EBFA;\n",
              "      box-shadow: 0px 1px 2px rgba(60, 64, 67, 0.3), 0px 1px 3px 1px rgba(60, 64, 67, 0.15);\n",
              "      fill: #174EA6;\n",
              "    }\n",
              "\n",
              "    [theme=dark] .colab-df-convert {\n",
              "      background-color: #3B4455;\n",
              "      fill: #D2E3FC;\n",
              "    }\n",
              "\n",
              "    [theme=dark] .colab-df-convert:hover {\n",
              "      background-color: #434B5C;\n",
              "      box-shadow: 0px 1px 3px 1px rgba(0, 0, 0, 0.15);\n",
              "      filter: drop-shadow(0px 1px 2px rgba(0, 0, 0, 0.3));\n",
              "      fill: #FFFFFF;\n",
              "    }\n",
              "  </style>\n",
              "\n",
              "      <script>\n",
              "        const buttonEl =\n",
              "          document.querySelector('#df-229313cf-d008-4e2d-9389-eee196d8a440 button.colab-df-convert');\n",
              "        buttonEl.style.display =\n",
              "          google.colab.kernel.accessAllowed ? 'block' : 'none';\n",
              "\n",
              "        async function convertToInteractive(key) {\n",
              "          const element = document.querySelector('#df-229313cf-d008-4e2d-9389-eee196d8a440');\n",
              "          const dataTable =\n",
              "            await google.colab.kernel.invokeFunction('convertToInteractive',\n",
              "                                                     [key], {});\n",
              "          if (!dataTable) return;\n",
              "\n",
              "          const docLinkHtml = 'Like what you see? Visit the ' +\n",
              "            '<a target=\"_blank\" href=https://colab.research.google.com/notebooks/data_table.ipynb>data table notebook</a>'\n",
              "            + ' to learn more about interactive tables.';\n",
              "          element.innerHTML = '';\n",
              "          dataTable['output_type'] = 'display_data';\n",
              "          await google.colab.output.renderOutput(dataTable, element);\n",
              "          const docLink = document.createElement('div');\n",
              "          docLink.innerHTML = docLinkHtml;\n",
              "          element.appendChild(docLink);\n",
              "        }\n",
              "      </script>\n",
              "    </div>\n",
              "  </div>\n",
              "  "
            ]
          },
          "metadata": {},
          "execution_count": 16
        }
      ]
    },
    {
      "cell_type": "code",
      "source": [
        "len(rows_to_drop)"
      ],
      "metadata": {
        "colab": {
          "base_uri": "https://localhost:8080/"
        },
        "id": "Cd-oPnwYOkUT",
        "outputId": "6f47ccab-381b-44cd-c9d6-1ab38ea3c0dd"
      },
      "execution_count": 17,
      "outputs": [
        {
          "output_type": "execute_result",
          "data": {
            "text/plain": [
              "2409"
            ]
          },
          "metadata": {},
          "execution_count": 17
        }
      ]
    },
    {
      "cell_type": "code",
      "source": [
        "# Setting the seq_id column to the index \n",
        "rows_to_drop.set_index('seq_id', inplace=True)"
      ],
      "metadata": {
        "id": "C9qwYucKQ_R2"
      },
      "execution_count": 18,
      "outputs": []
    },
    {
      "cell_type": "code",
      "source": [
        "rows_to_drop.index"
      ],
      "metadata": {
        "colab": {
          "base_uri": "https://localhost:8080/"
        },
        "id": "cknZNRQrR-LB",
        "outputId": "fac17c8e-3f49-4d2b-8462-3a76aca56788"
      },
      "execution_count": 19,
      "outputs": [
        {
          "output_type": "execute_result",
          "data": {
            "text/plain": [
              "Int64Index([   69,    70,    71,    72,    73,    74,    75,    76,    77,\n",
              "               78,\n",
              "            ...\n",
              "            29682, 29787, 29788, 29852, 29853, 30738, 30739, 30740, 30741,\n",
              "            30742],\n",
              "           dtype='int64', name='seq_id', length=2409)"
            ]
          },
          "metadata": {},
          "execution_count": 19
        }
      ]
    },
    {
      "cell_type": "code",
      "source": [
        "# Remove unwanted rows from our training data\n",
        "main_dataframe = train_df.drop(index=rows_to_drop.index, axis=0)"
      ],
      "metadata": {
        "id": "cNGd_g6tWJKd"
      },
      "execution_count": 20,
      "outputs": []
    },
    {
      "cell_type": "code",
      "source": [
        "main_dataframe.head()"
      ],
      "metadata": {
        "colab": {
          "base_uri": "https://localhost:8080/",
          "height": 206
        },
        "id": "qaruP9zzrB1h",
        "outputId": "af0549f7-eebe-4267-8ed1-39d3571fa0dc"
      },
      "execution_count": 21,
      "outputs": [
        {
          "output_type": "execute_result",
          "data": {
            "text/plain": [
              "   seq_id                                   protein_sequence   pH  \\\n",
              "0       0  AAAAKAAALALLGEAPEVVDIWLPAGWRQPFRVFRLERKGDGVLVG...  7.0   \n",
              "1       1  AAADGEPLHNEEERAGAGQVGRSLPQESEEQRTGSRPRRRRDLGSR...  7.0   \n",
              "2       2  AAAFSTPRATSYRILSSAGSGSTRADAPQVRRLHTTRDLLAKDYYA...  7.0   \n",
              "3       3  AAASGLRTAIPAQPLRHLLQPAPRPCLRPFGLLSVRAGSARRSGLL...  7.0   \n",
              "4       4  AAATKSGPRRQSQGASVRTFTPFYFLVEPVDTLSVRGSSVILNCSA...  7.0   \n",
              "\n",
              "                         data_source    tm  \n",
              "0  doi.org/10.1038/s41592-020-0801-4  75.7  \n",
              "1  doi.org/10.1038/s41592-020-0801-4  50.5  \n",
              "2  doi.org/10.1038/s41592-020-0801-4  40.5  \n",
              "3  doi.org/10.1038/s41592-020-0801-4  47.2  \n",
              "4  doi.org/10.1038/s41592-020-0801-4  49.5  "
            ],
            "text/html": [
              "\n",
              "  <div id=\"df-85301c64-5d7b-4029-a0d5-6ba05e153002\">\n",
              "    <div class=\"colab-df-container\">\n",
              "      <div>\n",
              "<style scoped>\n",
              "    .dataframe tbody tr th:only-of-type {\n",
              "        vertical-align: middle;\n",
              "    }\n",
              "\n",
              "    .dataframe tbody tr th {\n",
              "        vertical-align: top;\n",
              "    }\n",
              "\n",
              "    .dataframe thead th {\n",
              "        text-align: right;\n",
              "    }\n",
              "</style>\n",
              "<table border=\"1\" class=\"dataframe\">\n",
              "  <thead>\n",
              "    <tr style=\"text-align: right;\">\n",
              "      <th></th>\n",
              "      <th>seq_id</th>\n",
              "      <th>protein_sequence</th>\n",
              "      <th>pH</th>\n",
              "      <th>data_source</th>\n",
              "      <th>tm</th>\n",
              "    </tr>\n",
              "  </thead>\n",
              "  <tbody>\n",
              "    <tr>\n",
              "      <th>0</th>\n",
              "      <td>0</td>\n",
              "      <td>AAAAKAAALALLGEAPEVVDIWLPAGWRQPFRVFRLERKGDGVLVG...</td>\n",
              "      <td>7.0</td>\n",
              "      <td>doi.org/10.1038/s41592-020-0801-4</td>\n",
              "      <td>75.7</td>\n",
              "    </tr>\n",
              "    <tr>\n",
              "      <th>1</th>\n",
              "      <td>1</td>\n",
              "      <td>AAADGEPLHNEEERAGAGQVGRSLPQESEEQRTGSRPRRRRDLGSR...</td>\n",
              "      <td>7.0</td>\n",
              "      <td>doi.org/10.1038/s41592-020-0801-4</td>\n",
              "      <td>50.5</td>\n",
              "    </tr>\n",
              "    <tr>\n",
              "      <th>2</th>\n",
              "      <td>2</td>\n",
              "      <td>AAAFSTPRATSYRILSSAGSGSTRADAPQVRRLHTTRDLLAKDYYA...</td>\n",
              "      <td>7.0</td>\n",
              "      <td>doi.org/10.1038/s41592-020-0801-4</td>\n",
              "      <td>40.5</td>\n",
              "    </tr>\n",
              "    <tr>\n",
              "      <th>3</th>\n",
              "      <td>3</td>\n",
              "      <td>AAASGLRTAIPAQPLRHLLQPAPRPCLRPFGLLSVRAGSARRSGLL...</td>\n",
              "      <td>7.0</td>\n",
              "      <td>doi.org/10.1038/s41592-020-0801-4</td>\n",
              "      <td>47.2</td>\n",
              "    </tr>\n",
              "    <tr>\n",
              "      <th>4</th>\n",
              "      <td>4</td>\n",
              "      <td>AAATKSGPRRQSQGASVRTFTPFYFLVEPVDTLSVRGSSVILNCSA...</td>\n",
              "      <td>7.0</td>\n",
              "      <td>doi.org/10.1038/s41592-020-0801-4</td>\n",
              "      <td>49.5</td>\n",
              "    </tr>\n",
              "  </tbody>\n",
              "</table>\n",
              "</div>\n",
              "      <button class=\"colab-df-convert\" onclick=\"convertToInteractive('df-85301c64-5d7b-4029-a0d5-6ba05e153002')\"\n",
              "              title=\"Convert this dataframe to an interactive table.\"\n",
              "              style=\"display:none;\">\n",
              "        \n",
              "  <svg xmlns=\"http://www.w3.org/2000/svg\" height=\"24px\"viewBox=\"0 0 24 24\"\n",
              "       width=\"24px\">\n",
              "    <path d=\"M0 0h24v24H0V0z\" fill=\"none\"/>\n",
              "    <path d=\"M18.56 5.44l.94 2.06.94-2.06 2.06-.94-2.06-.94-.94-2.06-.94 2.06-2.06.94zm-11 1L8.5 8.5l.94-2.06 2.06-.94-2.06-.94L8.5 2.5l-.94 2.06-2.06.94zm10 10l.94 2.06.94-2.06 2.06-.94-2.06-.94-.94-2.06-.94 2.06-2.06.94z\"/><path d=\"M17.41 7.96l-1.37-1.37c-.4-.4-.92-.59-1.43-.59-.52 0-1.04.2-1.43.59L10.3 9.45l-7.72 7.72c-.78.78-.78 2.05 0 2.83L4 21.41c.39.39.9.59 1.41.59.51 0 1.02-.2 1.41-.59l7.78-7.78 2.81-2.81c.8-.78.8-2.07 0-2.86zM5.41 20L4 18.59l7.72-7.72 1.47 1.35L5.41 20z\"/>\n",
              "  </svg>\n",
              "      </button>\n",
              "      \n",
              "  <style>\n",
              "    .colab-df-container {\n",
              "      display:flex;\n",
              "      flex-wrap:wrap;\n",
              "      gap: 12px;\n",
              "    }\n",
              "\n",
              "    .colab-df-convert {\n",
              "      background-color: #E8F0FE;\n",
              "      border: none;\n",
              "      border-radius: 50%;\n",
              "      cursor: pointer;\n",
              "      display: none;\n",
              "      fill: #1967D2;\n",
              "      height: 32px;\n",
              "      padding: 0 0 0 0;\n",
              "      width: 32px;\n",
              "    }\n",
              "\n",
              "    .colab-df-convert:hover {\n",
              "      background-color: #E2EBFA;\n",
              "      box-shadow: 0px 1px 2px rgba(60, 64, 67, 0.3), 0px 1px 3px 1px rgba(60, 64, 67, 0.15);\n",
              "      fill: #174EA6;\n",
              "    }\n",
              "\n",
              "    [theme=dark] .colab-df-convert {\n",
              "      background-color: #3B4455;\n",
              "      fill: #D2E3FC;\n",
              "    }\n",
              "\n",
              "    [theme=dark] .colab-df-convert:hover {\n",
              "      background-color: #434B5C;\n",
              "      box-shadow: 0px 1px 3px 1px rgba(0, 0, 0, 0.15);\n",
              "      filter: drop-shadow(0px 1px 2px rgba(0, 0, 0, 0.3));\n",
              "      fill: #FFFFFF;\n",
              "    }\n",
              "  </style>\n",
              "\n",
              "      <script>\n",
              "        const buttonEl =\n",
              "          document.querySelector('#df-85301c64-5d7b-4029-a0d5-6ba05e153002 button.colab-df-convert');\n",
              "        buttonEl.style.display =\n",
              "          google.colab.kernel.accessAllowed ? 'block' : 'none';\n",
              "\n",
              "        async function convertToInteractive(key) {\n",
              "          const element = document.querySelector('#df-85301c64-5d7b-4029-a0d5-6ba05e153002');\n",
              "          const dataTable =\n",
              "            await google.colab.kernel.invokeFunction('convertToInteractive',\n",
              "                                                     [key], {});\n",
              "          if (!dataTable) return;\n",
              "\n",
              "          const docLinkHtml = 'Like what you see? Visit the ' +\n",
              "            '<a target=\"_blank\" href=https://colab.research.google.com/notebooks/data_table.ipynb>data table notebook</a>'\n",
              "            + ' to learn more about interactive tables.';\n",
              "          element.innerHTML = '';\n",
              "          dataTable['output_type'] = 'display_data';\n",
              "          await google.colab.output.renderOutput(dataTable, element);\n",
              "          const docLink = document.createElement('div');\n",
              "          docLink.innerHTML = docLinkHtml;\n",
              "          element.appendChild(docLink);\n",
              "        }\n",
              "      </script>\n",
              "    </div>\n",
              "  </div>\n",
              "  "
            ]
          },
          "metadata": {},
          "execution_count": 21
        }
      ]
    },
    {
      "cell_type": "code",
      "source": [
        "len(main_dataframe) # length should be len(train_df) - 2409"
      ],
      "metadata": {
        "colab": {
          "base_uri": "https://localhost:8080/"
        },
        "id": "uJRPMDwRtQRv",
        "outputId": "4873fe5c-ed52-4cad-da8e-63f842795e2e"
      },
      "execution_count": 22,
      "outputs": [
        {
          "output_type": "execute_result",
          "data": {
            "text/plain": [
              "28981"
            ]
          },
          "metadata": {},
          "execution_count": 22
        }
      ]
    },
    {
      "cell_type": "code",
      "source": [
        "# Rows that need to be added to main_dataframe\n",
        "train_update_df.iloc[np.where(train_update_df['pH'].notnull() == True)[0]].head()"
      ],
      "metadata": {
        "colab": {
          "base_uri": "https://localhost:8080/",
          "height": 206
        },
        "id": "Pm7sn0gTxi2t",
        "outputId": "2708451d-d881-4506-9169-3978277388df"
      },
      "execution_count": 23,
      "outputs": [
        {
          "output_type": "execute_result",
          "data": {
            "text/plain": [
              "    seq_id                                   protein_sequence   pH  \\\n",
              "25     973  DTSGTVCLSALPPEATDTLNLIASDGPFPYSQDGVVFQNRESVLPT...  7.0   \n",
              "28     986  DVSGTVCLSALPPEATDTLNLIASDGPFPYSQDGVTFQNRESVLPT...  7.0   \n",
              "29     988  DVSGTVCLSALPPEATDTLNLIASDGPFPYSQDGVVFANRESVLPT...  7.0   \n",
              "30     989  DVSGTVCLSALPPEATDTLNLIASDGPFPYSQDGVVFANRESVLPT...  5.5   \n",
              "33    1003  DVSGTVCLSALPPEATDTLNLIASDGPFPYSQDGVVFQNRESTLPT...  7.0   \n",
              "\n",
              "    data_source    tm  \n",
              "25          NaN  48.4  \n",
              "28          NaN  48.4  \n",
              "29          NaN  49.0  \n",
              "30          NaN  55.6  \n",
              "33          NaN  48.4  "
            ],
            "text/html": [
              "\n",
              "  <div id=\"df-8d71d724-130e-41ac-81cc-6b04ff4957d6\">\n",
              "    <div class=\"colab-df-container\">\n",
              "      <div>\n",
              "<style scoped>\n",
              "    .dataframe tbody tr th:only-of-type {\n",
              "        vertical-align: middle;\n",
              "    }\n",
              "\n",
              "    .dataframe tbody tr th {\n",
              "        vertical-align: top;\n",
              "    }\n",
              "\n",
              "    .dataframe thead th {\n",
              "        text-align: right;\n",
              "    }\n",
              "</style>\n",
              "<table border=\"1\" class=\"dataframe\">\n",
              "  <thead>\n",
              "    <tr style=\"text-align: right;\">\n",
              "      <th></th>\n",
              "      <th>seq_id</th>\n",
              "      <th>protein_sequence</th>\n",
              "      <th>pH</th>\n",
              "      <th>data_source</th>\n",
              "      <th>tm</th>\n",
              "    </tr>\n",
              "  </thead>\n",
              "  <tbody>\n",
              "    <tr>\n",
              "      <th>25</th>\n",
              "      <td>973</td>\n",
              "      <td>DTSGTVCLSALPPEATDTLNLIASDGPFPYSQDGVVFQNRESVLPT...</td>\n",
              "      <td>7.0</td>\n",
              "      <td>NaN</td>\n",
              "      <td>48.4</td>\n",
              "    </tr>\n",
              "    <tr>\n",
              "      <th>28</th>\n",
              "      <td>986</td>\n",
              "      <td>DVSGTVCLSALPPEATDTLNLIASDGPFPYSQDGVTFQNRESVLPT...</td>\n",
              "      <td>7.0</td>\n",
              "      <td>NaN</td>\n",
              "      <td>48.4</td>\n",
              "    </tr>\n",
              "    <tr>\n",
              "      <th>29</th>\n",
              "      <td>988</td>\n",
              "      <td>DVSGTVCLSALPPEATDTLNLIASDGPFPYSQDGVVFANRESVLPT...</td>\n",
              "      <td>7.0</td>\n",
              "      <td>NaN</td>\n",
              "      <td>49.0</td>\n",
              "    </tr>\n",
              "    <tr>\n",
              "      <th>30</th>\n",
              "      <td>989</td>\n",
              "      <td>DVSGTVCLSALPPEATDTLNLIASDGPFPYSQDGVVFANRESVLPT...</td>\n",
              "      <td>5.5</td>\n",
              "      <td>NaN</td>\n",
              "      <td>55.6</td>\n",
              "    </tr>\n",
              "    <tr>\n",
              "      <th>33</th>\n",
              "      <td>1003</td>\n",
              "      <td>DVSGTVCLSALPPEATDTLNLIASDGPFPYSQDGVVFQNRESTLPT...</td>\n",
              "      <td>7.0</td>\n",
              "      <td>NaN</td>\n",
              "      <td>48.4</td>\n",
              "    </tr>\n",
              "  </tbody>\n",
              "</table>\n",
              "</div>\n",
              "      <button class=\"colab-df-convert\" onclick=\"convertToInteractive('df-8d71d724-130e-41ac-81cc-6b04ff4957d6')\"\n",
              "              title=\"Convert this dataframe to an interactive table.\"\n",
              "              style=\"display:none;\">\n",
              "        \n",
              "  <svg xmlns=\"http://www.w3.org/2000/svg\" height=\"24px\"viewBox=\"0 0 24 24\"\n",
              "       width=\"24px\">\n",
              "    <path d=\"M0 0h24v24H0V0z\" fill=\"none\"/>\n",
              "    <path d=\"M18.56 5.44l.94 2.06.94-2.06 2.06-.94-2.06-.94-.94-2.06-.94 2.06-2.06.94zm-11 1L8.5 8.5l.94-2.06 2.06-.94-2.06-.94L8.5 2.5l-.94 2.06-2.06.94zm10 10l.94 2.06.94-2.06 2.06-.94-2.06-.94-.94-2.06-.94 2.06-2.06.94z\"/><path d=\"M17.41 7.96l-1.37-1.37c-.4-.4-.92-.59-1.43-.59-.52 0-1.04.2-1.43.59L10.3 9.45l-7.72 7.72c-.78.78-.78 2.05 0 2.83L4 21.41c.39.39.9.59 1.41.59.51 0 1.02-.2 1.41-.59l7.78-7.78 2.81-2.81c.8-.78.8-2.07 0-2.86zM5.41 20L4 18.59l7.72-7.72 1.47 1.35L5.41 20z\"/>\n",
              "  </svg>\n",
              "      </button>\n",
              "      \n",
              "  <style>\n",
              "    .colab-df-container {\n",
              "      display:flex;\n",
              "      flex-wrap:wrap;\n",
              "      gap: 12px;\n",
              "    }\n",
              "\n",
              "    .colab-df-convert {\n",
              "      background-color: #E8F0FE;\n",
              "      border: none;\n",
              "      border-radius: 50%;\n",
              "      cursor: pointer;\n",
              "      display: none;\n",
              "      fill: #1967D2;\n",
              "      height: 32px;\n",
              "      padding: 0 0 0 0;\n",
              "      width: 32px;\n",
              "    }\n",
              "\n",
              "    .colab-df-convert:hover {\n",
              "      background-color: #E2EBFA;\n",
              "      box-shadow: 0px 1px 2px rgba(60, 64, 67, 0.3), 0px 1px 3px 1px rgba(60, 64, 67, 0.15);\n",
              "      fill: #174EA6;\n",
              "    }\n",
              "\n",
              "    [theme=dark] .colab-df-convert {\n",
              "      background-color: #3B4455;\n",
              "      fill: #D2E3FC;\n",
              "    }\n",
              "\n",
              "    [theme=dark] .colab-df-convert:hover {\n",
              "      background-color: #434B5C;\n",
              "      box-shadow: 0px 1px 3px 1px rgba(0, 0, 0, 0.15);\n",
              "      filter: drop-shadow(0px 1px 2px rgba(0, 0, 0, 0.3));\n",
              "      fill: #FFFFFF;\n",
              "    }\n",
              "  </style>\n",
              "\n",
              "      <script>\n",
              "        const buttonEl =\n",
              "          document.querySelector('#df-8d71d724-130e-41ac-81cc-6b04ff4957d6 button.colab-df-convert');\n",
              "        buttonEl.style.display =\n",
              "          google.colab.kernel.accessAllowed ? 'block' : 'none';\n",
              "\n",
              "        async function convertToInteractive(key) {\n",
              "          const element = document.querySelector('#df-8d71d724-130e-41ac-81cc-6b04ff4957d6');\n",
              "          const dataTable =\n",
              "            await google.colab.kernel.invokeFunction('convertToInteractive',\n",
              "                                                     [key], {});\n",
              "          if (!dataTable) return;\n",
              "\n",
              "          const docLinkHtml = 'Like what you see? Visit the ' +\n",
              "            '<a target=\"_blank\" href=https://colab.research.google.com/notebooks/data_table.ipynb>data table notebook</a>'\n",
              "            + ' to learn more about interactive tables.';\n",
              "          element.innerHTML = '';\n",
              "          dataTable['output_type'] = 'display_data';\n",
              "          await google.colab.output.renderOutput(dataTable, element);\n",
              "          const docLink = document.createElement('div');\n",
              "          docLink.innerHTML = docLinkHtml;\n",
              "          element.appendChild(docLink);\n",
              "        }\n",
              "      </script>\n",
              "    </div>\n",
              "  </div>\n",
              "  "
            ]
          },
          "metadata": {},
          "execution_count": 23
        }
      ]
    },
    {
      "cell_type": "code",
      "source": [
        "# Rows that had pH and tm transposed (need to be swapped out)\n",
        "# No pH value should be higher than 14.0\n",
        "# Use that as proxy to eliminate bad rows\n",
        "main_dataframe.iloc[np.where(main_dataframe['pH'] > 14.0)[0]]"
      ],
      "metadata": {
        "colab": {
          "base_uri": "https://localhost:8080/",
          "height": 833
        },
        "id": "lu61UnUcxpQQ",
        "outputId": "646f5112-367f-43f4-8296-7073a377ae30"
      },
      "execution_count": 24,
      "outputs": [
        {
          "output_type": "execute_result",
          "data": {
            "text/plain": [
              "       seq_id                                   protein_sequence    pH  \\\n",
              "973       973  DTSGTVCLSALPPEATDTLNLIASDGPFPYSQDGVVFQNRESVLPT...  48.4   \n",
              "986       986  DVSGTVCLSALPPEATDTLNLIASDGPFPYSQDGVTFQNRESVLPT...  48.4   \n",
              "988       988  DVSGTVCLSALPPEATDTLNLIASDGPFPYSQDGVVFANRESVLPT...  49.0   \n",
              "989       989  DVSGTVCLSALPPEATDTLNLIASDGPFPYSQDGVVFANRESVLPT...  55.6   \n",
              "1003     1003  DVSGTVCLSALPPEATDTLNLIASDGPFPYSQDGVVFQNRESTLPT...  48.4   \n",
              "1012     1012  DVSGTVCLSALPPEATDTLNLIASDGPFPYSQDGVVFQNRESVLPT...  48.4   \n",
              "1014     1014  DVSGTVCLSALPPEATDTLNLIASDGPFPYSQDGVVFQNRESVLPT...  55.6   \n",
              "1018     1018  DVSGTVCLSALPPEATDTLNLIASDGPFPYSQDGVVFQNRESVLPT...  49.0   \n",
              "1037     1037  DVSGTVCLSALPPEATDTLNLIASDGPFPYSQDGVVFQNRESVLPT...  49.0   \n",
              "1042     1042  DVSGTVCLSALPPEATDTLNLIASDGPFPYSQDGVVFQNRESVLPT...  48.4   \n",
              "1079     1079  DVSGTVCLSALPPEATDTLNLIASDGPFPYSQDGVVFQNRESVLPT...  55.6   \n",
              "1081     1081  DVSGTVCLSALPPEATDTLNLIASDGPFPYSQDGVVFQNRESVLPT...  49.0   \n",
              "1088     1088  DVSGTVCLSALPPEATDTLNLIASDGPFPYSQDGVVFQNRESVLPT...  48.4   \n",
              "1093     1093  DVSGTVCLSALPPEATDTLNLIASDGPFPYSQDGVVFQNRESVLPT...  48.4   \n",
              "1096     1096  DVSGTVCLSALPPEATDTLNLIASDGPFPYSQDGVVFQNRESVLPT...  48.4   \n",
              "1098     1098  DVSGTVCLSALPPEATDTLNLIASDGPFPYSQDGVVFQNRESVLPT...  48.4   \n",
              "1100     1100  DVSGTVCLSALPPEATDTLNLIASDGPFPYSQDGVVFQNRESVLPT...  55.6   \n",
              "1108     1108  DVSGTVCLSALPPEATDTLNLIASDGPFPYSQDGVVFQNRKSVLPT...  49.0   \n",
              "1111     1111  DVSGTVCLSALPPEATDTLNLIASDGPFPYSQDGVVFQNRKSVLPT...  55.6   \n",
              "1120     1120  DVSGTVCLSALPPEATDVLNLIASDGPFPYSQDGVVFQNRESVLPT...  48.4   \n",
              "1122     1122  DVSGTVCLSALPPEAVDTLNLIASDGPFPYSQDGVVFQNRESVLPT...  48.4   \n",
              "1125     1125  DVSGVVCLSALPPEATDTLNLIASDGPFPYSQDGVVFQNRESVLPT...  48.4   \n",
              "13447   13447  MKALIVLGLVLLSVTVQGKVFERCELARTLKRLGMDGYRGISLANW...  64.9   \n",
              "13449   13449  MKALIVLGLVLLSVTVQGKVFERCELARTLKRLGMDGYRGISLANW...  64.9   \n",
              "14640   14640  MKMSRLCLSVALLVLLGTLAASTPGCDTSNQAKAQRPDFCLEPPYT...  39.0   \n",
              "\n",
              "      data_source   tm  \n",
              "973           NaN  7.0  \n",
              "986           NaN  7.0  \n",
              "988           NaN  7.0  \n",
              "989           NaN  5.5  \n",
              "1003          NaN  7.0  \n",
              "1012          NaN  7.0  \n",
              "1014          NaN  5.5  \n",
              "1018          NaN  7.0  \n",
              "1037          NaN  7.0  \n",
              "1042          NaN  7.0  \n",
              "1079          NaN  5.5  \n",
              "1081          NaN  7.0  \n",
              "1088          NaN  7.0  \n",
              "1093          NaN  7.0  \n",
              "1096          NaN  7.0  \n",
              "1098          NaN  7.0  \n",
              "1100          NaN  5.5  \n",
              "1108          NaN  7.0  \n",
              "1111          NaN  5.5  \n",
              "1120          NaN  7.0  \n",
              "1122          NaN  7.0  \n",
              "1125          NaN  7.0  \n",
              "13447         NaN  0.2  \n",
              "13449         NaN  0.1  \n",
              "14640         NaN  0.0  "
            ],
            "text/html": [
              "\n",
              "  <div id=\"df-d56e7069-afdb-4839-b99a-ed0fca6e2b3b\">\n",
              "    <div class=\"colab-df-container\">\n",
              "      <div>\n",
              "<style scoped>\n",
              "    .dataframe tbody tr th:only-of-type {\n",
              "        vertical-align: middle;\n",
              "    }\n",
              "\n",
              "    .dataframe tbody tr th {\n",
              "        vertical-align: top;\n",
              "    }\n",
              "\n",
              "    .dataframe thead th {\n",
              "        text-align: right;\n",
              "    }\n",
              "</style>\n",
              "<table border=\"1\" class=\"dataframe\">\n",
              "  <thead>\n",
              "    <tr style=\"text-align: right;\">\n",
              "      <th></th>\n",
              "      <th>seq_id</th>\n",
              "      <th>protein_sequence</th>\n",
              "      <th>pH</th>\n",
              "      <th>data_source</th>\n",
              "      <th>tm</th>\n",
              "    </tr>\n",
              "  </thead>\n",
              "  <tbody>\n",
              "    <tr>\n",
              "      <th>973</th>\n",
              "      <td>973</td>\n",
              "      <td>DTSGTVCLSALPPEATDTLNLIASDGPFPYSQDGVVFQNRESVLPT...</td>\n",
              "      <td>48.4</td>\n",
              "      <td>NaN</td>\n",
              "      <td>7.0</td>\n",
              "    </tr>\n",
              "    <tr>\n",
              "      <th>986</th>\n",
              "      <td>986</td>\n",
              "      <td>DVSGTVCLSALPPEATDTLNLIASDGPFPYSQDGVTFQNRESVLPT...</td>\n",
              "      <td>48.4</td>\n",
              "      <td>NaN</td>\n",
              "      <td>7.0</td>\n",
              "    </tr>\n",
              "    <tr>\n",
              "      <th>988</th>\n",
              "      <td>988</td>\n",
              "      <td>DVSGTVCLSALPPEATDTLNLIASDGPFPYSQDGVVFANRESVLPT...</td>\n",
              "      <td>49.0</td>\n",
              "      <td>NaN</td>\n",
              "      <td>7.0</td>\n",
              "    </tr>\n",
              "    <tr>\n",
              "      <th>989</th>\n",
              "      <td>989</td>\n",
              "      <td>DVSGTVCLSALPPEATDTLNLIASDGPFPYSQDGVVFANRESVLPT...</td>\n",
              "      <td>55.6</td>\n",
              "      <td>NaN</td>\n",
              "      <td>5.5</td>\n",
              "    </tr>\n",
              "    <tr>\n",
              "      <th>1003</th>\n",
              "      <td>1003</td>\n",
              "      <td>DVSGTVCLSALPPEATDTLNLIASDGPFPYSQDGVVFQNRESTLPT...</td>\n",
              "      <td>48.4</td>\n",
              "      <td>NaN</td>\n",
              "      <td>7.0</td>\n",
              "    </tr>\n",
              "    <tr>\n",
              "      <th>1012</th>\n",
              "      <td>1012</td>\n",
              "      <td>DVSGTVCLSALPPEATDTLNLIASDGPFPYSQDGVVFQNRESVLPT...</td>\n",
              "      <td>48.4</td>\n",
              "      <td>NaN</td>\n",
              "      <td>7.0</td>\n",
              "    </tr>\n",
              "    <tr>\n",
              "      <th>1014</th>\n",
              "      <td>1014</td>\n",
              "      <td>DVSGTVCLSALPPEATDTLNLIASDGPFPYSQDGVVFQNRESVLPT...</td>\n",
              "      <td>55.6</td>\n",
              "      <td>NaN</td>\n",
              "      <td>5.5</td>\n",
              "    </tr>\n",
              "    <tr>\n",
              "      <th>1018</th>\n",
              "      <td>1018</td>\n",
              "      <td>DVSGTVCLSALPPEATDTLNLIASDGPFPYSQDGVVFQNRESVLPT...</td>\n",
              "      <td>49.0</td>\n",
              "      <td>NaN</td>\n",
              "      <td>7.0</td>\n",
              "    </tr>\n",
              "    <tr>\n",
              "      <th>1037</th>\n",
              "      <td>1037</td>\n",
              "      <td>DVSGTVCLSALPPEATDTLNLIASDGPFPYSQDGVVFQNRESVLPT...</td>\n",
              "      <td>49.0</td>\n",
              "      <td>NaN</td>\n",
              "      <td>7.0</td>\n",
              "    </tr>\n",
              "    <tr>\n",
              "      <th>1042</th>\n",
              "      <td>1042</td>\n",
              "      <td>DVSGTVCLSALPPEATDTLNLIASDGPFPYSQDGVVFQNRESVLPT...</td>\n",
              "      <td>48.4</td>\n",
              "      <td>NaN</td>\n",
              "      <td>7.0</td>\n",
              "    </tr>\n",
              "    <tr>\n",
              "      <th>1079</th>\n",
              "      <td>1079</td>\n",
              "      <td>DVSGTVCLSALPPEATDTLNLIASDGPFPYSQDGVVFQNRESVLPT...</td>\n",
              "      <td>55.6</td>\n",
              "      <td>NaN</td>\n",
              "      <td>5.5</td>\n",
              "    </tr>\n",
              "    <tr>\n",
              "      <th>1081</th>\n",
              "      <td>1081</td>\n",
              "      <td>DVSGTVCLSALPPEATDTLNLIASDGPFPYSQDGVVFQNRESVLPT...</td>\n",
              "      <td>49.0</td>\n",
              "      <td>NaN</td>\n",
              "      <td>7.0</td>\n",
              "    </tr>\n",
              "    <tr>\n",
              "      <th>1088</th>\n",
              "      <td>1088</td>\n",
              "      <td>DVSGTVCLSALPPEATDTLNLIASDGPFPYSQDGVVFQNRESVLPT...</td>\n",
              "      <td>48.4</td>\n",
              "      <td>NaN</td>\n",
              "      <td>7.0</td>\n",
              "    </tr>\n",
              "    <tr>\n",
              "      <th>1093</th>\n",
              "      <td>1093</td>\n",
              "      <td>DVSGTVCLSALPPEATDTLNLIASDGPFPYSQDGVVFQNRESVLPT...</td>\n",
              "      <td>48.4</td>\n",
              "      <td>NaN</td>\n",
              "      <td>7.0</td>\n",
              "    </tr>\n",
              "    <tr>\n",
              "      <th>1096</th>\n",
              "      <td>1096</td>\n",
              "      <td>DVSGTVCLSALPPEATDTLNLIASDGPFPYSQDGVVFQNRESVLPT...</td>\n",
              "      <td>48.4</td>\n",
              "      <td>NaN</td>\n",
              "      <td>7.0</td>\n",
              "    </tr>\n",
              "    <tr>\n",
              "      <th>1098</th>\n",
              "      <td>1098</td>\n",
              "      <td>DVSGTVCLSALPPEATDTLNLIASDGPFPYSQDGVVFQNRESVLPT...</td>\n",
              "      <td>48.4</td>\n",
              "      <td>NaN</td>\n",
              "      <td>7.0</td>\n",
              "    </tr>\n",
              "    <tr>\n",
              "      <th>1100</th>\n",
              "      <td>1100</td>\n",
              "      <td>DVSGTVCLSALPPEATDTLNLIASDGPFPYSQDGVVFQNRESVLPT...</td>\n",
              "      <td>55.6</td>\n",
              "      <td>NaN</td>\n",
              "      <td>5.5</td>\n",
              "    </tr>\n",
              "    <tr>\n",
              "      <th>1108</th>\n",
              "      <td>1108</td>\n",
              "      <td>DVSGTVCLSALPPEATDTLNLIASDGPFPYSQDGVVFQNRKSVLPT...</td>\n",
              "      <td>49.0</td>\n",
              "      <td>NaN</td>\n",
              "      <td>7.0</td>\n",
              "    </tr>\n",
              "    <tr>\n",
              "      <th>1111</th>\n",
              "      <td>1111</td>\n",
              "      <td>DVSGTVCLSALPPEATDTLNLIASDGPFPYSQDGVVFQNRKSVLPT...</td>\n",
              "      <td>55.6</td>\n",
              "      <td>NaN</td>\n",
              "      <td>5.5</td>\n",
              "    </tr>\n",
              "    <tr>\n",
              "      <th>1120</th>\n",
              "      <td>1120</td>\n",
              "      <td>DVSGTVCLSALPPEATDVLNLIASDGPFPYSQDGVVFQNRESVLPT...</td>\n",
              "      <td>48.4</td>\n",
              "      <td>NaN</td>\n",
              "      <td>7.0</td>\n",
              "    </tr>\n",
              "    <tr>\n",
              "      <th>1122</th>\n",
              "      <td>1122</td>\n",
              "      <td>DVSGTVCLSALPPEAVDTLNLIASDGPFPYSQDGVVFQNRESVLPT...</td>\n",
              "      <td>48.4</td>\n",
              "      <td>NaN</td>\n",
              "      <td>7.0</td>\n",
              "    </tr>\n",
              "    <tr>\n",
              "      <th>1125</th>\n",
              "      <td>1125</td>\n",
              "      <td>DVSGVVCLSALPPEATDTLNLIASDGPFPYSQDGVVFQNRESVLPT...</td>\n",
              "      <td>48.4</td>\n",
              "      <td>NaN</td>\n",
              "      <td>7.0</td>\n",
              "    </tr>\n",
              "    <tr>\n",
              "      <th>13447</th>\n",
              "      <td>13447</td>\n",
              "      <td>MKALIVLGLVLLSVTVQGKVFERCELARTLKRLGMDGYRGISLANW...</td>\n",
              "      <td>64.9</td>\n",
              "      <td>NaN</td>\n",
              "      <td>0.2</td>\n",
              "    </tr>\n",
              "    <tr>\n",
              "      <th>13449</th>\n",
              "      <td>13449</td>\n",
              "      <td>MKALIVLGLVLLSVTVQGKVFERCELARTLKRLGMDGYRGISLANW...</td>\n",
              "      <td>64.9</td>\n",
              "      <td>NaN</td>\n",
              "      <td>0.1</td>\n",
              "    </tr>\n",
              "    <tr>\n",
              "      <th>14640</th>\n",
              "      <td>14640</td>\n",
              "      <td>MKMSRLCLSVALLVLLGTLAASTPGCDTSNQAKAQRPDFCLEPPYT...</td>\n",
              "      <td>39.0</td>\n",
              "      <td>NaN</td>\n",
              "      <td>0.0</td>\n",
              "    </tr>\n",
              "  </tbody>\n",
              "</table>\n",
              "</div>\n",
              "      <button class=\"colab-df-convert\" onclick=\"convertToInteractive('df-d56e7069-afdb-4839-b99a-ed0fca6e2b3b')\"\n",
              "              title=\"Convert this dataframe to an interactive table.\"\n",
              "              style=\"display:none;\">\n",
              "        \n",
              "  <svg xmlns=\"http://www.w3.org/2000/svg\" height=\"24px\"viewBox=\"0 0 24 24\"\n",
              "       width=\"24px\">\n",
              "    <path d=\"M0 0h24v24H0V0z\" fill=\"none\"/>\n",
              "    <path d=\"M18.56 5.44l.94 2.06.94-2.06 2.06-.94-2.06-.94-.94-2.06-.94 2.06-2.06.94zm-11 1L8.5 8.5l.94-2.06 2.06-.94-2.06-.94L8.5 2.5l-.94 2.06-2.06.94zm10 10l.94 2.06.94-2.06 2.06-.94-2.06-.94-.94-2.06-.94 2.06-2.06.94z\"/><path d=\"M17.41 7.96l-1.37-1.37c-.4-.4-.92-.59-1.43-.59-.52 0-1.04.2-1.43.59L10.3 9.45l-7.72 7.72c-.78.78-.78 2.05 0 2.83L4 21.41c.39.39.9.59 1.41.59.51 0 1.02-.2 1.41-.59l7.78-7.78 2.81-2.81c.8-.78.8-2.07 0-2.86zM5.41 20L4 18.59l7.72-7.72 1.47 1.35L5.41 20z\"/>\n",
              "  </svg>\n",
              "      </button>\n",
              "      \n",
              "  <style>\n",
              "    .colab-df-container {\n",
              "      display:flex;\n",
              "      flex-wrap:wrap;\n",
              "      gap: 12px;\n",
              "    }\n",
              "\n",
              "    .colab-df-convert {\n",
              "      background-color: #E8F0FE;\n",
              "      border: none;\n",
              "      border-radius: 50%;\n",
              "      cursor: pointer;\n",
              "      display: none;\n",
              "      fill: #1967D2;\n",
              "      height: 32px;\n",
              "      padding: 0 0 0 0;\n",
              "      width: 32px;\n",
              "    }\n",
              "\n",
              "    .colab-df-convert:hover {\n",
              "      background-color: #E2EBFA;\n",
              "      box-shadow: 0px 1px 2px rgba(60, 64, 67, 0.3), 0px 1px 3px 1px rgba(60, 64, 67, 0.15);\n",
              "      fill: #174EA6;\n",
              "    }\n",
              "\n",
              "    [theme=dark] .colab-df-convert {\n",
              "      background-color: #3B4455;\n",
              "      fill: #D2E3FC;\n",
              "    }\n",
              "\n",
              "    [theme=dark] .colab-df-convert:hover {\n",
              "      background-color: #434B5C;\n",
              "      box-shadow: 0px 1px 3px 1px rgba(0, 0, 0, 0.15);\n",
              "      filter: drop-shadow(0px 1px 2px rgba(0, 0, 0, 0.3));\n",
              "      fill: #FFFFFF;\n",
              "    }\n",
              "  </style>\n",
              "\n",
              "      <script>\n",
              "        const buttonEl =\n",
              "          document.querySelector('#df-d56e7069-afdb-4839-b99a-ed0fca6e2b3b button.colab-df-convert');\n",
              "        buttonEl.style.display =\n",
              "          google.colab.kernel.accessAllowed ? 'block' : 'none';\n",
              "\n",
              "        async function convertToInteractive(key) {\n",
              "          const element = document.querySelector('#df-d56e7069-afdb-4839-b99a-ed0fca6e2b3b');\n",
              "          const dataTable =\n",
              "            await google.colab.kernel.invokeFunction('convertToInteractive',\n",
              "                                                     [key], {});\n",
              "          if (!dataTable) return;\n",
              "\n",
              "          const docLinkHtml = 'Like what you see? Visit the ' +\n",
              "            '<a target=\"_blank\" href=https://colab.research.google.com/notebooks/data_table.ipynb>data table notebook</a>'\n",
              "            + ' to learn more about interactive tables.';\n",
              "          element.innerHTML = '';\n",
              "          dataTable['output_type'] = 'display_data';\n",
              "          await google.colab.output.renderOutput(dataTable, element);\n",
              "          const docLink = document.createElement('div');\n",
              "          docLink.innerHTML = docLinkHtml;\n",
              "          element.appendChild(docLink);\n",
              "        }\n",
              "      </script>\n",
              "    </div>\n",
              "  </div>\n",
              "  "
            ]
          },
          "metadata": {},
          "execution_count": 24
        }
      ]
    },
    {
      "cell_type": "code",
      "source": [
        "main_dataframe.iloc[np.where(main_dataframe['pH'] > 14.0)[0]].index"
      ],
      "metadata": {
        "colab": {
          "base_uri": "https://localhost:8080/"
        },
        "id": "0FE7HCBFNXPu",
        "outputId": "3f0bb015-df72-4a26-99b5-218f5d989e39"
      },
      "execution_count": 25,
      "outputs": [
        {
          "output_type": "execute_result",
          "data": {
            "text/plain": [
              "Int64Index([  973,   986,   988,   989,  1003,  1012,  1014,  1018,  1037,\n",
              "             1042,  1079,  1081,  1088,  1093,  1096,  1098,  1100,  1108,\n",
              "             1111,  1120,  1122,  1125, 13447, 13449, 14640],\n",
              "           dtype='int64')"
            ]
          },
          "metadata": {},
          "execution_count": 25
        }
      ]
    },
    {
      "cell_type": "code",
      "source": [
        "# Dropped the rows that needed to be swapped out \n",
        "main_dataframe.drop(index=main_dataframe.iloc[np.where(main_dataframe['pH'] > 14.0)[0]].index, axis=0, inplace=True)\n",
        "len(main_dataframe)"
      ],
      "metadata": {
        "colab": {
          "base_uri": "https://localhost:8080/"
        },
        "id": "cs_tpl40wO60",
        "outputId": "8b80b310-980d-474f-e8a7-6948b395bfe9"
      },
      "execution_count": 26,
      "outputs": [
        {
          "output_type": "execute_result",
          "data": {
            "text/plain": [
              "28956"
            ]
          },
          "metadata": {},
          "execution_count": 26
        }
      ]
    },
    {
      "cell_type": "code",
      "source": [
        "# Verify correct rows were dropped\n",
        "np.where(main_dataframe['pH'] > 14.0)[0]"
      ],
      "metadata": {
        "colab": {
          "base_uri": "https://localhost:8080/"
        },
        "id": "sB9tHi77Nz3G",
        "outputId": "261d1582-f7f4-418c-bec5-c9b3b2b82c7e"
      },
      "execution_count": 27,
      "outputs": [
        {
          "output_type": "execute_result",
          "data": {
            "text/plain": [
              "array([], dtype=int64)"
            ]
          },
          "metadata": {},
          "execution_count": 27
        }
      ]
    },
    {
      "cell_type": "code",
      "source": [
        "# Adding the corrected rows back to main_dataframe\n",
        "# Where the pH and tm values were corrected\n",
        "main_dataframe = pd.concat([main_dataframe, train_update_df.iloc[np.where(train_update_df['pH'].notnull() == True)[0]]])\n",
        "len(main_dataframe)"
      ],
      "metadata": {
        "colab": {
          "base_uri": "https://localhost:8080/"
        },
        "id": "yca2cTEx1-AA",
        "outputId": "74d90d98-280c-4b16-b9ab-25cbcd71f4de"
      },
      "execution_count": 28,
      "outputs": [
        {
          "output_type": "execute_result",
          "data": {
            "text/plain": [
              "28981"
            ]
          },
          "metadata": {},
          "execution_count": 28
        }
      ]
    },
    {
      "cell_type": "code",
      "source": [
        "# Examine final dataframe for correctness\n",
        "main_dataframe.sort_values(by=['seq_id'], axis=0, inplace=True)\n",
        "main_dataframe.head()"
      ],
      "metadata": {
        "colab": {
          "base_uri": "https://localhost:8080/",
          "height": 206
        },
        "id": "GOBb32Gm3HU2",
        "outputId": "723b1037-1798-4c0f-c1b6-a7ca875212f4"
      },
      "execution_count": 29,
      "outputs": [
        {
          "output_type": "execute_result",
          "data": {
            "text/plain": [
              "   seq_id                                   protein_sequence   pH  \\\n",
              "0       0  AAAAKAAALALLGEAPEVVDIWLPAGWRQPFRVFRLERKGDGVLVG...  7.0   \n",
              "1       1  AAADGEPLHNEEERAGAGQVGRSLPQESEEQRTGSRPRRRRDLGSR...  7.0   \n",
              "2       2  AAAFSTPRATSYRILSSAGSGSTRADAPQVRRLHTTRDLLAKDYYA...  7.0   \n",
              "3       3  AAASGLRTAIPAQPLRHLLQPAPRPCLRPFGLLSVRAGSARRSGLL...  7.0   \n",
              "4       4  AAATKSGPRRQSQGASVRTFTPFYFLVEPVDTLSVRGSSVILNCSA...  7.0   \n",
              "\n",
              "                         data_source    tm  \n",
              "0  doi.org/10.1038/s41592-020-0801-4  75.7  \n",
              "1  doi.org/10.1038/s41592-020-0801-4  50.5  \n",
              "2  doi.org/10.1038/s41592-020-0801-4  40.5  \n",
              "3  doi.org/10.1038/s41592-020-0801-4  47.2  \n",
              "4  doi.org/10.1038/s41592-020-0801-4  49.5  "
            ],
            "text/html": [
              "\n",
              "  <div id=\"df-29630695-efc1-4dc4-8957-f82825e2a0a4\">\n",
              "    <div class=\"colab-df-container\">\n",
              "      <div>\n",
              "<style scoped>\n",
              "    .dataframe tbody tr th:only-of-type {\n",
              "        vertical-align: middle;\n",
              "    }\n",
              "\n",
              "    .dataframe tbody tr th {\n",
              "        vertical-align: top;\n",
              "    }\n",
              "\n",
              "    .dataframe thead th {\n",
              "        text-align: right;\n",
              "    }\n",
              "</style>\n",
              "<table border=\"1\" class=\"dataframe\">\n",
              "  <thead>\n",
              "    <tr style=\"text-align: right;\">\n",
              "      <th></th>\n",
              "      <th>seq_id</th>\n",
              "      <th>protein_sequence</th>\n",
              "      <th>pH</th>\n",
              "      <th>data_source</th>\n",
              "      <th>tm</th>\n",
              "    </tr>\n",
              "  </thead>\n",
              "  <tbody>\n",
              "    <tr>\n",
              "      <th>0</th>\n",
              "      <td>0</td>\n",
              "      <td>AAAAKAAALALLGEAPEVVDIWLPAGWRQPFRVFRLERKGDGVLVG...</td>\n",
              "      <td>7.0</td>\n",
              "      <td>doi.org/10.1038/s41592-020-0801-4</td>\n",
              "      <td>75.7</td>\n",
              "    </tr>\n",
              "    <tr>\n",
              "      <th>1</th>\n",
              "      <td>1</td>\n",
              "      <td>AAADGEPLHNEEERAGAGQVGRSLPQESEEQRTGSRPRRRRDLGSR...</td>\n",
              "      <td>7.0</td>\n",
              "      <td>doi.org/10.1038/s41592-020-0801-4</td>\n",
              "      <td>50.5</td>\n",
              "    </tr>\n",
              "    <tr>\n",
              "      <th>2</th>\n",
              "      <td>2</td>\n",
              "      <td>AAAFSTPRATSYRILSSAGSGSTRADAPQVRRLHTTRDLLAKDYYA...</td>\n",
              "      <td>7.0</td>\n",
              "      <td>doi.org/10.1038/s41592-020-0801-4</td>\n",
              "      <td>40.5</td>\n",
              "    </tr>\n",
              "    <tr>\n",
              "      <th>3</th>\n",
              "      <td>3</td>\n",
              "      <td>AAASGLRTAIPAQPLRHLLQPAPRPCLRPFGLLSVRAGSARRSGLL...</td>\n",
              "      <td>7.0</td>\n",
              "      <td>doi.org/10.1038/s41592-020-0801-4</td>\n",
              "      <td>47.2</td>\n",
              "    </tr>\n",
              "    <tr>\n",
              "      <th>4</th>\n",
              "      <td>4</td>\n",
              "      <td>AAATKSGPRRQSQGASVRTFTPFYFLVEPVDTLSVRGSSVILNCSA...</td>\n",
              "      <td>7.0</td>\n",
              "      <td>doi.org/10.1038/s41592-020-0801-4</td>\n",
              "      <td>49.5</td>\n",
              "    </tr>\n",
              "  </tbody>\n",
              "</table>\n",
              "</div>\n",
              "      <button class=\"colab-df-convert\" onclick=\"convertToInteractive('df-29630695-efc1-4dc4-8957-f82825e2a0a4')\"\n",
              "              title=\"Convert this dataframe to an interactive table.\"\n",
              "              style=\"display:none;\">\n",
              "        \n",
              "  <svg xmlns=\"http://www.w3.org/2000/svg\" height=\"24px\"viewBox=\"0 0 24 24\"\n",
              "       width=\"24px\">\n",
              "    <path d=\"M0 0h24v24H0V0z\" fill=\"none\"/>\n",
              "    <path d=\"M18.56 5.44l.94 2.06.94-2.06 2.06-.94-2.06-.94-.94-2.06-.94 2.06-2.06.94zm-11 1L8.5 8.5l.94-2.06 2.06-.94-2.06-.94L8.5 2.5l-.94 2.06-2.06.94zm10 10l.94 2.06.94-2.06 2.06-.94-2.06-.94-.94-2.06-.94 2.06-2.06.94z\"/><path d=\"M17.41 7.96l-1.37-1.37c-.4-.4-.92-.59-1.43-.59-.52 0-1.04.2-1.43.59L10.3 9.45l-7.72 7.72c-.78.78-.78 2.05 0 2.83L4 21.41c.39.39.9.59 1.41.59.51 0 1.02-.2 1.41-.59l7.78-7.78 2.81-2.81c.8-.78.8-2.07 0-2.86zM5.41 20L4 18.59l7.72-7.72 1.47 1.35L5.41 20z\"/>\n",
              "  </svg>\n",
              "      </button>\n",
              "      \n",
              "  <style>\n",
              "    .colab-df-container {\n",
              "      display:flex;\n",
              "      flex-wrap:wrap;\n",
              "      gap: 12px;\n",
              "    }\n",
              "\n",
              "    .colab-df-convert {\n",
              "      background-color: #E8F0FE;\n",
              "      border: none;\n",
              "      border-radius: 50%;\n",
              "      cursor: pointer;\n",
              "      display: none;\n",
              "      fill: #1967D2;\n",
              "      height: 32px;\n",
              "      padding: 0 0 0 0;\n",
              "      width: 32px;\n",
              "    }\n",
              "\n",
              "    .colab-df-convert:hover {\n",
              "      background-color: #E2EBFA;\n",
              "      box-shadow: 0px 1px 2px rgba(60, 64, 67, 0.3), 0px 1px 3px 1px rgba(60, 64, 67, 0.15);\n",
              "      fill: #174EA6;\n",
              "    }\n",
              "\n",
              "    [theme=dark] .colab-df-convert {\n",
              "      background-color: #3B4455;\n",
              "      fill: #D2E3FC;\n",
              "    }\n",
              "\n",
              "    [theme=dark] .colab-df-convert:hover {\n",
              "      background-color: #434B5C;\n",
              "      box-shadow: 0px 1px 3px 1px rgba(0, 0, 0, 0.15);\n",
              "      filter: drop-shadow(0px 1px 2px rgba(0, 0, 0, 0.3));\n",
              "      fill: #FFFFFF;\n",
              "    }\n",
              "  </style>\n",
              "\n",
              "      <script>\n",
              "        const buttonEl =\n",
              "          document.querySelector('#df-29630695-efc1-4dc4-8957-f82825e2a0a4 button.colab-df-convert');\n",
              "        buttonEl.style.display =\n",
              "          google.colab.kernel.accessAllowed ? 'block' : 'none';\n",
              "\n",
              "        async function convertToInteractive(key) {\n",
              "          const element = document.querySelector('#df-29630695-efc1-4dc4-8957-f82825e2a0a4');\n",
              "          const dataTable =\n",
              "            await google.colab.kernel.invokeFunction('convertToInteractive',\n",
              "                                                     [key], {});\n",
              "          if (!dataTable) return;\n",
              "\n",
              "          const docLinkHtml = 'Like what you see? Visit the ' +\n",
              "            '<a target=\"_blank\" href=https://colab.research.google.com/notebooks/data_table.ipynb>data table notebook</a>'\n",
              "            + ' to learn more about interactive tables.';\n",
              "          element.innerHTML = '';\n",
              "          dataTable['output_type'] = 'display_data';\n",
              "          await google.colab.output.renderOutput(dataTable, element);\n",
              "          const docLink = document.createElement('div');\n",
              "          docLink.innerHTML = docLinkHtml;\n",
              "          element.appendChild(docLink);\n",
              "        }\n",
              "      </script>\n",
              "    </div>\n",
              "  </div>\n",
              "  "
            ]
          },
          "metadata": {},
          "execution_count": 29
        }
      ]
    },
    {
      "cell_type": "code",
      "source": [
        "# Ensure no NaN values\n",
        "main_dataframe.dropna(subset=['pH'], inplace=True)\n",
        "main_dataframe"
      ],
      "metadata": {
        "colab": {
          "base_uri": "https://localhost:8080/",
          "height": 423
        },
        "id": "o4dauf80dkLv",
        "outputId": "5767c673-9123-4403-f6ce-a0db41833f51"
      },
      "execution_count": 30,
      "outputs": [
        {
          "output_type": "execute_result",
          "data": {
            "text/plain": [
              "       seq_id                                   protein_sequence   pH  \\\n",
              "0           0  AAAAKAAALALLGEAPEVVDIWLPAGWRQPFRVFRLERKGDGVLVG...  7.0   \n",
              "1           1  AAADGEPLHNEEERAGAGQVGRSLPQESEEQRTGSRPRRRRDLGSR...  7.0   \n",
              "2           2  AAAFSTPRATSYRILSSAGSGSTRADAPQVRRLHTTRDLLAKDYYA...  7.0   \n",
              "3           3  AAASGLRTAIPAQPLRHLLQPAPRPCLRPFGLLSVRAGSARRSGLL...  7.0   \n",
              "4           4  AAATKSGPRRQSQGASVRTFTPFYFLVEPVDTLSVRGSSVILNCSA...  7.0   \n",
              "...       ...                                                ...  ...   \n",
              "31385   31385  YYMYSGGGSALAAGGGGAGRKGDWNDIDSIKKKDLHHSRGDEKAQG...  7.0   \n",
              "31386   31386  YYNDQHRLSSYSVETAMFLSWERAIVKPGAMFKKAVIGFNCNVDLI...  7.0   \n",
              "31387   31387  YYQRTLGAELLYKISFGEMPKSAQDSAENCPSGMQFPDTAIAHANV...  7.0   \n",
              "31388   31388  YYSFSDNITTVFLSRQAIDDDHSLSLGTISDVVESENGVVAADDAR...  7.0   \n",
              "31389   31389  YYVPDEYWQSLEVAHKLTFGYGYLTWEWVQGIRSYVYPLLIAGLYK...  7.0   \n",
              "\n",
              "                             data_source    tm  \n",
              "0      doi.org/10.1038/s41592-020-0801-4  75.7  \n",
              "1      doi.org/10.1038/s41592-020-0801-4  50.5  \n",
              "2      doi.org/10.1038/s41592-020-0801-4  40.5  \n",
              "3      doi.org/10.1038/s41592-020-0801-4  47.2  \n",
              "4      doi.org/10.1038/s41592-020-0801-4  49.5  \n",
              "...                                  ...   ...  \n",
              "31385  doi.org/10.1038/s41592-020-0801-4  51.8  \n",
              "31386  doi.org/10.1038/s41592-020-0801-4  37.2  \n",
              "31387  doi.org/10.1038/s41592-020-0801-4  64.6  \n",
              "31388  doi.org/10.1038/s41592-020-0801-4  50.7  \n",
              "31389  doi.org/10.1038/s41592-020-0801-4  37.6  \n",
              "\n",
              "[28695 rows x 5 columns]"
            ],
            "text/html": [
              "\n",
              "  <div id=\"df-f3d1cb2e-c647-494d-bfe6-560bf8ecea14\">\n",
              "    <div class=\"colab-df-container\">\n",
              "      <div>\n",
              "<style scoped>\n",
              "    .dataframe tbody tr th:only-of-type {\n",
              "        vertical-align: middle;\n",
              "    }\n",
              "\n",
              "    .dataframe tbody tr th {\n",
              "        vertical-align: top;\n",
              "    }\n",
              "\n",
              "    .dataframe thead th {\n",
              "        text-align: right;\n",
              "    }\n",
              "</style>\n",
              "<table border=\"1\" class=\"dataframe\">\n",
              "  <thead>\n",
              "    <tr style=\"text-align: right;\">\n",
              "      <th></th>\n",
              "      <th>seq_id</th>\n",
              "      <th>protein_sequence</th>\n",
              "      <th>pH</th>\n",
              "      <th>data_source</th>\n",
              "      <th>tm</th>\n",
              "    </tr>\n",
              "  </thead>\n",
              "  <tbody>\n",
              "    <tr>\n",
              "      <th>0</th>\n",
              "      <td>0</td>\n",
              "      <td>AAAAKAAALALLGEAPEVVDIWLPAGWRQPFRVFRLERKGDGVLVG...</td>\n",
              "      <td>7.0</td>\n",
              "      <td>doi.org/10.1038/s41592-020-0801-4</td>\n",
              "      <td>75.7</td>\n",
              "    </tr>\n",
              "    <tr>\n",
              "      <th>1</th>\n",
              "      <td>1</td>\n",
              "      <td>AAADGEPLHNEEERAGAGQVGRSLPQESEEQRTGSRPRRRRDLGSR...</td>\n",
              "      <td>7.0</td>\n",
              "      <td>doi.org/10.1038/s41592-020-0801-4</td>\n",
              "      <td>50.5</td>\n",
              "    </tr>\n",
              "    <tr>\n",
              "      <th>2</th>\n",
              "      <td>2</td>\n",
              "      <td>AAAFSTPRATSYRILSSAGSGSTRADAPQVRRLHTTRDLLAKDYYA...</td>\n",
              "      <td>7.0</td>\n",
              "      <td>doi.org/10.1038/s41592-020-0801-4</td>\n",
              "      <td>40.5</td>\n",
              "    </tr>\n",
              "    <tr>\n",
              "      <th>3</th>\n",
              "      <td>3</td>\n",
              "      <td>AAASGLRTAIPAQPLRHLLQPAPRPCLRPFGLLSVRAGSARRSGLL...</td>\n",
              "      <td>7.0</td>\n",
              "      <td>doi.org/10.1038/s41592-020-0801-4</td>\n",
              "      <td>47.2</td>\n",
              "    </tr>\n",
              "    <tr>\n",
              "      <th>4</th>\n",
              "      <td>4</td>\n",
              "      <td>AAATKSGPRRQSQGASVRTFTPFYFLVEPVDTLSVRGSSVILNCSA...</td>\n",
              "      <td>7.0</td>\n",
              "      <td>doi.org/10.1038/s41592-020-0801-4</td>\n",
              "      <td>49.5</td>\n",
              "    </tr>\n",
              "    <tr>\n",
              "      <th>...</th>\n",
              "      <td>...</td>\n",
              "      <td>...</td>\n",
              "      <td>...</td>\n",
              "      <td>...</td>\n",
              "      <td>...</td>\n",
              "    </tr>\n",
              "    <tr>\n",
              "      <th>31385</th>\n",
              "      <td>31385</td>\n",
              "      <td>YYMYSGGGSALAAGGGGAGRKGDWNDIDSIKKKDLHHSRGDEKAQG...</td>\n",
              "      <td>7.0</td>\n",
              "      <td>doi.org/10.1038/s41592-020-0801-4</td>\n",
              "      <td>51.8</td>\n",
              "    </tr>\n",
              "    <tr>\n",
              "      <th>31386</th>\n",
              "      <td>31386</td>\n",
              "      <td>YYNDQHRLSSYSVETAMFLSWERAIVKPGAMFKKAVIGFNCNVDLI...</td>\n",
              "      <td>7.0</td>\n",
              "      <td>doi.org/10.1038/s41592-020-0801-4</td>\n",
              "      <td>37.2</td>\n",
              "    </tr>\n",
              "    <tr>\n",
              "      <th>31387</th>\n",
              "      <td>31387</td>\n",
              "      <td>YYQRTLGAELLYKISFGEMPKSAQDSAENCPSGMQFPDTAIAHANV...</td>\n",
              "      <td>7.0</td>\n",
              "      <td>doi.org/10.1038/s41592-020-0801-4</td>\n",
              "      <td>64.6</td>\n",
              "    </tr>\n",
              "    <tr>\n",
              "      <th>31388</th>\n",
              "      <td>31388</td>\n",
              "      <td>YYSFSDNITTVFLSRQAIDDDHSLSLGTISDVVESENGVVAADDAR...</td>\n",
              "      <td>7.0</td>\n",
              "      <td>doi.org/10.1038/s41592-020-0801-4</td>\n",
              "      <td>50.7</td>\n",
              "    </tr>\n",
              "    <tr>\n",
              "      <th>31389</th>\n",
              "      <td>31389</td>\n",
              "      <td>YYVPDEYWQSLEVAHKLTFGYGYLTWEWVQGIRSYVYPLLIAGLYK...</td>\n",
              "      <td>7.0</td>\n",
              "      <td>doi.org/10.1038/s41592-020-0801-4</td>\n",
              "      <td>37.6</td>\n",
              "    </tr>\n",
              "  </tbody>\n",
              "</table>\n",
              "<p>28695 rows × 5 columns</p>\n",
              "</div>\n",
              "      <button class=\"colab-df-convert\" onclick=\"convertToInteractive('df-f3d1cb2e-c647-494d-bfe6-560bf8ecea14')\"\n",
              "              title=\"Convert this dataframe to an interactive table.\"\n",
              "              style=\"display:none;\">\n",
              "        \n",
              "  <svg xmlns=\"http://www.w3.org/2000/svg\" height=\"24px\"viewBox=\"0 0 24 24\"\n",
              "       width=\"24px\">\n",
              "    <path d=\"M0 0h24v24H0V0z\" fill=\"none\"/>\n",
              "    <path d=\"M18.56 5.44l.94 2.06.94-2.06 2.06-.94-2.06-.94-.94-2.06-.94 2.06-2.06.94zm-11 1L8.5 8.5l.94-2.06 2.06-.94-2.06-.94L8.5 2.5l-.94 2.06-2.06.94zm10 10l.94 2.06.94-2.06 2.06-.94-2.06-.94-.94-2.06-.94 2.06-2.06.94z\"/><path d=\"M17.41 7.96l-1.37-1.37c-.4-.4-.92-.59-1.43-.59-.52 0-1.04.2-1.43.59L10.3 9.45l-7.72 7.72c-.78.78-.78 2.05 0 2.83L4 21.41c.39.39.9.59 1.41.59.51 0 1.02-.2 1.41-.59l7.78-7.78 2.81-2.81c.8-.78.8-2.07 0-2.86zM5.41 20L4 18.59l7.72-7.72 1.47 1.35L5.41 20z\"/>\n",
              "  </svg>\n",
              "      </button>\n",
              "      \n",
              "  <style>\n",
              "    .colab-df-container {\n",
              "      display:flex;\n",
              "      flex-wrap:wrap;\n",
              "      gap: 12px;\n",
              "    }\n",
              "\n",
              "    .colab-df-convert {\n",
              "      background-color: #E8F0FE;\n",
              "      border: none;\n",
              "      border-radius: 50%;\n",
              "      cursor: pointer;\n",
              "      display: none;\n",
              "      fill: #1967D2;\n",
              "      height: 32px;\n",
              "      padding: 0 0 0 0;\n",
              "      width: 32px;\n",
              "    }\n",
              "\n",
              "    .colab-df-convert:hover {\n",
              "      background-color: #E2EBFA;\n",
              "      box-shadow: 0px 1px 2px rgba(60, 64, 67, 0.3), 0px 1px 3px 1px rgba(60, 64, 67, 0.15);\n",
              "      fill: #174EA6;\n",
              "    }\n",
              "\n",
              "    [theme=dark] .colab-df-convert {\n",
              "      background-color: #3B4455;\n",
              "      fill: #D2E3FC;\n",
              "    }\n",
              "\n",
              "    [theme=dark] .colab-df-convert:hover {\n",
              "      background-color: #434B5C;\n",
              "      box-shadow: 0px 1px 3px 1px rgba(0, 0, 0, 0.15);\n",
              "      filter: drop-shadow(0px 1px 2px rgba(0, 0, 0, 0.3));\n",
              "      fill: #FFFFFF;\n",
              "    }\n",
              "  </style>\n",
              "\n",
              "      <script>\n",
              "        const buttonEl =\n",
              "          document.querySelector('#df-f3d1cb2e-c647-494d-bfe6-560bf8ecea14 button.colab-df-convert');\n",
              "        buttonEl.style.display =\n",
              "          google.colab.kernel.accessAllowed ? 'block' : 'none';\n",
              "\n",
              "        async function convertToInteractive(key) {\n",
              "          const element = document.querySelector('#df-f3d1cb2e-c647-494d-bfe6-560bf8ecea14');\n",
              "          const dataTable =\n",
              "            await google.colab.kernel.invokeFunction('convertToInteractive',\n",
              "                                                     [key], {});\n",
              "          if (!dataTable) return;\n",
              "\n",
              "          const docLinkHtml = 'Like what you see? Visit the ' +\n",
              "            '<a target=\"_blank\" href=https://colab.research.google.com/notebooks/data_table.ipynb>data table notebook</a>'\n",
              "            + ' to learn more about interactive tables.';\n",
              "          element.innerHTML = '';\n",
              "          dataTable['output_type'] = 'display_data';\n",
              "          await google.colab.output.renderOutput(dataTable, element);\n",
              "          const docLink = document.createElement('div');\n",
              "          docLink.innerHTML = docLinkHtml;\n",
              "          element.appendChild(docLink);\n",
              "        }\n",
              "      </script>\n",
              "    </div>\n",
              "  </div>\n",
              "  "
            ]
          },
          "metadata": {},
          "execution_count": 30
        }
      ]
    },
    {
      "cell_type": "code",
      "source": [
        "# Check for NA values \n",
        "main_dataframe.isna().any()"
      ],
      "metadata": {
        "colab": {
          "base_uri": "https://localhost:8080/"
        },
        "id": "ytGMxUtqOfg3",
        "outputId": "95d44500-71d7-4481-8b71-f74f24b65e88"
      },
      "execution_count": 31,
      "outputs": [
        {
          "output_type": "execute_result",
          "data": {
            "text/plain": [
              "seq_id              False\n",
              "protein_sequence    False\n",
              "pH                  False\n",
              "data_source          True\n",
              "tm                  False\n",
              "dtype: bool"
            ]
          },
          "metadata": {},
          "execution_count": 31
        }
      ]
    },
    {
      "cell_type": "markdown",
      "source": [
        "We have taken away and added the neccessary rows to our training dataframe (`main_dataframe`). We have also dropped any NA values. Now, we can build a performant data pipeline for our data and then begin building the our experimental models to predict thermal stability for the enzymes"
      ],
      "metadata": {
        "id": "EgwUmQnI4H5R"
      }
    },
    {
      "cell_type": "code",
      "source": [
        "# Create feature and target dataframes\n",
        "main_dataframe = main_dataframe.sample(frac=1, random_state=7) # shuffle dataframe\n",
        "features_df = main_dataframe[['protein_sequence', 'pH']] # Get features\n",
        "targets_df = main_dataframe[['tm']] # get targets"
      ],
      "metadata": {
        "id": "_hjT7_6mGNJS"
      },
      "execution_count": 32,
      "outputs": []
    },
    {
      "cell_type": "code",
      "source": [
        "features_df.head()"
      ],
      "metadata": {
        "colab": {
          "base_uri": "https://localhost:8080/",
          "height": 206
        },
        "id": "stMgfMGJ5IM4",
        "outputId": "d8390db5-98e7-468c-e514-61eb91510317"
      },
      "execution_count": 33,
      "outputs": [
        {
          "output_type": "execute_result",
          "data": {
            "text/plain": [
              "                                        protein_sequence   pH\n",
              "5152   MALKSLVLLSLLVLVLLLVRVQPSLGKETAAAKFERQHMDSSTSAA...  5.0\n",
              "14069  MKIAGIDEAGRGPVIGPMVIAAVVVDENSLPKLEELKVRDSKKLTP...  9.0\n",
              "15645  MLKGGMLSRWKMWSPQYKILRNHLINFKSVSTYKNISGVNTKQPKS...  7.0\n",
              "23899  MSGLGESSLDPLAAESRKRKLPCDAPGQGLVYSGEKWRREQESKYI...  7.0\n",
              "11295  MGGASCVTFSLDGKFLAIGLQKGAIKIMTIDNKLYHMIDEGGQPGQ...  7.0"
            ],
            "text/html": [
              "\n",
              "  <div id=\"df-7bd21851-69a2-4dbc-a2c8-822a93cf989f\">\n",
              "    <div class=\"colab-df-container\">\n",
              "      <div>\n",
              "<style scoped>\n",
              "    .dataframe tbody tr th:only-of-type {\n",
              "        vertical-align: middle;\n",
              "    }\n",
              "\n",
              "    .dataframe tbody tr th {\n",
              "        vertical-align: top;\n",
              "    }\n",
              "\n",
              "    .dataframe thead th {\n",
              "        text-align: right;\n",
              "    }\n",
              "</style>\n",
              "<table border=\"1\" class=\"dataframe\">\n",
              "  <thead>\n",
              "    <tr style=\"text-align: right;\">\n",
              "      <th></th>\n",
              "      <th>protein_sequence</th>\n",
              "      <th>pH</th>\n",
              "    </tr>\n",
              "  </thead>\n",
              "  <tbody>\n",
              "    <tr>\n",
              "      <th>5152</th>\n",
              "      <td>MALKSLVLLSLLVLVLLLVRVQPSLGKETAAAKFERQHMDSSTSAA...</td>\n",
              "      <td>5.0</td>\n",
              "    </tr>\n",
              "    <tr>\n",
              "      <th>14069</th>\n",
              "      <td>MKIAGIDEAGRGPVIGPMVIAAVVVDENSLPKLEELKVRDSKKLTP...</td>\n",
              "      <td>9.0</td>\n",
              "    </tr>\n",
              "    <tr>\n",
              "      <th>15645</th>\n",
              "      <td>MLKGGMLSRWKMWSPQYKILRNHLINFKSVSTYKNISGVNTKQPKS...</td>\n",
              "      <td>7.0</td>\n",
              "    </tr>\n",
              "    <tr>\n",
              "      <th>23899</th>\n",
              "      <td>MSGLGESSLDPLAAESRKRKLPCDAPGQGLVYSGEKWRREQESKYI...</td>\n",
              "      <td>7.0</td>\n",
              "    </tr>\n",
              "    <tr>\n",
              "      <th>11295</th>\n",
              "      <td>MGGASCVTFSLDGKFLAIGLQKGAIKIMTIDNKLYHMIDEGGQPGQ...</td>\n",
              "      <td>7.0</td>\n",
              "    </tr>\n",
              "  </tbody>\n",
              "</table>\n",
              "</div>\n",
              "      <button class=\"colab-df-convert\" onclick=\"convertToInteractive('df-7bd21851-69a2-4dbc-a2c8-822a93cf989f')\"\n",
              "              title=\"Convert this dataframe to an interactive table.\"\n",
              "              style=\"display:none;\">\n",
              "        \n",
              "  <svg xmlns=\"http://www.w3.org/2000/svg\" height=\"24px\"viewBox=\"0 0 24 24\"\n",
              "       width=\"24px\">\n",
              "    <path d=\"M0 0h24v24H0V0z\" fill=\"none\"/>\n",
              "    <path d=\"M18.56 5.44l.94 2.06.94-2.06 2.06-.94-2.06-.94-.94-2.06-.94 2.06-2.06.94zm-11 1L8.5 8.5l.94-2.06 2.06-.94-2.06-.94L8.5 2.5l-.94 2.06-2.06.94zm10 10l.94 2.06.94-2.06 2.06-.94-2.06-.94-.94-2.06-.94 2.06-2.06.94z\"/><path d=\"M17.41 7.96l-1.37-1.37c-.4-.4-.92-.59-1.43-.59-.52 0-1.04.2-1.43.59L10.3 9.45l-7.72 7.72c-.78.78-.78 2.05 0 2.83L4 21.41c.39.39.9.59 1.41.59.51 0 1.02-.2 1.41-.59l7.78-7.78 2.81-2.81c.8-.78.8-2.07 0-2.86zM5.41 20L4 18.59l7.72-7.72 1.47 1.35L5.41 20z\"/>\n",
              "  </svg>\n",
              "      </button>\n",
              "      \n",
              "  <style>\n",
              "    .colab-df-container {\n",
              "      display:flex;\n",
              "      flex-wrap:wrap;\n",
              "      gap: 12px;\n",
              "    }\n",
              "\n",
              "    .colab-df-convert {\n",
              "      background-color: #E8F0FE;\n",
              "      border: none;\n",
              "      border-radius: 50%;\n",
              "      cursor: pointer;\n",
              "      display: none;\n",
              "      fill: #1967D2;\n",
              "      height: 32px;\n",
              "      padding: 0 0 0 0;\n",
              "      width: 32px;\n",
              "    }\n",
              "\n",
              "    .colab-df-convert:hover {\n",
              "      background-color: #E2EBFA;\n",
              "      box-shadow: 0px 1px 2px rgba(60, 64, 67, 0.3), 0px 1px 3px 1px rgba(60, 64, 67, 0.15);\n",
              "      fill: #174EA6;\n",
              "    }\n",
              "\n",
              "    [theme=dark] .colab-df-convert {\n",
              "      background-color: #3B4455;\n",
              "      fill: #D2E3FC;\n",
              "    }\n",
              "\n",
              "    [theme=dark] .colab-df-convert:hover {\n",
              "      background-color: #434B5C;\n",
              "      box-shadow: 0px 1px 3px 1px rgba(0, 0, 0, 0.15);\n",
              "      filter: drop-shadow(0px 1px 2px rgba(0, 0, 0, 0.3));\n",
              "      fill: #FFFFFF;\n",
              "    }\n",
              "  </style>\n",
              "\n",
              "      <script>\n",
              "        const buttonEl =\n",
              "          document.querySelector('#df-7bd21851-69a2-4dbc-a2c8-822a93cf989f button.colab-df-convert');\n",
              "        buttonEl.style.display =\n",
              "          google.colab.kernel.accessAllowed ? 'block' : 'none';\n",
              "\n",
              "        async function convertToInteractive(key) {\n",
              "          const element = document.querySelector('#df-7bd21851-69a2-4dbc-a2c8-822a93cf989f');\n",
              "          const dataTable =\n",
              "            await google.colab.kernel.invokeFunction('convertToInteractive',\n",
              "                                                     [key], {});\n",
              "          if (!dataTable) return;\n",
              "\n",
              "          const docLinkHtml = 'Like what you see? Visit the ' +\n",
              "            '<a target=\"_blank\" href=https://colab.research.google.com/notebooks/data_table.ipynb>data table notebook</a>'\n",
              "            + ' to learn more about interactive tables.';\n",
              "          element.innerHTML = '';\n",
              "          dataTable['output_type'] = 'display_data';\n",
              "          await google.colab.output.renderOutput(dataTable, element);\n",
              "          const docLink = document.createElement('div');\n",
              "          docLink.innerHTML = docLinkHtml;\n",
              "          element.appendChild(docLink);\n",
              "        }\n",
              "      </script>\n",
              "    </div>\n",
              "  </div>\n",
              "  "
            ]
          },
          "metadata": {},
          "execution_count": 33
        }
      ]
    },
    {
      "cell_type": "code",
      "source": [
        "targets_df.head()"
      ],
      "metadata": {
        "colab": {
          "base_uri": "https://localhost:8080/",
          "height": 206
        },
        "id": "SHwWeJXvGWVd",
        "outputId": "a4f7fb52-0395-4337-bcc8-a73a28335bcd"
      },
      "execution_count": 34,
      "outputs": [
        {
          "output_type": "execute_result",
          "data": {
            "text/plain": [
              "         tm\n",
              "5152   40.0\n",
              "14069  50.0\n",
              "15645  47.4\n",
              "23899  47.2\n",
              "11295  37.3"
            ],
            "text/html": [
              "\n",
              "  <div id=\"df-bfa2b54b-e68d-4fa6-b408-0216ef75283f\">\n",
              "    <div class=\"colab-df-container\">\n",
              "      <div>\n",
              "<style scoped>\n",
              "    .dataframe tbody tr th:only-of-type {\n",
              "        vertical-align: middle;\n",
              "    }\n",
              "\n",
              "    .dataframe tbody tr th {\n",
              "        vertical-align: top;\n",
              "    }\n",
              "\n",
              "    .dataframe thead th {\n",
              "        text-align: right;\n",
              "    }\n",
              "</style>\n",
              "<table border=\"1\" class=\"dataframe\">\n",
              "  <thead>\n",
              "    <tr style=\"text-align: right;\">\n",
              "      <th></th>\n",
              "      <th>tm</th>\n",
              "    </tr>\n",
              "  </thead>\n",
              "  <tbody>\n",
              "    <tr>\n",
              "      <th>5152</th>\n",
              "      <td>40.0</td>\n",
              "    </tr>\n",
              "    <tr>\n",
              "      <th>14069</th>\n",
              "      <td>50.0</td>\n",
              "    </tr>\n",
              "    <tr>\n",
              "      <th>15645</th>\n",
              "      <td>47.4</td>\n",
              "    </tr>\n",
              "    <tr>\n",
              "      <th>23899</th>\n",
              "      <td>47.2</td>\n",
              "    </tr>\n",
              "    <tr>\n",
              "      <th>11295</th>\n",
              "      <td>37.3</td>\n",
              "    </tr>\n",
              "  </tbody>\n",
              "</table>\n",
              "</div>\n",
              "      <button class=\"colab-df-convert\" onclick=\"convertToInteractive('df-bfa2b54b-e68d-4fa6-b408-0216ef75283f')\"\n",
              "              title=\"Convert this dataframe to an interactive table.\"\n",
              "              style=\"display:none;\">\n",
              "        \n",
              "  <svg xmlns=\"http://www.w3.org/2000/svg\" height=\"24px\"viewBox=\"0 0 24 24\"\n",
              "       width=\"24px\">\n",
              "    <path d=\"M0 0h24v24H0V0z\" fill=\"none\"/>\n",
              "    <path d=\"M18.56 5.44l.94 2.06.94-2.06 2.06-.94-2.06-.94-.94-2.06-.94 2.06-2.06.94zm-11 1L8.5 8.5l.94-2.06 2.06-.94-2.06-.94L8.5 2.5l-.94 2.06-2.06.94zm10 10l.94 2.06.94-2.06 2.06-.94-2.06-.94-.94-2.06-.94 2.06-2.06.94z\"/><path d=\"M17.41 7.96l-1.37-1.37c-.4-.4-.92-.59-1.43-.59-.52 0-1.04.2-1.43.59L10.3 9.45l-7.72 7.72c-.78.78-.78 2.05 0 2.83L4 21.41c.39.39.9.59 1.41.59.51 0 1.02-.2 1.41-.59l7.78-7.78 2.81-2.81c.8-.78.8-2.07 0-2.86zM5.41 20L4 18.59l7.72-7.72 1.47 1.35L5.41 20z\"/>\n",
              "  </svg>\n",
              "      </button>\n",
              "      \n",
              "  <style>\n",
              "    .colab-df-container {\n",
              "      display:flex;\n",
              "      flex-wrap:wrap;\n",
              "      gap: 12px;\n",
              "    }\n",
              "\n",
              "    .colab-df-convert {\n",
              "      background-color: #E8F0FE;\n",
              "      border: none;\n",
              "      border-radius: 50%;\n",
              "      cursor: pointer;\n",
              "      display: none;\n",
              "      fill: #1967D2;\n",
              "      height: 32px;\n",
              "      padding: 0 0 0 0;\n",
              "      width: 32px;\n",
              "    }\n",
              "\n",
              "    .colab-df-convert:hover {\n",
              "      background-color: #E2EBFA;\n",
              "      box-shadow: 0px 1px 2px rgba(60, 64, 67, 0.3), 0px 1px 3px 1px rgba(60, 64, 67, 0.15);\n",
              "      fill: #174EA6;\n",
              "    }\n",
              "\n",
              "    [theme=dark] .colab-df-convert {\n",
              "      background-color: #3B4455;\n",
              "      fill: #D2E3FC;\n",
              "    }\n",
              "\n",
              "    [theme=dark] .colab-df-convert:hover {\n",
              "      background-color: #434B5C;\n",
              "      box-shadow: 0px 1px 3px 1px rgba(0, 0, 0, 0.15);\n",
              "      filter: drop-shadow(0px 1px 2px rgba(0, 0, 0, 0.3));\n",
              "      fill: #FFFFFF;\n",
              "    }\n",
              "  </style>\n",
              "\n",
              "      <script>\n",
              "        const buttonEl =\n",
              "          document.querySelector('#df-bfa2b54b-e68d-4fa6-b408-0216ef75283f button.colab-df-convert');\n",
              "        buttonEl.style.display =\n",
              "          google.colab.kernel.accessAllowed ? 'block' : 'none';\n",
              "\n",
              "        async function convertToInteractive(key) {\n",
              "          const element = document.querySelector('#df-bfa2b54b-e68d-4fa6-b408-0216ef75283f');\n",
              "          const dataTable =\n",
              "            await google.colab.kernel.invokeFunction('convertToInteractive',\n",
              "                                                     [key], {});\n",
              "          if (!dataTable) return;\n",
              "\n",
              "          const docLinkHtml = 'Like what you see? Visit the ' +\n",
              "            '<a target=\"_blank\" href=https://colab.research.google.com/notebooks/data_table.ipynb>data table notebook</a>'\n",
              "            + ' to learn more about interactive tables.';\n",
              "          element.innerHTML = '';\n",
              "          dataTable['output_type'] = 'display_data';\n",
              "          await google.colab.output.renderOutput(dataTable, element);\n",
              "          const docLink = document.createElement('div');\n",
              "          docLink.innerHTML = docLinkHtml;\n",
              "          element.appendChild(docLink);\n",
              "        }\n",
              "      </script>\n",
              "    </div>\n",
              "  </div>\n",
              "  "
            ]
          },
          "metadata": {},
          "execution_count": 34
        }
      ]
    },
    {
      "cell_type": "code",
      "source": [
        "# Create target vector\n",
        "import tensorflow as tf\n",
        "targets = tf.squeeze(targets_df).numpy()\n",
        "targets[:10]"
      ],
      "metadata": {
        "colab": {
          "base_uri": "https://localhost:8080/"
        },
        "id": "6B81VM6GINYO",
        "outputId": "29d91861-cb72-4ea9-df06-7c82b3397001"
      },
      "execution_count": 35,
      "outputs": [
        {
          "output_type": "execute_result",
          "data": {
            "text/plain": [
              "array([40. , 50. , 47.4, 47.2, 37.3, 46.5, 45.3, 51.5, 42.8, 46.3])"
            ]
          },
          "metadata": {},
          "execution_count": 35
        }
      ]
    },
    {
      "cell_type": "code",
      "source": [
        "# Examine test dataframe\n",
        "test_df.head()"
      ],
      "metadata": {
        "colab": {
          "base_uri": "https://localhost:8080/",
          "height": 206
        },
        "id": "LgY_yRbnYxch",
        "outputId": "0470ecf0-d6f6-4f34-c384-2be143ce833c"
      },
      "execution_count": 36,
      "outputs": [
        {
          "output_type": "execute_result",
          "data": {
            "text/plain": [
              "   seq_id                                   protein_sequence  pH data_source\n",
              "0   31390  VPVNPEPDATSVENVAEKTGSGDSQSDPIKADLEVKGQSALPFDVD...   8   Novozymes\n",
              "1   31391  VPVNPEPDATSVENVAKKTGSGDSQSDPIKADLEVKGQSALPFDVD...   8   Novozymes\n",
              "2   31392  VPVNPEPDATSVENVAKTGSGDSQSDPIKADLEVKGQSALPFDVDC...   8   Novozymes\n",
              "3   31393  VPVNPEPDATSVENVALCTGSGDSQSDPIKADLEVKGQSALPFDVD...   8   Novozymes\n",
              "4   31394  VPVNPEPDATSVENVALFTGSGDSQSDPIKADLEVKGQSALPFDVD...   8   Novozymes"
            ],
            "text/html": [
              "\n",
              "  <div id=\"df-b5911930-b9d4-4316-9a0f-91455efcff25\">\n",
              "    <div class=\"colab-df-container\">\n",
              "      <div>\n",
              "<style scoped>\n",
              "    .dataframe tbody tr th:only-of-type {\n",
              "        vertical-align: middle;\n",
              "    }\n",
              "\n",
              "    .dataframe tbody tr th {\n",
              "        vertical-align: top;\n",
              "    }\n",
              "\n",
              "    .dataframe thead th {\n",
              "        text-align: right;\n",
              "    }\n",
              "</style>\n",
              "<table border=\"1\" class=\"dataframe\">\n",
              "  <thead>\n",
              "    <tr style=\"text-align: right;\">\n",
              "      <th></th>\n",
              "      <th>seq_id</th>\n",
              "      <th>protein_sequence</th>\n",
              "      <th>pH</th>\n",
              "      <th>data_source</th>\n",
              "    </tr>\n",
              "  </thead>\n",
              "  <tbody>\n",
              "    <tr>\n",
              "      <th>0</th>\n",
              "      <td>31390</td>\n",
              "      <td>VPVNPEPDATSVENVAEKTGSGDSQSDPIKADLEVKGQSALPFDVD...</td>\n",
              "      <td>8</td>\n",
              "      <td>Novozymes</td>\n",
              "    </tr>\n",
              "    <tr>\n",
              "      <th>1</th>\n",
              "      <td>31391</td>\n",
              "      <td>VPVNPEPDATSVENVAKKTGSGDSQSDPIKADLEVKGQSALPFDVD...</td>\n",
              "      <td>8</td>\n",
              "      <td>Novozymes</td>\n",
              "    </tr>\n",
              "    <tr>\n",
              "      <th>2</th>\n",
              "      <td>31392</td>\n",
              "      <td>VPVNPEPDATSVENVAKTGSGDSQSDPIKADLEVKGQSALPFDVDC...</td>\n",
              "      <td>8</td>\n",
              "      <td>Novozymes</td>\n",
              "    </tr>\n",
              "    <tr>\n",
              "      <th>3</th>\n",
              "      <td>31393</td>\n",
              "      <td>VPVNPEPDATSVENVALCTGSGDSQSDPIKADLEVKGQSALPFDVD...</td>\n",
              "      <td>8</td>\n",
              "      <td>Novozymes</td>\n",
              "    </tr>\n",
              "    <tr>\n",
              "      <th>4</th>\n",
              "      <td>31394</td>\n",
              "      <td>VPVNPEPDATSVENVALFTGSGDSQSDPIKADLEVKGQSALPFDVD...</td>\n",
              "      <td>8</td>\n",
              "      <td>Novozymes</td>\n",
              "    </tr>\n",
              "  </tbody>\n",
              "</table>\n",
              "</div>\n",
              "      <button class=\"colab-df-convert\" onclick=\"convertToInteractive('df-b5911930-b9d4-4316-9a0f-91455efcff25')\"\n",
              "              title=\"Convert this dataframe to an interactive table.\"\n",
              "              style=\"display:none;\">\n",
              "        \n",
              "  <svg xmlns=\"http://www.w3.org/2000/svg\" height=\"24px\"viewBox=\"0 0 24 24\"\n",
              "       width=\"24px\">\n",
              "    <path d=\"M0 0h24v24H0V0z\" fill=\"none\"/>\n",
              "    <path d=\"M18.56 5.44l.94 2.06.94-2.06 2.06-.94-2.06-.94-.94-2.06-.94 2.06-2.06.94zm-11 1L8.5 8.5l.94-2.06 2.06-.94-2.06-.94L8.5 2.5l-.94 2.06-2.06.94zm10 10l.94 2.06.94-2.06 2.06-.94-2.06-.94-.94-2.06-.94 2.06-2.06.94z\"/><path d=\"M17.41 7.96l-1.37-1.37c-.4-.4-.92-.59-1.43-.59-.52 0-1.04.2-1.43.59L10.3 9.45l-7.72 7.72c-.78.78-.78 2.05 0 2.83L4 21.41c.39.39.9.59 1.41.59.51 0 1.02-.2 1.41-.59l7.78-7.78 2.81-2.81c.8-.78.8-2.07 0-2.86zM5.41 20L4 18.59l7.72-7.72 1.47 1.35L5.41 20z\"/>\n",
              "  </svg>\n",
              "      </button>\n",
              "      \n",
              "  <style>\n",
              "    .colab-df-container {\n",
              "      display:flex;\n",
              "      flex-wrap:wrap;\n",
              "      gap: 12px;\n",
              "    }\n",
              "\n",
              "    .colab-df-convert {\n",
              "      background-color: #E8F0FE;\n",
              "      border: none;\n",
              "      border-radius: 50%;\n",
              "      cursor: pointer;\n",
              "      display: none;\n",
              "      fill: #1967D2;\n",
              "      height: 32px;\n",
              "      padding: 0 0 0 0;\n",
              "      width: 32px;\n",
              "    }\n",
              "\n",
              "    .colab-df-convert:hover {\n",
              "      background-color: #E2EBFA;\n",
              "      box-shadow: 0px 1px 2px rgba(60, 64, 67, 0.3), 0px 1px 3px 1px rgba(60, 64, 67, 0.15);\n",
              "      fill: #174EA6;\n",
              "    }\n",
              "\n",
              "    [theme=dark] .colab-df-convert {\n",
              "      background-color: #3B4455;\n",
              "      fill: #D2E3FC;\n",
              "    }\n",
              "\n",
              "    [theme=dark] .colab-df-convert:hover {\n",
              "      background-color: #434B5C;\n",
              "      box-shadow: 0px 1px 3px 1px rgba(0, 0, 0, 0.15);\n",
              "      filter: drop-shadow(0px 1px 2px rgba(0, 0, 0, 0.3));\n",
              "      fill: #FFFFFF;\n",
              "    }\n",
              "  </style>\n",
              "\n",
              "      <script>\n",
              "        const buttonEl =\n",
              "          document.querySelector('#df-b5911930-b9d4-4316-9a0f-91455efcff25 button.colab-df-convert');\n",
              "        buttonEl.style.display =\n",
              "          google.colab.kernel.accessAllowed ? 'block' : 'none';\n",
              "\n",
              "        async function convertToInteractive(key) {\n",
              "          const element = document.querySelector('#df-b5911930-b9d4-4316-9a0f-91455efcff25');\n",
              "          const dataTable =\n",
              "            await google.colab.kernel.invokeFunction('convertToInteractive',\n",
              "                                                     [key], {});\n",
              "          if (!dataTable) return;\n",
              "\n",
              "          const docLinkHtml = 'Like what you see? Visit the ' +\n",
              "            '<a target=\"_blank\" href=https://colab.research.google.com/notebooks/data_table.ipynb>data table notebook</a>'\n",
              "            + ' to learn more about interactive tables.';\n",
              "          element.innerHTML = '';\n",
              "          dataTable['output_type'] = 'display_data';\n",
              "          await google.colab.output.renderOutput(dataTable, element);\n",
              "          const docLink = document.createElement('div');\n",
              "          docLink.innerHTML = docLinkHtml;\n",
              "          element.appendChild(docLink);\n",
              "        }\n",
              "      </script>\n",
              "    </div>\n",
              "  </div>\n",
              "  "
            ]
          },
          "metadata": {},
          "execution_count": 36
        }
      ]
    },
    {
      "cell_type": "code",
      "source": [
        "# Make function to split protein sequences into individual characters\n",
        "# Evaluting protein sequence character by character\n",
        "# Model will need to read each character separately \n",
        "def split_chars(text):\n",
        "  return \" \".join(list(text))"
      ],
      "metadata": {
        "id": "z4wr9ygTQIij"
      },
      "execution_count": 37,
      "outputs": []
    },
    {
      "cell_type": "code",
      "source": [
        "# Test out our split_chars function\n",
        "[split_chars(sequence) for sequence in features_df['protein_sequence'][:2]]"
      ],
      "metadata": {
        "colab": {
          "base_uri": "https://localhost:8080/"
        },
        "id": "lpPnomGsmLYL",
        "outputId": "76d5862e-f237-4372-e7cf-5037f7841c49"
      },
      "execution_count": 38,
      "outputs": [
        {
          "output_type": "execute_result",
          "data": {
            "text/plain": [
              "['M A L K S L V L L S L L V L V L L L V R V Q P S L G K E T A A A K F E R Q H M D S S T S A A S S S N Y C N Q M M K S R N L T K D R C K P V N T F V H E S L A D V Q A L C S Q K N V A C K N G Q T N C Y Q S Y S T M S I T D C R E T G S S K Y P N C A Y K T T Q A N K H I I V A C E G N P Y V P V H F D A S V',\n",
              " 'M K I A G I D E A G R G P V I G P M V I A A V V V D E N S L P K L E E L K V R D S K K L T P K R R E K L F N E I L G V L D D Y V I L E L P P D V I G S R E G T L N E F E V E N F A K A L N S L K V K P D V I Y A D A A D V D E E R F A R E L G E R L N F E A E V V A K H K A A D I F P V V S A A S I L A K V T R D R A V E K L K E E Y G E I G S G Y P S D P R T R A F L E N Y Y R E H G E F P P I V R K G W K T L K K I A E K V E S E K K A E E R Q A T L D R Y F R K V']"
            ]
          },
          "metadata": {},
          "execution_count": 38
        }
      ]
    },
    {
      "cell_type": "code",
      "source": [
        "# Create list of of train protein charified sequences\n",
        "all_seq_char = [split_chars(sequence) for sequence in list(features_df['protein_sequence'])]\n",
        "all_seq_char[:2]"
      ],
      "metadata": {
        "colab": {
          "base_uri": "https://localhost:8080/"
        },
        "id": "FSOddXWGnS53",
        "outputId": "e91d1208-5d03-4665-9eab-2451e96a6aeb"
      },
      "execution_count": 39,
      "outputs": [
        {
          "output_type": "execute_result",
          "data": {
            "text/plain": [
              "['M A L K S L V L L S L L V L V L L L V R V Q P S L G K E T A A A K F E R Q H M D S S T S A A S S S N Y C N Q M M K S R N L T K D R C K P V N T F V H E S L A D V Q A L C S Q K N V A C K N G Q T N C Y Q S Y S T M S I T D C R E T G S S K Y P N C A Y K T T Q A N K H I I V A C E G N P Y V P V H F D A S V',\n",
              " 'M K I A G I D E A G R G P V I G P M V I A A V V V D E N S L P K L E E L K V R D S K K L T P K R R E K L F N E I L G V L D D Y V I L E L P P D V I G S R E G T L N E F E V E N F A K A L N S L K V K P D V I Y A D A A D V D E E R F A R E L G E R L N F E A E V V A K H K A A D I F P V V S A A S I L A K V T R D R A V E K L K E E Y G E I G S G Y P S D P R T R A F L E N Y Y R E H G E F P P I V R K G W K T L K K I A E K V E S E K K A E E R Q A T L D R Y F R K V']"
            ]
          },
          "metadata": {},
          "execution_count": 39
        }
      ]
    },
    {
      "cell_type": "code",
      "source": [
        "len(all_seq_char)"
      ],
      "metadata": {
        "colab": {
          "base_uri": "https://localhost:8080/"
        },
        "id": "1Lc8QQwSbwTx",
        "outputId": "2966f7f5-ed01-4aa0-9e78-af287e5ee4e7"
      },
      "execution_count": 40,
      "outputs": [
        {
          "output_type": "execute_result",
          "data": {
            "text/plain": [
              "28695"
            ]
          },
          "metadata": {},
          "execution_count": 40
        }
      ]
    },
    {
      "cell_type": "code",
      "source": [
        "# What's the average character length? Divide by 2 to account for space characters\n",
        "char_lens = [int(len(sequence)/2) for sequence in all_seq_char]\n",
        "np.mean(char_lens).round()"
      ],
      "metadata": {
        "colab": {
          "base_uri": "https://localhost:8080/"
        },
        "id": "7H54Bd19nVAo",
        "outputId": "dc52b72c-d610-4dd9-afd7-36fd47d0241a"
      },
      "execution_count": 41,
      "outputs": [
        {
          "output_type": "execute_result",
          "data": {
            "text/plain": [
              "451.0"
            ]
          },
          "metadata": {},
          "execution_count": 41
        }
      ]
    },
    {
      "cell_type": "code",
      "source": [
        "max(char_lens)"
      ],
      "metadata": {
        "colab": {
          "base_uri": "https://localhost:8080/"
        },
        "id": "ktohLRBDr-t1",
        "outputId": "48994891-410a-48e2-cf4a-6edc8a417cb1"
      },
      "execution_count": 42,
      "outputs": [
        {
          "output_type": "execute_result",
          "data": {
            "text/plain": [
              "8797"
            ]
          },
          "metadata": {},
          "execution_count": 42
        }
      ]
    },
    {
      "cell_type": "code",
      "source": [
        "# Unique characters in protein sequence\n",
        "set(all_seq_char[0])"
      ],
      "metadata": {
        "colab": {
          "base_uri": "https://localhost:8080/"
        },
        "id": "UkDuAi4WrCpA",
        "outputId": "76020554-d5e4-4b95-8c20-78edeb66fe04"
      },
      "execution_count": 43,
      "outputs": [
        {
          "output_type": "execute_result",
          "data": {
            "text/plain": [
              "{' ',\n",
              " 'A',\n",
              " 'C',\n",
              " 'D',\n",
              " 'E',\n",
              " 'F',\n",
              " 'G',\n",
              " 'H',\n",
              " 'I',\n",
              " 'K',\n",
              " 'L',\n",
              " 'M',\n",
              " 'N',\n",
              " 'P',\n",
              " 'Q',\n",
              " 'R',\n",
              " 'S',\n",
              " 'T',\n",
              " 'V',\n",
              " 'Y'}"
            ]
          },
          "metadata": {},
          "execution_count": 43
        }
      ]
    },
    {
      "cell_type": "code",
      "source": [
        "# Get max number of different individual characters\n",
        "max_ = 0\n",
        "for sequence in all_seq_char:\n",
        "  if len(set(sequence)) > max_:\n",
        "    max_ = len(set(sequence))\n",
        "\n",
        "print(max_)"
      ],
      "metadata": {
        "colab": {
          "base_uri": "https://localhost:8080/"
        },
        "id": "DXOOaNQUDQkn",
        "outputId": "4cd8e640-f21e-4d83-dd85-12afed10eaf6"
      },
      "execution_count": 44,
      "outputs": [
        {
          "output_type": "stream",
          "name": "stdout",
          "text": [
            "21\n"
          ]
        }
      ]
    },
    {
      "cell_type": "code",
      "source": [
        "import tensorflow as tf\n",
        "from tensorflow.keras.layers import TextVectorization"
      ],
      "metadata": {
        "id": "4X3OdJ8bI6i7"
      },
      "execution_count": 45,
      "outputs": []
    },
    {
      "cell_type": "code",
      "source": [
        "#train_features['protein_sequence'].apply(split_chars)"
      ],
      "metadata": {
        "id": "Rg0OjwHaP-ay"
      },
      "execution_count": 46,
      "outputs": []
    },
    {
      "cell_type": "code",
      "source": [
        "# Check distribution of protein sequences at character level\n",
        "import matplotlib.pyplot as plt \n",
        "plt.hist(char_lens, bins=15)"
      ],
      "metadata": {
        "colab": {
          "base_uri": "https://localhost:8080/",
          "height": 411
        },
        "id": "qg-w6H4FOG0H",
        "outputId": "bc4cabc7-88ca-47d8-fba6-973d751bc0c5"
      },
      "execution_count": 47,
      "outputs": [
        {
          "output_type": "execute_result",
          "data": {
            "text/plain": [
              "(array([2.2672e+04, 4.7440e+03, 8.1600e+02, 2.5100e+02, 1.2300e+02,\n",
              "        3.1000e+01, 1.9000e+01, 1.5000e+01, 1.1000e+01, 6.0000e+00,\n",
              "        0.0000e+00, 1.0000e+00, 4.0000e+00, 0.0000e+00, 2.0000e+00]),\n",
              " array([4.0000e+00, 5.9020e+02, 1.1764e+03, 1.7626e+03, 2.3488e+03,\n",
              "        2.9350e+03, 3.5212e+03, 4.1074e+03, 4.6936e+03, 5.2798e+03,\n",
              "        5.8660e+03, 6.4522e+03, 7.0384e+03, 7.6246e+03, 8.2108e+03,\n",
              "        8.7970e+03]),\n",
              " <a list of 15 Patch objects>)"
            ]
          },
          "metadata": {},
          "execution_count": 47
        },
        {
          "output_type": "display_data",
          "data": {
            "text/plain": [
              "<Figure size 432x288 with 1 Axes>"
            ],
            "image/png": "[encoded data removed]"
          },
          "metadata": {
            "needs_background": "light"
          }
        }
      ]
    },
    {
      "cell_type": "code",
      "source": [
        "# What character length covers 95% of the sequenes?\n",
        "output_seq_char_len = int(np.percentile(char_lens, 99))\n",
        "output_seq_char_len"
      ],
      "metadata": {
        "colab": {
          "base_uri": "https://localhost:8080/"
        },
        "id": "Sqeajml8suLT",
        "outputId": "5821efb7-c225-4779-bf80-016a9d7c01df"
      },
      "execution_count": 48,
      "outputs": [
        {
          "output_type": "execute_result",
          "data": {
            "text/plain": [
              "2114"
            ]
          },
          "metadata": {},
          "execution_count": 48
        }
      ]
    },
    {
      "cell_type": "code",
      "source": [
        "max_vocab_length =  22 # add one for OOV token\n",
        "max_sequence_length = output_seq_char_len # length that covers 97% of our protein sequences\n",
        "\n",
        "char_vectorizer = TextVectorization(max_tokens=max_vocab_length,\n",
        "                                    output_mode='int',\n",
        "                                    output_sequence_length=max_sequence_length,\n",
        "                                    #pad_to_max_tokens=False,\n",
        "                                    #split='character', #could optionally specify this parameter if we didn't split characters previously\n",
        "                                    name='char_vectorizer')"
      ],
      "metadata": {
        "id": "MUgZy3BiJxYL"
      },
      "execution_count": 49,
      "outputs": []
    },
    {
      "cell_type": "code",
      "source": [
        "np.asarray(all_seq_char[0])"
      ],
      "metadata": {
        "colab": {
          "base_uri": "https://localhost:8080/"
        },
        "id": "PFkbFS3cSnvD",
        "outputId": "f40530c9-c321-44fe-d44a-9a656c075959"
      },
      "execution_count": 50,
      "outputs": [
        {
          "output_type": "execute_result",
          "data": {
            "text/plain": [
              "array('M A L K S L V L L S L L V L V L L L V R V Q P S L G K E T A A A K F E R Q H M D S S T S A A S S S N Y C N Q M M K S R N L T K D R C K P V N T F V H E S L A D V Q A L C S Q K N V A C K N G Q T N C Y Q S Y S T M S I T D C R E T G S S K Y P N C A Y K T T Q A N K H I I V A C E G N P Y V P V H F D A S V',\n",
              "      dtype='<U299')"
            ]
          },
          "metadata": {},
          "execution_count": 50
        }
      ]
    },
    {
      "cell_type": "code",
      "source": [
        "char_vectorizer.adapt(np.asarray(all_seq_char))"
      ],
      "metadata": {
        "id": "O9GMERNykM3B"
      },
      "execution_count": 51,
      "outputs": []
    },
    {
      "cell_type": "code",
      "source": [
        "char_vectorizer.get_config()"
      ],
      "metadata": {
        "colab": {
          "base_uri": "https://localhost:8080/"
        },
        "id": "EZYu-jiYT_df",
        "outputId": "0ad5464a-ee1b-4d07-cbda-9ef4b83e1abc"
      },
      "execution_count": 52,
      "outputs": [
        {
          "output_type": "execute_result",
          "data": {
            "text/plain": [
              "{'name': 'char_vectorizer',\n",
              " 'trainable': True,\n",
              " 'batch_input_shape': (None,),\n",
              " 'dtype': 'string',\n",
              " 'max_tokens': 22,\n",
              " 'standardize': 'lower_and_strip_punctuation',\n",
              " 'split': 'whitespace',\n",
              " 'ngrams': None,\n",
              " 'output_mode': 'int',\n",
              " 'output_sequence_length': 2114,\n",
              " 'pad_to_max_tokens': False,\n",
              " 'sparse': False,\n",
              " 'ragged': False,\n",
              " 'vocabulary': None,\n",
              " 'idf_weights': None}"
            ]
          },
          "metadata": {},
          "execution_count": 52
        }
      ]
    },
    {
      "cell_type": "code",
      "source": [
        "list_ = [split_chars(sequence) for sequence in test_df['protein_sequence']]\n",
        "list_[0]"
      ],
      "metadata": {
        "colab": {
          "base_uri": "https://localhost:8080/",
          "height": 72
        },
        "id": "mudhYEHcypjB",
        "outputId": "9aa2b38b-9b22-45c0-cf61-f65b6f075d49"
      },
      "execution_count": 54,
      "outputs": [
        {
          "output_type": "execute_result",
          "data": {
            "text/plain": [
              "'V P V N P E P D A T S V E N V A E K T G S G D S Q S D P I K A D L E V K G Q S A L P F D V D C W A I L C K G A P N V L Q R V N E K T K N S N R D R S G A N K G P F K D P Q K W G I K A L P P K N P S W S A Q D F K S P E E Y A F A S S L Q G G T N A I L A P V N L A S Q N S Q G G V L N G F Y S A N K V A Q F D P S K P Q Q T K G T W F Q I T K F T G A A G P Y C K A L G S N D K S V C D K N K N I A G D W G F D P A K W A Y Q Y D E K N N K F N Y V G K'"
            ],
            "application/vnd.google.colaboratory.intrinsic+json": {
              "type": "string"
            }
          },
          "metadata": {},
          "execution_count": 54
        }
      ]
    },
    {
      "cell_type": "code",
      "source": [
        "list_ = list(test_df['protein_sequence'].values)\n",
        "list_[0]"
      ],
      "metadata": {
        "colab": {
          "base_uri": "https://localhost:8080/",
          "height": 54
        },
        "id": "EFYIUu6WrTzW",
        "outputId": "24881342-5e83-4c6d-8eee-b846835a243b"
      },
      "execution_count": 56,
      "outputs": [
        {
          "output_type": "execute_result",
          "data": {
            "text/plain": [
              "'VPVNPEPDATSVENVAEKTGSGDSQSDPIKADLEVKGQSALPFDVDCWAILCKGAPNVLQRVNEKTKNSNRDRSGANKGPFKDPQKWGIKALPPKNPSWSAQDFKSPEEYAFASSLQGGTNAILAPVNLASQNSQGGVLNGFYSANKVAQFDPSKPQQTKGTWFQITKFTGAAGPYCKALGSNDKSVCDKNKNIAGDWGFDPAKWAYQYDEKNNKFNYVGK'"
            ],
            "application/vnd.google.colaboratory.intrinsic+json": {
              "type": "string"
            }
          },
          "metadata": {},
          "execution_count": 56
        }
      ]
    },
    {
      "cell_type": "code",
      "source": [
        "letter_dict = {}\n",
        "for idx, letter in enumerate(list_[2]):\n",
        "  letter_dict[letter] = list_[2].count(letter)\n",
        "\n",
        "letter_dict"
      ],
      "metadata": {
        "colab": {
          "base_uri": "https://localhost:8080/"
        },
        "id": "f-7lAdmitIwk",
        "outputId": "2134e297-8bb1-46dc-ba1e-fd770d2e3ab4"
      },
      "execution_count": 57,
      "outputs": [
        {
          "output_type": "execute_result",
          "data": {
            "text/plain": [
              "{'V': 13,\n",
              " 'P': 17,\n",
              " 'N': 19,\n",
              " 'E': 7,\n",
              " 'D': 15,\n",
              " 'A': 22,\n",
              " 'T': 8,\n",
              " 'S': 18,\n",
              " 'K': 24,\n",
              " 'G': 19,\n",
              " 'Q': 13,\n",
              " 'I': 6,\n",
              " 'L': 10,\n",
              " 'F': 10,\n",
              " 'C': 4,\n",
              " 'W': 6,\n",
              " 'R': 3,\n",
              " 'Y': 6}"
            ]
          },
          "metadata": {},
          "execution_count": 57
        }
      ]
    },
    {
      "cell_type": "code",
      "source": [
        "# Testing char_vectorizer on one sequence (padded with zeros)\n",
        "import random\n",
        "idx = random.randint(0, len(features_df))\n",
        "vectorized_char_sequence = char_vectorizer(split_chars(features_df['protein_sequence'].iloc[idx]))\n",
        "vectorized_char_sequence.numpy()"
      ],
      "metadata": {
        "colab": {
          "base_uri": "https://localhost:8080/"
        },
        "id": "4hmMuYSfSHW8",
        "outputId": "0d392fc2-d8e1-465b-b1cf-b8addb250d73"
      },
      "execution_count": 53,
      "outputs": [
        {
          "output_type": "execute_result",
          "data": {
            "text/plain": [
              "array([18,  8, 13, ...,  0,  0,  0])"
            ]
          },
          "metadata": {},
          "execution_count": 53
        }
      ]
    },
    {
      "cell_type": "code",
      "source": [
        "vectorized_char_sequence[:500]"
      ],
      "metadata": {
        "colab": {
          "base_uri": "https://localhost:8080/"
        },
        "id": "vYAbJQjEHRyp",
        "outputId": "f4d01640-85b7-4107-b89d-758f974f55d5"
      },
      "execution_count": 54,
      "outputs": [
        {
          "output_type": "execute_result",
          "data": {
            "text/plain": [
              "<tf.Tensor: shape=(500,), dtype=int64, numpy=\n",
              "array([18,  8, 13, 16,  4,  7, 13, 13, 21,  4,  4,  6,  3,  9, 11, 11,  4,\n",
              "       16,  4, 13,  7, 15, 13,  5,  6, 15,  6,  7,  3,  3,  8,  8,  8, 13,\n",
              "        8,  8,  8,  8, 13,  8,  8,  8,  8,  3,  3,  7, 13, 15,  4, 15,  2,\n",
              "       15,  7, 15,  8,  3,  3,  4,  8, 16, 12, 17, 10, 14,  6, 10,  6, 13,\n",
              "        2,  3, 13, 13, 14,  9,  5,  5,  9,  9,  9, 17,  4,  9,  7,  4,  9,\n",
              "        6, 11, 10,  3, 18, 19,  8,  7,  8,  5,  6, 10, 11,  4,  8, 14, 10,\n",
              "       13, 13, 12, 14,  3, 12,  8,  6,  6,  8,  8,  4,  2,  8,  2,  8, 13,\n",
              "        4,  2,  3, 14,  3,  3,  2,  4,  3, 18,  4,  3, 12,  5,  5, 12, 12,\n",
              "       13,  3,  3, 15,  5,  2,  3,  5,  8,  2, 14,  5,  4,  2,  2,  6,  6,\n",
              "       10, 16, 10, 17, 11, 15,  4, 14,  2, 17,  5, 12, 12,  5, 10,  8,  3,\n",
              "        4,  3,  2, 16, 10,  8,  9,  5,  5,  3, 16,  4,  3, 17, 19,  3,  6,\n",
              "       17, 10, 14, 14,  7,  4,  8, 21, 13, 11, 15, 13,  2, 15, 10, 11, 11,\n",
              "        8, 12, 11,  8,  8, 11, 13,  8, 12,  3, 11, 11,  6,  9, 16,  6, 20,\n",
              "        6,  4,  6,  8,  2,  3, 14,  5,  7, 13, 15,  8,  7, 17,  5, 18,  9,\n",
              "        2,  7,  3,  3, 10,  5,  9, 11, 11,  3, 20, 15, 11, 12,  9, 12, 13,\n",
              "        2, 14,  3, 10, 12,  2,  9,  7,  3,  7, 17, 20,  2,  5,  2, 18,  6,\n",
              "       12,  9,  2, 15,  4, 16, 16,  2,  4,  3, 15, 10,  7,  2,  8,  2, 19,\n",
              "        6, 12,  7, 17, 11,  3,  4, 11, 14,  5, 10, 16, 14,  9,  7, 10,  4,\n",
              "       16,  7, 10, 20,  2, 15,  3, 20,  6, 16,  9,  2, 15,  8,  8,  9,  7,\n",
              "        3,  7, 15, 17, 16, 17, 16, 16, 14, 16,  8,  8, 18, 10, 19,  7, 13,\n",
              "        8, 15, 12,  8, 18,  8,  3, 16,  5,  2,  8, 13, 20,  2, 17, 10,  8,\n",
              "        0,  0,  0,  0,  0,  0,  0,  0,  0,  0,  0,  0,  0,  0,  0,  0,  0,\n",
              "        0,  0,  0,  0,  0,  0,  0,  0,  0,  0,  0,  0,  0,  0,  0,  0,  0,\n",
              "        0,  0,  0,  0,  0,  0,  0,  0,  0,  0,  0,  0,  0,  0,  0,  0,  0,\n",
              "        0,  0,  0,  0,  0,  0,  0,  0,  0,  0,  0,  0,  0,  0,  0,  0,  0,\n",
              "        0,  0,  0,  0,  0,  0,  0,  0,  0,  0,  0,  0,  0,  0,  0,  0,  0,\n",
              "        0,  0,  0,  0,  0,  0,  0,  0,  0,  0,  0,  0,  0,  0,  0,  0,  0,\n",
              "        0,  0,  0,  0,  0,  0,  0,  0,  0,  0,  0,  0,  0,  0,  0,  0,  0,\n",
              "        0,  0,  0,  0,  0,  0,  0,  0,  0,  0,  0,  0,  0,  0,  0,  0,  0,\n",
              "        0,  0,  0,  0,  0,  0,  0])>"
            ]
          },
          "metadata": {},
          "execution_count": 54
        }
      ]
    },
    {
      "cell_type": "code",
      "source": [
        "# Check padded length\n",
        "len(vectorized_char_sequence.numpy())"
      ],
      "metadata": {
        "colab": {
          "base_uri": "https://localhost:8080/"
        },
        "id": "MivS1h7Z10Q8",
        "outputId": "a4af41da-a6ea-4ed4-ec08-fb854437a85f"
      },
      "execution_count": 55,
      "outputs": [
        {
          "output_type": "execute_result",
          "data": {
            "text/plain": [
              "2114"
            ]
          },
          "metadata": {},
          "execution_count": 55
        }
      ]
    },
    {
      "cell_type": "code",
      "source": [
        "tf.squeeze(char_vectorizer([all_seq_char[idx]])).numpy().max() # max integer value is 21"
      ],
      "metadata": {
        "colab": {
          "base_uri": "https://localhost:8080/"
        },
        "id": "Udepie0LkTZs",
        "outputId": "6511351c-fcfd-4ccc-fa8c-53d1483f2c24"
      },
      "execution_count": 56,
      "outputs": [
        {
          "output_type": "execute_result",
          "data": {
            "text/plain": [
              "21"
            ]
          },
          "metadata": {},
          "execution_count": 56
        }
      ]
    },
    {
      "cell_type": "code",
      "source": [
        " # Character vocab stats\n",
        "char_vocab = char_vectorizer.get_vocabulary()\n",
        "print(f\"Number of different characters in character vocab: {len(char_vocab)}\")\n",
        "print(f\"Unique letters in the protein sequences:\\n {set(list(char_vocab))}\")"
      ],
      "metadata": {
        "colab": {
          "base_uri": "https://localhost:8080/"
        },
        "id": "K8c8Q-Xok6V4",
        "outputId": "a2adcaf5-60b1-4372-b77e-6ac67353a785"
      },
      "execution_count": 57,
      "outputs": [
        {
          "output_type": "stream",
          "name": "stdout",
          "text": [
            "Number of different characters in character vocab: 22\n",
            "Unique letters in the protein sequences:\n",
            " {'', 'k', 'e', 'g', 'm', 'v', 'n', 'a', 'c', 'p', 'f', 'r', 'i', 'y', 'l', 'd', 'w', '[UNK]', 'h', 's', 't', 'q'}\n"
          ]
        }
      ]
    },
    {
      "cell_type": "code",
      "source": [
        "# Test out character vectorizer\n",
        "import random\n",
        "random_train_seq = random.choice(all_seq_char)\n",
        "print(f\"Charified text:\\n {random_train_seq}\")\n",
        "print(f\"\\nLength of random_train_chars: {len(random_train_seq.split(sep=' '))}\")\n",
        "print(f\"\\nVectorized chars:\\n {char_vectorizer(random_train_seq)}\")\n",
        "print(f\"\\nLength of vectorized chars: {len(char_vectorizer(random_train_seq))}\")"
      ],
      "metadata": {
        "colab": {
          "base_uri": "https://localhost:8080/"
        },
        "id": "GBXwiCpqFB_-",
        "outputId": "3a3438cc-ffb1-4054-da49-cc7cb25442e0"
      },
      "execution_count": 58,
      "outputs": [
        {
          "output_type": "stream",
          "name": "stdout",
          "text": [
            "Charified text:\n",
            " M S D W K V D P D T R R R L L Q L Q K I G A N K K C M D C G A P N P Q W A T P K F G A F I C L E C A G I H R G L G V H I S F V R S I T M D Q F K P E E L L R M E K G G N E P L T E W F K S H N I D L S L P Q K V K Y D N P V A E D Y K E K L T C L C E D R V F E E R E H L D F D A S K L S A T S Q T A A S A T P G V A Q S R E G T P L E N R R S A T P A N S S N G A N F Q K E K N E A Y F A E L G K K N Q S R P D H L P P S Q G G K Y Q G F G S T P A K P P Q E R S A G S S N T L S L E N F Q A D P L G T L S R G W G L F S S A V T K S F E D V N E T V I K P H V Q Q W Q S G E L S E E T K R A A A Q F G Q K F Q E T S S Y G F Q A F S N F T K N F N G N A E D S S T A G N T T H T E Y Q K I D N N D K K N E Q D E D K W D D\n",
            "\n",
            "Length of random_train_chars: 351\n",
            "\n",
            "Vectorized chars:\n",
            " [18  5  9 ...  0  0  0]\n",
            "\n",
            "Length of vectorized chars: 2114\n"
          ]
        }
      ]
    },
    {
      "cell_type": "code",
      "source": [
        "max_sequence_length, max_vocab_length"
      ],
      "metadata": {
        "colab": {
          "base_uri": "https://localhost:8080/"
        },
        "id": "jfJ04bmUTljF",
        "outputId": "bbf89ed6-538b-4400-8b19-88b06cc6e02d"
      },
      "execution_count": 59,
      "outputs": [
        {
          "output_type": "execute_result",
          "data": {
            "text/plain": [
              "(2114, 22)"
            ]
          },
          "metadata": {},
          "execution_count": 59
        }
      ]
    },
    {
      "cell_type": "code",
      "source": [
        "# Creating a character-level embedding layer \n",
        "from tensorflow.keras import layers\n",
        "character_embedding = tf.keras.layers.Embedding(input_dim=max_vocab_length, # set the input shape, number of different characters, max int value is 21\n",
        "                                       output_dim=256, \n",
        "                                       mask_zero=True,\n",
        "                                       input_length=max_sequence_length)"
      ],
      "metadata": {
        "id": "IbIG5icYF3Zy"
      },
      "execution_count": 61,
      "outputs": []
    },
    {
      "cell_type": "code",
      "source": [
        "# Test our character embedding layer\n",
        "print(f\"Charified text:\\n {random_train_seq}\\n\")\n",
        "print(f\"Length of charified text: {round(len(random_train_seq)/2)}\\n\")\n",
        "char_embed_example = character_embedding(char_vectorizer([random_train_seq]))\n",
        "print(f\"Embedded chars: (after vectorization and embedding)\\n {char_embed_example}\\n\")\n",
        "print(f\"Shape of character embeddings:\\n {char_embed_example.shape}\") # [batch_size, input_length, embedding dim]"
      ],
      "metadata": {
        "colab": {
          "base_uri": "https://localhost:8080/"
        },
        "id": "S3aAirNeLc39",
        "outputId": "f8a0c5d5-ce3a-417e-f6ab-5fbd8c09437e"
      },
      "execution_count": 62,
      "outputs": [
        {
          "output_type": "stream",
          "name": "stdout",
          "text": [
            "Charified text:\n",
            " M S D W K V D P D T R R R L L Q L Q K I G A N K K C M D C G A P N P Q W A T P K F G A F I C L E C A G I H R G L G V H I S F V R S I T M D Q F K P E E L L R M E K G G N E P L T E W F K S H N I D L S L P Q K V K Y D N P V A E D Y K E K L T C L C E D R V F E E R E H L D F D A S K L S A T S Q T A A S A T P G V A Q S R E G T P L E N R R S A T P A N S S N G A N F Q K E K N E A Y F A E L G K K N Q S R P D H L P P S Q G G K Y Q G F G S T P A K P P Q E R S A G S S N T L S L E N F Q A D P L G T L S R G W G L F S S A V T K S F E D V N E T V I K P H V Q Q W Q S G E L S E E T K R A A A Q F G Q K F Q E T S S Y G F Q A F S N F T K N F N G N A E D S S T A G N T T H T E Y Q K I D N N D K K N E Q D E D K W D D\n",
            "\n",
            "Length of charified text: 350\n",
            "\n",
            "Embedded chars: (after vectorization and embedding)\n",
            " [[[ 0.00665807  0.00865964 -0.02650158 ...  0.02106972  0.00498285\n",
            "    0.01328632]\n",
            "  [ 0.00458683  0.04179097  0.04280723 ... -0.0332347   0.02813674\n",
            "    0.02995602]\n",
            "  [ 0.0395151   0.02179811  0.03004012 ... -0.020249   -0.00211895\n",
            "   -0.0430169 ]\n",
            "  ...\n",
            "  [-0.02229267 -0.04069327  0.04828015 ...  0.01275278  0.04385623\n",
            "    0.02127173]\n",
            "  [-0.02229267 -0.04069327  0.04828015 ...  0.01275278  0.04385623\n",
            "    0.02127173]\n",
            "  [-0.02229267 -0.04069327  0.04828015 ...  0.01275278  0.04385623\n",
            "    0.02127173]]]\n",
            "\n",
            "Shape of character embeddings:\n",
            " (1, 2114, 256)\n"
          ]
        }
      ]
    },
    {
      "cell_type": "markdown",
      "source": [
        "**Idea:** Using `TextVectorization` layer to create and array of counts of each letter in the protein sequences and using that as a source of input for the model"
      ],
      "metadata": {
        "id": "p0Mmi6_G9mqH"
      }
    },
    {
      "cell_type": "code",
      "source": [
        "max_vocab_length = 20\n",
        "letter_count_vectorizer = TextVectorization(max_tokens=max_vocab_length,\n",
        "                                    output_mode='count',\n",
        "                                    #output_sequence_length=max_sequence_length,\n",
        "                                    pad_to_max_tokens=False,\n",
        "                                    #split='character', #could optionally specify this parameter if we didn't split characters previously\n",
        "                                    name='char_vectorizer')"
      ],
      "metadata": {
        "id": "zB8-AiCR9wvl"
      },
      "execution_count": 63,
      "outputs": []
    },
    {
      "cell_type": "code",
      "source": [
        "letter_count_vectorizer.adapt(np.asarray(all_seq_char))"
      ],
      "metadata": {
        "id": "jEezoE1y_vae"
      },
      "execution_count": 64,
      "outputs": []
    },
    {
      "cell_type": "code",
      "source": [
        "# Testing char_vectorizer on one sequence (padded with zeros)\n",
        "import random\n",
        "idx = random.randint(0, len(features_df))\n",
        "vectorized_char_sequence = letter_count_vectorizer(all_seq_char[idx])\n",
        "vectorized_char_sequence.numpy()"
      ],
      "metadata": {
        "id": "Orsesi6I_24u",
        "colab": {
          "base_uri": "https://localhost:8080/"
        },
        "outputId": "3833ce0f-341f-4767-9080-a99f31a94cf2"
      },
      "execution_count": 65,
      "outputs": [
        {
          "output_type": "execute_result",
          "data": {
            "text/plain": [
              "array([ 2., 34., 48., 34., 30., 37., 42., 24., 32., 32., 38., 19., 18.,\n",
              "       20., 21., 20., 18., 12., 16.,  7.], dtype=float32)"
            ]
          },
          "metadata": {},
          "execution_count": 65
        }
      ]
    },
    {
      "cell_type": "code",
      "source": [
        "# Will produce constant size tensor equal to [max tokens] parameter\n",
        "vectorized_char_sequence.shape"
      ],
      "metadata": {
        "id": "grSO2_YlAA7s",
        "colab": {
          "base_uri": "https://localhost:8080/"
        },
        "outputId": "ae198fc6-7b82-4c54-a441-8f161b6c19d5"
      },
      "execution_count": 66,
      "outputs": [
        {
          "output_type": "execute_result",
          "data": {
            "text/plain": [
              "TensorShape([20])"
            ]
          },
          "metadata": {},
          "execution_count": 66
        }
      ]
    },
    {
      "cell_type": "code",
      "source": [
        "list_ = all_seq_char[idx]\n",
        "list_"
      ],
      "metadata": {
        "colab": {
          "base_uri": "https://localhost:8080/",
          "height": 109
        },
        "id": "RZ-8JWhqKC0p",
        "outputId": "64b9c3af-0ae0-41fc-87fa-7c1d456e6f8a"
      },
      "execution_count": 67,
      "outputs": [
        {
          "output_type": "execute_result",
          "data": {
            "text/plain": [
              "'M C G I V G I V A K S H V N Q S I Y D A L T I L Q H R G Q D A A G I V T W H N D K L F L R K D N G L V S D V F R T R H M K R L V G H I G I G H V R Y P T A G S S S S A E A Q P F Y V N S P Y G I T L A H N G N L T N A A E V A E H L Y K E D L R H I N T T S D S E V L L N V F A H E M Q K Q G E L I P T P E S I F K A I A R V H Q R I R G G Y S V V A M I N G F G L V A F R D P N G I R P A V F G V R E R E H G K E Y M V A S E S V A L D G L G F K L V R D I A P G E C I V I T K E G E F F S Q Q C A E D P K L V P C I F E H V Y F A R P D S I M D G I S V Y K A R L K M G E Y L A G K I M K E R P D H D I D V V I P I P D T S R T S A L Q L A N R L G V K Y R E G F M K N R Y I G R T F I M P G Q Q Q R K K S V K Q K L N A I A L E F A G K N V L L V D D S I V R G T T C N Q I I E M A R E A G A K N V Y F A S A A P E V R Y P N V Y G I D M P A V E E L I A H D R T V A E I E T A I G A D W L I Y Q D L E D L Q R S C L N G A S T E V Q E F D C S V F D A Q Y V T G D I D E A Y F E R L R V A R S D A S K S S A N S A E D V A I D L H N D Q'"
            ],
            "application/vnd.google.colaboratory.intrinsic+json": {
              "type": "string"
            }
          },
          "metadata": {},
          "execution_count": 67
        }
      ]
    },
    {
      "cell_type": "code",
      "source": [
        "letter_dict = {}\n",
        "for letter in list_:\n",
        "  letter_dict[letter] = list_.count(letter)\n",
        "\n",
        "letter_dict"
      ],
      "metadata": {
        "id": "FWHCVbMS_78O",
        "colab": {
          "base_uri": "https://localhost:8080/"
        },
        "outputId": "d09330a6-d3bd-416e-efaa-95e3658ba3b4"
      },
      "execution_count": 68,
      "outputs": [
        {
          "output_type": "execute_result",
          "data": {
            "text/plain": [
              "{'M': 12,\n",
              " ' ': 503,\n",
              " 'C': 7,\n",
              " 'G': 37,\n",
              " 'I': 38,\n",
              " 'V': 42,\n",
              " 'A': 48,\n",
              " 'K': 24,\n",
              " 'S': 30,\n",
              " 'H': 16,\n",
              " 'N': 21,\n",
              " 'Q': 20,\n",
              " 'Y': 18,\n",
              " 'D': 32,\n",
              " 'L': 34,\n",
              " 'T': 19,\n",
              " 'R': 32,\n",
              " 'W': 2,\n",
              " 'F': 20,\n",
              " 'P': 18,\n",
              " 'E': 34}"
            ]
          },
          "metadata": {},
          "execution_count": 68
        }
      ]
    },
    {
      "cell_type": "markdown",
      "source": [
        "## Modelling Experiments to run\n",
        "- Conv1D \n",
        "- LSTM\n",
        "- Bidirectional LSTM\n",
        "- GRU\n"
      ],
      "metadata": {
        "id": "I7GxwVQhQh3f"
      }
    },
    {
      "cell_type": "markdown",
      "source": [
        "## Creating performant datasets (training and validation sets)"
      ],
      "metadata": {
        "id": "A96lisfTUTgF"
      }
    },
    {
      "cell_type": "code",
      "source": [
        "# Turn our 10% data into TensorFlow Datasets  from the dataframes\n",
        "# train_features_10_percent = tf.data.Dataset.from_tensor_slices((tf.cast(train_features_10_percent_df['protein_sequence'].values, tf.string),\n",
        "# tf.cast(train_features_10_percent_df['pH'].values, tf.float32)))\n",
        "# train_labels_10_percent = tf.data.Dataset.from_tensor_slices(tf.cast(train_targets_10_percent, tf.float32))\n",
        "# train_dataset_10_percent = tf.data.Dataset.zip((train_features_10_percent, train_labels_10_percent))\n",
        "\n",
        "# # Take 10% of the data and turn it into TensorFlow Datasets\n",
        "# val_features = tf.data.Dataset.from_tensor_slices((tf.cast(val_features_df['protein_sequence'].values, tf.string), \n",
        "#                                                    val_pH))\n",
        "# val_labels = tf.data.Dataset.from_tensor_slices(tf.cast(val_targets, tf.float32))\n",
        "# val_dataset = tf.data.Dataset.zip((val_features, val_labels))\n",
        "\n",
        "# # Turn test_df into TensorFlow Datasets\n",
        "# test_data = tf.data.Dataset.from_tensor_slices((tf.cast(test_df['protein_sequence'].values, tf.string),\n",
        "#                                                    tf.cast(test_df['pH'], tf.float32)))\n",
        "\n",
        "# train_dataset_10_percent, val_dataset, test_data"
      ],
      "metadata": {
        "colab": {
          "base_uri": "https://localhost:8080/"
        },
        "id": "hYr5mbhXXSwa",
        "outputId": "bb295bf4-907b-4661-8c41-1209427346a5"
      },
      "execution_count": null,
      "outputs": [
        {
          "output_type": "execute_result",
          "data": {
            "text/plain": [
              "(<ZipDataset element_spec=((TensorSpec(shape=(), dtype=tf.string, name=None), TensorSpec(shape=(), dtype=tf.float32, name=None)), TensorSpec(shape=(), dtype=tf.float32, name=None))>,\n",
              " <ZipDataset element_spec=((TensorSpec(shape=(), dtype=tf.string, name=None), TensorSpec(shape=(), dtype=tf.float32, name=None)), TensorSpec(shape=(), dtype=tf.float32, name=None))>,\n",
              " <TensorSliceDataset element_spec=(TensorSpec(shape=(), dtype=tf.string, name=None), TensorSpec(shape=(), dtype=tf.float32, name=None))>)"
            ]
          },
          "metadata": {},
          "execution_count": 87
        }
      ]
    },
    {
      "cell_type": "code",
      "source": [
        "test_df[['pH']].max(), test_df[['pH']].min()"
      ],
      "metadata": {
        "colab": {
          "base_uri": "https://localhost:8080/"
        },
        "id": "f2xBUsT6i4ea",
        "outputId": "73c1c1ae-05db-4807-92a4-8077d8494bb9"
      },
      "execution_count": 69,
      "outputs": [
        {
          "output_type": "execute_result",
          "data": {
            "text/plain": [
              "(pH    8\n",
              " dtype: int64, pH    8\n",
              " dtype: int64)"
            ]
          },
          "metadata": {},
          "execution_count": 69
        }
      ]
    },
    {
      "cell_type": "code",
      "source": [
        "test_char_seq = tf.cast([split_chars(sequence) for sequence in test_df['protein_sequence']], tf.string)\n",
        "test_ph_norm = tf.cast(test_df['pH'].values/11, tf.float32)\n",
        "test_ph = tf.cast(test_df['pH'].values, tf.float32)\n",
        "test_char_seq[:2], test_ph_norm[:2]"
      ],
      "metadata": {
        "colab": {
          "base_uri": "https://localhost:8080/"
        },
        "id": "BzYor_EcMkzJ",
        "outputId": "9b6b82b1-9d88-4ffb-cd1d-a4a5fa7f90e9"
      },
      "execution_count": 70,
      "outputs": [
        {
          "output_type": "execute_result",
          "data": {
            "text/plain": [
              "(<tf.Tensor: shape=(2,), dtype=string, numpy=\n",
              " array([b'V P V N P E P D A T S V E N V A E K T G S G D S Q S D P I K A D L E V K G Q S A L P F D V D C W A I L C K G A P N V L Q R V N E K T K N S N R D R S G A N K G P F K D P Q K W G I K A L P P K N P S W S A Q D F K S P E E Y A F A S S L Q G G T N A I L A P V N L A S Q N S Q G G V L N G F Y S A N K V A Q F D P S K P Q Q T K G T W F Q I T K F T G A A G P Y C K A L G S N D K S V C D K N K N I A G D W G F D P A K W A Y Q Y D E K N N K F N Y V G K',\n",
              "        b'V P V N P E P D A T S V E N V A K K T G S G D S Q S D P I K A D L E V K G Q S A L P F D V D C W A I L C K G A P N V L Q R V N E K T K N S N R D R S G A N K G P F K D P Q K W G I K A L P P K N P S W S A Q D F K S P E E Y A F A S S L Q G G T N A I L A P V N L A S Q N S Q G G V L N G F Y S A N K V A Q F D P S K P Q Q T K G T W F Q I T K F T G A A G P Y C K A L G S N D K S V C D K N K N I A G D W G F D P A K W A Y Q Y D E K N N K F N Y V G K'],\n",
              "       dtype=object)>,\n",
              " <tf.Tensor: shape=(2,), dtype=float32, numpy=array([0.72727275, 0.72727275], dtype=float32)>)"
            ]
          },
          "metadata": {},
          "execution_count": 70
        }
      ]
    },
    {
      "cell_type": "code",
      "source": [
        "test_letter_counts = letter_count_vectorizer(test_char_seq)\n",
        "test_letter_counts = test_letter_counts/max_letter_count\n",
        "test_letter_counts"
      ],
      "metadata": {
        "colab": {
          "base_uri": "https://localhost:8080/"
        },
        "id": "817G-JVuBDov",
        "outputId": "a4fbffa9-bf2f-4d72-8406-63d51d7824d8"
      },
      "execution_count": 105,
      "outputs": [
        {
          "output_type": "execute_result",
          "data": {
            "text/plain": [
              "<tf.Tensor: shape=(2413, 20), dtype=float32, numpy=\n",
              "array([[0.00520382, 0.00867303, 0.01908066, ..., 0.        , 0.        ,\n",
              "        0.00346921],\n",
              "       [0.00520382, 0.00867303, 0.01908066, ..., 0.        , 0.        ,\n",
              "        0.00346921],\n",
              "       [0.00520382, 0.00867303, 0.01908066, ..., 0.        , 0.        ,\n",
              "        0.00346921],\n",
              "       ...,\n",
              "       [0.00520382, 0.00954033, 0.01821336, ..., 0.        , 0.        ,\n",
              "        0.00346921],\n",
              "       [0.00520382, 0.00954033, 0.01821336, ..., 0.        , 0.        ,\n",
              "        0.00346921],\n",
              "       [0.00607112, 0.00954033, 0.01821336, ..., 0.        , 0.        ,\n",
              "        0.00346921]], dtype=float32)>"
            ]
          },
          "metadata": {},
          "execution_count": 105
        }
      ]
    },
    {
      "cell_type": "code",
      "source": [
        "test_tribrid_char_dataset = tf.data.Dataset.from_tensor_slices((tf.cast(test_letter_counts, tf.float32),test_char_seq, test_ph_norm))\n",
        "test_tribrid_char_dataset = test_tribrid_char_dataset.batch(32).prefetch(tf.data.AUTOTUNE)\n",
        "test_tribrid_char_dataset"
      ],
      "metadata": {
        "colab": {
          "base_uri": "https://localhost:8080/"
        },
        "id": "_ENJgpPmdbJj",
        "outputId": "839074cc-d55a-4ac0-e8f0-04a3d2739835"
      },
      "execution_count": 97,
      "outputs": [
        {
          "output_type": "execute_result",
          "data": {
            "text/plain": [
              "<PrefetchDataset element_spec=(TensorSpec(shape=(None, 20), dtype=tf.float32, name=None), TensorSpec(shape=(None,), dtype=tf.string, name=None), TensorSpec(shape=(None,), dtype=tf.float32, name=None))>"
            ]
          },
          "metadata": {},
          "execution_count": 97
        }
      ]
    },
    {
      "cell_type": "code",
      "source": [
        "# Turn test_df into TensorFlow Datasets\n",
        "test_char_sequences = tf.data.Dataset.from_tensor_slices(test_char_seq)\n",
        "test_ph = tf.data.Dataset.from_tensor_slices(test_ph_norm)\n",
        "test_char_dataset = tf.data.Dataset.zip((test_char_sequences, test_ph))\n",
        "test_char_dataset                                             \n"
      ],
      "metadata": {
        "colab": {
          "base_uri": "https://localhost:8080/"
        },
        "id": "sOU2ZiMGJQw4",
        "outputId": "8bea16e3-5f2f-49c2-ea4c-ade8d42228d4"
      },
      "execution_count": null,
      "outputs": [
        {
          "output_type": "execute_result",
          "data": {
            "text/plain": [
              "<ZipDataset element_spec=(TensorSpec(shape=(), dtype=tf.string, name=None), TensorSpec(shape=(), dtype=tf.float32, name=None))>"
            ]
          },
          "metadata": {},
          "execution_count": 70
        }
      ]
    },
    {
      "cell_type": "code",
      "source": [
        "list(test_char_dataset.as_numpy_iterator())[0]"
      ],
      "metadata": {
        "colab": {
          "base_uri": "https://localhost:8080/"
        },
        "id": "sNfPVpwrkMrB",
        "outputId": "308b7881-6d85-48cf-f124-55d8f2b4f608"
      },
      "execution_count": null,
      "outputs": [
        {
          "output_type": "execute_result",
          "data": {
            "text/plain": [
              "(b'V P V N P E P D A T S V E N V A E K T G S G D S Q S D P I K A D L E V K G Q S A L P F D V D C W A I L C K G A P N V L Q R V N E K T K N S N R D R S G A N K G P F K D P Q K W G I K A L P P K N P S W S A Q D F K S P E E Y A F A S S L Q G G T N A I L A P V N L A S Q N S Q G G V L N G F Y S A N K V A Q F D P S K P Q Q T K G T W F Q I T K F T G A A G P Y C K A L G S N D K S V C D K N K N I A G D W G F D P A K W A Y Q Y D E K N N K F N Y V G K',\n",
              " 0.72727275)"
            ]
          },
          "metadata": {},
          "execution_count": 74
        }
      ]
    },
    {
      "cell_type": "code",
      "source": [
        "test_dataset = test_data.batch(32).prefetch(tf.data.AUTOTUNE)\n",
        "test_dataset"
      ],
      "metadata": {
        "colab": {
          "base_uri": "https://localhost:8080/"
        },
        "id": "G_GIDhN7JUYC",
        "outputId": "d03db334-147e-4e3f-81f5-2184cafc9593"
      },
      "execution_count": null,
      "outputs": [
        {
          "output_type": "execute_result",
          "data": {
            "text/plain": [
              "<PrefetchDataset element_spec=(TensorSpec(shape=(None,), dtype=tf.string, name=None), TensorSpec(shape=(None,), dtype=tf.float32, name=None))>"
            ]
          },
          "metadata": {},
          "execution_count": 272
        }
      ]
    },
    {
      "cell_type": "code",
      "source": [
        "features_df.head()"
      ],
      "metadata": {
        "colab": {
          "base_uri": "https://localhost:8080/",
          "height": 206
        },
        "id": "eDsd-SHhXWHW",
        "outputId": "f6118e9c-cc72-4f1a-9a5e-506b2931ef2f"
      },
      "execution_count": 83,
      "outputs": [
        {
          "output_type": "execute_result",
          "data": {
            "text/plain": [
              "                                        protein_sequence   pH\n",
              "5152   MALKSLVLLSLLVLVLLLVRVQPSLGKETAAAKFERQHMDSSTSAA...  5.0\n",
              "14069  MKIAGIDEAGRGPVIGPMVIAAVVVDENSLPKLEELKVRDSKKLTP...  9.0\n",
              "15645  MLKGGMLSRWKMWSPQYKILRNHLINFKSVSTYKNISGVNTKQPKS...  7.0\n",
              "23899  MSGLGESSLDPLAAESRKRKLPCDAPGQGLVYSGEKWRREQESKYI...  7.0\n",
              "11295  MGGASCVTFSLDGKFLAIGLQKGAIKIMTIDNKLYHMIDEGGQPGQ...  7.0"
            ],
            "text/html": [
              "\n",
              "  <div id=\"df-346450cd-b632-49cb-bbd7-a31592e29fee\">\n",
              "    <div class=\"colab-df-container\">\n",
              "      <div>\n",
              "<style scoped>\n",
              "    .dataframe tbody tr th:only-of-type {\n",
              "        vertical-align: middle;\n",
              "    }\n",
              "\n",
              "    .dataframe tbody tr th {\n",
              "        vertical-align: top;\n",
              "    }\n",
              "\n",
              "    .dataframe thead th {\n",
              "        text-align: right;\n",
              "    }\n",
              "</style>\n",
              "<table border=\"1\" class=\"dataframe\">\n",
              "  <thead>\n",
              "    <tr style=\"text-align: right;\">\n",
              "      <th></th>\n",
              "      <th>protein_sequence</th>\n",
              "      <th>pH</th>\n",
              "    </tr>\n",
              "  </thead>\n",
              "  <tbody>\n",
              "    <tr>\n",
              "      <th>5152</th>\n",
              "      <td>MALKSLVLLSLLVLVLLLVRVQPSLGKETAAAKFERQHMDSSTSAA...</td>\n",
              "      <td>5.0</td>\n",
              "    </tr>\n",
              "    <tr>\n",
              "      <th>14069</th>\n",
              "      <td>MKIAGIDEAGRGPVIGPMVIAAVVVDENSLPKLEELKVRDSKKLTP...</td>\n",
              "      <td>9.0</td>\n",
              "    </tr>\n",
              "    <tr>\n",
              "      <th>15645</th>\n",
              "      <td>MLKGGMLSRWKMWSPQYKILRNHLINFKSVSTYKNISGVNTKQPKS...</td>\n",
              "      <td>7.0</td>\n",
              "    </tr>\n",
              "    <tr>\n",
              "      <th>23899</th>\n",
              "      <td>MSGLGESSLDPLAAESRKRKLPCDAPGQGLVYSGEKWRREQESKYI...</td>\n",
              "      <td>7.0</td>\n",
              "    </tr>\n",
              "    <tr>\n",
              "      <th>11295</th>\n",
              "      <td>MGGASCVTFSLDGKFLAIGLQKGAIKIMTIDNKLYHMIDEGGQPGQ...</td>\n",
              "      <td>7.0</td>\n",
              "    </tr>\n",
              "  </tbody>\n",
              "</table>\n",
              "</div>\n",
              "      <button class=\"colab-df-convert\" onclick=\"convertToInteractive('df-346450cd-b632-49cb-bbd7-a31592e29fee')\"\n",
              "              title=\"Convert this dataframe to an interactive table.\"\n",
              "              style=\"display:none;\">\n",
              "        \n",
              "  <svg xmlns=\"http://www.w3.org/2000/svg\" height=\"24px\"viewBox=\"0 0 24 24\"\n",
              "       width=\"24px\">\n",
              "    <path d=\"M0 0h24v24H0V0z\" fill=\"none\"/>\n",
              "    <path d=\"M18.56 5.44l.94 2.06.94-2.06 2.06-.94-2.06-.94-.94-2.06-.94 2.06-2.06.94zm-11 1L8.5 8.5l.94-2.06 2.06-.94-2.06-.94L8.5 2.5l-.94 2.06-2.06.94zm10 10l.94 2.06.94-2.06 2.06-.94-2.06-.94-.94-2.06-.94 2.06-2.06.94z\"/><path d=\"M17.41 7.96l-1.37-1.37c-.4-.4-.92-.59-1.43-.59-.52 0-1.04.2-1.43.59L10.3 9.45l-7.72 7.72c-.78.78-.78 2.05 0 2.83L4 21.41c.39.39.9.59 1.41.59.51 0 1.02-.2 1.41-.59l7.78-7.78 2.81-2.81c.8-.78.8-2.07 0-2.86zM5.41 20L4 18.59l7.72-7.72 1.47 1.35L5.41 20z\"/>\n",
              "  </svg>\n",
              "      </button>\n",
              "      \n",
              "  <style>\n",
              "    .colab-df-container {\n",
              "      display:flex;\n",
              "      flex-wrap:wrap;\n",
              "      gap: 12px;\n",
              "    }\n",
              "\n",
              "    .colab-df-convert {\n",
              "      background-color: #E8F0FE;\n",
              "      border: none;\n",
              "      border-radius: 50%;\n",
              "      cursor: pointer;\n",
              "      display: none;\n",
              "      fill: #1967D2;\n",
              "      height: 32px;\n",
              "      padding: 0 0 0 0;\n",
              "      width: 32px;\n",
              "    }\n",
              "\n",
              "    .colab-df-convert:hover {\n",
              "      background-color: #E2EBFA;\n",
              "      box-shadow: 0px 1px 2px rgba(60, 64, 67, 0.3), 0px 1px 3px 1px rgba(60, 64, 67, 0.15);\n",
              "      fill: #174EA6;\n",
              "    }\n",
              "\n",
              "    [theme=dark] .colab-df-convert {\n",
              "      background-color: #3B4455;\n",
              "      fill: #D2E3FC;\n",
              "    }\n",
              "\n",
              "    [theme=dark] .colab-df-convert:hover {\n",
              "      background-color: #434B5C;\n",
              "      box-shadow: 0px 1px 3px 1px rgba(0, 0, 0, 0.15);\n",
              "      filter: drop-shadow(0px 1px 2px rgba(0, 0, 0, 0.3));\n",
              "      fill: #FFFFFF;\n",
              "    }\n",
              "  </style>\n",
              "\n",
              "      <script>\n",
              "        const buttonEl =\n",
              "          document.querySelector('#df-346450cd-b632-49cb-bbd7-a31592e29fee button.colab-df-convert');\n",
              "        buttonEl.style.display =\n",
              "          google.colab.kernel.accessAllowed ? 'block' : 'none';\n",
              "\n",
              "        async function convertToInteractive(key) {\n",
              "          const element = document.querySelector('#df-346450cd-b632-49cb-bbd7-a31592e29fee');\n",
              "          const dataTable =\n",
              "            await google.colab.kernel.invokeFunction('convertToInteractive',\n",
              "                                                     [key], {});\n",
              "          if (!dataTable) return;\n",
              "\n",
              "          const docLinkHtml = 'Like what you see? Visit the ' +\n",
              "            '<a target=\"_blank\" href=https://colab.research.google.com/notebooks/data_table.ipynb>data table notebook</a>'\n",
              "            + ' to learn more about interactive tables.';\n",
              "          element.innerHTML = '';\n",
              "          dataTable['output_type'] = 'display_data';\n",
              "          await google.colab.output.renderOutput(dataTable, element);\n",
              "          const docLink = document.createElement('div');\n",
              "          docLink.innerHTML = docLinkHtml;\n",
              "          element.appendChild(docLink);\n",
              "        }\n",
              "      </script>\n",
              "    </div>\n",
              "  </div>\n",
              "  "
            ]
          },
          "metadata": {},
          "execution_count": 83
        }
      ]
    },
    {
      "cell_type": "code",
      "source": [
        "targets_df.head()"
      ],
      "metadata": {
        "colab": {
          "base_uri": "https://localhost:8080/",
          "height": 206
        },
        "id": "xWhLYKzaW29Y",
        "outputId": "038d739e-b7fe-4339-a808-e8fd13734d35"
      },
      "execution_count": 84,
      "outputs": [
        {
          "output_type": "execute_result",
          "data": {
            "text/plain": [
              "         tm\n",
              "5152   40.0\n",
              "14069  50.0\n",
              "15645  47.4\n",
              "23899  47.2\n",
              "11295  37.3"
            ],
            "text/html": [
              "\n",
              "  <div id=\"df-feb88fd3-0f0d-484a-abe0-76f4067d6b29\">\n",
              "    <div class=\"colab-df-container\">\n",
              "      <div>\n",
              "<style scoped>\n",
              "    .dataframe tbody tr th:only-of-type {\n",
              "        vertical-align: middle;\n",
              "    }\n",
              "\n",
              "    .dataframe tbody tr th {\n",
              "        vertical-align: top;\n",
              "    }\n",
              "\n",
              "    .dataframe thead th {\n",
              "        text-align: right;\n",
              "    }\n",
              "</style>\n",
              "<table border=\"1\" class=\"dataframe\">\n",
              "  <thead>\n",
              "    <tr style=\"text-align: right;\">\n",
              "      <th></th>\n",
              "      <th>tm</th>\n",
              "    </tr>\n",
              "  </thead>\n",
              "  <tbody>\n",
              "    <tr>\n",
              "      <th>5152</th>\n",
              "      <td>40.0</td>\n",
              "    </tr>\n",
              "    <tr>\n",
              "      <th>14069</th>\n",
              "      <td>50.0</td>\n",
              "    </tr>\n",
              "    <tr>\n",
              "      <th>15645</th>\n",
              "      <td>47.4</td>\n",
              "    </tr>\n",
              "    <tr>\n",
              "      <th>23899</th>\n",
              "      <td>47.2</td>\n",
              "    </tr>\n",
              "    <tr>\n",
              "      <th>11295</th>\n",
              "      <td>37.3</td>\n",
              "    </tr>\n",
              "  </tbody>\n",
              "</table>\n",
              "</div>\n",
              "      <button class=\"colab-df-convert\" onclick=\"convertToInteractive('df-feb88fd3-0f0d-484a-abe0-76f4067d6b29')\"\n",
              "              title=\"Convert this dataframe to an interactive table.\"\n",
              "              style=\"display:none;\">\n",
              "        \n",
              "  <svg xmlns=\"http://www.w3.org/2000/svg\" height=\"24px\"viewBox=\"0 0 24 24\"\n",
              "       width=\"24px\">\n",
              "    <path d=\"M0 0h24v24H0V0z\" fill=\"none\"/>\n",
              "    <path d=\"M18.56 5.44l.94 2.06.94-2.06 2.06-.94-2.06-.94-.94-2.06-.94 2.06-2.06.94zm-11 1L8.5 8.5l.94-2.06 2.06-.94-2.06-.94L8.5 2.5l-.94 2.06-2.06.94zm10 10l.94 2.06.94-2.06 2.06-.94-2.06-.94-.94-2.06-.94 2.06-2.06.94z\"/><path d=\"M17.41 7.96l-1.37-1.37c-.4-.4-.92-.59-1.43-.59-.52 0-1.04.2-1.43.59L10.3 9.45l-7.72 7.72c-.78.78-.78 2.05 0 2.83L4 21.41c.39.39.9.59 1.41.59.51 0 1.02-.2 1.41-.59l7.78-7.78 2.81-2.81c.8-.78.8-2.07 0-2.86zM5.41 20L4 18.59l7.72-7.72 1.47 1.35L5.41 20z\"/>\n",
              "  </svg>\n",
              "      </button>\n",
              "      \n",
              "  <style>\n",
              "    .colab-df-container {\n",
              "      display:flex;\n",
              "      flex-wrap:wrap;\n",
              "      gap: 12px;\n",
              "    }\n",
              "\n",
              "    .colab-df-convert {\n",
              "      background-color: #E8F0FE;\n",
              "      border: none;\n",
              "      border-radius: 50%;\n",
              "      cursor: pointer;\n",
              "      display: none;\n",
              "      fill: #1967D2;\n",
              "      height: 32px;\n",
              "      padding: 0 0 0 0;\n",
              "      width: 32px;\n",
              "    }\n",
              "\n",
              "    .colab-df-convert:hover {\n",
              "      background-color: #E2EBFA;\n",
              "      box-shadow: 0px 1px 2px rgba(60, 64, 67, 0.3), 0px 1px 3px 1px rgba(60, 64, 67, 0.15);\n",
              "      fill: #174EA6;\n",
              "    }\n",
              "\n",
              "    [theme=dark] .colab-df-convert {\n",
              "      background-color: #3B4455;\n",
              "      fill: #D2E3FC;\n",
              "    }\n",
              "\n",
              "    [theme=dark] .colab-df-convert:hover {\n",
              "      background-color: #434B5C;\n",
              "      box-shadow: 0px 1px 3px 1px rgba(0, 0, 0, 0.15);\n",
              "      filter: drop-shadow(0px 1px 2px rgba(0, 0, 0, 0.3));\n",
              "      fill: #FFFFFF;\n",
              "    }\n",
              "  </style>\n",
              "\n",
              "      <script>\n",
              "        const buttonEl =\n",
              "          document.querySelector('#df-feb88fd3-0f0d-484a-abe0-76f4067d6b29 button.colab-df-convert');\n",
              "        buttonEl.style.display =\n",
              "          google.colab.kernel.accessAllowed ? 'block' : 'none';\n",
              "\n",
              "        async function convertToInteractive(key) {\n",
              "          const element = document.querySelector('#df-feb88fd3-0f0d-484a-abe0-76f4067d6b29');\n",
              "          const dataTable =\n",
              "            await google.colab.kernel.invokeFunction('convertToInteractive',\n",
              "                                                     [key], {});\n",
              "          if (!dataTable) return;\n",
              "\n",
              "          const docLinkHtml = 'Like what you see? Visit the ' +\n",
              "            '<a target=\"_blank\" href=https://colab.research.google.com/notebooks/data_table.ipynb>data table notebook</a>'\n",
              "            + ' to learn more about interactive tables.';\n",
              "          element.innerHTML = '';\n",
              "          dataTable['output_type'] = 'display_data';\n",
              "          await google.colab.output.renderOutput(dataTable, element);\n",
              "          const docLink = document.createElement('div');\n",
              "          docLink.innerHTML = docLinkHtml;\n",
              "          element.appendChild(docLink);\n",
              "        }\n",
              "      </script>\n",
              "    </div>\n",
              "  </div>\n",
              "  "
            ]
          },
          "metadata": {},
          "execution_count": 84
        }
      ]
    },
    {
      "cell_type": "code",
      "source": [
        "from sklearn.model_selection import train_test_split  \n",
        "\n",
        "X_train_df, X_val_df, y_train_df, y_val_df = train_test_split(features_df, targets_df, test_size=0.05,\n",
        "                                                              random_state=7)\n",
        "len(X_train_df), len(X_val_df), len(y_train_df), len(y_val_df)"
      ],
      "metadata": {
        "colab": {
          "base_uri": "https://localhost:8080/"
        },
        "id": "94uT52OkhruJ",
        "outputId": "7c648619-45c2-45ed-c480-cdbc06a48c17"
      },
      "execution_count": 71,
      "outputs": [
        {
          "output_type": "execute_result",
          "data": {
            "text/plain": [
              "(27260, 1435, 27260, 1435)"
            ]
          },
          "metadata": {},
          "execution_count": 71
        }
      ]
    },
    {
      "cell_type": "code",
      "source": [
        "X_train_df[['protein_sequence']] = X_train_df[['protein_sequence']].applymap(lambda x: split_chars(x))\n",
        "X_train_df"
      ],
      "metadata": {
        "colab": {
          "base_uri": "https://localhost:8080/",
          "height": 423
        },
        "id": "JzCIoaZZibGw",
        "outputId": "c32e83cf-ba98-4dc1-cea5-8468551fa05d"
      },
      "execution_count": 72,
      "outputs": [
        {
          "output_type": "execute_result",
          "data": {
            "text/plain": [
              "                                        protein_sequence   pH\n",
              "3883   M A D S K P L R T L D G D P V A V E A L L Q D ...  7.0\n",
              "14781  M K P L S S P L Q Q Y W Q T V V E R L P E P L ...  7.0\n",
              "1788   G L L Y T S V H Q V I E L P A P A Q P I S V T ...  7.0\n",
              "25827  M S S S E E V S W V T W F C G L R G N E F F C ...  7.0\n",
              "9601   M E P K T K K Q R S L Y I P Y A G P V L L E F ...  7.0\n",
              "...                                                  ...  ...\n",
              "14238  M K I N Q F G T Q S V N P Y Q K N Y D K Q A V ...  7.0\n",
              "22040  M R L P R S L A A A L Y Q T Q N T Q S K R S I ...  7.0\n",
              "11382  M G I I I F I K K N I P I A W R I A T S I V L ...  7.0\n",
              "2165   K C A D R P Y V L E T E E G L L G G E N L S Y ...  7.0\n",
              "9065   M E H S N L V C L G G G H G L G R L L V S L R ...  7.0\n",
              "\n",
              "[27260 rows x 2 columns]"
            ],
            "text/html": [
              "\n",
              "  <div id=\"df-ff8f8024-9c7e-48c6-be58-06b52fa99a28\">\n",
              "    <div class=\"colab-df-container\">\n",
              "      <div>\n",
              "<style scoped>\n",
              "    .dataframe tbody tr th:only-of-type {\n",
              "        vertical-align: middle;\n",
              "    }\n",
              "\n",
              "    .dataframe tbody tr th {\n",
              "        vertical-align: top;\n",
              "    }\n",
              "\n",
              "    .dataframe thead th {\n",
              "        text-align: right;\n",
              "    }\n",
              "</style>\n",
              "<table border=\"1\" class=\"dataframe\">\n",
              "  <thead>\n",
              "    <tr style=\"text-align: right;\">\n",
              "      <th></th>\n",
              "      <th>protein_sequence</th>\n",
              "      <th>pH</th>\n",
              "    </tr>\n",
              "  </thead>\n",
              "  <tbody>\n",
              "    <tr>\n",
              "      <th>3883</th>\n",
              "      <td>M A D S K P L R T L D G D P V A V E A L L Q D ...</td>\n",
              "      <td>7.0</td>\n",
              "    </tr>\n",
              "    <tr>\n",
              "      <th>14781</th>\n",
              "      <td>M K P L S S P L Q Q Y W Q T V V E R L P E P L ...</td>\n",
              "      <td>7.0</td>\n",
              "    </tr>\n",
              "    <tr>\n",
              "      <th>1788</th>\n",
              "      <td>G L L Y T S V H Q V I E L P A P A Q P I S V T ...</td>\n",
              "      <td>7.0</td>\n",
              "    </tr>\n",
              "    <tr>\n",
              "      <th>25827</th>\n",
              "      <td>M S S S E E V S W V T W F C G L R G N E F F C ...</td>\n",
              "      <td>7.0</td>\n",
              "    </tr>\n",
              "    <tr>\n",
              "      <th>9601</th>\n",
              "      <td>M E P K T K K Q R S L Y I P Y A G P V L L E F ...</td>\n",
              "      <td>7.0</td>\n",
              "    </tr>\n",
              "    <tr>\n",
              "      <th>...</th>\n",
              "      <td>...</td>\n",
              "      <td>...</td>\n",
              "    </tr>\n",
              "    <tr>\n",
              "      <th>14238</th>\n",
              "      <td>M K I N Q F G T Q S V N P Y Q K N Y D K Q A V ...</td>\n",
              "      <td>7.0</td>\n",
              "    </tr>\n",
              "    <tr>\n",
              "      <th>22040</th>\n",
              "      <td>M R L P R S L A A A L Y Q T Q N T Q S K R S I ...</td>\n",
              "      <td>7.0</td>\n",
              "    </tr>\n",
              "    <tr>\n",
              "      <th>11382</th>\n",
              "      <td>M G I I I F I K K N I P I A W R I A T S I V L ...</td>\n",
              "      <td>7.0</td>\n",
              "    </tr>\n",
              "    <tr>\n",
              "      <th>2165</th>\n",
              "      <td>K C A D R P Y V L E T E E G L L G G E N L S Y ...</td>\n",
              "      <td>7.0</td>\n",
              "    </tr>\n",
              "    <tr>\n",
              "      <th>9065</th>\n",
              "      <td>M E H S N L V C L G G G H G L G R L L V S L R ...</td>\n",
              "      <td>7.0</td>\n",
              "    </tr>\n",
              "  </tbody>\n",
              "</table>\n",
              "<p>27260 rows × 2 columns</p>\n",
              "</div>\n",
              "      <button class=\"colab-df-convert\" onclick=\"convertToInteractive('df-ff8f8024-9c7e-48c6-be58-06b52fa99a28')\"\n",
              "              title=\"Convert this dataframe to an interactive table.\"\n",
              "              style=\"display:none;\">\n",
              "        \n",
              "  <svg xmlns=\"http://www.w3.org/2000/svg\" height=\"24px\"viewBox=\"0 0 24 24\"\n",
              "       width=\"24px\">\n",
              "    <path d=\"M0 0h24v24H0V0z\" fill=\"none\"/>\n",
              "    <path d=\"M18.56 5.44l.94 2.06.94-2.06 2.06-.94-2.06-.94-.94-2.06-.94 2.06-2.06.94zm-11 1L8.5 8.5l.94-2.06 2.06-.94-2.06-.94L8.5 2.5l-.94 2.06-2.06.94zm10 10l.94 2.06.94-2.06 2.06-.94-2.06-.94-.94-2.06-.94 2.06-2.06.94z\"/><path d=\"M17.41 7.96l-1.37-1.37c-.4-.4-.92-.59-1.43-.59-.52 0-1.04.2-1.43.59L10.3 9.45l-7.72 7.72c-.78.78-.78 2.05 0 2.83L4 21.41c.39.39.9.59 1.41.59.51 0 1.02-.2 1.41-.59l7.78-7.78 2.81-2.81c.8-.78.8-2.07 0-2.86zM5.41 20L4 18.59l7.72-7.72 1.47 1.35L5.41 20z\"/>\n",
              "  </svg>\n",
              "      </button>\n",
              "      \n",
              "  <style>\n",
              "    .colab-df-container {\n",
              "      display:flex;\n",
              "      flex-wrap:wrap;\n",
              "      gap: 12px;\n",
              "    }\n",
              "\n",
              "    .colab-df-convert {\n",
              "      background-color: #E8F0FE;\n",
              "      border: none;\n",
              "      border-radius: 50%;\n",
              "      cursor: pointer;\n",
              "      display: none;\n",
              "      fill: #1967D2;\n",
              "      height: 32px;\n",
              "      padding: 0 0 0 0;\n",
              "      width: 32px;\n",
              "    }\n",
              "\n",
              "    .colab-df-convert:hover {\n",
              "      background-color: #E2EBFA;\n",
              "      box-shadow: 0px 1px 2px rgba(60, 64, 67, 0.3), 0px 1px 3px 1px rgba(60, 64, 67, 0.15);\n",
              "      fill: #174EA6;\n",
              "    }\n",
              "\n",
              "    [theme=dark] .colab-df-convert {\n",
              "      background-color: #3B4455;\n",
              "      fill: #D2E3FC;\n",
              "    }\n",
              "\n",
              "    [theme=dark] .colab-df-convert:hover {\n",
              "      background-color: #434B5C;\n",
              "      box-shadow: 0px 1px 3px 1px rgba(0, 0, 0, 0.15);\n",
              "      filter: drop-shadow(0px 1px 2px rgba(0, 0, 0, 0.3));\n",
              "      fill: #FFFFFF;\n",
              "    }\n",
              "  </style>\n",
              "\n",
              "      <script>\n",
              "        const buttonEl =\n",
              "          document.querySelector('#df-ff8f8024-9c7e-48c6-be58-06b52fa99a28 button.colab-df-convert');\n",
              "        buttonEl.style.display =\n",
              "          google.colab.kernel.accessAllowed ? 'block' : 'none';\n",
              "\n",
              "        async function convertToInteractive(key) {\n",
              "          const element = document.querySelector('#df-ff8f8024-9c7e-48c6-be58-06b52fa99a28');\n",
              "          const dataTable =\n",
              "            await google.colab.kernel.invokeFunction('convertToInteractive',\n",
              "                                                     [key], {});\n",
              "          if (!dataTable) return;\n",
              "\n",
              "          const docLinkHtml = 'Like what you see? Visit the ' +\n",
              "            '<a target=\"_blank\" href=https://colab.research.google.com/notebooks/data_table.ipynb>data table notebook</a>'\n",
              "            + ' to learn more about interactive tables.';\n",
              "          element.innerHTML = '';\n",
              "          dataTable['output_type'] = 'display_data';\n",
              "          await google.colab.output.renderOutput(dataTable, element);\n",
              "          const docLink = document.createElement('div');\n",
              "          docLink.innerHTML = docLinkHtml;\n",
              "          element.appendChild(docLink);\n",
              "        }\n",
              "      </script>\n",
              "    </div>\n",
              "  </div>\n",
              "  "
            ]
          },
          "metadata": {},
          "execution_count": 72
        }
      ]
    },
    {
      "cell_type": "code",
      "source": [
        "y_train_df.head()"
      ],
      "metadata": {
        "colab": {
          "base_uri": "https://localhost:8080/",
          "height": 206
        },
        "id": "Pqqkc6OCXE6L",
        "outputId": "6e6c9649-1f45-44e3-d217-d92dbe425182"
      },
      "execution_count": 73,
      "outputs": [
        {
          "output_type": "execute_result",
          "data": {
            "text/plain": [
              "         tm\n",
              "3883   61.1\n",
              "14781  48.5\n",
              "1788   52.5\n",
              "25827  43.7\n",
              "9601   46.8"
            ],
            "text/html": [
              "\n",
              "  <div id=\"df-8d8c87cb-660b-45cf-a601-f4935eab3697\">\n",
              "    <div class=\"colab-df-container\">\n",
              "      <div>\n",
              "<style scoped>\n",
              "    .dataframe tbody tr th:only-of-type {\n",
              "        vertical-align: middle;\n",
              "    }\n",
              "\n",
              "    .dataframe tbody tr th {\n",
              "        vertical-align: top;\n",
              "    }\n",
              "\n",
              "    .dataframe thead th {\n",
              "        text-align: right;\n",
              "    }\n",
              "</style>\n",
              "<table border=\"1\" class=\"dataframe\">\n",
              "  <thead>\n",
              "    <tr style=\"text-align: right;\">\n",
              "      <th></th>\n",
              "      <th>tm</th>\n",
              "    </tr>\n",
              "  </thead>\n",
              "  <tbody>\n",
              "    <tr>\n",
              "      <th>3883</th>\n",
              "      <td>61.1</td>\n",
              "    </tr>\n",
              "    <tr>\n",
              "      <th>14781</th>\n",
              "      <td>48.5</td>\n",
              "    </tr>\n",
              "    <tr>\n",
              "      <th>1788</th>\n",
              "      <td>52.5</td>\n",
              "    </tr>\n",
              "    <tr>\n",
              "      <th>25827</th>\n",
              "      <td>43.7</td>\n",
              "    </tr>\n",
              "    <tr>\n",
              "      <th>9601</th>\n",
              "      <td>46.8</td>\n",
              "    </tr>\n",
              "  </tbody>\n",
              "</table>\n",
              "</div>\n",
              "      <button class=\"colab-df-convert\" onclick=\"convertToInteractive('df-8d8c87cb-660b-45cf-a601-f4935eab3697')\"\n",
              "              title=\"Convert this dataframe to an interactive table.\"\n",
              "              style=\"display:none;\">\n",
              "        \n",
              "  <svg xmlns=\"http://www.w3.org/2000/svg\" height=\"24px\"viewBox=\"0 0 24 24\"\n",
              "       width=\"24px\">\n",
              "    <path d=\"M0 0h24v24H0V0z\" fill=\"none\"/>\n",
              "    <path d=\"M18.56 5.44l.94 2.06.94-2.06 2.06-.94-2.06-.94-.94-2.06-.94 2.06-2.06.94zm-11 1L8.5 8.5l.94-2.06 2.06-.94-2.06-.94L8.5 2.5l-.94 2.06-2.06.94zm10 10l.94 2.06.94-2.06 2.06-.94-2.06-.94-.94-2.06-.94 2.06-2.06.94z\"/><path d=\"M17.41 7.96l-1.37-1.37c-.4-.4-.92-.59-1.43-.59-.52 0-1.04.2-1.43.59L10.3 9.45l-7.72 7.72c-.78.78-.78 2.05 0 2.83L4 21.41c.39.39.9.59 1.41.59.51 0 1.02-.2 1.41-.59l7.78-7.78 2.81-2.81c.8-.78.8-2.07 0-2.86zM5.41 20L4 18.59l7.72-7.72 1.47 1.35L5.41 20z\"/>\n",
              "  </svg>\n",
              "      </button>\n",
              "      \n",
              "  <style>\n",
              "    .colab-df-container {\n",
              "      display:flex;\n",
              "      flex-wrap:wrap;\n",
              "      gap: 12px;\n",
              "    }\n",
              "\n",
              "    .colab-df-convert {\n",
              "      background-color: #E8F0FE;\n",
              "      border: none;\n",
              "      border-radius: 50%;\n",
              "      cursor: pointer;\n",
              "      display: none;\n",
              "      fill: #1967D2;\n",
              "      height: 32px;\n",
              "      padding: 0 0 0 0;\n",
              "      width: 32px;\n",
              "    }\n",
              "\n",
              "    .colab-df-convert:hover {\n",
              "      background-color: #E2EBFA;\n",
              "      box-shadow: 0px 1px 2px rgba(60, 64, 67, 0.3), 0px 1px 3px 1px rgba(60, 64, 67, 0.15);\n",
              "      fill: #174EA6;\n",
              "    }\n",
              "\n",
              "    [theme=dark] .colab-df-convert {\n",
              "      background-color: #3B4455;\n",
              "      fill: #D2E3FC;\n",
              "    }\n",
              "\n",
              "    [theme=dark] .colab-df-convert:hover {\n",
              "      background-color: #434B5C;\n",
              "      box-shadow: 0px 1px 3px 1px rgba(0, 0, 0, 0.15);\n",
              "      filter: drop-shadow(0px 1px 2px rgba(0, 0, 0, 0.3));\n",
              "      fill: #FFFFFF;\n",
              "    }\n",
              "  </style>\n",
              "\n",
              "      <script>\n",
              "        const buttonEl =\n",
              "          document.querySelector('#df-8d8c87cb-660b-45cf-a601-f4935eab3697 button.colab-df-convert');\n",
              "        buttonEl.style.display =\n",
              "          google.colab.kernel.accessAllowed ? 'block' : 'none';\n",
              "\n",
              "        async function convertToInteractive(key) {\n",
              "          const element = document.querySelector('#df-8d8c87cb-660b-45cf-a601-f4935eab3697');\n",
              "          const dataTable =\n",
              "            await google.colab.kernel.invokeFunction('convertToInteractive',\n",
              "                                                     [key], {});\n",
              "          if (!dataTable) return;\n",
              "\n",
              "          const docLinkHtml = 'Like what you see? Visit the ' +\n",
              "            '<a target=\"_blank\" href=https://colab.research.google.com/notebooks/data_table.ipynb>data table notebook</a>'\n",
              "            + ' to learn more about interactive tables.';\n",
              "          element.innerHTML = '';\n",
              "          dataTable['output_type'] = 'display_data';\n",
              "          await google.colab.output.renderOutput(dataTable, element);\n",
              "          const docLink = document.createElement('div');\n",
              "          docLink.innerHTML = docLinkHtml;\n",
              "          element.appendChild(docLink);\n",
              "        }\n",
              "      </script>\n",
              "    </div>\n",
              "  </div>\n",
              "  "
            ]
          },
          "metadata": {},
          "execution_count": 73
        }
      ]
    },
    {
      "cell_type": "code",
      "source": [
        "X_val_df[['protein_sequence']] = X_val_df[['protein_sequence']].applymap(lambda x: split_chars(x))\n",
        "X_val_df"
      ],
      "metadata": {
        "colab": {
          "base_uri": "https://localhost:8080/",
          "height": 423
        },
        "id": "eHiC1JrUkPvK",
        "outputId": "a7516d98-0ea2-422e-9a1f-44c16097769a"
      },
      "execution_count": 74,
      "outputs": [
        {
          "output_type": "execute_result",
          "data": {
            "text/plain": [
              "                                        protein_sequence   pH\n",
              "27980  M T T A V L N D P T S S W G E S A K H V N A S ...  7.0\n",
              "6500   M A S T A D G D M G E T L E Q M R G L W P G V ...  7.0\n",
              "28246  M T Y N Q M P K A Q G L Y R P E F E H D A C G ...  7.0\n",
              "14974  M K S F S N K V A V I T G A G S G I G R A L A ...  7.0\n",
              "8397   M D W E E R E N P R R L V K T F A F P N F R E ...  7.0\n",
              "...                                                  ...  ...\n",
              "16485  M L T K S A E N K R N R K D D S M R P G Q Q L ...  7.0\n",
              "24903  M S N D G D L N I D N L I T R L L E V R G C R ...  7.0\n",
              "18198  M N F V T T P E S R F K H L P N Y Q F K A N Y ...  7.0\n",
              "6937   M A T V T T H A S A S I F R P C T S K P R F L ...  7.0\n",
              "8739   M E E E Q D L P E Q P V K K A K M Q E P R E Q ...  7.0\n",
              "\n",
              "[1435 rows x 2 columns]"
            ],
            "text/html": [
              "\n",
              "  <div id=\"df-926d3568-2a06-4ede-af2e-34942f4b0b5e\">\n",
              "    <div class=\"colab-df-container\">\n",
              "      <div>\n",
              "<style scoped>\n",
              "    .dataframe tbody tr th:only-of-type {\n",
              "        vertical-align: middle;\n",
              "    }\n",
              "\n",
              "    .dataframe tbody tr th {\n",
              "        vertical-align: top;\n",
              "    }\n",
              "\n",
              "    .dataframe thead th {\n",
              "        text-align: right;\n",
              "    }\n",
              "</style>\n",
              "<table border=\"1\" class=\"dataframe\">\n",
              "  <thead>\n",
              "    <tr style=\"text-align: right;\">\n",
              "      <th></th>\n",
              "      <th>protein_sequence</th>\n",
              "      <th>pH</th>\n",
              "    </tr>\n",
              "  </thead>\n",
              "  <tbody>\n",
              "    <tr>\n",
              "      <th>27980</th>\n",
              "      <td>M T T A V L N D P T S S W G E S A K H V N A S ...</td>\n",
              "      <td>7.0</td>\n",
              "    </tr>\n",
              "    <tr>\n",
              "      <th>6500</th>\n",
              "      <td>M A S T A D G D M G E T L E Q M R G L W P G V ...</td>\n",
              "      <td>7.0</td>\n",
              "    </tr>\n",
              "    <tr>\n",
              "      <th>28246</th>\n",
              "      <td>M T Y N Q M P K A Q G L Y R P E F E H D A C G ...</td>\n",
              "      <td>7.0</td>\n",
              "    </tr>\n",
              "    <tr>\n",
              "      <th>14974</th>\n",
              "      <td>M K S F S N K V A V I T G A G S G I G R A L A ...</td>\n",
              "      <td>7.0</td>\n",
              "    </tr>\n",
              "    <tr>\n",
              "      <th>8397</th>\n",
              "      <td>M D W E E R E N P R R L V K T F A F P N F R E ...</td>\n",
              "      <td>7.0</td>\n",
              "    </tr>\n",
              "    <tr>\n",
              "      <th>...</th>\n",
              "      <td>...</td>\n",
              "      <td>...</td>\n",
              "    </tr>\n",
              "    <tr>\n",
              "      <th>16485</th>\n",
              "      <td>M L T K S A E N K R N R K D D S M R P G Q Q L ...</td>\n",
              "      <td>7.0</td>\n",
              "    </tr>\n",
              "    <tr>\n",
              "      <th>24903</th>\n",
              "      <td>M S N D G D L N I D N L I T R L L E V R G C R ...</td>\n",
              "      <td>7.0</td>\n",
              "    </tr>\n",
              "    <tr>\n",
              "      <th>18198</th>\n",
              "      <td>M N F V T T P E S R F K H L P N Y Q F K A N Y ...</td>\n",
              "      <td>7.0</td>\n",
              "    </tr>\n",
              "    <tr>\n",
              "      <th>6937</th>\n",
              "      <td>M A T V T T H A S A S I F R P C T S K P R F L ...</td>\n",
              "      <td>7.0</td>\n",
              "    </tr>\n",
              "    <tr>\n",
              "      <th>8739</th>\n",
              "      <td>M E E E Q D L P E Q P V K K A K M Q E P R E Q ...</td>\n",
              "      <td>7.0</td>\n",
              "    </tr>\n",
              "  </tbody>\n",
              "</table>\n",
              "<p>1435 rows × 2 columns</p>\n",
              "</div>\n",
              "      <button class=\"colab-df-convert\" onclick=\"convertToInteractive('df-926d3568-2a06-4ede-af2e-34942f4b0b5e')\"\n",
              "              title=\"Convert this dataframe to an interactive table.\"\n",
              "              style=\"display:none;\">\n",
              "        \n",
              "  <svg xmlns=\"http://www.w3.org/2000/svg\" height=\"24px\"viewBox=\"0 0 24 24\"\n",
              "       width=\"24px\">\n",
              "    <path d=\"M0 0h24v24H0V0z\" fill=\"none\"/>\n",
              "    <path d=\"M18.56 5.44l.94 2.06.94-2.06 2.06-.94-2.06-.94-.94-2.06-.94 2.06-2.06.94zm-11 1L8.5 8.5l.94-2.06 2.06-.94-2.06-.94L8.5 2.5l-.94 2.06-2.06.94zm10 10l.94 2.06.94-2.06 2.06-.94-2.06-.94-.94-2.06-.94 2.06-2.06.94z\"/><path d=\"M17.41 7.96l-1.37-1.37c-.4-.4-.92-.59-1.43-.59-.52 0-1.04.2-1.43.59L10.3 9.45l-7.72 7.72c-.78.78-.78 2.05 0 2.83L4 21.41c.39.39.9.59 1.41.59.51 0 1.02-.2 1.41-.59l7.78-7.78 2.81-2.81c.8-.78.8-2.07 0-2.86zM5.41 20L4 18.59l7.72-7.72 1.47 1.35L5.41 20z\"/>\n",
              "  </svg>\n",
              "      </button>\n",
              "      \n",
              "  <style>\n",
              "    .colab-df-container {\n",
              "      display:flex;\n",
              "      flex-wrap:wrap;\n",
              "      gap: 12px;\n",
              "    }\n",
              "\n",
              "    .colab-df-convert {\n",
              "      background-color: #E8F0FE;\n",
              "      border: none;\n",
              "      border-radius: 50%;\n",
              "      cursor: pointer;\n",
              "      display: none;\n",
              "      fill: #1967D2;\n",
              "      height: 32px;\n",
              "      padding: 0 0 0 0;\n",
              "      width: 32px;\n",
              "    }\n",
              "\n",
              "    .colab-df-convert:hover {\n",
              "      background-color: #E2EBFA;\n",
              "      box-shadow: 0px 1px 2px rgba(60, 64, 67, 0.3), 0px 1px 3px 1px rgba(60, 64, 67, 0.15);\n",
              "      fill: #174EA6;\n",
              "    }\n",
              "\n",
              "    [theme=dark] .colab-df-convert {\n",
              "      background-color: #3B4455;\n",
              "      fill: #D2E3FC;\n",
              "    }\n",
              "\n",
              "    [theme=dark] .colab-df-convert:hover {\n",
              "      background-color: #434B5C;\n",
              "      box-shadow: 0px 1px 3px 1px rgba(0, 0, 0, 0.15);\n",
              "      filter: drop-shadow(0px 1px 2px rgba(0, 0, 0, 0.3));\n",
              "      fill: #FFFFFF;\n",
              "    }\n",
              "  </style>\n",
              "\n",
              "      <script>\n",
              "        const buttonEl =\n",
              "          document.querySelector('#df-926d3568-2a06-4ede-af2e-34942f4b0b5e button.colab-df-convert');\n",
              "        buttonEl.style.display =\n",
              "          google.colab.kernel.accessAllowed ? 'block' : 'none';\n",
              "\n",
              "        async function convertToInteractive(key) {\n",
              "          const element = document.querySelector('#df-926d3568-2a06-4ede-af2e-34942f4b0b5e');\n",
              "          const dataTable =\n",
              "            await google.colab.kernel.invokeFunction('convertToInteractive',\n",
              "                                                     [key], {});\n",
              "          if (!dataTable) return;\n",
              "\n",
              "          const docLinkHtml = 'Like what you see? Visit the ' +\n",
              "            '<a target=\"_blank\" href=https://colab.research.google.com/notebooks/data_table.ipynb>data table notebook</a>'\n",
              "            + ' to learn more about interactive tables.';\n",
              "          element.innerHTML = '';\n",
              "          dataTable['output_type'] = 'display_data';\n",
              "          await google.colab.output.renderOutput(dataTable, element);\n",
              "          const docLink = document.createElement('div');\n",
              "          docLink.innerHTML = docLinkHtml;\n",
              "          element.appendChild(docLink);\n",
              "        }\n",
              "      </script>\n",
              "    </div>\n",
              "  </div>\n",
              "  "
            ]
          },
          "metadata": {},
          "execution_count": 74
        }
      ]
    },
    {
      "cell_type": "code",
      "source": [
        "y_val_df.head()"
      ],
      "metadata": {
        "colab": {
          "base_uri": "https://localhost:8080/",
          "height": 206
        },
        "id": "Mcie0C9vXH7l",
        "outputId": "9f992620-847e-4eaa-ab98-0748b41c1f18"
      },
      "execution_count": 75,
      "outputs": [
        {
          "output_type": "execute_result",
          "data": {
            "text/plain": [
              "         tm\n",
              "27980  35.0\n",
              "6500   45.4\n",
              "28246  38.8\n",
              "14974  49.3\n",
              "8397   93.8"
            ],
            "text/html": [
              "\n",
              "  <div id=\"df-39565f12-b5f3-4716-836f-f5665177b25f\">\n",
              "    <div class=\"colab-df-container\">\n",
              "      <div>\n",
              "<style scoped>\n",
              "    .dataframe tbody tr th:only-of-type {\n",
              "        vertical-align: middle;\n",
              "    }\n",
              "\n",
              "    .dataframe tbody tr th {\n",
              "        vertical-align: top;\n",
              "    }\n",
              "\n",
              "    .dataframe thead th {\n",
              "        text-align: right;\n",
              "    }\n",
              "</style>\n",
              "<table border=\"1\" class=\"dataframe\">\n",
              "  <thead>\n",
              "    <tr style=\"text-align: right;\">\n",
              "      <th></th>\n",
              "      <th>tm</th>\n",
              "    </tr>\n",
              "  </thead>\n",
              "  <tbody>\n",
              "    <tr>\n",
              "      <th>27980</th>\n",
              "      <td>35.0</td>\n",
              "    </tr>\n",
              "    <tr>\n",
              "      <th>6500</th>\n",
              "      <td>45.4</td>\n",
              "    </tr>\n",
              "    <tr>\n",
              "      <th>28246</th>\n",
              "      <td>38.8</td>\n",
              "    </tr>\n",
              "    <tr>\n",
              "      <th>14974</th>\n",
              "      <td>49.3</td>\n",
              "    </tr>\n",
              "    <tr>\n",
              "      <th>8397</th>\n",
              "      <td>93.8</td>\n",
              "    </tr>\n",
              "  </tbody>\n",
              "</table>\n",
              "</div>\n",
              "      <button class=\"colab-df-convert\" onclick=\"convertToInteractive('df-39565f12-b5f3-4716-836f-f5665177b25f')\"\n",
              "              title=\"Convert this dataframe to an interactive table.\"\n",
              "              style=\"display:none;\">\n",
              "        \n",
              "  <svg xmlns=\"http://www.w3.org/2000/svg\" height=\"24px\"viewBox=\"0 0 24 24\"\n",
              "       width=\"24px\">\n",
              "    <path d=\"M0 0h24v24H0V0z\" fill=\"none\"/>\n",
              "    <path d=\"M18.56 5.44l.94 2.06.94-2.06 2.06-.94-2.06-.94-.94-2.06-.94 2.06-2.06.94zm-11 1L8.5 8.5l.94-2.06 2.06-.94-2.06-.94L8.5 2.5l-.94 2.06-2.06.94zm10 10l.94 2.06.94-2.06 2.06-.94-2.06-.94-.94-2.06-.94 2.06-2.06.94z\"/><path d=\"M17.41 7.96l-1.37-1.37c-.4-.4-.92-.59-1.43-.59-.52 0-1.04.2-1.43.59L10.3 9.45l-7.72 7.72c-.78.78-.78 2.05 0 2.83L4 21.41c.39.39.9.59 1.41.59.51 0 1.02-.2 1.41-.59l7.78-7.78 2.81-2.81c.8-.78.8-2.07 0-2.86zM5.41 20L4 18.59l7.72-7.72 1.47 1.35L5.41 20z\"/>\n",
              "  </svg>\n",
              "      </button>\n",
              "      \n",
              "  <style>\n",
              "    .colab-df-container {\n",
              "      display:flex;\n",
              "      flex-wrap:wrap;\n",
              "      gap: 12px;\n",
              "    }\n",
              "\n",
              "    .colab-df-convert {\n",
              "      background-color: #E8F0FE;\n",
              "      border: none;\n",
              "      border-radius: 50%;\n",
              "      cursor: pointer;\n",
              "      display: none;\n",
              "      fill: #1967D2;\n",
              "      height: 32px;\n",
              "      padding: 0 0 0 0;\n",
              "      width: 32px;\n",
              "    }\n",
              "\n",
              "    .colab-df-convert:hover {\n",
              "      background-color: #E2EBFA;\n",
              "      box-shadow: 0px 1px 2px rgba(60, 64, 67, 0.3), 0px 1px 3px 1px rgba(60, 64, 67, 0.15);\n",
              "      fill: #174EA6;\n",
              "    }\n",
              "\n",
              "    [theme=dark] .colab-df-convert {\n",
              "      background-color: #3B4455;\n",
              "      fill: #D2E3FC;\n",
              "    }\n",
              "\n",
              "    [theme=dark] .colab-df-convert:hover {\n",
              "      background-color: #434B5C;\n",
              "      box-shadow: 0px 1px 3px 1px rgba(0, 0, 0, 0.15);\n",
              "      filter: drop-shadow(0px 1px 2px rgba(0, 0, 0, 0.3));\n",
              "      fill: #FFFFFF;\n",
              "    }\n",
              "  </style>\n",
              "\n",
              "      <script>\n",
              "        const buttonEl =\n",
              "          document.querySelector('#df-39565f12-b5f3-4716-836f-f5665177b25f button.colab-df-convert');\n",
              "        buttonEl.style.display =\n",
              "          google.colab.kernel.accessAllowed ? 'block' : 'none';\n",
              "\n",
              "        async function convertToInteractive(key) {\n",
              "          const element = document.querySelector('#df-39565f12-b5f3-4716-836f-f5665177b25f');\n",
              "          const dataTable =\n",
              "            await google.colab.kernel.invokeFunction('convertToInteractive',\n",
              "                                                     [key], {});\n",
              "          if (!dataTable) return;\n",
              "\n",
              "          const docLinkHtml = 'Like what you see? Visit the ' +\n",
              "            '<a target=\"_blank\" href=https://colab.research.google.com/notebooks/data_table.ipynb>data table notebook</a>'\n",
              "            + ' to learn more about interactive tables.';\n",
              "          element.innerHTML = '';\n",
              "          dataTable['output_type'] = 'display_data';\n",
              "          await google.colab.output.renderOutput(dataTable, element);\n",
              "          const docLink = document.createElement('div');\n",
              "          docLink.innerHTML = docLinkHtml;\n",
              "          element.appendChild(docLink);\n",
              "        }\n",
              "      </script>\n",
              "    </div>\n",
              "  </div>\n",
              "  "
            ]
          },
          "metadata": {},
          "execution_count": 75
        }
      ]
    },
    {
      "cell_type": "code",
      "source": [
        "tf.squeeze(y_train_df.values)"
      ],
      "metadata": {
        "colab": {
          "base_uri": "https://localhost:8080/"
        },
        "id": "DViNZXQIlU69",
        "outputId": "87d798d2-04f2-4f53-a2ef-e2ed1a88e727"
      },
      "execution_count": 76,
      "outputs": [
        {
          "output_type": "execute_result",
          "data": {
            "text/plain": [
              "<tf.Tensor: shape=(27260,), dtype=float64, numpy=array([61.1, 48.5, 52.5, ..., 43.6, 89.7, 41.9])>"
            ]
          },
          "metadata": {},
          "execution_count": 76
        }
      ]
    },
    {
      "cell_type": "code",
      "source": [
        "np.unique(features_df['pH'])"
      ],
      "metadata": {
        "colab": {
          "base_uri": "https://localhost:8080/"
        },
        "id": "I724SYJ2MmMe",
        "outputId": "cfe56c0b-f4aa-4551-87ba-b02c0a2d54c0"
      },
      "execution_count": 77,
      "outputs": [
        {
          "output_type": "execute_result",
          "data": {
            "text/plain": [
              "array([ 1.99,  2.  ,  2.02,  2.03,  2.1 ,  2.2 ,  2.3 ,  2.34,  2.4 ,\n",
              "        2.5 ,  2.53,  2.7 ,  2.8 ,  2.81,  2.83,  2.84,  2.86,  2.9 ,\n",
              "        2.94,  2.98,  3.  ,  3.01,  3.02,  3.04,  3.07,  3.1 ,  3.14,\n",
              "        3.15,  3.16,  3.19,  3.2 ,  3.21,  3.25,  3.3 ,  3.5 ,  3.6 ,\n",
              "        3.7 ,  3.75,  3.8 ,  3.9 ,  4.  ,  4.1 ,  4.2 ,  4.25,  4.3 ,\n",
              "        4.4 ,  4.5 ,  4.6 ,  4.7 ,  4.75,  4.8 ,  4.9 ,  5.  ,  5.1 ,\n",
              "        5.2 ,  5.28,  5.3 ,  5.31,  5.35,  5.38,  5.4 ,  5.42,  5.45,\n",
              "        5.5 ,  5.6 ,  5.7 ,  5.8 ,  5.9 ,  6.  ,  6.1 ,  6.2 ,  6.3 ,\n",
              "        6.4 ,  6.5 ,  6.6 ,  6.7 ,  6.78,  6.8 ,  6.9 ,  7.  ,  7.1 ,\n",
              "        7.2 ,  7.3 ,  7.4 ,  7.5 ,  7.6 ,  7.7 ,  7.8 ,  8.  ,  8.2 ,\n",
              "        8.25,  8.5 ,  8.6 ,  9.  ,  9.08,  9.5 ,  9.6 ,  9.7 ,  9.75,\n",
              "        9.9 , 10.  , 10.3 , 10.4 , 11.  ])"
            ]
          },
          "metadata": {},
          "execution_count": 77
        }
      ]
    },
    {
      "cell_type": "code",
      "source": [
        "np.unique(test_df['pH'])"
      ],
      "metadata": {
        "colab": {
          "base_uri": "https://localhost:8080/"
        },
        "id": "pjhu83LcM1cH",
        "outputId": "8a69ab40-521e-4f3d-cb55-69385c48cce9"
      },
      "execution_count": 78,
      "outputs": [
        {
          "output_type": "execute_result",
          "data": {
            "text/plain": [
              "array([8])"
            ]
          },
          "metadata": {},
          "execution_count": 78
        }
      ]
    },
    {
      "cell_type": "code",
      "source": [
        "features_df['pH'].to_numpy().reshape((-1,1))"
      ],
      "metadata": {
        "colab": {
          "base_uri": "https://localhost:8080/"
        },
        "id": "QHg_L_1UOStv",
        "outputId": "f356c259-6ab7-4d32-da23-03abdc30dcfe"
      },
      "execution_count": 79,
      "outputs": [
        {
          "output_type": "execute_result",
          "data": {
            "text/plain": [
              "array([[5. ],\n",
              "       [9. ],\n",
              "       [7. ],\n",
              "       ...,\n",
              "       [7. ],\n",
              "       [2.2],\n",
              "       [7. ]])"
            ]
          },
          "metadata": {},
          "execution_count": 79
        }
      ]
    },
    {
      "cell_type": "code",
      "source": [
        "from sklearn.preprocessing import StandardScaler\n",
        "from sklearn.preprocessing import MinMaxScaler\n",
        "#scaler = StandardScaler()\n",
        "#print(scaler.fit_transform(features_df['pH'].to_numpy().reshape((-1,1))))\n",
        "\n",
        "min_max_scaler = MinMaxScaler()\n",
        "min_max_scaler.fit(features_df['pH'].to_numpy().reshape((-1,1)))"
      ],
      "metadata": {
        "colab": {
          "base_uri": "https://localhost:8080/"
        },
        "id": "v50ZvOYsNI_y",
        "outputId": "ce4a8411-32ce-4fec-94f3-083d7db0e0e9"
      },
      "execution_count": 80,
      "outputs": [
        {
          "output_type": "execute_result",
          "data": {
            "text/plain": [
              "MinMaxScaler()"
            ]
          },
          "metadata": {},
          "execution_count": 80
        }
      ]
    },
    {
      "cell_type": "code",
      "source": [
        "train_seq_char = tf.cast(X_train_df['protein_sequence'].values, tf.string)\n",
        "train_ph = tf.cast(min_max_scaler.transform(X_train_df['pH'].values.reshape((-1,1))), tf.float32)\n",
        "train_targets = tf.cast(tf.squeeze(y_train_df.values), tf.float32)\n",
        "val_seq_char = tf.cast(X_val_df['protein_sequence'].values, tf.string)\n",
        "val_ph = tf.cast(min_max_scaler.transform(X_val_df['pH'].values.reshape((-1,1))), tf.float32)\n",
        "val_targets = tf.cast(tf.squeeze(y_val_df.values), tf.float32)\n",
        "\n",
        "len(train_seq_char), len(train_ph), len(train_targets), len(val_seq_char), len(val_ph), len(val_targets)"
      ],
      "metadata": {
        "colab": {
          "base_uri": "https://localhost:8080/"
        },
        "id": "dJ6hYPxnk7S_",
        "outputId": "3b36d306-f096-4ae6-9621-e829477ca8b0"
      },
      "execution_count": 82,
      "outputs": [
        {
          "output_type": "execute_result",
          "data": {
            "text/plain": [
              "(27260, 27260, 27260, 1435, 1435, 1435)"
            ]
          },
          "metadata": {},
          "execution_count": 82
        }
      ]
    },
    {
      "cell_type": "code",
      "source": [
        "test_char_seq = tf.cast([split_chars(sequence) for sequence in test_df['protein_sequence']], tf.string)\n",
        "test_ph_norm = min_max_scaler.transform(tf.cast(test_df['pH'].values.reshape((-1,1)), tf.float32))\n",
        "test_ph = tf.cast(test_df['pH'].values, tf.float32)\n",
        "test_char_seq[:2], test_ph_norm[:2]"
      ],
      "metadata": {
        "colab": {
          "base_uri": "https://localhost:8080/"
        },
        "id": "ZUvLZ3sgFsTk",
        "outputId": "b8232799-325f-4aad-b90a-bb7afd25ff1d"
      },
      "execution_count": 118,
      "outputs": [
        {
          "output_type": "execute_result",
          "data": {
            "text/plain": [
              "(<tf.Tensor: shape=(2,), dtype=string, numpy=\n",
              " array([b'V P V N P E P D A T S V E N V A E K T G S G D S Q S D P I K A D L E V K G Q S A L P F D V D C W A I L C K G A P N V L Q R V N E K T K N S N R D R S G A N K G P F K D P Q K W G I K A L P P K N P S W S A Q D F K S P E E Y A F A S S L Q G G T N A I L A P V N L A S Q N S Q G G V L N G F Y S A N K V A Q F D P S K P Q Q T K G T W F Q I T K F T G A A G P Y C K A L G S N D K S V C D K N K N I A G D W G F D P A K W A Y Q Y D E K N N K F N Y V G K',\n",
              "        b'V P V N P E P D A T S V E N V A K K T G S G D S Q S D P I K A D L E V K G Q S A L P F D V D C W A I L C K G A P N V L Q R V N E K T K N S N R D R S G A N K G P F K D P Q K W G I K A L P P K N P S W S A Q D F K S P E E Y A F A S S L Q G G T N A I L A P V N L A S Q N S Q G G V L N G F Y S A N K V A Q F D P S K P Q Q T K G T W F Q I T K F T G A A G P Y C K A L G S N D K S V C D K N K N I A G D W G F D P A K W A Y Q Y D E K N N K F N Y V G K'],\n",
              "       dtype=object)>, array([[0.66703663],\n",
              "        [0.66703663]]))"
            ]
          },
          "metadata": {},
          "execution_count": 118
        }
      ]
    },
    {
      "cell_type": "markdown",
      "source": [
        "### Create charified `tf.data.Dataset`"
      ],
      "metadata": {
        "id": "1f5Y9t1N8uqI"
      }
    },
    {
      "cell_type": "code",
      "source": [
        "# Create charified tf.data.Dataset with two inputs, seqeunce and ph value\n",
        "### Train dataset ###\n",
        "# char_train_features = tf.data.Dataset.from_tensor_slices((train_seq_char, train_ph))\n",
        "# train_labels = tf.data.Dataset.from_tensor_slices(train_targets)\n",
        "# train_char_dataset = tf.data.Dataset.zip((char_train_features, train_labels))\n",
        "# train_char_dataset = train_char_dataset.batch(32).prefetch(tf.data.AUTOTUNE)\n",
        "\n",
        "\n",
        "# ### Validation dataset ###\n",
        "# char_val_features = tf.data.Dataset.from_tensor_slices((val_seq_char, val_ph))\n",
        "# char_val_labels = tf.data.Dataset.from_tensor_slices(val_targets)\n",
        "# val_char_dataset = tf.data.Dataset.zip((char_val_features, char_val_labels))\n",
        "# val_char_dataset = val_char_dataset.batch(32).prefetch(tf.data.AUTOTUNE)\n",
        "\n",
        "\n",
        "# train_char_dataset, val_char_dataset"
      ],
      "metadata": {
        "colab": {
          "base_uri": "https://localhost:8080/"
        },
        "id": "iNNwYIZExZp3",
        "outputId": "1e57626f-0d9d-4ba8-82d8-9063b0b580c4"
      },
      "execution_count": 59,
      "outputs": [
        {
          "output_type": "execute_result",
          "data": {
            "text/plain": [
              "(<PrefetchDataset element_spec=((TensorSpec(shape=(None,), dtype=tf.string, name=None), TensorSpec(shape=(None,), dtype=tf.float32, name=None)), TensorSpec(shape=(None,), dtype=tf.float32, name=None))>,\n",
              " <PrefetchDataset element_spec=((TensorSpec(shape=(None,), dtype=tf.string, name=None), TensorSpec(shape=(None,), dtype=tf.float32, name=None)), TensorSpec(shape=(None,), dtype=tf.float32, name=None))>)"
            ]
          },
          "metadata": {},
          "execution_count": 59
        }
      ]
    },
    {
      "cell_type": "markdown",
      "source": [
        "### Create Tribrid dataset"
      ],
      "metadata": {
        "id": "tmj2HuWsmlCh"
      }
    },
    {
      "cell_type": "code",
      "source": [
        "train_seq_char.numpy()[0].decode()"
      ],
      "metadata": {
        "colab": {
          "base_uri": "https://localhost:8080/",
          "height": 109
        },
        "id": "k2U_DOTMnNQN",
        "outputId": "c1056a2c-ad0a-44b5-e263-4f0b831c09ad"
      },
      "execution_count": 88,
      "outputs": [
        {
          "output_type": "execute_result",
          "data": {
            "text/plain": [
              "'M A D S K P L R T L D G D P V A V E A L L Q D V F G I V V D E A I L K G T S A S E K V C E W K E P E E L K Q L L D L E L Q S Q G E S R E Q I L E R C R T V I H Y S V K T G H P R F F N Q L F S G L D P H A L A G R I I T E S L N T S Q Y T Y E I A P V F V L M E E E V L K K L R A L V G W N S G D G V F C P G G S I S N M Y A M N L A R F Q R Y P D C K Q R G L R A L P P L A L F T S K E C H Y S I T K G A A F L G L G T D S V R V V K A D E R G R M I P E D L E R Q I I L A E A E G S V P F L V S A T S G T T V L G A F D P L D A I A D V C Q R H G L W F H V D A A W G G S V L L S R T H R H L L D G I Q R A D S V A W N P H K L L A A G L Q C S A L L L R D T S N L L K R C H G S Q A S Y L F Q Q D K F Y D V A L D T G D K V V Q C G R R V D C L K L W L M W K A Q G G Q G L E R R I D Q A F A L T R Y L V E E I K K R E G F E L V M E P E F V N V C F W F V P P S L R G K K E S P D Y S Q R L S Q V A P V L K E R M V K K G T M M I G Y Q P H G T R A N F F R M V V A N P I L A Q A D I D F L L G E L E L L G Q D'"
            ],
            "application/vnd.google.colaboratory.intrinsic+json": {
              "type": "string"
            }
          },
          "metadata": {},
          "execution_count": 88
        }
      ]
    },
    {
      "cell_type": "code",
      "source": [
        "letter_count_vectorizer(train_seq_char.numpy()[2]) == letter_count_vectorizer(train_seq_char.numpy()[2].decode())"
      ],
      "metadata": {
        "colab": {
          "base_uri": "https://localhost:8080/"
        },
        "id": "q4G4XyXsnnHO",
        "outputId": "8068b430-3be9-4288-824a-784941bd1c9f"
      },
      "execution_count": 89,
      "outputs": [
        {
          "output_type": "execute_result",
          "data": {
            "text/plain": [
              "<tf.Tensor: shape=(20,), dtype=bool, numpy=\n",
              "array([ True,  True,  True,  True,  True,  True,  True,  True,  True,\n",
              "        True,  True,  True,  True,  True,  True,  True,  True,  True,\n",
              "        True,  True])>"
            ]
          },
          "metadata": {},
          "execution_count": 89
        }
      ]
    },
    {
      "cell_type": "code",
      "source": [
        "train_letter_counts = letter_count_vectorizer(train_seq_char)\n",
        "train_letter_counts"
      ],
      "metadata": {
        "colab": {
          "base_uri": "https://localhost:8080/"
        },
        "id": "w-RDazKZ8vkL",
        "outputId": "af891009-8fa8-4245-b0a3-1bd8e8d34901"
      },
      "execution_count": 90,
      "outputs": [
        {
          "output_type": "execute_result",
          "data": {
            "text/plain": [
              "<tf.Tensor: shape=(27260, 20), dtype=float32, numpy=\n",
              "array([[  8.,  62.,  39., ...,  11.,  11.,  11.],\n",
              "       [ 21., 127.,  88., ...,  27.,  21.,   9.],\n",
              "       [  1.,   9.,  19., ...,   3.,   1.,   0.],\n",
              "       ...,\n",
              "       [  3.,  54.,  31., ...,  12.,  17.,   4.],\n",
              "       [  6.,  88.,  65., ...,   3.,   3.,   7.],\n",
              "       [  2.,  45.,  21., ...,   9.,   8.,   4.]], dtype=float32)>"
            ]
          },
          "metadata": {},
          "execution_count": 90
        }
      ]
    },
    {
      "cell_type": "code",
      "source": [
        "val_letter_counts = letter_count_vectorizer(val_seq_char)\n",
        "val_letter_counts"
      ],
      "metadata": {
        "colab": {
          "base_uri": "https://localhost:8080/"
        },
        "id": "IobgCB4sS4x-",
        "outputId": "c206ef25-b61f-427b-e08c-7802cf2378fe"
      },
      "execution_count": 91,
      "outputs": [
        {
          "output_type": "execute_result",
          "data": {
            "text/plain": [
              "<tf.Tensor: shape=(1435, 20), dtype=float32, numpy=\n",
              "array([[  1.,  21.,  13., ...,   6.,  14.,   5.],\n",
              "       [ 12.,  74.,  26., ...,  16.,  13.,  10.],\n",
              "       [ 14., 126., 122., ...,  36.,  35.,  10.],\n",
              "       ...,\n",
              "       [  7.,  25.,  25., ...,  11.,  10.,   4.],\n",
              "       [  6.,  25.,  18., ...,   4.,   5.,   1.],\n",
              "       [  4.,  42.,  41., ...,  11.,   9.,   5.]], dtype=float32)>"
            ]
          },
          "metadata": {},
          "execution_count": 91
        }
      ]
    },
    {
      "cell_type": "code",
      "source": [
        "min_max_scaler_count = MinMaxScaler()\n",
        "min_max_scaler_count.fit(train_letter_counts)"
      ],
      "metadata": {
        "colab": {
          "base_uri": "https://localhost:8080/"
        },
        "id": "OHqdRPdUZ7zY",
        "outputId": "b936e63f-5b23-4fea-eb40-448d0a743170"
      },
      "execution_count": 92,
      "outputs": [
        {
          "output_type": "execute_result",
          "data": {
            "text/plain": [
              "MinMaxScaler()"
            ]
          },
          "metadata": {},
          "execution_count": 92
        }
      ]
    },
    {
      "cell_type": "code",
      "source": [
        "val_letter_counts.numpy()[0]"
      ],
      "metadata": {
        "colab": {
          "base_uri": "https://localhost:8080/"
        },
        "id": "Ha7nj44fmaTo",
        "outputId": "d6dd0c6a-9ce0-4988-a7f3-055f51163884"
      },
      "execution_count": 93,
      "outputs": [
        {
          "output_type": "execute_result",
          "data": {
            "text/plain": [
              "array([ 1., 21., 13., 13., 20., 14., 21., 10., 16., 25., 17., 16., 10.,\n",
              "       11., 15., 10., 13.,  6., 14.,  5.], dtype=float32)"
            ]
          },
          "metadata": {},
          "execution_count": 93
        }
      ]
    },
    {
      "cell_type": "code",
      "source": [
        "max_letter_count = 0\n",
        "for array in train_letter_counts.numpy():\n",
        "  if array.max() > max_letter_count:\n",
        "    max_letter_count = array.max()\n",
        "\n",
        "print(max_letter_count)\n",
        "    "
      ],
      "metadata": {
        "colab": {
          "base_uri": "https://localhost:8080/"
        },
        "id": "sqTq5yObZNkR",
        "outputId": "12ff23cc-3d46-4968-b93d-6e5393b09b6f"
      },
      "execution_count": 94,
      "outputs": [
        {
          "output_type": "stream",
          "name": "stdout",
          "text": [
            "1153.0\n"
          ]
        }
      ]
    },
    {
      "cell_type": "code",
      "source": [
        "max_ = 0\n",
        "for array in val_letter_counts.numpy():\n",
        "  if array.max() > max_:\n",
        "    max_ = array.max()\n",
        "\n",
        "print(max_)\n",
        "    "
      ],
      "metadata": {
        "colab": {
          "base_uri": "https://localhost:8080/"
        },
        "id": "X5K1mNBLm8yG",
        "outputId": "62da4b0f-9bca-4e02-e680-03d8dfbd3f1a"
      },
      "execution_count": 95,
      "outputs": [
        {
          "output_type": "stream",
          "name": "stdout",
          "text": [
            "618.0\n"
          ]
        }
      ]
    },
    {
      "cell_type": "code",
      "source": [
        "train_letter_counts = min_max_scaler_count.transform(train_letter_counts)\n",
        "val_letter_counts = min_max_scaler_count.transform(val_letter_counts)\n",
        "train_letter_counts, val_letter_counts"
      ],
      "metadata": {
        "colab": {
          "base_uri": "https://localhost:8080/"
        },
        "id": "1iIiCqYQaR-t",
        "outputId": "9c035f22-3033-4307-e60f-8ede4a1610b5"
      },
      "execution_count": 97,
      "outputs": [
        {
          "output_type": "execute_result",
          "data": {
            "text/plain": [
              "(array([[0.0610687 , 0.05377277, 0.04290429, ..., 0.05164319, 0.03571429,\n",
              "         0.03030303],\n",
              "        [0.16030534, 0.11014744, 0.09680968, ..., 0.12676056, 0.06818182,\n",
              "         0.02479339],\n",
              "        [0.00763359, 0.00780572, 0.02090209, ..., 0.01408451, 0.00324675,\n",
              "         0.        ],\n",
              "        ...,\n",
              "        [0.02290076, 0.04683435, 0.03410341, ..., 0.05633803, 0.05519481,\n",
              "         0.01101928],\n",
              "        [0.04580153, 0.07632264, 0.07150715, ..., 0.01408451, 0.00974026,\n",
              "         0.01928375],\n",
              "        [0.01526718, 0.03902862, 0.02310231, ..., 0.04225352, 0.02597403,\n",
              "         0.01101928]]),\n",
              " array([[0.00763359, 0.01821336, 0.01430143, ..., 0.02816901, 0.04545455,\n",
              "         0.0137741 ],\n",
              "        [0.09160305, 0.0641804 , 0.02860286, ..., 0.07511737, 0.04220779,\n",
              "         0.02754821],\n",
              "        [0.10687023, 0.10928014, 0.13421342, ..., 0.16901408, 0.11363636,\n",
              "         0.02754821],\n",
              "        ...,\n",
              "        [0.05343511, 0.02168257, 0.02750275, ..., 0.05164319, 0.03246753,\n",
              "         0.01101928],\n",
              "        [0.04580153, 0.02168257, 0.01980198, ..., 0.01877934, 0.01623377,\n",
              "         0.00275482],\n",
              "        [0.03053435, 0.03642671, 0.04510451, ..., 0.05164319, 0.02922078,\n",
              "         0.0137741 ]]))"
            ]
          },
          "metadata": {},
          "execution_count": 97
        }
      ]
    },
    {
      "cell_type": "code",
      "source": [
        "train_letter_counts.shape, val_letter_counts.shape"
      ],
      "metadata": {
        "colab": {
          "base_uri": "https://localhost:8080/"
        },
        "id": "yI1s2q-8agXV",
        "outputId": "7417543f-6572-48ac-b972-363330235d08"
      },
      "execution_count": 98,
      "outputs": [
        {
          "output_type": "execute_result",
          "data": {
            "text/plain": [
              "((27260, 20), (1435, 20))"
            ]
          },
          "metadata": {},
          "execution_count": 98
        }
      ]
    },
    {
      "cell_type": "code",
      "source": [
        "# Create charified tf.data.Dataset\n",
        "### Train dataset ###\n",
        "char_train_features = tf.data.Dataset.from_tensor_slices((tf.cast(train_letter_counts, tf.float32), train_seq_char, train_ph))\n",
        "train_labels = tf.data.Dataset.from_tensor_slices(train_targets)\n",
        "train_char_dataset = tf.data.Dataset.zip((char_train_features, train_labels))\n",
        "tribrid_train_char_dataset = train_char_dataset.batch(32).prefetch(tf.data.AUTOTUNE)\n",
        "\n",
        "\n",
        "### Validation dataset ###\n",
        "char_val_features = tf.data.Dataset.from_tensor_slices((tf.cast(val_letter_counts, tf.float32), val_seq_char, val_ph))\n",
        "char_val_labels = tf.data.Dataset.from_tensor_slices(val_targets)\n",
        "val_char_dataset = tf.data.Dataset.zip((char_val_features, char_val_labels))\n",
        "tribrid_val_char_dataset = val_char_dataset.batch(32).prefetch(tf.data.AUTOTUNE)\n",
        "\n",
        "\n",
        "tribrid_train_char_dataset, tribrid_val_char_dataset"
      ],
      "metadata": {
        "colab": {
          "base_uri": "https://localhost:8080/"
        },
        "id": "KISBa3MOSgXA",
        "outputId": "e66630af-ce88-49db-df41-2105095ba4d5"
      },
      "execution_count": 99,
      "outputs": [
        {
          "output_type": "execute_result",
          "data": {
            "text/plain": [
              "(<PrefetchDataset element_spec=((TensorSpec(shape=(None, 20), dtype=tf.float32, name=None), TensorSpec(shape=(None,), dtype=tf.string, name=None), TensorSpec(shape=(None, 1), dtype=tf.float32, name=None)), TensorSpec(shape=(None,), dtype=tf.float32, name=None))>,\n",
              " <PrefetchDataset element_spec=((TensorSpec(shape=(None, 20), dtype=tf.float32, name=None), TensorSpec(shape=(None,), dtype=tf.string, name=None), TensorSpec(shape=(None, 1), dtype=tf.float32, name=None)), TensorSpec(shape=(None,), dtype=tf.float32, name=None))>)"
            ]
          },
          "metadata": {},
          "execution_count": 99
        }
      ]
    },
    {
      "cell_type": "code",
      "source": [
        "### Train dataset ###\n",
        "char_train_features = tf.data.Dataset.from_tensor_slices((train_seq_char, train_ph))\n",
        "train_labels = tf.data.Dataset.from_tensor_slices(train_targets)\n",
        "train_char_dataset = tf.data.Dataset.zip((char_train_features, train_labels))\n",
        "train_char_dataset = train_char_dataset.batch(32).prefetch(tf.data.AUTOTUNE)\n",
        "\n",
        "\n",
        "### Validation dataset ###\n",
        "char_val_features = tf.data.Dataset.from_tensor_slices((val_seq_char, val_ph))\n",
        "char_val_labels = tf.data.Dataset.from_tensor_slices(val_targets)\n",
        "val_char_dataset = tf.data.Dataset.zip((char_val_features, char_val_labels))\n",
        "val_char_dataset = val_char_dataset.batch(32).prefetch(tf.data.AUTOTUNE)\n",
        "\n",
        "\n",
        "train_char_dataset, val_char_dataset"
      ],
      "metadata": {
        "colab": {
          "base_uri": "https://localhost:8080/"
        },
        "id": "v6kgMTUqwlht",
        "outputId": "d7c40336-a8bc-4431-ad8c-3b4a17919c48"
      },
      "execution_count": 106,
      "outputs": [
        {
          "output_type": "execute_result",
          "data": {
            "text/plain": [
              "(<PrefetchDataset element_spec=((TensorSpec(shape=(None,), dtype=tf.string, name=None), TensorSpec(shape=(None, 1), dtype=tf.float32, name=None)), TensorSpec(shape=(None,), dtype=tf.float32, name=None))>,\n",
              " <PrefetchDataset element_spec=((TensorSpec(shape=(None,), dtype=tf.string, name=None), TensorSpec(shape=(None, 1), dtype=tf.float32, name=None)), TensorSpec(shape=(None,), dtype=tf.float32, name=None))>)"
            ]
          },
          "metadata": {},
          "execution_count": 106
        }
      ]
    },
    {
      "cell_type": "code",
      "source": [
        "# Create function to plot historys\n",
        "import matplotlib.pyplot as plt\n",
        "\n",
        "def plot_historys(history):\n",
        "  \"\"\"\n",
        "  A function to plot the loss and accuracy of a Tensorflow model\n",
        "\n",
        "  Args\n",
        "  -----\n",
        "  history : history object from a trained TensorFlow Model \n",
        "  \"\"\"\n",
        "  # Get variables from history object\n",
        "  loss = history.history['loss']\n",
        "  val_loss = history.history['val_loss']\n",
        "  mae = history.history['mae']\n",
        "  val_mae = history.history['val_mae']\n",
        "  epochs = history.epoch\n",
        "\n",
        "  # Plot the loss and mse \n",
        "  fig = plt.figure(figsize=(10,7))\n",
        "  plt.subplot(1,2,1)\n",
        "  plt.plot(epochs, loss, label='training_loss')\n",
        "  plt.plot(epochs, val_loss, label='val_loss')\n",
        "  plt.legend()\n",
        "  plt.xlabel(\"Epochs\")\n",
        "  plt.title(\"Training Loss vs. Val Loss\")\n",
        "\n",
        "  plt.subplot(1,2,2)\n",
        "  plt.plot(epochs, mae, label='training_mae')\n",
        "  plt.plot(epochs, val_mae, label='val_mae')\n",
        "  plt.legend()\n",
        "  plt.xlabel(\"Epochs\")\n",
        "  plt.title(\"Training MAE vs. Val MAE\")"
      ],
      "metadata": {
        "id": "z3mEbbpXiZ1O"
      },
      "execution_count": 100,
      "outputs": []
    },
    {
      "cell_type": "code",
      "source": [
        "# Setup some callbacks\n",
        "import tensorflow as tf\n",
        "from tensorflow.keras.callbacks import ReduceLROnPlateau, EarlyStopping\n",
        "\n",
        "reduce_lr = ReduceLROnPlateau(monitor='val_loss', factor=0.4,\n",
        "                              patience=6, min_delta=1, min_lr=0.00001, verbose=1)\n",
        "\n",
        "early_stopping = EarlyStopping(monitor='val_loss', mode='min', patience=12, min_delta=0.5,\n",
        "                               restore_best_weights=True)"
      ],
      "metadata": {
        "id": "RzOZkMPbixRg"
      },
      "execution_count": 101,
      "outputs": []
    },
    {
      "cell_type": "code",
      "source": [
        "import os \n",
        "os.mkdir(\"model_experiments/\")"
      ],
      "metadata": {
        "id": "1QDTXiVqs0CB"
      },
      "execution_count": 102,
      "outputs": []
    },
    {
      "cell_type": "code",
      "source": [
        "checkpoint_dir = \"/content/model_experiments\""
      ],
      "metadata": {
        "id": "11Tg9xHgxZfP"
      },
      "execution_count": 103,
      "outputs": []
    },
    {
      "cell_type": "code",
      "source": [
        "# Create ModelCheckpoint callback to save our model's progress during training \n",
        "def model_checkpoint(model_name:str):\n",
        "  model_checkpoint = tf.keras.callbacks.ModelCheckpoint(checkpoint_dir + \"/\" + model_name,\n",
        "                                                        monitor='val_loss',\n",
        "                                                        save_best_only=True,\n",
        "                                                        save_weights_only=True,\n",
        "                                                        verbose=0)\n",
        "  return model_checkpoint"
      ],
      "metadata": {
        "id": "4RfF-ggosyrL"
      },
      "execution_count": 104,
      "outputs": []
    },
    {
      "cell_type": "code",
      "source": [
        "import datetime\n",
        "\n",
        "def create_tensorboard_callback(dir_name, experiment_name):\n",
        "  \"\"\"\n",
        "  Creates a TensorBoard callback instand to store log files.\n",
        "\n",
        "  Stores log files with the filepath:\n",
        "    \"dir_name/experiment_name/current_datetime/\"\n",
        "\n",
        "  Args:\n",
        "    dir_name: target directory to store TensorBoard log files\n",
        "    experiment_name: name of experiment directory (e.g. efficientnet_model_1)\n",
        "  \"\"\"\n",
        "  log_dir = dir_name + \"/\" + experiment_name + \"/\" + datetime.datetime.now().strftime(\"%Y%m%d-%H%M%S\")\n",
        "  tensorboard_callback = tf.keras.callbacks.TensorBoard(\n",
        "      log_dir=log_dir\n",
        "  )\n",
        "  print(f\"Saving TensorBoard log files to: {log_dir}\")\n",
        "  return tensorboard_callback"
      ],
      "metadata": {
        "id": "wKtZmjViMvb0"
      },
      "execution_count": null,
      "outputs": []
    },
    {
      "cell_type": "code",
      "source": [
        "BATCH_SIZE = 32"
      ],
      "metadata": {
        "id": "5JKFL3UFul84"
      },
      "execution_count": null,
      "outputs": []
    },
    {
      "cell_type": "code",
      "source": [
        "SAVE_DIR = \"novoenzyme_model_logs\""
      ],
      "metadata": {
        "id": "2-CrwwDHNIQU"
      },
      "execution_count": null,
      "outputs": []
    },
    {
      "cell_type": "code",
      "source": [
        "# 1. Setup protein sequence inputs\n",
        "# Inputs are 1D strings of characters\n",
        "sequence_inputs = layers.Input(shape=(1,), batch_size=BATCH_SIZE, dtype=tf.string, name='sequence_inputs')\n",
        "sequence_vectors = char_vectorizer(sequence_inputs)\n",
        "sequence_embeddings = character_embedding(sequence_vectors)\n",
        "x = layers.Conv1D(64, kernel_size = 3, activation='relu')(sequence_embeddings)\n",
        "x = layers.Conv1D(32, kernel_size=3, activation='relu')(x)\n",
        "sequence_outputs = layers.GlobalMaxPooling1D()(x)\n",
        "sequence_model = tf.keras.Model(inputs = sequence_inputs, outputs = sequence_outputs)\n",
        "\n",
        "# 2. Setup pH inputs/Model\n",
        "pH_inputs = layers.Input(shape=(1,), batch_size = BATCH_SIZE, dtype=tf.float32, name='ph_inputs'\n",
        "pH_outputs = layers.Dense(128, activation='relu')(pH_inputs)\n",
        "pH_model = tf.keras.Model(inputs = pH_inputs, outputs = pH_outputs)\n",
        "\n",
        "# Concatenate sequence and pH inputs \n",
        "sequence_pH_concat = layers.Concatenate(name='concatenation')([sequence_model.output, \n",
        "                                                               pH_model.output])\n",
        "\n",
        "combined_dense = layers.Dense(128, activation='relu')(sequence_pH_concat)\n",
        "output_layer = layers.Dense(1, activation='linear')(combined_dense) \n",
        "\n",
        "# Construct the model \n",
        "model_1 = tf.keras.Model(inputs=[sequence_model.input, pH_model.input],\n",
        "                         outputs=output_layer,\n",
        "                         name='model_1_Conv1D')"
      ],
      "metadata": {
        "id": "p4vuxCNHGU4c"
      },
      "execution_count": null,
      "outputs": []
    },
    {
      "cell_type": "markdown",
      "source": [
        "### Model 1: Conv1D"
      ],
      "metadata": {
        "id": "y71VlSazUTj7"
      }
    },
    {
      "cell_type": "code",
      "source": [
        "model_1.summary()"
      ],
      "metadata": {
        "colab": {
          "base_uri": "https://localhost:8080/"
        },
        "id": "ET6t22CSc8bM",
        "outputId": "68ff25f5-3dd6-406f-ebaf-5fd8d7f33283"
      },
      "execution_count": null,
      "outputs": [
        {
          "output_type": "stream",
          "name": "stdout",
          "text": [
            "Model: \"model_1_Conv1D\"\n",
            "__________________________________________________________________________________________________\n",
            " Layer (type)                   Output Shape         Param #     Connected to                     \n",
            "==================================================================================================\n",
            " sequence_inputs (InputLayer)   [(None, 1)]          0           []                               \n",
            "                                                                                                  \n",
            " char_vectorizer (TextVectoriza  (None, 536)         0           ['sequence_inputs[0][0]']        \n",
            " tion)                                                                                            \n",
            "                                                                                                  \n",
            " embedding (Embedding)          (None, 536, 128)     2816        ['char_vectorizer[0][0]']        \n",
            "                                                                                                  \n",
            " conv1d (Conv1D)                (None, 534, 64)      24640       ['embedding[0][0]']              \n",
            "                                                                                                  \n",
            " ph_inputs (InputLayer)         [(None, 1)]          0           []                               \n",
            "                                                                                                  \n",
            " conv1d_1 (Conv1D)              (None, 532, 32)      6176        ['conv1d[0][0]']                 \n",
            "                                                                                                  \n",
            " normalization (Normalization)  (None, 1)            3           ['ph_inputs[0][0]']              \n",
            "                                                                                                  \n",
            " global_max_pooling1d (GlobalMa  (None, 32)          0           ['conv1d_1[0][0]']               \n",
            " xPooling1D)                                                                                      \n",
            "                                                                                                  \n",
            " dense (Dense)                  (None, 128)          256         ['normalization[0][0]']          \n",
            "                                                                                                  \n",
            " concatenation (Concatenate)    (None, 160)          0           ['global_max_pooling1d[0][0]',   \n",
            "                                                                  'dense[0][0]']                  \n",
            "                                                                                                  \n",
            " dense_1 (Dense)                (None, 128)          20608       ['concatenation[0][0]']          \n",
            "                                                                                                  \n",
            " dense_2 (Dense)                (None, 1)            129         ['dense_1[0][0]']                \n",
            "                                                                                                  \n",
            "==================================================================================================\n",
            "Total params: 54,628\n",
            "Trainable params: 54,625\n",
            "Non-trainable params: 3\n",
            "__________________________________________________________________________________________________\n"
          ]
        }
      ]
    },
    {
      "cell_type": "code",
      "source": [
        "from tensorflow.keras.utils import plot_model\n",
        "plot_model(model_1)"
      ],
      "metadata": {
        "colab": {
          "base_uri": "https://localhost:8080/",
          "height": 856
        },
        "id": "o9l7mnEFXGOC",
        "outputId": "4e86fa1e-7661-4dbc-bb28-90d1fb6e1836"
      },
      "execution_count": null,
      "outputs": [
        {
          "output_type": "execute_result",
          "data": {
            "image/png": "[encoded data removed]",
            "text/plain": [
              "<IPython.core.display.Image object>"
            ]
          },
          "metadata": {},
          "execution_count": 77
        }
      ]
    },
    {
      "cell_type": "code",
      "source": [
        "model_1.compile(loss ='mse', # will use mse for loss as bigger errors should be penlized more given the problem statement \n",
        "                optimizer = tf.keras.optimizers.Adam(learning_rate=0.001),\n",
        "                metrics=['mae', 'mse']) # want mae too as intuitive with how far off our predicted target numbers are"
      ],
      "metadata": {
        "id": "tNbJPVb-dCoP"
      },
      "execution_count": null,
      "outputs": []
    },
    {
      "cell_type": "code",
      "source": [
        "history_1 = model_1.fit(train_dataset_10_percent, \n",
        "                        steps_per_epoch = len(train_dataset_10_percent),\n",
        "                        epochs=30,\n",
        "                        validation_data=val_dataset,\n",
        "                        validation_steps = int(0.25*len(val_dataset)),\n",
        "                        callbacks=[reduce_lr, early_stopping, model_checkpoint(model_1.name),\n",
        "                                   create_tensorboard_callback(SAVE_DIR, model_1.name)])"
      ],
      "metadata": {
        "id": "xqLd_aAidVKU"
      },
      "execution_count": null,
      "outputs": []
    },
    {
      "cell_type": "code",
      "source": [
        "plot_historys(history_1)"
      ],
      "metadata": {
        "colab": {
          "base_uri": "https://localhost:8080/",
          "height": 458
        },
        "id": "f4WfgYjHLmmW",
        "outputId": "15c0c359-1e5c-47ed-c3fa-08dd3ee2444a"
      },
      "execution_count": null,
      "outputs": [
        {
          "output_type": "display_data",
          "data": {
            "text/plain": [
              "<Figure size 720x504 with 2 Axes>"
            ],
            "image/png": "[encoded data removed]"
          },
          "metadata": {
            "needs_background": "light"
          }
        }
      ]
    },
    {
      "cell_type": "code",
      "source": [
        "model_1.evaluate(val_dataset)"
      ],
      "metadata": {
        "colab": {
          "base_uri": "https://localhost:8080/"
        },
        "id": "WJ8FC3PZ90-d",
        "outputId": "c81b9d15-ee09-49ed-d624-9e92c98d6256"
      },
      "execution_count": null,
      "outputs": [
        {
          "output_type": "stream",
          "name": "stdout",
          "text": [
            "90/90 [==============================] - 0s 5ms/step - loss: 140.6326 - mae: 8.1402 - mse: 140.6326\n"
          ]
        },
        {
          "output_type": "execute_result",
          "data": {
            "text/plain": [
              "[140.63262939453125, 8.140247344970703, 140.63262939453125]"
            ]
          },
          "metadata": {},
          "execution_count": 100
        }
      ]
    },
    {
      "cell_type": "code",
      "source": [
        "model_1.get_weights()"
      ],
      "metadata": {
        "id": "fqDkk9DzzoXc"
      },
      "execution_count": null,
      "outputs": []
    },
    {
      "cell_type": "code",
      "source": [
        "test_df_shuffled = test_df.sample(frac=1)"
      ],
      "metadata": {
        "id": "q3xUQsWzvyFx"
      },
      "execution_count": null,
      "outputs": []
    },
    {
      "cell_type": "code",
      "source": [
        "model_1_preds = model_1.predict((test_df_shuffled['protein_sequence'].apply(split_chars).values, normalizer1(test_df_shuffled['pH'].values)))"
      ],
      "metadata": {
        "colab": {
          "base_uri": "https://localhost:8080/"
        },
        "id": "KcNuFipPqf7D",
        "outputId": "48a19573-2fc5-4f52-aa0d-0e46f0ee473c"
      },
      "execution_count": null,
      "outputs": [
        {
          "output_type": "stream",
          "name": "stdout",
          "text": [
            "76/76 [==============================] - 0s 4ms/step\n"
          ]
        }
      ]
    },
    {
      "cell_type": "code",
      "source": [
        "model_1_preds[200:300], model_1_preds.shape"
      ],
      "metadata": {
        "id": "hwDvYNe3sRTl"
      },
      "execution_count": null,
      "outputs": []
    },
    {
      "cell_type": "code",
      "source": [
        "model_1.save(\"/content/drive/MyDrive/Novozyme_Competition/novozyme_competition/model_1\")"
      ],
      "metadata": {
        "colab": {
          "base_uri": "https://localhost:8080/"
        },
        "id": "W1umX91OgcRP",
        "outputId": "60f7b23b-58d5-4e31-ef1f-a29dd0a3cfef"
      },
      "execution_count": null,
      "outputs": [
        {
          "output_type": "stream",
          "name": "stderr",
          "text": [
            "WARNING:absl:Found untraced functions such as _jit_compiled_convolution_op, _jit_compiled_convolution_op while saving (showing 2 of 2). These functions will not be directly callable after loading.\n"
          ]
        }
      ]
    },
    {
      "cell_type": "markdown",
      "source": [
        "## Model_2 LSTM "
      ],
      "metadata": {
        "id": "pux6oIbeMleC"
      }
    },
    {
      "cell_type": "code",
      "source": [
        "# 1. Setup protein sequence inputs\n",
        "sequence_inputs = layers.Input(shape=(1), dtype=tf.string, name='sequence_inputs')\n",
        "sequence_vectors = char_vectorizer(sequence_inputs)\n",
        "sequence_embeddings = character_embedding(sequence_vectors)\n",
        "x = layers.LSTM(64, return_sequences=True)(sequence_embeddings)\n",
        "sequence_outputs = layers.LSTM(64)(x)\n",
        "sequence_model = tf.keras.Model(inputs = sequence_inputs, outputs = sequence_outputs)\n",
        "\n",
        "# 2. Setup pH inputs/Model\n",
        "pH_inputs = layers.Input(shape=(1,), dtype=tf.float32, name='ph_inputs')\n",
        "norm1 = normalizer1(pH_inputs)\n",
        "pH_outputs = layers.Dense(128, activation='relu')(norm1)\n",
        "pH_model = tf.keras.Model(inputs = pH_inputs, outputs = pH_outputs)\n",
        "\n",
        "# Concatenate sequence and pH inputs \n",
        "sequence_pH_concat = layers.Concatenate(name='concatenation')([sequence_model.output, \n",
        "                                                               pH_model.output])\n",
        "\n",
        "combined_dense = layers.Dense(128, activation='relu')(sequence_pH_concat)\n",
        "final_dense = layers.Dense(128, activation='relu')(combined_dense)\n",
        "output_layer = layers.Dense(1, activation='linear')(final_dense)\n",
        "\n",
        "# Construct the model \n",
        "model_2 = tf.keras.Model(inputs=[sequence_model.input, pH_model.input],\n",
        "                         outputs=output_layer,\n",
        "                         name='model_2_LSTM')"
      ],
      "metadata": {
        "id": "rqn7eEmLfR_E"
      },
      "execution_count": null,
      "outputs": []
    },
    {
      "cell_type": "code",
      "source": [
        "model_2.summary()"
      ],
      "metadata": {
        "id": "vf2nwGKwNP1O"
      },
      "execution_count": null,
      "outputs": []
    },
    {
      "cell_type": "code",
      "source": [
        "model_2.compile(loss ='mse',\n",
        "                optimizer = tf.keras.optimizers.Adam(),\n",
        "                metrics=['mae', 'mse'])"
      ],
      "metadata": {
        "id": "NiMdUhhtNXWd"
      },
      "execution_count": null,
      "outputs": []
    },
    {
      "cell_type": "code",
      "source": [
        "history_2 = model_2.fit(train_dataset_10_percent, \n",
        "                        steps_per_epoch = len(train_dataset_10_percent),\n",
        "                        epochs=30,\n",
        "                        validation_data=val_dataset,\n",
        "                        validation_steps = int(0.25*len(val_dataset)),\n",
        "                        callbacks=[reduce_lr, early_stopping, model_checkpoint(model_2.name)])"
      ],
      "metadata": {
        "colab": {
          "base_uri": "https://localhost:8080/"
        },
        "id": "B8KCSdowNXSZ",
        "outputId": "bbb26bd5-f215-4db2-d38e-4924fb983ef3"
      },
      "execution_count": null,
      "outputs": [
        {
          "output_type": "stream",
          "name": "stdout",
          "text": [
            "Epoch 1/30\n",
            "88/90 [============================>.] - ETA: 0s - loss: 1099.9474 - mae: 25.6712 - mse: 1099.9474"
          ]
        },
        {
          "output_type": "stream",
          "name": "stderr",
          "text": [
            "WARNING:absl:Found untraced functions such as lstm_cell_2_layer_call_fn, lstm_cell_2_layer_call_and_return_conditional_losses, lstm_cell_3_layer_call_fn, lstm_cell_3_layer_call_and_return_conditional_losses while saving (showing 4 of 4). These functions will not be directly callable after loading.\n"
          ]
        },
        {
          "output_type": "stream",
          "name": "stdout",
          "text": [
            "\b\b\b\b\b\b\b\b\b\b\b\b\b\b\b\b\b\b\b\b\b\b\b\b\b\b\b\b\b\b\b\b\b\b\b\b\b\b\b\b\b\b\b\b\b\b\b\b\b\b\b\b\b\b\b\b\b\b\b\b\b\b\b\b\b\b\b\b\b\b\b\b\b\b\b\b\b\b\b\b\b\b\b\b\b\b\b\b\b\b\b\b\b\b\b\b\b\b\r90/90 [==============================] - 33s 293ms/step - loss: 1082.8689 - mae: 25.3501 - mse: 1082.8689 - val_loss: 136.7740 - val_mae: 7.8776 - val_mse: 136.7740 - lr: 0.0010\n",
            "Epoch 2/30\n",
            "86/90 [===========================>..] - ETA: 0s - loss: 142.3603 - mae: 8.3463 - mse: 142.3603"
          ]
        },
        {
          "output_type": "stream",
          "name": "stderr",
          "text": [
            "WARNING:absl:Found untraced functions such as lstm_cell_2_layer_call_fn, lstm_cell_2_layer_call_and_return_conditional_losses, lstm_cell_3_layer_call_fn, lstm_cell_3_layer_call_and_return_conditional_losses while saving (showing 4 of 4). These functions will not be directly callable after loading.\n"
          ]
        },
        {
          "output_type": "stream",
          "name": "stdout",
          "text": [
            "\b\b\b\b\b\b\b\b\b\b\b\b\b\b\b\b\b\b\b\b\b\b\b\b\b\b\b\b\b\b\b\b\b\b\b\b\b\b\b\b\b\b\b\b\b\b\b\b\b\b\b\b\b\b\b\b\b\b\b\b\b\b\b\b\b\b\b\b\b\b\b\b\b\b\b\b\b\b\b\b\b\b\b\b\b\b\b\b\b\b\b\b\b\b\b\r90/90 [==============================] - 20s 224ms/step - loss: 142.2549 - mae: 8.3443 - mse: 142.2549 - val_loss: 133.5756 - val_mae: 8.4151 - val_mse: 133.5756 - lr: 0.0010\n",
            "Epoch 3/30\n",
            "87/90 [============================>.] - ETA: 0s - loss: 140.2231 - mae: 8.3275 - mse: 140.2231"
          ]
        },
        {
          "output_type": "stream",
          "name": "stderr",
          "text": [
            "WARNING:absl:Found untraced functions such as lstm_cell_2_layer_call_fn, lstm_cell_2_layer_call_and_return_conditional_losses, lstm_cell_3_layer_call_fn, lstm_cell_3_layer_call_and_return_conditional_losses while saving (showing 4 of 4). These functions will not be directly callable after loading.\n"
          ]
        },
        {
          "output_type": "stream",
          "name": "stdout",
          "text": [
            "\b\b\b\b\b\b\b\b\b\b\b\b\b\b\b\b\b\b\b\b\b\b\b\b\b\b\b\b\b\b\b\b\b\b\b\b\b\b\b\b\b\b\b\b\b\b\b\b\b\b\b\b\b\b\b\b\b\b\b\b\b\b\b\b\b\b\b\b\b\b\b\b\b\b\b\b\b\b\b\b\b\b\b\b\b\b\b\b\b\b\b\b\b\b\b\r90/90 [==============================] - 20s 229ms/step - loss: 139.5647 - mae: 8.3105 - mse: 139.5647 - val_loss: 133.4598 - val_mae: 8.5276 - val_mse: 133.4598 - lr: 0.0010\n",
            "Epoch 4/30\n",
            "90/90 [==============================] - ETA: 0s - loss: 138.9572 - mae: 8.3023 - mse: 138.9572\n",
            "Epoch 4: ReduceLROnPlateau reducing learning rate to 0.0005000000237487257.\n",
            "90/90 [==============================] - 1s 14ms/step - loss: 138.9572 - mae: 8.3023 - mse: 138.9572 - val_loss: 134.8786 - val_mae: 8.7035 - val_mse: 134.8786 - lr: 0.0010\n",
            "Epoch 5/30\n",
            "89/90 [============================>.] - ETA: 0s - loss: 138.5328 - mae: 8.3056 - mse: 138.5328"
          ]
        },
        {
          "output_type": "stream",
          "name": "stderr",
          "text": [
            "WARNING:absl:Found untraced functions such as lstm_cell_2_layer_call_fn, lstm_cell_2_layer_call_and_return_conditional_losses, lstm_cell_3_layer_call_fn, lstm_cell_3_layer_call_and_return_conditional_losses while saving (showing 4 of 4). These functions will not be directly callable after loading.\n"
          ]
        },
        {
          "output_type": "stream",
          "name": "stdout",
          "text": [
            "\b\b\b\b\b\b\b\b\b\b\b\b\b\b\b\b\b\b\b\b\b\b\b\b\b\b\b\b\b\b\b\b\b\b\b\b\b\b\b\b\b\b\b\b\b\b\b\b\b\b\b\b\b\b\b\b\b\b\b\b\b\b\b\b\b\b\b\b\b\b\b\b\b\b\b\b\b\b\b\b\b\b\b\b\b\b\b\b\b\b\b\b\b\b\b\r90/90 [==============================] - 20s 228ms/step - loss: 139.0564 - mae: 8.3170 - mse: 139.0564 - val_loss: 130.7872 - val_mae: 8.2139 - val_mse: 130.7872 - lr: 5.0000e-04\n",
            "Epoch 6/30\n",
            "90/90 [==============================] - 1s 14ms/step - loss: 139.3873 - mae: 8.3392 - mse: 139.3873 - val_loss: 131.1226 - val_mae: 8.2754 - val_mse: 131.1226 - lr: 5.0000e-04\n",
            "Epoch 7/30\n",
            "88/90 [============================>.] - ETA: 0s - loss: 138.8977 - mae: 8.3298 - mse: 138.8977\n",
            "Epoch 7: ReduceLROnPlateau reducing learning rate to 0.0002500000118743628.\n",
            "90/90 [==============================] - 1s 14ms/step - loss: 139.2493 - mae: 8.3347 - mse: 139.2493 - val_loss: 131.4032 - val_mae: 8.3185 - val_mse: 131.4032 - lr: 5.0000e-04\n",
            "Epoch 8/30\n",
            "90/90 [==============================] - ETA: 0s - loss: 138.5721 - mae: 8.3137 - mse: 138.5721"
          ]
        },
        {
          "output_type": "stream",
          "name": "stderr",
          "text": [
            "WARNING:absl:Found untraced functions such as lstm_cell_2_layer_call_fn, lstm_cell_2_layer_call_and_return_conditional_losses, lstm_cell_3_layer_call_fn, lstm_cell_3_layer_call_and_return_conditional_losses while saving (showing 4 of 4). These functions will not be directly callable after loading.\n"
          ]
        },
        {
          "output_type": "stream",
          "name": "stdout",
          "text": [
            "\b\b\b\b\b\b\b\b\b\b\b\b\b\b\b\b\b\b\b\b\b\b\b\b\b\b\b\b\b\b\b\b\b\b\b\b\b\b\b\b\b\b\b\b\b\b\b\b\b\b\b\b\b\b\b\b\b\b\b\b\b\b\b\b\b\b\b\b\b\b\b\b\b\b\b\b\b\b\b\b\b\b\b\b\b\b\b\b\b\b\b\b\b\b\b\r90/90 [==============================] - 20s 226ms/step - loss: 138.5721 - mae: 8.3137 - mse: 138.5721 - val_loss: 130.4209 - val_mae: 7.9092 - val_mse: 130.4209 - lr: 2.5000e-04\n",
            "Epoch 9/30\n",
            "89/90 [============================>.] - ETA: 0s - loss: 137.9884 - mae: 8.2865 - mse: 137.9884\n",
            "Epoch 9: ReduceLROnPlateau reducing learning rate to 0.0001250000059371814.\n"
          ]
        },
        {
          "output_type": "stream",
          "name": "stderr",
          "text": [
            "WARNING:absl:Found untraced functions such as lstm_cell_2_layer_call_fn, lstm_cell_2_layer_call_and_return_conditional_losses, lstm_cell_3_layer_call_fn, lstm_cell_3_layer_call_and_return_conditional_losses while saving (showing 4 of 4). These functions will not be directly callable after loading.\n"
          ]
        },
        {
          "output_type": "stream",
          "name": "stdout",
          "text": [
            "\b\b\b\b\b\b\b\b\b\b\b\b\b\b\b\b\b\b\b\b\b\b\b\b\b\b\b\b\b\b\b\b\b\b\b\b\b\b\b\b\b\b\b\b\b\b\b\b\b\b\b\b\b\b\b\b\b\b\b\b\b\b\b\b\b\b\b\b\b\b\b\b\b\b\b\b\b\b\b\b\b\b\b\b\b\b\b\b\b\b\b\b\b\b\b\r90/90 [==============================] - 20s 226ms/step - loss: 138.5626 - mae: 8.2973 - mse: 138.5626 - val_loss: 130.3718 - val_mae: 7.9129 - val_mse: 130.3718 - lr: 2.5000e-04\n"
          ]
        }
      ]
    },
    {
      "cell_type": "code",
      "source": [
        "model_2.evaluate(val_dataset)"
      ],
      "metadata": {
        "id": "_Gffsg7UyoZS",
        "outputId": "143596f7-5325-46da-a278-56bd076ffb2c",
        "colab": {
          "base_uri": "https://localhost:8080/"
        }
      },
      "execution_count": null,
      "outputs": [
        {
          "output_type": "stream",
          "name": "stdout",
          "text": [
            "90/90 [==============================] - 1s 6ms/step - loss: 138.8042 - mae: 8.4371 - mse: 138.8042\n"
          ]
        },
        {
          "output_type": "execute_result",
          "data": {
            "text/plain": [
              "[138.8041534423828, 8.437093734741211, 138.8041534423828]"
            ]
          },
          "metadata": {},
          "execution_count": 90
        }
      ]
    },
    {
      "cell_type": "code",
      "source": [
        "plot_historys(history_2)"
      ],
      "metadata": {
        "id": "Se6hbewirBGw"
      },
      "execution_count": null,
      "outputs": []
    },
    {
      "cell_type": "markdown",
      "source": [
        "## Bidirectional LSTM\n",
        "\n",
        "- Two input model \n",
        "- Tribrid model"
      ],
      "metadata": {
        "id": "CCLY7cDKb9TJ"
      }
    },
    {
      "cell_type": "code",
      "source": [
        "# 1. Setup protein sequence inputs\n",
        "sequence_inputs = layers.Input(shape=(1,), dtype=tf.string, name='sequence_inputs')\n",
        "sequence_vectors = char_vectorizer(sequence_inputs)\n",
        "sequence_embeddings = character_embedding(sequence_vectors)\n",
        "x = layers.Bidirectional(layers.LSTM(64, return_sequences=True))(sequence_embeddings)\n",
        "sequence_outputs = layers.Bidirectional(layers.LSTM(128))(x)\n",
        "sequence_model = tf.keras.Model(inputs = sequence_inputs, outputs = sequence_outputs)\n",
        "\n",
        "# 2. Setup pH inputs/Model\n",
        "pH_inputs = layers.Input(shape=(1,), dtype=tf.float32, name='ph_inputs')\n",
        "pH_outputs = layers.Dense(128, activation='relu')(pH_inputs)\n",
        "pH_model = tf.keras.Model(inputs = pH_inputs, outputs = pH_outputs)\n",
        "\n",
        "\n",
        "# 4. Concatenate sequence and pH inputs \n",
        "sequence_ph_concat = layers.Concatenate(name='concat_sequence_ph')([sequence_model.output, \n",
        "                                                                    pH_model.output])\n",
        "\n",
        "\n",
        "# 6. Create output layers\n",
        "combined_dense = layers.Dense(256, activation='relu')(sequence_ph_concat)\n",
        "combined_dropout = layers.Dropout(0.5)(combined_dense)\n",
        "x = layers.Dense(128, activation='relu')(combined_dropout)\n",
        "final_dropout = layers.Dropout(0.4)(x)\n",
        "final_dense = layers.Dense(128, activation='relu')(final_dropout)\n",
        "\n",
        "# 7. Create output layer\n",
        "output_layer = layers.Dense(1, activation='linear')(final_dense) \n",
        "\n",
        "# Construct the model \n",
        "model_3 = tf.keras.Model(inputs=[sequence_model.input, pH_model.input],\n",
        "                         outputs=output_layer,\n",
        "                         name='model_3_bidirectional_LSTM')"
      ],
      "metadata": {
        "id": "vurdk2MixzY7"
      },
      "execution_count": 68,
      "outputs": []
    },
    {
      "cell_type": "code",
      "source": [
        "model_3.summary() "
      ],
      "metadata": {
        "colab": {
          "base_uri": "https://localhost:8080/"
        },
        "id": "ZR1JokSoylVr",
        "outputId": "8e0233bc-9f38-4722-fe0e-1b687684cf21"
      },
      "execution_count": 69,
      "outputs": [
        {
          "output_type": "stream",
          "name": "stdout",
          "text": [
            "Model: \"model_3_bidirectional_LSTM\"\n",
            "__________________________________________________________________________________________________\n",
            " Layer (type)                   Output Shape         Param #     Connected to                     \n",
            "==================================================================================================\n",
            " sequence_inputs (InputLayer)   [(None, 1)]          0           []                               \n",
            "                                                                                                  \n",
            " char_vectorizer (TextVectoriza  (None, 1374)        0           ['sequence_inputs[0][0]']        \n",
            " tion)                                                                                            \n",
            "                                                                                                  \n",
            " embedding (Embedding)          (None, 1374, 128)    2688        ['char_vectorizer[0][0]']        \n",
            "                                                                                                  \n",
            " bidirectional (Bidirectional)  (None, 1374, 128)    98816       ['embedding[0][0]']              \n",
            "                                                                                                  \n",
            " ph_inputs (InputLayer)         [(None, 1)]          0           []                               \n",
            "                                                                                                  \n",
            " bidirectional_1 (Bidirectional  (None, 256)         263168      ['bidirectional[0][0]']          \n",
            " )                                                                                                \n",
            "                                                                                                  \n",
            " dense (Dense)                  (None, 128)          256         ['ph_inputs[0][0]']              \n",
            "                                                                                                  \n",
            " concat_sequence_ph (Concatenat  (None, 384)         0           ['bidirectional_1[0][0]',        \n",
            " e)                                                               'dense[0][0]']                  \n",
            "                                                                                                  \n",
            " dense_1 (Dense)                (None, 256)          98560       ['concat_sequence_ph[0][0]']     \n",
            "                                                                                                  \n",
            " dropout (Dropout)              (None, 256)          0           ['dense_1[0][0]']                \n",
            "                                                                                                  \n",
            " dense_2 (Dense)                (None, 128)          32896       ['dropout[0][0]']                \n",
            "                                                                                                  \n",
            " dropout_1 (Dropout)            (None, 128)          0           ['dense_2[0][0]']                \n",
            "                                                                                                  \n",
            " dense_3 (Dense)                (None, 128)          16512       ['dropout_1[0][0]']              \n",
            "                                                                                                  \n",
            " dense_4 (Dense)                (None, 1)            129         ['dense_3[0][0]']                \n",
            "                                                                                                  \n",
            "==================================================================================================\n",
            "Total params: 513,025\n",
            "Trainable params: 513,025\n",
            "Non-trainable params: 0\n",
            "__________________________________________________________________________________________________\n"
          ]
        }
      ]
    },
    {
      "cell_type": "code",
      "source": [
        "model_3.compile(loss='mse',\n",
        "                optimizer = tf.keras.optimizers.Adam(),\n",
        "                metrics=['mae'])"
      ],
      "metadata": {
        "id": "E6MCKcHcyy3T"
      },
      "execution_count": 70,
      "outputs": []
    },
    {
      "cell_type": "code",
      "source": [
        "model_3.load_weights(\"/content/drive/MyDrive/model_3_bidirectional_LSTM\")"
      ],
      "metadata": {
        "colab": {
          "base_uri": "https://localhost:8080/"
        },
        "id": "QNwF2GowXY9J",
        "outputId": "443cca33-8372-445f-c217-7526680beb1d"
      },
      "execution_count": 75,
      "outputs": [
        {
          "output_type": "execute_result",
          "data": {
            "text/plain": [
              "<tensorflow.python.training.tracking.util.CheckpointLoadStatus at 0x7f2e63439460>"
            ]
          },
          "metadata": {},
          "execution_count": 75
        }
      ]
    },
    {
      "cell_type": "code",
      "source": [
        "model_3.evaluate(val_char_dataset)"
      ],
      "metadata": {
        "colab": {
          "base_uri": "https://localhost:8080/"
        },
        "id": "WHgS8Yw9YHxh",
        "outputId": "4f1f26c9-2d1a-4b13-9a07-e4f94b9f07d3"
      },
      "execution_count": 76,
      "outputs": [
        {
          "output_type": "stream",
          "name": "stdout",
          "text": [
            "45/45 [==============================] - 19s 113ms/step - loss: 53.5737 - mae: 5.5704\n"
          ]
        },
        {
          "output_type": "execute_result",
          "data": {
            "text/plain": [
              "[53.57374954223633, 5.570354461669922]"
            ]
          },
          "metadata": {},
          "execution_count": 76
        }
      ]
    },
    {
      "cell_type": "code",
      "source": [
        "history_3 = model_3.fit(train_char_dataset, \n",
        "                        epochs=100,\n",
        "                        steps_per_epoch = len(train_char_dataset),\n",
        "                        validation_data=val_char_dataset,\n",
        "                        validation_steps = len(val_char_dataset),\n",
        "                        callbacks=[reduce_lr, early_stopping, model_checkpoint(model_3.name)])"
      ],
      "metadata": {
        "colab": {
          "base_uri": "https://localhost:8080/"
        },
        "id": "236d0WpYYSjO",
        "outputId": "413568b9-23bc-48ed-b3ee-0c20c1719af3"
      },
      "execution_count": 77,
      "outputs": [
        {
          "output_type": "stream",
          "name": "stdout",
          "text": [
            "Epoch 1/100\n",
            "852/852 [==============================] - 190s 207ms/step - loss: 61.0077 - mae: 5.8783 - val_loss: 51.7049 - val_mae: 5.4915 - lr: 0.0010\n",
            "Epoch 2/100\n",
            "852/852 [==============================] - 176s 207ms/step - loss: 59.2844 - mae: 5.7934 - val_loss: 52.4890 - val_mae: 5.4694 - lr: 0.0010\n",
            "Epoch 3/100\n",
            "852/852 [==============================] - 177s 207ms/step - loss: 57.5309 - mae: 5.7224 - val_loss: 57.4088 - val_mae: 5.6700 - lr: 0.0010\n",
            "Epoch 4/100\n",
            "852/852 [==============================] - 180s 211ms/step - loss: 56.2924 - mae: 5.6723 - val_loss: 54.6354 - val_mae: 5.5572 - lr: 0.0010\n",
            "Epoch 5/100\n",
            "852/852 [==============================] - 179s 210ms/step - loss: 54.5275 - mae: 5.5897 - val_loss: 55.8888 - val_mae: 5.5423 - lr: 0.0010\n",
            "Epoch 6/100\n",
            "852/852 [==============================] - 180s 211ms/step - loss: 53.0809 - mae: 5.5283 - val_loss: 56.0055 - val_mae: 5.5344 - lr: 0.0010\n",
            "Epoch 7/100\n",
            "852/852 [==============================] - 180s 211ms/step - loss: 52.1002 - mae: 5.4751 - val_loss: 57.4199 - val_mae: 5.6177 - lr: 0.0010\n",
            "Epoch 8/100\n",
            "852/852 [==============================] - 181s 212ms/step - loss: 52.0311 - mae: 5.4704 - val_loss: 56.2867 - val_mae: 5.4873 - lr: 0.0010\n",
            "Epoch 9/100\n",
            "852/852 [==============================] - ETA: 0s - loss: 51.0188 - mae: 5.4239\n",
            "Epoch 9: ReduceLROnPlateau reducing learning rate to 0.0004000000189989805.\n",
            "852/852 [==============================] - 180s 212ms/step - loss: 51.0188 - mae: 5.4239 - val_loss: 55.4196 - val_mae: 5.5276 - lr: 0.0010\n",
            "Epoch 10/100\n",
            "852/852 [==============================] - 181s 212ms/step - loss: 46.2591 - mae: 5.1831 - val_loss: 53.9050 - val_mae: 5.4767 - lr: 4.0000e-04\n",
            "Epoch 11/100\n",
            "852/852 [==============================] - 180s 211ms/step - loss: 44.6969 - mae: 5.1090 - val_loss: 52.6121 - val_mae: 5.4308 - lr: 4.0000e-04\n"
          ]
        }
      ]
    },
    {
      "cell_type": "code",
      "source": [
        "model_3.save(\"/content/drive/MyDrive/Novozyme_Competition/novozyme_competition/model_3_bidirectional_lstm_tribrid_from_checkpoint\")"
      ],
      "metadata": {
        "colab": {
          "base_uri": "https://localhost:8080/"
        },
        "id": "wKTU8iZnh8u_",
        "outputId": "f38252c2-9f5b-4ae5-f6bf-719c3035d4f0"
      },
      "execution_count": 78,
      "outputs": [
        {
          "output_type": "stream",
          "name": "stderr",
          "text": [
            "WARNING:absl:Found untraced functions such as lstm_cell_1_layer_call_fn, lstm_cell_1_layer_call_and_return_conditional_losses, lstm_cell_2_layer_call_fn, lstm_cell_2_layer_call_and_return_conditional_losses, lstm_cell_4_layer_call_fn while saving (showing 5 of 8). These functions will not be directly callable after loading.\n"
          ]
        }
      ]
    },
    {
      "cell_type": "code",
      "source": [
        "history_3 = model_3.fit(train_char_dataset, \n",
        "                        epochs=100,\n",
        "                        steps_per_epoch = len(train_char_dataset),\n",
        "                        validation_data=val_char_dataset,\n",
        "                        validation_steps = len(val_char_dataset),\n",
        "                        callbacks=[reduce_lr, early_stopping, model_checkpoint(model_3.name)])"
      ],
      "metadata": {
        "id": "OA8Nt3TFyyxe"
      },
      "execution_count": null,
      "outputs": []
    },
    {
      "cell_type": "code",
      "source": [
        "# 1. Setup protein sequence inputs (tribrid model)\n",
        "sequence_inputs = layers.Input(shape=(1,), dtype=tf.string, name='sequence_inputs')\n",
        "sequence_vectors = char_vectorizer(sequence_inputs)\n",
        "sequence_embeddings = character_embedding(sequence_vectors)\n",
        "x = layers.Bidirectional(layers.LSTM(64, return_sequences=True))(sequence_embeddings)\n",
        "sequence_outputs = layers.Bidirectional(layers.LSTM(128))(x)\n",
        "sequence_model = tf.keras.Model(inputs = sequence_inputs, outputs = sequence_outputs)\n",
        "\n",
        "# 2. Setup pH inputs/Model\n",
        "pH_inputs = layers.Input(shape=(1,), dtype=tf.float32, name='ph_inputs')\n",
        "pH_outputs = layers.Dense(32, activation='relu')(pH_inputs)\n",
        "pH_model = tf.keras.Model(inputs = pH_inputs, outputs = pH_outputs)\n",
        "\n",
        "# 3. Set up letter count inputs \n",
        "letter_count_inputs = layers.Input(shape=(20,), dtype=tf.float32, name=\"letter_count_input\")\n",
        "x = layers.Dense(32, activation='relu')(letter_count_inputs)\n",
        "letter_count_model = tf.keras.Model(inputs=letter_count_inputs, \n",
        "                                    outputs=x)\n",
        "\n",
        "# 4. Concatenate sequence and pH inputs \n",
        "sequence_ph_concat = layers.Concatenate(name='concat_sequence_ph')([sequence_model.output, \n",
        "                                                                    pH_model.output])\n",
        "\n",
        "z = layers.Dense(256, activation='relu')(sequence_ph_concat)\n",
        "z = layers.Dropout(0.2)(z)\n",
        "z = layers.Dense(128, activation='relu')(z)\n",
        "z = layers.Dropout(0.2)(z)\n",
        "\n",
        "# 5. Combine letter count embeddings with sequence and ph embeddings for tribrid model\n",
        "z = layers.Concatenate(name='sequence_ph_lettercount_embedding')([letter_count_model.output, \n",
        "                                                                  z])\n",
        "# 7. Create output layer\n",
        "output_layer = layers.Dense(1, activation='linear')(z) \n",
        "\n",
        "# Construct the model \n",
        "model_3 = tf.keras.Model(inputs=[letter_count_model.input, sequence_model.input, pH_model.input],\n",
        "                         outputs=output_layer,\n",
        "                         name='model_3_bidirectional_LSTM_tribrid')"
      ],
      "metadata": {
        "id": "wawaikWpV1Am"
      },
      "execution_count": 160,
      "outputs": []
    },
    {
      "cell_type": "code",
      "source": [
        "model_3.summary()"
      ],
      "metadata": {
        "colab": {
          "base_uri": "https://localhost:8080/"
        },
        "id": "Ck43OXT6iH8W",
        "outputId": "a76b3e5b-b459-4327-fe5c-70a9fee3af52"
      },
      "execution_count": 161,
      "outputs": [
        {
          "output_type": "stream",
          "name": "stdout",
          "text": [
            "Model: \"model_3_bidirectional_LSTM_tribrid\"\n",
            "__________________________________________________________________________________________________\n",
            " Layer (type)                   Output Shape         Param #     Connected to                     \n",
            "==================================================================================================\n",
            " sequence_inputs (InputLayer)   [(None, 1)]          0           []                               \n",
            "                                                                                                  \n",
            " char_vectorizer (TextVectoriza  (None, 1374)        0           ['sequence_inputs[0][0]']        \n",
            " tion)                                                                                            \n",
            "                                                                                                  \n",
            " embedding (Embedding)          (None, 1374, 128)    2816        ['char_vectorizer[1][0]']        \n",
            "                                                                                                  \n",
            " bidirectional_2 (Bidirectional  (None, 1374, 128)   98816       ['embedding[1][0]']              \n",
            " )                                                                                                \n",
            "                                                                                                  \n",
            " ph_inputs (InputLayer)         [(None, 1)]          0           []                               \n",
            "                                                                                                  \n",
            " bidirectional_3 (Bidirectional  (None, 256)         263168      ['bidirectional_2[0][0]']        \n",
            " )                                                                                                \n",
            "                                                                                                  \n",
            " dense_5 (Dense)                (None, 32)           64          ['ph_inputs[0][0]']              \n",
            "                                                                                                  \n",
            " concat_sequence_ph (Concatenat  (None, 288)         0           ['bidirectional_3[0][0]',        \n",
            " e)                                                               'dense_5[0][0]']                \n",
            "                                                                                                  \n",
            " dense_7 (Dense)                (None, 256)          73984       ['concat_sequence_ph[0][0]']     \n",
            "                                                                                                  \n",
            " dropout_2 (Dropout)            (None, 256)          0           ['dense_7[0][0]']                \n",
            "                                                                                                  \n",
            " letter_count_input (InputLayer  [(None, 20)]        0           []                               \n",
            " )                                                                                                \n",
            "                                                                                                  \n",
            " dense_8 (Dense)                (None, 128)          32896       ['dropout_2[0][0]']              \n",
            "                                                                                                  \n",
            " dense_6 (Dense)                (None, 32)           672         ['letter_count_input[0][0]']     \n",
            "                                                                                                  \n",
            " dropout_3 (Dropout)            (None, 128)          0           ['dense_8[0][0]']                \n",
            "                                                                                                  \n",
            " sequence_ph_lettercount_embedd  (None, 160)         0           ['dense_6[0][0]',                \n",
            " ing (Concatenate)                                                'dropout_3[0][0]']              \n",
            "                                                                                                  \n",
            " dense_9 (Dense)                (None, 1)            161         ['sequence_ph_lettercount_embeddi\n",
            "                                                                 ng[0][0]']                       \n",
            "                                                                                                  \n",
            "==================================================================================================\n",
            "Total params: 472,577\n",
            "Trainable params: 472,577\n",
            "Non-trainable params: 0\n",
            "__________________________________________________________________________________________________\n"
          ]
        }
      ]
    },
    {
      "cell_type": "code",
      "source": [
        "# PLot model_3 \n",
        "from tensorflow.keras.utils import plot_model \n",
        "plot_model(model_3, show_shapes=True)"
      ],
      "metadata": {
        "colab": {
          "base_uri": "https://localhost:8080/",
          "height": 1000
        },
        "id": "sE4Ww6oIb1zv",
        "outputId": "8a89fc4e-e053-4353-a39c-b2b8792b2e7b"
      },
      "execution_count": 162,
      "outputs": [
        {
          "output_type": "execute_result",
          "data": {
            "image/png": "[encoded data removed]",
            "text/plain": [
              "<IPython.core.display.Image object>"
            ]
          },
          "metadata": {},
          "execution_count": 162
        }
      ]
    },
    {
      "cell_type": "code",
      "source": [
        "model_3.compile(loss='mse',\n",
        "                optimizer = tf.keras.optimizers.Adam(),\n",
        "                metrics=['mae', 'mse'])"
      ],
      "metadata": {
        "id": "uU6jUthKcpSA"
      },
      "execution_count": 163,
      "outputs": []
    },
    {
      "cell_type": "code",
      "source": [
        "history_3 = model_3.fit(tribrid_train_char_dataset, \n",
        "                        epochs=100,\n",
        "                        steps_per_epoch = len(tribrid_train_char_dataset),\n",
        "                        validation_data=tribrid_val_char_dataset,\n",
        "                        validation_steps = len(tribrid_val_char_dataset),\n",
        "                        callbacks=[reduce_lr, early_stopping, model_checkpoint(model_3.name)])"
      ],
      "metadata": {
        "colab": {
          "base_uri": "https://localhost:8080/"
        },
        "id": "j5jWmZ9vcxo4",
        "outputId": "b66960ac-bea3-4aa4-e7eb-0ae333b4d49a"
      },
      "execution_count": 164,
      "outputs": [
        {
          "output_type": "stream",
          "name": "stdout",
          "text": [
            "Epoch 1/100\n",
            "852/852 [==============================] - 191s 204ms/step - loss: 188.1436 - mae: 9.8754 - mse: 188.1436 - val_loss: 97.2989 - val_mae: 7.1350 - val_mse: 97.2989 - lr: 0.0010\n",
            "Epoch 2/100\n",
            "852/852 [==============================] - 169s 199ms/step - loss: 120.0608 - mae: 8.2907 - mse: 120.0608 - val_loss: 86.3272 - val_mae: 6.9545 - val_mse: 86.3272 - lr: 0.0010\n",
            "Epoch 3/100\n",
            "852/852 [==============================] - 170s 199ms/step - loss: 110.8201 - mae: 7.9764 - mse: 110.8201 - val_loss: 87.4644 - val_mae: 7.2113 - val_mse: 87.4644 - lr: 0.0010\n",
            "Epoch 4/100\n",
            "852/852 [==============================] - 176s 206ms/step - loss: 105.4548 - mae: 7.7921 - mse: 105.4548 - val_loss: 79.6145 - val_mae: 6.7192 - val_mse: 79.6145 - lr: 0.0010\n",
            "Epoch 5/100\n",
            "852/852 [==============================] - 171s 201ms/step - loss: 117.1861 - mae: 8.1352 - mse: 117.1861 - val_loss: 111.4156 - val_mae: 7.9764 - val_mse: 111.4156 - lr: 0.0010\n",
            "Epoch 6/100\n",
            "852/852 [==============================] - 168s 198ms/step - loss: 103.5355 - mae: 7.6872 - mse: 103.5355 - val_loss: 81.5688 - val_mae: 6.8460 - val_mse: 81.5688 - lr: 0.0010\n",
            "Epoch 7/100\n",
            "852/852 [==============================] - 169s 198ms/step - loss: 94.7732 - mae: 7.3501 - mse: 94.7732 - val_loss: 77.4027 - val_mae: 6.7090 - val_mse: 77.4027 - lr: 0.0010\n",
            "Epoch 8/100\n",
            "852/852 [==============================] - 170s 199ms/step - loss: 85.0552 - mae: 6.9532 - mse: 85.0552 - val_loss: 68.9426 - val_mae: 6.3632 - val_mse: 68.9426 - lr: 0.0010\n",
            "Epoch 9/100\n",
            "852/852 [==============================] - 170s 200ms/step - loss: 79.7129 - mae: 6.7130 - mse: 79.7129 - val_loss: 68.1914 - val_mae: 6.2950 - val_mse: 68.1914 - lr: 0.0010\n",
            "Epoch 10/100\n",
            "852/852 [==============================] - 170s 199ms/step - loss: 76.3361 - mae: 6.5541 - mse: 76.3361 - val_loss: 64.6999 - val_mae: 6.0687 - val_mse: 64.6999 - lr: 0.0010\n",
            "Epoch 11/100\n",
            "852/852 [==============================] - 170s 200ms/step - loss: 74.0112 - mae: 6.4390 - mse: 74.0112 - val_loss: 66.9547 - val_mae: 6.0903 - val_mse: 66.9547 - lr: 0.0010\n",
            "Epoch 12/100\n",
            "852/852 [==============================] - 172s 201ms/step - loss: 70.7361 - mae: 6.2995 - mse: 70.7361 - val_loss: 63.3070 - val_mae: 5.9387 - val_mse: 63.3070 - lr: 0.0010\n",
            "Epoch 13/100\n",
            "852/852 [==============================] - 170s 199ms/step - loss: 68.4948 - mae: 6.2185 - mse: 68.4948 - val_loss: 62.2578 - val_mae: 5.8931 - val_mse: 62.2578 - lr: 0.0010\n",
            "Epoch 14/100\n",
            "852/852 [==============================] - 169s 198ms/step - loss: 66.9119 - mae: 6.1428 - mse: 66.9119 - val_loss: 65.1524 - val_mae: 6.0101 - val_mse: 65.1524 - lr: 0.0010\n",
            "Epoch 15/100\n",
            "852/852 [==============================] - 170s 199ms/step - loss: 65.5334 - mae: 6.0919 - mse: 65.5334 - val_loss: 62.3883 - val_mae: 5.8282 - val_mse: 62.3883 - lr: 0.0010\n",
            "Epoch 16/100\n",
            "852/852 [==============================] - 171s 200ms/step - loss: 63.1559 - mae: 5.9753 - mse: 63.1559 - val_loss: 61.8911 - val_mae: 5.8220 - val_mse: 61.8911 - lr: 0.0010\n",
            "Epoch 17/100\n",
            "852/852 [==============================] - 169s 199ms/step - loss: 61.5951 - mae: 5.9088 - mse: 61.5951 - val_loss: 61.1516 - val_mae: 5.7490 - val_mse: 61.1516 - lr: 0.0010\n",
            "Epoch 18/100\n",
            "852/852 [==============================] - 170s 199ms/step - loss: 59.4814 - mae: 5.8139 - mse: 59.4814 - val_loss: 61.8645 - val_mae: 5.7789 - val_mse: 61.8645 - lr: 0.0010\n",
            "Epoch 19/100\n",
            "852/852 [==============================] - 170s 200ms/step - loss: 57.6417 - mae: 5.7165 - mse: 57.6417 - val_loss: 60.1274 - val_mae: 5.7197 - val_mse: 60.1274 - lr: 0.0010\n",
            "Epoch 20/100\n",
            "852/852 [==============================] - 170s 199ms/step - loss: 55.9382 - mae: 5.6313 - mse: 55.9382 - val_loss: 60.7685 - val_mae: 5.7059 - val_mse: 60.7685 - lr: 0.0010\n",
            "Epoch 21/100\n",
            "852/852 [==============================] - 171s 201ms/step - loss: 53.6837 - mae: 5.5332 - mse: 53.6837 - val_loss: 60.9219 - val_mae: 5.6990 - val_mse: 60.9219 - lr: 0.0010\n",
            "Epoch 22/100\n",
            "852/852 [==============================] - 170s 200ms/step - loss: 52.1001 - mae: 5.4565 - mse: 52.1001 - val_loss: 60.5201 - val_mae: 5.6929 - val_mse: 60.5201 - lr: 0.0010\n",
            "Epoch 23/100\n",
            "852/852 [==============================] - 171s 200ms/step - loss: 50.9356 - mae: 5.4061 - mse: 50.9356 - val_loss: 58.8798 - val_mae: 5.6482 - val_mse: 58.8798 - lr: 0.0010\n",
            "Epoch 24/100\n",
            "852/852 [==============================] - 173s 202ms/step - loss: 49.6209 - mae: 5.3379 - mse: 49.6209 - val_loss: 61.5552 - val_mae: 5.7636 - val_mse: 61.5552 - lr: 0.0010\n",
            "Epoch 25/100\n",
            "852/852 [==============================] - 172s 202ms/step - loss: 47.9256 - mae: 5.2641 - mse: 47.9256 - val_loss: 59.6092 - val_mae: 5.6415 - val_mse: 59.6092 - lr: 0.0010\n",
            "Epoch 26/100\n",
            "852/852 [==============================] - 172s 202ms/step - loss: 46.4820 - mae: 5.1940 - mse: 46.4820 - val_loss: 60.2030 - val_mae: 5.6440 - val_mse: 60.2030 - lr: 0.0010\n",
            "Epoch 27/100\n",
            "852/852 [==============================] - 171s 201ms/step - loss: 44.8107 - mae: 5.0924 - mse: 44.8107 - val_loss: 59.9777 - val_mae: 5.5888 - val_mse: 59.9777 - lr: 0.0010\n",
            "Epoch 28/100\n",
            "852/852 [==============================] - 170s 200ms/step - loss: 42.6236 - mae: 4.9828 - mse: 42.6236 - val_loss: 62.6751 - val_mae: 5.7253 - val_mse: 62.6751 - lr: 0.0010\n",
            "Epoch 29/100\n",
            "852/852 [==============================] - 170s 200ms/step - loss: 40.9002 - mae: 4.8854 - mse: 40.9002 - val_loss: 62.4676 - val_mae: 5.7544 - val_mse: 62.4676 - lr: 0.0010\n",
            "Epoch 30/100\n",
            "852/852 [==============================] - 171s 201ms/step - loss: 39.5352 - mae: 4.7968 - mse: 39.5352 - val_loss: 61.3506 - val_mae: 5.6655 - val_mse: 61.3506 - lr: 0.0010\n",
            "Epoch 31/100\n",
            "852/852 [==============================] - ETA: 0s - loss: 38.7935 - mae: 4.7432 - mse: 38.7935\n",
            "Epoch 31: ReduceLROnPlateau reducing learning rate to 0.0004000000189989805.\n",
            "852/852 [==============================] - 173s 203ms/step - loss: 38.7935 - mae: 4.7432 - mse: 38.7935 - val_loss: 64.4010 - val_mae: 5.8028 - val_mse: 64.4010 - lr: 0.0010\n",
            "Epoch 32/100\n",
            "852/852 [==============================] - 175s 205ms/step - loss: 34.8081 - mae: 4.4965 - mse: 34.8081 - val_loss: 64.0649 - val_mae: 5.7225 - val_mse: 64.0649 - lr: 4.0000e-04\n",
            "Epoch 33/100\n",
            "852/852 [==============================] - 174s 205ms/step - loss: 32.7003 - mae: 4.3397 - mse: 32.7003 - val_loss: 65.4074 - val_mae: 5.7940 - val_mse: 65.4074 - lr: 4.0000e-04\n"
          ]
        }
      ]
    },
    {
      "cell_type": "code",
      "source": [
        "model_3.evaluate(tribrid_val_char_dataset)"
      ],
      "metadata": {
        "colab": {
          "base_uri": "https://localhost:8080/"
        },
        "id": "tj28JQ2kBXnu",
        "outputId": "eb6598cb-5709-4fc2-bc73-4defcc143a96"
      },
      "execution_count": 166,
      "outputs": [
        {
          "output_type": "stream",
          "name": "stdout",
          "text": [
            "45/45 [==============================] - 9s 101ms/step - loss: 58.8798 - mae: 5.6482 - mse: 58.8798\n"
          ]
        },
        {
          "output_type": "execute_result",
          "data": {
            "text/plain": [
              "[58.879764556884766, 5.648226737976074, 58.879764556884766]"
            ]
          },
          "metadata": {},
          "execution_count": 166
        }
      ]
    },
    {
      "cell_type": "code",
      "source": [
        "plot_historys(history_3)"
      ],
      "metadata": {
        "colab": {
          "base_uri": "https://localhost:8080/",
          "height": 458
        },
        "id": "walGiTKMBdDq",
        "outputId": "f4f9388c-2726-4012-9f77-cf1abf62eee4"
      },
      "execution_count": 167,
      "outputs": [
        {
          "output_type": "display_data",
          "data": {
            "text/plain": [
              "<Figure size 720x504 with 2 Axes>"
            ],
            "image/png": "[encoded data removed]"
          },
          "metadata": {
            "needs_background": "light"
          }
        }
      ]
    },
    {
      "cell_type": "code",
      "source": [
        "model_3_preds = model_3.predict(val_char_dataset)\n",
        "model_3_preds[:50]"
      ],
      "metadata": {
        "id": "vIUQfq32gKQO",
        "colab": {
          "base_uri": "https://localhost:8080/"
        },
        "outputId": "d6077274-9f9a-4761-bc73-53b94cdd516c"
      },
      "execution_count": null,
      "outputs": [
        {
          "output_type": "stream",
          "name": "stdout",
          "text": [
            "90/90 [==============================] - 15s 99ms/step\n"
          ]
        },
        {
          "output_type": "execute_result",
          "data": {
            "text/plain": [
              "array([[35.981728],\n",
              "       [48.23337 ],\n",
              "       [54.10513 ],\n",
              "       [37.45573 ],\n",
              "       [37.925793],\n",
              "       [37.4443  ],\n",
              "       [43.249626],\n",
              "       [37.642696],\n",
              "       [38.91093 ],\n",
              "       [36.8552  ],\n",
              "       [41.2096  ],\n",
              "       [37.07623 ],\n",
              "       [39.22142 ],\n",
              "       [44.23147 ],\n",
              "       [37.274803],\n",
              "       [39.197098],\n",
              "       [38.482773],\n",
              "       [54.387543],\n",
              "       [54.755157],\n",
              "       [34.523243],\n",
              "       [39.10574 ],\n",
              "       [39.57762 ],\n",
              "       [49.460896],\n",
              "       [40.610165],\n",
              "       [38.997623],\n",
              "       [37.647556],\n",
              "       [38.10509 ],\n",
              "       [38.570015],\n",
              "       [39.504807],\n",
              "       [45.78976 ],\n",
              "       [35.126972],\n",
              "       [48.450443],\n",
              "       [48.08054 ],\n",
              "       [39.966606],\n",
              "       [46.986446],\n",
              "       [46.31868 ],\n",
              "       [38.064262],\n",
              "       [45.436447],\n",
              "       [43.641273],\n",
              "       [56.35659 ],\n",
              "       [40.719967],\n",
              "       [42.225266],\n",
              "       [61.856884],\n",
              "       [38.1697  ],\n",
              "       [51.423233],\n",
              "       [35.899887],\n",
              "       [39.097233],\n",
              "       [37.942764],\n",
              "       [41.46731 ],\n",
              "       [42.37277 ]], dtype=float32)"
            ]
          },
          "metadata": {},
          "execution_count": 142
        }
      ]
    },
    {
      "cell_type": "code",
      "source": [
        "model_3.save(\"/content/drive/MyDrive/Novozyme_Competition/novozyme_competition/model_3_bidirectional_lstm_tribrid_letter_count_normalized\")"
      ],
      "metadata": {
        "id": "5qozgOKcH4k5",
        "colab": {
          "base_uri": "https://localhost:8080/"
        },
        "outputId": "d2deafd4-6a54-4b50-d6db-74a33bafbf98"
      },
      "execution_count": 168,
      "outputs": [
        {
          "output_type": "stream",
          "name": "stderr",
          "text": [
            "WARNING:absl:Found untraced functions such as lstm_cell_7_layer_call_fn, lstm_cell_7_layer_call_and_return_conditional_losses, lstm_cell_8_layer_call_fn, lstm_cell_8_layer_call_and_return_conditional_losses, lstm_cell_10_layer_call_fn while saving (showing 5 of 8). These functions will not be directly callable after loading.\n"
          ]
        }
      ]
    },
    {
      "cell_type": "code",
      "source": [
        "import tensorflow as tf\n",
        "# Load model \n",
        "loaded_model_3 = tf.keras.models.load_model(\"/content/drive/MyDrive/Novozyme_Competition/novozyme_competition/model_3_bidirectional_lstm_2\")"
      ],
      "metadata": {
        "id": "hBw913-1n32d"
      },
      "execution_count": null,
      "outputs": []
    },
    {
      "cell_type": "code",
      "source": [
        "loaded_model_3.evaluate(val_char_dataset)"
      ],
      "metadata": {
        "colab": {
          "base_uri": "https://localhost:8080/"
        },
        "id": "fB4PisdWovxi",
        "outputId": "b965a750-7c20-4188-adcb-871bd5adb966"
      },
      "execution_count": null,
      "outputs": [
        {
          "output_type": "stream",
          "name": "stdout",
          "text": [
            "90/90 [==============================] - 171s 2s/step - loss: 40.4014 - mae: 4.7388 - mse: 40.4014\n"
          ]
        },
        {
          "output_type": "execute_result",
          "data": {
            "text/plain": [
              "[40.401432037353516, 4.738784313201904, 40.401432037353516]"
            ]
          },
          "metadata": {},
          "execution_count": 65
        }
      ]
    },
    {
      "cell_type": "code",
      "source": [
        "model_3_preds = model_3.predict([test_letter_counts, test_char_seq, test_ph_norm])\n",
        "model_3_preds"
      ],
      "metadata": {
        "colab": {
          "base_uri": "https://localhost:8080/"
        },
        "id": "H3ZwSzGiqWk4",
        "outputId": "8b5a0c3e-ee35-4b2f-d74f-b757b80bfa94"
      },
      "execution_count": 177,
      "outputs": [
        {
          "output_type": "stream",
          "name": "stdout",
          "text": [
            "76/76 [==============================] - 3s 37ms/step\n"
          ]
        },
        {
          "output_type": "execute_result",
          "data": {
            "text/plain": [
              "array([[49.066048],\n",
              "       [48.95515 ],\n",
              "       [49.03468 ],\n",
              "       ...,\n",
              "       [48.890373],\n",
              "       [49.1917  ],\n",
              "       [49.09229 ]], dtype=float32)"
            ]
          },
          "metadata": {},
          "execution_count": 177
        }
      ]
    },
    {
      "cell_type": "code",
      "source": [
        "model_3_preds[:50]"
      ],
      "metadata": {
        "id": "g87WiswUr_Rt"
      },
      "execution_count": null,
      "outputs": []
    },
    {
      "cell_type": "code",
      "source": [
        "list(tribrid_train_char_dataset.take(1).as_numpy_iterator())"
      ],
      "metadata": {
        "id": "av_M5MTTFbe2"
      },
      "execution_count": null,
      "outputs": []
    },
    {
      "cell_type": "code",
      "source": [
        "# 1. Setup protein sequence inputs (tribrid model)\n",
        "sequence_inputs = layers.Input(shape=(1,), dtype=tf.string, name='sequence_inputs')\n",
        "sequence_vectors = char_vectorizer(sequence_inputs)\n",
        "sequence_embeddings = character_embedding(sequence_vectors)\n",
        "x = layers.Bidirectional(layers.LSTM(64, return_sequences=True))(sequence_embeddings)\n",
        "sequence_outputs = layers.Bidirectional(layers.LSTM(128))(x)\n",
        "sequence_model = tf.keras.Model(inputs = sequence_inputs, outputs = sequence_outputs)\n",
        "\n",
        "# 2. Setup pH inputs/Model\n",
        "pH_inputs = layers.Input(shape=(1,), dtype=tf.float32, name='ph_inputs')\n",
        "pH_outputs = layers.Dense(32, activation='relu')(pH_inputs)\n",
        "pH_model = tf.keras.Model(inputs = pH_inputs, outputs = pH_outputs)\n",
        "\n",
        "# 3. Set up letter count inputs \n",
        "letter_count_inputs = layers.Input(shape=(20,), dtype=tf.float32, name=\"letter_count_input\")\n",
        "x = layers.Dense(32, activation='relu')(letter_count_inputs)\n",
        "letter_count_model = tf.keras.Model(inputs=letter_count_inputs, \n",
        "                                    outputs=x)\n",
        "\n",
        "# 4. Concatenate sequence and pH inputs \n",
        "sequence_ph_concat = layers.Concatenate(name='concat_sequence_ph')([sequence_model.output, \n",
        "                                                                    pH_model.output])\n",
        "\n",
        "z = layers.Dense(256, activation='relu')(sequence_ph_concat)\n",
        "z = layers.BatchNormalization()(z) # Add in BatchNorm layer\n",
        "z = layers.Dense(128, activation='relu')(z)\n",
        "z = layers.Dropout(0.4)(z) # increase dropout to 0.4\n",
        "z = layers.Dense(128, activation='relu')(z)\n",
        "z = layers.BatchNormalization()(z) # Add in BatchNorm layer\n",
        "z = layers.Dense(128, activation='relu')(z)\n",
        "z = layers.Dropout(0.4)(z) # increase dropout to 0.4\n",
        "\n",
        "# 5. Combine letter count embeddings with sequence and ph embeddings for tribrid model\n",
        "z = layers.Concatenate(name='sequence_ph_lettercount_embedding')([letter_count_model.output, \n",
        "                                                                  z])\n",
        "# 7. Create output layer\n",
        "output_layer = layers.Dense(1, activation='linear')(z) \n",
        "\n",
        "# Construct the model \n",
        "model_4 = tf.keras.Model(inputs=[letter_count_model.input, sequence_model.input, pH_model.input],\n",
        "                         outputs=output_layer,\n",
        "                         name='model_4_bidirectional_LSTM_tribrid_with_batch_norm')"
      ],
      "metadata": {
        "id": "R_TrQemvuw3q"
      },
      "execution_count": 186,
      "outputs": []
    },
    {
      "cell_type": "code",
      "source": [
        "model_4.compile(loss='mse',\n",
        "                optimizer = tf.keras.optimizers.Adam(),\n",
        "                metrics=['mae', 'mse'])"
      ],
      "metadata": {
        "id": "m_b0VtdzFAFs"
      },
      "execution_count": 187,
      "outputs": []
    },
    {
      "cell_type": "code",
      "source": [
        "history_4 = model_4.fit(tribrid_train_char_dataset.take(50), \n",
        "                        epochs=10,\n",
        "                        steps_per_epoch = len(tribrid_train_char_dataset.take(50)),\n",
        "                        validation_data=tribrid_val_char_dataset,\n",
        "                        validation_steps = len(tribrid_val_char_dataset),\n",
        "                        callbacks=[reduce_lr, early_stopping, model_checkpoint(model_4.name)])"
      ],
      "metadata": {
        "colab": {
          "base_uri": "https://localhost:8080/"
        },
        "id": "YBgBupvUFELn",
        "outputId": "a310de6c-4259-498a-d7e4-0ac5f807b5f2"
      },
      "execution_count": 188,
      "outputs": [
        {
          "output_type": "stream",
          "name": "stdout",
          "text": [
            "Epoch 1/10\n",
            "50/50 [==============================] - 34s 381ms/step - loss: 2435.4363 - mae: 47.8503 - mse: 2435.4363 - val_loss: 2503.4316 - val_mae: 48.5957 - val_mse: 2503.4316 - lr: 0.0010\n",
            "Epoch 2/10\n",
            "50/50 [==============================] - 15s 291ms/step - loss: 821.2816 - mae: 24.1028 - mse: 821.2816 - val_loss: 1093.4215 - val_mae: 30.9716 - val_mse: 1093.4215 - lr: 0.0010\n",
            "Epoch 3/10\n",
            "50/50 [==============================] - 14s 287ms/step - loss: 300.6125 - mae: 13.6992 - mse: 300.6125 - val_loss: 678.3678 - val_mae: 23.6464 - val_mse: 678.3678 - lr: 0.0010\n",
            "Epoch 4/10\n",
            "50/50 [==============================] - 15s 306ms/step - loss: 235.0114 - mae: 12.0481 - mse: 235.0114 - val_loss: 427.8055 - val_mae: 17.8900 - val_mse: 427.8055 - lr: 0.0010\n",
            "Epoch 5/10\n",
            "50/50 [==============================] - 14s 288ms/step - loss: 194.9554 - mae: 10.7901 - mse: 194.9554 - val_loss: 264.2818 - val_mae: 13.3220 - val_mse: 264.2818 - lr: 0.0010\n",
            "Epoch 6/10\n",
            "50/50 [==============================] - 14s 285ms/step - loss: 186.2286 - mae: 10.4792 - mse: 186.2286 - val_loss: 216.9707 - val_mae: 11.0313 - val_mse: 216.9707 - lr: 0.0010\n",
            "Epoch 7/10\n",
            "50/50 [==============================] - 14s 287ms/step - loss: 170.2873 - mae: 10.1368 - mse: 170.2873 - val_loss: 213.3216 - val_mae: 10.8949 - val_mse: 213.3216 - lr: 0.0010\n",
            "Epoch 8/10\n",
            "50/50 [==============================] - 14s 289ms/step - loss: 154.7718 - mae: 9.5718 - mse: 154.7718 - val_loss: 121.3618 - val_mae: 7.9255 - val_mse: 121.3618 - lr: 0.0010\n",
            "Epoch 9/10\n",
            "50/50 [==============================] - 14s 289ms/step - loss: 156.9666 - mae: 9.6598 - mse: 156.9666 - val_loss: 130.6246 - val_mae: 8.2212 - val_mse: 130.6246 - lr: 0.0010\n",
            "Epoch 10/10\n",
            "50/50 [==============================] - 14s 284ms/step - loss: 150.7957 - mae: 9.5942 - mse: 150.7957 - val_loss: 111.9037 - val_mae: 7.6542 - val_mse: 111.9037 - lr: 0.0010\n"
          ]
        }
      ]
    },
    {
      "cell_type": "code",
      "source": [],
      "metadata": {
        "id": "3hKRu6vdHjgb"
      },
      "execution_count": null,
      "outputs": []
    },
    {
      "cell_type": "code",
      "source": [
        "# 1. Setup protein sequence inputs (tribrid model)\n",
        "sequence_inputs = layers.Input(shape=(1,), dtype=tf.string, name='sequence_inputs')\n",
        "sequence_vectors = char_vectorizer(sequence_inputs)\n",
        "sequence_embeddings = character_embedding(sequence_vectors)\n",
        "x = layers.Bidirectional(layers.LSTM(64, return_sequences=True))(sequence_embeddings)\n",
        "sequence_outputs = layers.Bidirectional(layers.LSTM(128))(x)\n",
        "sequence_model = tf.keras.Model(inputs = sequence_inputs, outputs = sequence_outputs)\n",
        "\n",
        "# 2. Setup pH inputs/Model\n",
        "pH_inputs = layers.Input(shape=(1,), dtype=tf.float32, name='ph_inputs')\n",
        "pH_outputs = layers.Dense(32, activation='relu')(pH_inputs)\n",
        "pH_model = tf.keras.Model(inputs = pH_inputs, outputs = pH_outputs)\n",
        "\n",
        "# 3. Set up letter count inputs \n",
        "letter_count_inputs = layers.Input(shape=(20,), dtype=tf.float32, name=\"letter_count_input\")\n",
        "x = layers.Dense(32, activation='relu')(letter_count_inputs)\n",
        "letter_count_model = tf.keras.Model(inputs=letter_count_inputs, \n",
        "                                    outputs=x)\n",
        "\n",
        "# 4. Concatenate sequence and pH inputs \n",
        "sequence_ph_concat = layers.Concatenate(name='concat_sequence_ph')([sequence_model.output, \n",
        "                                                                    pH_model.output])\n",
        "\n",
        "z = layers.Dense(256, activation='relu')(sequence_ph_concat)\n",
        "z = layers.BatchNormalization()(z) # Add in BatchNorm layer\n",
        "z = layers.Dense(128, activation='relu')(z)\n",
        "z = layers.Dropout(0.4)(z) # increase dropout to 0.4\n",
        "z = layers.Dense(128, activation='relu')(z)\n",
        "z = layers.BatchNormalization()(z) # Add in BatchNorm layer\n",
        "z = layers.Dense(128, activation='relu')(z)\n",
        "z = layers.Dropout(0.4)(z) # increase dropout to 0.4\n",
        "\n",
        "# 5. Combine letter count embeddings with sequence and ph embeddings for tribrid model\n",
        "z = layers.Concatenate(name='sequence_ph_lettercount_embedding')([letter_count_model.output, \n",
        "                                                                  z])\n",
        "\n",
        "final_dense = layers.Dense(1024, activation='relu')(z)\n",
        "\n",
        "# 7. Create output layer\n",
        "output_layer = layers.Dense(1, activation='linear')(final_dense) \n",
        "\n",
        "# Construct the model \n",
        "model_5 = tf.keras.Model(inputs=[letter_count_model.input, sequence_model.input, pH_model.input],\n",
        "                         outputs=output_layer,\n",
        "                         name='model_5_bidirectional_LSTM_tribrid_with_final_dense_plus_batch_norm')"
      ],
      "metadata": {
        "id": "vwnNRrEjHn26"
      },
      "execution_count": 189,
      "outputs": []
    },
    {
      "cell_type": "code",
      "source": [
        "model_5.compile(loss='mae', \n",
        "                optimizer=tf.keras.optimizers.Adam(),\n",
        "                metrics=['mae', 'mse'])"
      ],
      "metadata": {
        "id": "AUvtID9hI96r"
      },
      "execution_count": null,
      "outputs": []
    },
    {
      "cell_type": "code",
      "source": [
        "history_5 = model_5.fit(tribrid_train_char_dataset.take(50), \n",
        "                        epochs=10,\n",
        "                        steps_per_epoch = len(tribrid_train_char_dataset.take(50)),\n",
        "                        validation_data=tribrid_val_char_dataset,\n",
        "                        validation_steps = len(tribrid_val_char_dataset))\n",
        "                        #callbacks=[reduce_lr, early_stopping, model_checkpoint(model_4.name)])"
      ],
      "metadata": {
        "colab": {
          "base_uri": "https://localhost:8080/"
        },
        "id": "v5mXFbv8HjRj",
        "outputId": "7011d8db-5a1a-43a0-ff12-bfd958820167"
      },
      "execution_count": 191,
      "outputs": [
        {
          "output_type": "stream",
          "name": "stdout",
          "text": [
            "Epoch 1/10\n",
            "50/50 [==============================] - 34s 380ms/step - loss: 773.2157 - mae: 21.5014 - mse: 773.2157 - val_loss: 1546.3177 - val_mae: 37.5313 - val_mse: 1546.3177\n",
            "Epoch 2/10\n",
            "50/50 [==============================] - 15s 308ms/step - loss: 177.3243 - mae: 10.1504 - mse: 177.3243 - val_loss: 960.6403 - val_mae: 28.6948 - val_mse: 960.6403\n",
            "Epoch 3/10\n",
            "50/50 [==============================] - 14s 283ms/step - loss: 175.3003 - mae: 10.1397 - mse: 175.3003 - val_loss: 494.6175 - val_mae: 18.2423 - val_mse: 494.6175\n",
            "Epoch 4/10\n",
            "50/50 [==============================] - 14s 287ms/step - loss: 174.8918 - mae: 9.9264 - mse: 174.8918 - val_loss: 300.5040 - val_mae: 13.2445 - val_mse: 300.5040\n",
            "Epoch 5/10\n",
            "50/50 [==============================] - 14s 292ms/step - loss: 152.7605 - mae: 9.3987 - mse: 152.7605 - val_loss: 289.0637 - val_mae: 13.3736 - val_mse: 289.0637\n",
            "Epoch 6/10\n",
            "50/50 [==============================] - 14s 281ms/step - loss: 148.5576 - mae: 9.2715 - mse: 148.5576 - val_loss: 207.8304 - val_mae: 10.5540 - val_mse: 207.8304\n",
            "Epoch 7/10\n",
            "50/50 [==============================] - 14s 282ms/step - loss: 137.0783 - mae: 8.9211 - mse: 137.0783 - val_loss: 185.9293 - val_mae: 10.0444 - val_mse: 185.9293\n",
            "Epoch 8/10\n",
            "50/50 [==============================] - 14s 282ms/step - loss: 123.0316 - mae: 8.3897 - mse: 123.0316 - val_loss: 131.9965 - val_mae: 8.2884 - val_mse: 131.9965\n",
            "Epoch 9/10\n",
            "50/50 [==============================] - 14s 282ms/step - loss: 121.5359 - mae: 8.3195 - mse: 121.5359 - val_loss: 144.8284 - val_mae: 8.5207 - val_mse: 144.8284\n",
            "Epoch 10/10\n",
            "50/50 [==============================] - 15s 302ms/step - loss: 107.7309 - mae: 7.8275 - mse: 107.7309 - val_loss: 130.4585 - val_mae: 8.0591 - val_mse: 130.4585\n"
          ]
        }
      ]
    },
    {
      "cell_type": "code",
      "source": [
        "# 1. Setup protein sequence inputs (tribrid model)\n",
        "sequence_inputs = layers.Input(shape=(1,), dtype=tf.string, name='sequence_inputs')\n",
        "sequence_vectors = char_vectorizer(sequence_inputs)\n",
        "sequence_embeddings = character_embedding(sequence_vectors)\n",
        "x = layers.Bidirectional(layers.LSTM(64, return_sequences=True))(sequence_embeddings)\n",
        "sequence_outputs = layers.Bidirectional(layers.LSTM(128))(x)\n",
        "sequence_model = tf.keras.Model(inputs = sequence_inputs, outputs = sequence_outputs)\n",
        "\n",
        "# 2. Setup pH inputs/Model\n",
        "pH_inputs = layers.Input(shape=(1,), dtype=tf.float32, name='ph_inputs')\n",
        "pH_outputs = layers.Dense(32, activation='relu')(pH_inputs)\n",
        "pH_model = tf.keras.Model(inputs = pH_inputs, outputs = pH_outputs)\n",
        "\n",
        "# 3. Set up letter count inputs \n",
        "letter_count_inputs = layers.Input(shape=(20,), dtype=tf.float32, name=\"letter_count_input\")\n",
        "x = layers.Dense(32, activation='relu')(letter_count_inputs)\n",
        "letter_count_model = tf.keras.Model(inputs=letter_count_inputs, \n",
        "                                    outputs=x)\n",
        "\n",
        "# 4. Concatenate sequence and pH inputs \n",
        "sequence_ph_concat = layers.Concatenate(name='concat_sequence_ph')([sequence_model.output, \n",
        "                                                                    pH_model.output])\n",
        "\n",
        "z = layers.Dense(1024, activation='relu')(sequence_ph_concat)\n",
        "z = layers.BatchNormalization()(z) # Add in BatchNorm layer\n",
        "z = layers.Dense(256, activation='relu')(z)\n",
        "z = layers.Dropout(0.4)(z) # increase dropout to 0.4\n",
        "z = layers.Dense(128, activation='relu')(z)\n",
        "z = layers.BatchNormalization()(z) # Add in BatchNorm layer\n",
        "z = layers.Dense(128, activation='relu')(z)\n",
        "z = layers.Dropout(0.4)(z) # increase dropout to 0.4\n",
        "\n",
        "# 5. Combine letter count embeddings with sequence and ph embeddings for tribrid model\n",
        "z = layers.Concatenate(name='sequence_ph_lettercount_embedding')([letter_count_model.output, \n",
        "                                                                  z])\n",
        "\n",
        "final_dense = layers.Dense(1024, activation='relu')(z)\n",
        "x = layers.BatchNormalization()(final_dense)\n",
        "x = layers.Dropout(0.2)(x)\n",
        "\n",
        "# 7. Create output layer\n",
        "output_layer = layers.Dense(1, activation='linear')(x) \n",
        "\n",
        "# Construct the model \n",
        "model_6 = tf.keras.Model(inputs=[letter_count_model.input, sequence_model.input, pH_model.input],\n",
        "                         outputs=output_layer,\n",
        "                         name='model_6_bidirectional_LSTM_tribrid_with_final_dense_plus_batch_norm')"
      ],
      "metadata": {
        "id": "4Br1-C94HjK7"
      },
      "execution_count": 195,
      "outputs": []
    },
    {
      "cell_type": "code",
      "source": [
        "model_6.compile(loss='mse', \n",
        "                optimizer=tf.keras.optimizers.Adam(),\n",
        "                metrics=['mae', 'mse'])"
      ],
      "metadata": {
        "id": "QPPrGCGXI0zg"
      },
      "execution_count": 196,
      "outputs": []
    },
    {
      "cell_type": "code",
      "source": [
        "history_6 = model_6.fit(tribrid_train_char_dataset.take(50), \n",
        "                        epochs=10,\n",
        "                        steps_per_epoch = len(tribrid_train_char_dataset.take(50)),\n",
        "                        validation_data=tribrid_val_char_dataset,\n",
        "                        validation_steps = len(tribrid_val_char_dataset))"
      ],
      "metadata": {
        "colab": {
          "base_uri": "https://localhost:8080/"
        },
        "id": "gFqa4jIkI068",
        "outputId": "b7f81e2f-4af3-46de-e1a5-e7e33bd75adf"
      },
      "execution_count": 197,
      "outputs": [
        {
          "output_type": "stream",
          "name": "stdout",
          "text": [
            "Epoch 1/10\n",
            "50/50 [==============================] - 36s 379ms/step - loss: 2661.5046 - mae: 50.3375 - mse: 2661.5046 - val_loss: 2586.1226 - val_mae: 49.5101 - val_mse: 2586.1226\n",
            "Epoch 2/10\n",
            "50/50 [==============================] - 14s 281ms/step - loss: 2280.6526 - mae: 46.4956 - mse: 2280.6526 - val_loss: 2180.9080 - val_mae: 45.1998 - val_mse: 2180.9080\n",
            "Epoch 3/10\n",
            "50/50 [==============================] - 15s 292ms/step - loss: 1527.4888 - mae: 37.3423 - mse: 1527.4888 - val_loss: 1243.8571 - val_mae: 33.1616 - val_mse: 1243.8571\n",
            "Epoch 4/10\n",
            "50/50 [==============================] - 14s 280ms/step - loss: 656.9750 - mae: 22.6059 - mse: 656.9750 - val_loss: 511.8063 - val_mae: 20.0307 - val_mse: 511.8063\n",
            "Epoch 5/10\n",
            "50/50 [==============================] - 14s 284ms/step - loss: 231.6481 - mae: 11.3917 - mse: 231.6481 - val_loss: 162.1407 - val_mae: 9.7419 - val_mse: 162.1407\n",
            "Epoch 6/10\n",
            "50/50 [==============================] - 14s 282ms/step - loss: 172.7452 - mae: 9.7237 - mse: 172.7452 - val_loss: 168.6433 - val_mae: 9.2716 - val_mse: 168.6433\n",
            "Epoch 7/10\n",
            "50/50 [==============================] - 14s 279ms/step - loss: 153.4139 - mae: 9.1559 - mse: 153.4139 - val_loss: 149.6001 - val_mae: 10.1646 - val_mse: 149.6001\n",
            "Epoch 8/10\n",
            "50/50 [==============================] - 14s 280ms/step - loss: 148.1874 - mae: 9.0042 - mse: 148.1874 - val_loss: 116.0136 - val_mae: 7.8183 - val_mse: 116.0136\n",
            "Epoch 9/10\n",
            "50/50 [==============================] - 15s 295ms/step - loss: 136.5350 - mae: 8.6512 - mse: 136.5350 - val_loss: 128.3802 - val_mae: 7.8982 - val_mse: 128.3802\n",
            "Epoch 10/10\n",
            "50/50 [==============================] - 15s 306ms/step - loss: 141.5848 - mae: 8.9431 - mse: 141.5848 - val_loss: 159.6358 - val_mae: 8.5732 - val_mse: 159.6358\n"
          ]
        }
      ]
    },
    {
      "cell_type": "code",
      "source": [
        "# 1. Setup protein sequence inputs (tribrid model)\n",
        "sequence_inputs = layers.Input(shape=(1,), dtype=tf.string, name='sequence_inputs')\n",
        "sequence_vectors = char_vectorizer(sequence_inputs)\n",
        "sequence_embeddings = character_embedding(sequence_vectors)\n",
        "x = layers.Bidirectional(layers.LSTM(64, return_sequences=True))(sequence_embeddings)\n",
        "sequence_outputs = layers.Bidirectional(layers.LSTM(128))(x)\n",
        "sequence_model = tf.keras.Model(inputs = sequence_inputs, outputs = sequence_outputs)\n",
        "\n",
        "# 2. Setup pH inputs/Model\n",
        "pH_inputs = layers.Input(shape=(1,), dtype=tf.float32, name='ph_inputs')\n",
        "pH_outputs = layers.Dense(32, activation='relu')(pH_inputs)\n",
        "pH_model = tf.keras.Model(inputs = pH_inputs, outputs = pH_outputs)\n",
        "\n",
        "# 3. Set up letter count inputs \n",
        "letter_count_inputs = layers.Input(shape=(20,), dtype=tf.float32, name=\"letter_count_input\")\n",
        "x = layers.Dense(32, activation='relu')(letter_count_inputs)\n",
        "letter_count_model = tf.keras.Model(inputs=letter_count_inputs, \n",
        "                                    outputs=x)\n",
        "\n",
        "# 4. Concatenate sequence and pH inputs \n",
        "sequence_ph_concat = layers.Concatenate(name='concat_sequence_ph')([sequence_model.output, \n",
        "                                                                    pH_model.output])\n",
        "\n",
        "z = layers.Dense(1024, activation='relu')(sequence_ph_concat)\n",
        "z = layers.BatchNormalization()(z) # Add in BatchNorm layer\n",
        "z = layers.Dense(256, activation='relu')(z)\n",
        "z = layers.Dropout(0.4)(z) # increase dropout to 0.4\n",
        "z = layers.Dense(128, activation='relu')(z)\n",
        "z = layers.BatchNormalization()(z) # Add in BatchNorm layer\n",
        "z = layers.Dense(128, activation='relu')(z)\n",
        "z = layers.Dropout(0.4)(z) # increase dropout to 0.4\n",
        "\n",
        "# 5. Combine letter count embeddings with sequence and ph embeddings for tribrid model\n",
        "z = layers.Concatenate(name='sequence_ph_lettercount_embedding')([letter_count_model.output, \n",
        "                                                                  z])\n",
        "\n",
        "combined_dense = layers.Dense(1024, activation='relu')(z)\n",
        "x = layers.BatchNormalization()(combined_dense)\n",
        "x = layers.Dropout(0.2)(x)\n",
        "final_dense = layers.Dense(128, activation='relu')(x)\n",
        "\n",
        "\n",
        "# 7. Create output layer\n",
        "output_layer = layers.Dense(1, activation='linear')(final_dense) \n",
        "\n",
        "# Construct the model \n",
        "model_7 = tf.keras.Model(inputs=[letter_count_model.input, sequence_model.input, pH_model.input],\n",
        "                         outputs=output_layer,\n",
        "                         name='model_7_bidirectional_LSTM_tribrid_with_final_dense_plus_batch_norm')"
      ],
      "metadata": {
        "id": "5UtQwdGWK757"
      },
      "execution_count": 198,
      "outputs": []
    },
    {
      "cell_type": "code",
      "source": [
        "model_7.compile(loss='mse', \n",
        "                optimizer=tf.keras.optimizers.Adam(),\n",
        "                metrics=['mae', 'mse'])"
      ],
      "metadata": {
        "id": "dQVe2MQkK7-t"
      },
      "execution_count": 199,
      "outputs": []
    },
    {
      "cell_type": "code",
      "source": [
        "history_7 = model_7.fit(tribrid_train_char_dataset.take(50), \n",
        "                        epochs=15,\n",
        "                        steps_per_epoch = len(tribrid_train_char_dataset.take(50)),\n",
        "                        validation_data=tribrid_val_char_dataset,\n",
        "                        validation_steps = len(tribrid_val_char_dataset))"
      ],
      "metadata": {
        "colab": {
          "base_uri": "https://localhost:8080/"
        },
        "id": "3Ws9VSSOK8HB",
        "outputId": "c730fbe0-a4ac-44c5-8255-7b206373854e"
      },
      "execution_count": 200,
      "outputs": [
        {
          "output_type": "stream",
          "name": "stdout",
          "text": [
            "Epoch 1/15\n",
            "50/50 [==============================] - 36s 401ms/step - loss: 1514.1227 - mae: 33.8302 - mse: 1514.1227 - val_loss: 1537.1100 - val_mae: 37.1030 - val_mse: 1537.1100\n",
            "Epoch 2/15\n",
            "50/50 [==============================] - 15s 295ms/step - loss: 153.9737 - mae: 9.3898 - mse: 153.9737 - val_loss: 892.3975 - val_mae: 27.3093 - val_mse: 892.3975\n",
            "Epoch 3/15\n",
            "50/50 [==============================] - 14s 283ms/step - loss: 137.1196 - mae: 8.7676 - mse: 137.1196 - val_loss: 473.4952 - val_mae: 18.1944 - val_mse: 473.4952\n",
            "Epoch 4/15\n",
            "50/50 [==============================] - 14s 282ms/step - loss: 119.8757 - mae: 8.2865 - mse: 119.8757 - val_loss: 339.4391 - val_mae: 14.4064 - val_mse: 339.4391\n",
            "Epoch 5/15\n",
            "50/50 [==============================] - 14s 283ms/step - loss: 125.4893 - mae: 8.4193 - mse: 125.4893 - val_loss: 202.0852 - val_mae: 9.8186 - val_mse: 202.0852\n",
            "Epoch 6/15\n",
            "50/50 [==============================] - 14s 282ms/step - loss: 120.5790 - mae: 8.3733 - mse: 120.5790 - val_loss: 158.2395 - val_mae: 8.8146 - val_mse: 158.2395\n",
            "Epoch 7/15\n",
            "50/50 [==============================] - 14s 284ms/step - loss: 110.1495 - mae: 7.9566 - mse: 110.1495 - val_loss: 147.4312 - val_mae: 8.5463 - val_mse: 147.4312\n",
            "Epoch 8/15\n",
            "50/50 [==============================] - 14s 283ms/step - loss: 107.4252 - mae: 7.8921 - mse: 107.4252 - val_loss: 122.9141 - val_mae: 7.8699 - val_mse: 122.9141\n",
            "Epoch 9/15\n",
            "50/50 [==============================] - 15s 284ms/step - loss: 103.7843 - mae: 7.7279 - mse: 103.7843 - val_loss: 119.0592 - val_mae: 7.8446 - val_mse: 119.0592\n",
            "Epoch 10/15\n",
            "50/50 [==============================] - 15s 306ms/step - loss: 102.1486 - mae: 7.8407 - mse: 102.1486 - val_loss: 124.6705 - val_mae: 8.1876 - val_mse: 124.6705\n",
            "Epoch 11/15\n",
            "50/50 [==============================] - 14s 283ms/step - loss: 121.1421 - mae: 8.4265 - mse: 121.1421 - val_loss: 109.8884 - val_mae: 7.7846 - val_mse: 109.8884\n",
            "Epoch 12/15\n",
            "50/50 [==============================] - 14s 283ms/step - loss: 112.8435 - mae: 8.0261 - mse: 112.8435 - val_loss: 127.0914 - val_mae: 8.8243 - val_mse: 127.0914\n",
            "Epoch 13/15\n",
            "50/50 [==============================] - 14s 284ms/step - loss: 114.4892 - mae: 8.1714 - mse: 114.4892 - val_loss: 108.8570 - val_mae: 7.5989 - val_mse: 108.8570\n",
            "Epoch 14/15\n",
            "50/50 [==============================] - 15s 294ms/step - loss: 101.5412 - mae: 7.7268 - mse: 101.5412 - val_loss: 108.4021 - val_mae: 7.5151 - val_mse: 108.4021\n",
            "Epoch 15/15\n",
            "50/50 [==============================] - 14s 282ms/step - loss: 101.8148 - mae: 7.6478 - mse: 101.8148 - val_loss: 125.8191 - val_mae: 8.1297 - val_mse: 125.8191\n"
          ]
        }
      ]
    },
    {
      "cell_type": "code",
      "source": [
        "# 1. Setup protein sequence inputs (tribrid model)\n",
        "sequence_inputs = layers.Input(shape=(1,), dtype=tf.string, name='sequence_inputs')\n",
        "sequence_vectors = char_vectorizer(sequence_inputs)\n",
        "sequence_embeddings = character_embedding(sequence_vectors)\n",
        "x = layers.Bidirectional(layers.LSTM(64, return_sequences=True))(sequence_embeddings)\n",
        "sequence_outputs = layers.Bidirectional(layers.LSTM(128))(x)\n",
        "sequence_model = tf.keras.Model(inputs = sequence_inputs, outputs = sequence_outputs)\n",
        "\n",
        "# 2. Setup pH inputs/Model\n",
        "pH_inputs = layers.Input(shape=(1,), dtype=tf.float32, name='ph_inputs')\n",
        "pH_outputs = layers.Dense(32, activation='relu')(pH_inputs)\n",
        "pH_model = tf.keras.Model(inputs = pH_inputs, outputs = pH_outputs)\n",
        "\n",
        "# 3. Set up letter count inputs \n",
        "letter_count_inputs = layers.Input(shape=(20,), dtype=tf.float32, name=\"letter_count_input\")\n",
        "x = layers.Dense(32, activation='relu')(letter_count_inputs)\n",
        "letter_count_model = tf.keras.Model(inputs=letter_count_inputs, \n",
        "                                    outputs=x)\n",
        "\n",
        "# 4. Concatenate sequence and pH inputs \n",
        "sequence_ph_concat = layers.Concatenate(name='concat_sequence_ph')([sequence_model.output, \n",
        "                                                                    pH_model.output])\n",
        "\n",
        "z = layers.Dense(1024, activation='relu')(sequence_ph_concat)\n",
        "z = layers.Dropout(0.4)(z) # increase dropout to 0.4\n",
        "z = layers.BatchNormalization()(z) # Add in BatchNorm layer\n",
        "z = layers.Dense(256, activation='relu')(z)\n",
        "z = layers.Dropout(0.4)(z) # increase dropout to 0.4\n",
        "z = layers.Dense(128, activation='relu')(z)\n",
        "z = layers.BatchNormalization()(z) # Add in BatchNorm layer\n",
        "z = layers.Dense(128, activation='relu')(z)\n",
        "\n",
        "\n",
        "# 5. Combine letter count embeddings with sequence and ph embeddings for tribrid model\n",
        "z = layers.Concatenate(name='sequence_ph_lettercount_embedding')([letter_count_model.output, \n",
        "                                                                  z])\n",
        "\n",
        "combined_dense = layers.Dense(1024, activation='relu')(z)\n",
        "x = layers.BatchNormalization()(combined_dense)\n",
        "x = layers.Dropout(0.2)(x)\n",
        "final_dense = layers.Dense(128, activation='relu')(x)\n",
        "\n",
        "\n",
        "# 7. Create output layer\n",
        "output_layer = layers.Dense(1, activation='linear')(final_dense) \n",
        "\n",
        "# Construct the model \n",
        "model_8 = tf.keras.Model(inputs=[letter_count_model.input, sequence_model.input, pH_model.input],\n",
        "                         outputs=output_layer,\n",
        "                         name='model_8_bidirectional_LSTM_tribrid_with_final_dense_plus_batch_norm')"
      ],
      "metadata": {
        "id": "Uxp-_nA8Mxgc"
      },
      "execution_count": 201,
      "outputs": []
    },
    {
      "cell_type": "code",
      "source": [
        "model_8.compile(loss='mse', \n",
        "                optimizer=tf.keras.optimizers.Adam(),\n",
        "                metrics=['mae', 'mse'])"
      ],
      "metadata": {
        "id": "2j1mHqB8MxbI"
      },
      "execution_count": 202,
      "outputs": []
    },
    {
      "cell_type": "code",
      "source": [
        "history_8 = model_8.fit(tribrid_train_char_dataset.take(50), \n",
        "                        epochs=10,\n",
        "                        steps_per_epoch = len(tribrid_train_char_dataset.take(50)),\n",
        "                        validation_data=tribrid_val_char_dataset,\n",
        "                        validation_steps = len(tribrid_val_char_dataset))"
      ],
      "metadata": {
        "colab": {
          "base_uri": "https://localhost:8080/"
        },
        "id": "WTDbYB_jMztj",
        "outputId": "510fc044-3f79-4292-8e6b-1978937169a9"
      },
      "execution_count": 204,
      "outputs": [
        {
          "output_type": "stream",
          "name": "stdout",
          "text": [
            "Epoch 1/10\n",
            "50/50 [==============================] - 34s 376ms/step - loss: 1247.7921 - mae: 29.6226 - mse: 1247.7921 - val_loss: 1108.9230 - val_mae: 31.1978 - val_mse: 1108.9230\n",
            "Epoch 2/10\n",
            "50/50 [==============================] - 14s 280ms/step - loss: 166.8642 - mae: 9.8433 - mse: 166.8642 - val_loss: 847.2447 - val_mae: 27.1097 - val_mse: 847.2447\n",
            "Epoch 3/10\n",
            "50/50 [==============================] - 16s 319ms/step - loss: 124.2527 - mae: 8.3607 - mse: 124.2527 - val_loss: 414.2649 - val_mae: 17.2507 - val_mse: 414.2649\n",
            "Epoch 4/10\n",
            "50/50 [==============================] - 14s 281ms/step - loss: 129.3833 - mae: 8.5478 - mse: 129.3833 - val_loss: 359.3076 - val_mae: 15.1141 - val_mse: 359.3076\n",
            "Epoch 5/10\n",
            "50/50 [==============================] - 14s 281ms/step - loss: 128.5794 - mae: 8.4342 - mse: 128.5794 - val_loss: 186.9581 - val_mae: 10.1695 - val_mse: 186.9581\n",
            "Epoch 6/10\n",
            "50/50 [==============================] - 14s 280ms/step - loss: 127.1391 - mae: 8.4841 - mse: 127.1391 - val_loss: 187.4899 - val_mae: 10.0624 - val_mse: 187.4899\n",
            "Epoch 7/10\n",
            "50/50 [==============================] - 14s 288ms/step - loss: 122.1267 - mae: 8.3188 - mse: 122.1267 - val_loss: 132.4433 - val_mae: 8.2332 - val_mse: 132.4433\n",
            "Epoch 8/10\n",
            "50/50 [==============================] - 14s 286ms/step - loss: 115.4918 - mae: 8.0173 - mse: 115.4918 - val_loss: 164.3380 - val_mae: 9.3039 - val_mse: 164.3380\n",
            "Epoch 9/10\n",
            "50/50 [==============================] - 15s 294ms/step - loss: 121.4612 - mae: 8.2011 - mse: 121.4612 - val_loss: 151.3068 - val_mae: 8.4851 - val_mse: 151.3068\n",
            "Epoch 10/10\n",
            "50/50 [==============================] - 14s 284ms/step - loss: 122.3356 - mae: 8.2754 - mse: 122.3356 - val_loss: 139.4910 - val_mae: 8.7512 - val_mse: 139.4910\n"
          ]
        }
      ]
    },
    {
      "cell_type": "code",
      "source": [
        "# 1. Setup protein sequence inputs (tribrid model)\n",
        "sequence_inputs = layers.Input(shape=(1,), dtype=tf.string, name='sequence_inputs')\n",
        "sequence_vectors = char_vectorizer(sequence_inputs)\n",
        "sequence_embeddings = character_embedding(sequence_vectors)\n",
        "x = layers.Bidirectional(layers.LSTM(64, return_sequences=True))(sequence_embeddings)\n",
        "sequence_outputs = layers.Bidirectional(layers.LSTM(128))(x)\n",
        "sequence_model = tf.keras.Model(inputs = sequence_inputs, outputs = sequence_outputs)\n",
        "\n",
        "# 2. Setup pH inputs/Model\n",
        "pH_inputs = layers.Input(shape=(1,), dtype=tf.float32, name='ph_inputs')\n",
        "pH_outputs = layers.Dense(32, activation='relu')(pH_inputs)\n",
        "pH_model = tf.keras.Model(inputs = pH_inputs, outputs = pH_outputs)\n",
        "\n",
        "# 3. Set up letter count inputs \n",
        "letter_count_inputs = layers.Input(shape=(20,), dtype=tf.float32, name=\"letter_count_input\")\n",
        "x = layers.Dense(32, activation='relu')(letter_count_inputs)\n",
        "letter_count_model = tf.keras.Model(inputs=letter_count_inputs, \n",
        "                                    outputs=x)\n",
        "\n",
        "# 4. Concatenate sequence and pH inputs \n",
        "sequence_ph_concat = layers.Concatenate(name='concat_sequence_ph')([sequence_model.output, \n",
        "                                                                    pH_model.output])\n",
        "\n",
        "z = layers.Dense(1024, activation='relu')(sequence_ph_concat)\n",
        "z = layers.BatchNormalization()(z) # Add in BatchNorm layer\n",
        "z = layers.Dense(256, activation='relu')(z)\n",
        "z = layers.Dropout(0.4)(z) # increase dropout to 0.4\n",
        "z = layers.Dense(128, activation='relu')(z)\n",
        "z = layers.BatchNormalization()(z) # Add in BatchNorm layer\n",
        "z = layers.Dense(128, activation='relu')(z)\n",
        "z = layers.Dropout(0.4)(z) # increase dropout to 0.4\n",
        "\n",
        "# 5. Combine letter count embeddings with sequence and ph embeddings for tribrid model\n",
        "z = layers.Concatenate(name='sequence_ph_lettercount_embedding')([letter_count_model.output, \n",
        "                                                                  z])\n",
        "\n",
        "combined_dense = layers.Dense(1024, activation='relu')(z)\n",
        "x = layers.BatchNormalization()(combined_dense)\n",
        "x = layers.Dropout(0.2)(x)\n",
        "final_dense = layers.Dense(128, activation='relu')(x)\n",
        "\n",
        "\n",
        "# 7. Create output layer\n",
        "output_layer = layers.Dense(1, activation='linear')(final_dense) \n",
        "\n",
        "# Construct the model \n",
        "model_9 = tf.keras.Model(inputs=[letter_count_model.input, sequence_model.input, pH_model.input],\n",
        "                         outputs=output_layer,\n",
        "                         name='model_9_bidirectional_LSTM_tribrid_with_final_dense_plus_batch_norm')"
      ],
      "metadata": {
        "id": "ePu36LGMOQlt"
      },
      "execution_count": 88,
      "outputs": []
    },
    {
      "cell_type": "code",
      "source": [
        "model_9.compile(loss='mse', \n",
        "                optimizer=tf.keras.optimizers.Adam(),\n",
        "                metrics=['mae', 'mse'])"
      ],
      "metadata": {
        "id": "_hCx6nA3OQh8"
      },
      "execution_count": 89,
      "outputs": []
    },
    {
      "cell_type": "code",
      "source": [
        "model_9.load_weights(\"/content/drive/MyDrive/model_9_bidirectional_LSTM_tribrid_with_final_dense_plus_batch_norm\")"
      ],
      "metadata": {
        "colab": {
          "base_uri": "https://localhost:8080/"
        },
        "id": "HIsCwWvY_OMs",
        "outputId": "792dad1a-f9a3-4cf6-ec14-e0caddf4f952"
      },
      "execution_count": 91,
      "outputs": [
        {
          "output_type": "execute_result",
          "data": {
            "text/plain": [
              "<tensorflow.python.training.tracking.util.CheckpointLoadStatus at 0x7f07161983a0>"
            ]
          },
          "metadata": {},
          "execution_count": 91
        }
      ]
    },
    {
      "cell_type": "code",
      "source": [
        "model_9.evaluate(tribrid_val_char_dataset)"
      ],
      "metadata": {
        "colab": {
          "base_uri": "https://localhost:8080/"
        },
        "id": "p_oDzPCl_oUo",
        "outputId": "3e887e6d-2f90-49c5-d13f-aac8b8e27d2c"
      },
      "execution_count": 92,
      "outputs": [
        {
          "output_type": "stream",
          "name": "stdout",
          "text": [
            "45/45 [==============================] - 22s 94ms/step - loss: 65.3219 - mae: 6.1246 - mse: 65.3219\n"
          ]
        },
        {
          "output_type": "execute_result",
          "data": {
            "text/plain": [
              "[65.32186126708984, 6.124635696411133, 65.32186126708984]"
            ]
          },
          "metadata": {},
          "execution_count": 92
        }
      ]
    },
    {
      "cell_type": "code",
      "source": [
        "history_9 = model_9.fit(tribrid_train_char_dataset, \n",
        "                        epochs=100,\n",
        "                        steps_per_epoch = len(tribrid_train_char_dataset),\n",
        "                        validation_data=tribrid_val_char_dataset,\n",
        "                        validation_steps = len(tribrid_val_char_dataset),\n",
        "                        callbacks=[early_stopping, reduce_lr, model_checkpoint(model_9.name)])"
      ],
      "metadata": {
        "colab": {
          "base_uri": "https://localhost:8080/"
        },
        "id": "TkbQtjXTOVzg",
        "outputId": "66918a11-2a85-4646-daa6-871cb64d7498"
      },
      "execution_count": 93,
      "outputs": [
        {
          "output_type": "stream",
          "name": "stdout",
          "text": [
            "Epoch 1/100\n",
            "852/852 [==============================] - 185s 200ms/step - loss: 67.1106 - mae: 6.1988 - mse: 67.1106 - val_loss: 99.1073 - val_mae: 8.1531 - val_mse: 99.1073 - lr: 0.0010\n",
            "Epoch 2/100\n",
            "852/852 [==============================] - 168s 197ms/step - loss: 65.1117 - mae: 6.1065 - mse: 65.1117 - val_loss: 68.1134 - val_mae: 6.3028 - val_mse: 68.1134 - lr: 0.0010\n",
            "Epoch 3/100\n",
            "852/852 [==============================] - 167s 196ms/step - loss: 66.2753 - mae: 6.1610 - mse: 66.2753 - val_loss: 73.6706 - val_mae: 6.6013 - val_mse: 73.6706 - lr: 0.0010\n",
            "Epoch 4/100\n",
            "852/852 [==============================] - 167s 195ms/step - loss: 63.1604 - mae: 6.0164 - mse: 63.1604 - val_loss: 62.8227 - val_mae: 5.8621 - val_mse: 62.8227 - lr: 0.0010\n",
            "Epoch 5/100\n",
            "852/852 [==============================] - 166s 195ms/step - loss: 61.3611 - mae: 5.9394 - mse: 61.3611 - val_loss: 66.9482 - val_mae: 6.2278 - val_mse: 66.9482 - lr: 0.0010\n",
            "Epoch 6/100\n",
            "852/852 [==============================] - 165s 194ms/step - loss: 59.6465 - mae: 5.8727 - mse: 59.6465 - val_loss: 63.4069 - val_mae: 5.9536 - val_mse: 63.4069 - lr: 0.0010\n",
            "Epoch 7/100\n",
            "852/852 [==============================] - 166s 195ms/step - loss: 58.8040 - mae: 5.8286 - mse: 58.8040 - val_loss: 70.7384 - val_mae: 6.4649 - val_mse: 70.7384 - lr: 0.0010\n",
            "Epoch 8/100\n",
            "852/852 [==============================] - 167s 196ms/step - loss: 57.6055 - mae: 5.7911 - mse: 57.6055 - val_loss: 66.7941 - val_mae: 6.1308 - val_mse: 66.7941 - lr: 0.0010\n",
            "Epoch 9/100\n",
            "852/852 [==============================] - 169s 198ms/step - loss: 56.8316 - mae: 5.7380 - mse: 56.8316 - val_loss: 61.1975 - val_mae: 5.7651 - val_mse: 61.1975 - lr: 0.0010\n",
            "Epoch 10/100\n",
            "852/852 [==============================] - 167s 196ms/step - loss: 55.2332 - mae: 5.6648 - mse: 55.2332 - val_loss: 64.5386 - val_mae: 5.8460 - val_mse: 64.5386 - lr: 0.0010\n",
            "Epoch 11/100\n",
            "852/852 [==============================] - 167s 196ms/step - loss: 54.1451 - mae: 5.6376 - mse: 54.1451 - val_loss: 76.1687 - val_mae: 6.6836 - val_mse: 76.1687 - lr: 0.0010\n",
            "Epoch 12/100\n",
            "852/852 [==============================] - 166s 194ms/step - loss: 52.6555 - mae: 5.5567 - mse: 52.6555 - val_loss: 67.6321 - val_mae: 6.1150 - val_mse: 67.6321 - lr: 0.0010\n",
            "Epoch 13/100\n",
            "852/852 [==============================] - 167s 196ms/step - loss: 51.1994 - mae: 5.4841 - mse: 51.1994 - val_loss: 63.3074 - val_mae: 5.8370 - val_mse: 63.3074 - lr: 0.0010\n",
            "Epoch 14/100\n",
            "852/852 [==============================] - 168s 197ms/step - loss: 51.0311 - mae: 5.4823 - mse: 51.0311 - val_loss: 61.0584 - val_mae: 5.6800 - val_mse: 61.0584 - lr: 0.0010\n",
            "Epoch 15/100\n",
            "852/852 [==============================] - 166s 195ms/step - loss: 49.6192 - mae: 5.3992 - mse: 49.6192 - val_loss: 62.8915 - val_mae: 5.8344 - val_mse: 62.8915 - lr: 0.0010\n",
            "Epoch 16/100\n",
            "852/852 [==============================] - 167s 195ms/step - loss: 49.2430 - mae: 5.3856 - mse: 49.2430 - val_loss: 66.0827 - val_mae: 6.1451 - val_mse: 66.0827 - lr: 0.0010\n",
            "Epoch 17/100\n",
            "852/852 [==============================] - ETA: 0s - loss: 47.9725 - mae: 5.3285 - mse: 47.9725\n",
            "Epoch 17: ReduceLROnPlateau reducing learning rate to 0.0004000000189989805.\n",
            "852/852 [==============================] - 165s 194ms/step - loss: 47.9725 - mae: 5.3285 - mse: 47.9725 - val_loss: 63.3910 - val_mae: 5.7436 - val_mse: 63.3910 - lr: 0.0010\n",
            "Epoch 18/100\n",
            "852/852 [==============================] - 168s 197ms/step - loss: 44.9786 - mae: 5.1616 - mse: 44.9786 - val_loss: 62.0557 - val_mae: 5.7015 - val_mse: 62.0557 - lr: 4.0000e-04\n",
            "Epoch 19/100\n",
            "852/852 [==============================] - 168s 198ms/step - loss: 43.1990 - mae: 5.0560 - mse: 43.1990 - val_loss: 61.7065 - val_mae: 5.6500 - val_mse: 61.7065 - lr: 4.0000e-04\n"
          ]
        }
      ]
    },
    {
      "cell_type": "code",
      "source": [
        "model_9.save(\"/content/drive/MyDrive/Novozyme_Competition/novozyme_competition/model_9_tribrid__final_dense_batch_norm\")"
      ],
      "metadata": {
        "colab": {
          "base_uri": "https://localhost:8080/"
        },
        "id": "78orUgsON4lS",
        "outputId": "86795bc3-abd7-48da-a130-30809fda571c"
      },
      "execution_count": 94,
      "outputs": [
        {
          "output_type": "stream",
          "name": "stderr",
          "text": [
            "WARNING:absl:Found untraced functions such as lstm_cell_1_layer_call_fn, lstm_cell_1_layer_call_and_return_conditional_losses, lstm_cell_2_layer_call_fn, lstm_cell_2_layer_call_and_return_conditional_losses, lstm_cell_4_layer_call_fn while saving (showing 5 of 8). These functions will not be directly callable after loading.\n"
          ]
        }
      ]
    },
    {
      "cell_type": "code",
      "source": [
        "model_9_preds = model_9.predict([test_letter_counts, test_char_seq, test_ph_norm])\n",
        "model_9_preds"
      ],
      "metadata": {
        "colab": {
          "base_uri": "https://localhost:8080/"
        },
        "id": "vK_FskxWQLeD",
        "outputId": "12890a74-989e-4b10-a467-ce04e0ed647a"
      },
      "execution_count": 98,
      "outputs": [
        {
          "output_type": "stream",
          "name": "stdout",
          "text": [
            "76/76 [==============================] - 9s 25ms/step\n"
          ]
        },
        {
          "output_type": "execute_result",
          "data": {
            "text/plain": [
              "array([[48.208103],\n",
              "       [47.871414],\n",
              "       [47.94139 ],\n",
              "       ...,\n",
              "       [47.92928 ],\n",
              "       [47.97734 ],\n",
              "       [48.211216]], dtype=float32)"
            ]
          },
          "metadata": {},
          "execution_count": 98
        }
      ]
    },
    {
      "cell_type": "code",
      "source": [
        "model_9_preds[:50]"
      ],
      "metadata": {
        "colab": {
          "base_uri": "https://localhost:8080/"
        },
        "id": "gFLqlX9eR_Jz",
        "outputId": "e17af715-3a96-4f7d-e8bc-024c49f99afa"
      },
      "execution_count": 99,
      "outputs": [
        {
          "output_type": "execute_result",
          "data": {
            "text/plain": [
              "array([[48.208103],\n",
              "       [47.871414],\n",
              "       [47.94139 ],\n",
              "       [48.013268],\n",
              "       [47.981148],\n",
              "       [48.04955 ],\n",
              "       [48.05107 ],\n",
              "       [48.129826],\n",
              "       [48.010654],\n",
              "       [47.85864 ],\n",
              "       [48.002228],\n",
              "       [48.193207],\n",
              "       [47.961838],\n",
              "       [47.938652],\n",
              "       [47.929115],\n",
              "       [48.24688 ],\n",
              "       [47.902744],\n",
              "       [48.08587 ],\n",
              "       [47.916718],\n",
              "       [48.054886],\n",
              "       [48.10049 ],\n",
              "       [48.14703 ],\n",
              "       [47.979244],\n",
              "       [48.156292],\n",
              "       [47.94436 ],\n",
              "       [48.301872],\n",
              "       [48.283516],\n",
              "       [48.328358],\n",
              "       [48.217854],\n",
              "       [48.30046 ],\n",
              "       [48.25395 ],\n",
              "       [48.251575],\n",
              "       [48.223522],\n",
              "       [48.312653],\n",
              "       [48.078766],\n",
              "       [48.347794],\n",
              "       [48.30882 ],\n",
              "       [48.283592],\n",
              "       [48.001186],\n",
              "       [47.924767],\n",
              "       [47.95931 ],\n",
              "       [48.187775],\n",
              "       [48.094482],\n",
              "       [48.215244],\n",
              "       [48.331497],\n",
              "       [48.236237],\n",
              "       [48.370865],\n",
              "       [48.338707],\n",
              "       [48.284367],\n",
              "       [48.187225]], dtype=float32)"
            ]
          },
          "metadata": {},
          "execution_count": 99
        }
      ]
    },
    {
      "cell_type": "markdown",
      "source": [
        "Let's make model_9 less complex and add some more regularization technqiues"
      ],
      "metadata": {
        "id": "UZuZ5876Vn6Q"
      }
    },
    {
      "cell_type": "code",
      "source": [
        "from tensorflow.keras import regularizers"
      ],
      "metadata": {
        "id": "EJNDNcdvuVbu"
      },
      "execution_count": 108,
      "outputs": []
    },
    {
      "cell_type": "code",
      "source": [
        "# 1. Setup protein sequence inputs (tribrid model)\n",
        "sequence_inputs = layers.Input(shape=(1,), dtype=tf.string, name='sequence_inputs')\n",
        "sequence_vectors = char_vectorizer(sequence_inputs)\n",
        "sequence_embeddings = character_embedding(sequence_vectors)\n",
        "x = layers.Bidirectional(layers.LSTM(64, return_sequences=True))(sequence_embeddings)\n",
        "sequence_outputs = layers.Bidirectional(layers.LSTM(64))(x)\n",
        "sequence_model = tf.keras.Model(inputs = sequence_inputs, outputs = sequence_outputs)\n",
        "\n",
        "# 2. Setup pH inputs/Model\n",
        "pH_inputs = layers.Input(shape=(1,), dtype=tf.float32, name='ph_inputs')\n",
        "pH_outputs = layers.Dense(32, activation='relu')(pH_inputs)\n",
        "pH_model = tf.keras.Model(inputs = pH_inputs, outputs = pH_outputs)\n",
        "\n",
        "# 3. Set up letter count inputs \n",
        "letter_count_inputs = layers.Input(shape=(20,), dtype=tf.float32, name=\"letter_count_input\")\n",
        "x = layers.Dense(32, activation='relu')(letter_count_inputs)\n",
        "letter_count_model = tf.keras.Model(inputs=letter_count_inputs, \n",
        "                                    outputs=x)\n",
        "\n",
        "# 4. Concatenate sequence and pH inputs \n",
        "sequence_ph_concat = layers.Concatenate(name='concat_sequence_ph')([sequence_model.output, \n",
        "                                                                    pH_model.output])\n",
        "\n",
        "z = layers.Dense(512, activation='relu', kernel_regularizer=regularizers.l2(0.001))(sequence_ph_concat)\n",
        "z = layers.BatchNormalization()(z) # Add in BatchNorm layer\n",
        "z = layers.Dropout(0.5)(z) # increase dropout to 0.5\n",
        "z = layers.Dense(256, activation='relu', kernel_regularizer=regularizers.l2(0.001))(z)\n",
        "z = layers.BatchNormalization()(z) # Add in BatchNorm layer\n",
        "z = layers.Dropout(0.5)(z) # increase dropout to 0.5\n",
        "z = layers.Dense(128, activation='relu', kernel_regularizer=regularizers.l2(0.001))(z)\n",
        "z = layers.BatchNormalization()(z) # Add in BatchNorm layer\n",
        "z = layers.Dropout(0.5)(z) # increase dropout to 0.5\n",
        "\n",
        "# 5. Combine letter count embeddings with sequence and ph embeddings for tribrid model\n",
        "z = layers.Concatenate(name='sequence_ph_lettercount_embedding')([letter_count_model.output, \n",
        "                                                                  z])\n",
        "\n",
        "combined_dense = layers.Dense(256, activation='relu', kernel_regularizer=regularizers.l2(0.001))(z)\n",
        "x = layers.BatchNormalization()(combined_dense)\n",
        "x = layers.Dropout(0.4)(x)\n",
        "final_dense = layers.Dense(128, activation='relu', kernel_regularizer=regularizers.l2(0.001))(x)\n",
        "\n",
        "\n",
        "# 7. Create output layer\n",
        "output_layer = layers.Dense(1, activation='linear')(final_dense) \n",
        "\n",
        "# Construct the model \n",
        "model_10 = tf.keras.Model(inputs=[letter_count_model.input, sequence_model.input, pH_model.input],\n",
        "                         outputs=output_layer,\n",
        "                         name='model_10_bidirectional_LSTM_tribrid_with_final_dense_plus_batch_norm_regul')"
      ],
      "metadata": {
        "id": "LuVxWowLVnw4"
      },
      "execution_count": 101,
      "outputs": []
    },
    {
      "cell_type": "code",
      "source": [
        "model_10.compile(loss='mse', \n",
        "                optimizer=tf.keras.optimizers.Adam(),\n",
        "                metrics=['mae', 'mse'])\n",
        "\n",
        "history_10 = model_10.fit(tribrid_train_char_dataset, \n",
        "                        epochs=100,\n",
        "                        steps_per_epoch = len(tribrid_train_char_dataset),\n",
        "                        validation_data=tribrid_val_char_dataset,\n",
        "                        validation_steps = len(tribrid_val_char_dataset),\n",
        "                        callbacks=[early_stopping, reduce_lr, model_checkpoint(model_10.name)])"
      ],
      "metadata": {
        "colab": {
          "base_uri": "https://localhost:8080/"
        },
        "id": "1nPonqD4VnsZ",
        "outputId": "93af72bf-560e-4de8-a346-b90164a29500"
      },
      "execution_count": 102,
      "outputs": [
        {
          "output_type": "stream",
          "name": "stdout",
          "text": [
            "Epoch 1/100\n",
            "852/852 [==============================] - 183s 198ms/step - loss: 330.7422 - mae: 12.5635 - mse: 329.5501 - val_loss: 186.0527 - val_mae: 9.5606 - val_mse: 184.8051 - lr: 0.0010\n",
            "Epoch 2/100\n",
            "852/852 [==============================] - 164s 192ms/step - loss: 128.6558 - mae: 8.4711 - mse: 127.3668 - val_loss: 133.9295 - val_mae: 7.8978 - val_mse: 132.6115 - lr: 0.0010\n",
            "Epoch 3/100\n",
            "852/852 [==============================] - 164s 192ms/step - loss: 119.4257 - mae: 8.1863 - mse: 118.0812 - val_loss: 134.1194 - val_mae: 7.9100 - val_mse: 132.7463 - lr: 0.0010\n",
            "Epoch 4/100\n",
            "852/852 [==============================] - 163s 191ms/step - loss: 112.3441 - mae: 7.9220 - mse: 110.9472 - val_loss: 133.0025 - val_mae: 8.0206 - val_mse: 131.5818 - lr: 0.0010\n",
            "Epoch 5/100\n",
            "852/852 [==============================] - 163s 191ms/step - loss: 107.5263 - mae: 7.7358 - mse: 106.0721 - val_loss: 123.7592 - val_mae: 8.1657 - val_mse: 122.2675 - lr: 0.0010\n",
            "Epoch 6/100\n",
            "852/852 [==============================] - 164s 192ms/step - loss: 106.4979 - mae: 7.7177 - mse: 104.9652 - val_loss: 151.5266 - val_mae: 10.3251 - val_mse: 149.9519 - lr: 0.0010\n",
            "Epoch 7/100\n",
            "852/852 [==============================] - 168s 197ms/step - loss: 99.7758 - mae: 7.4475 - mse: 98.1677 - val_loss: 103.8763 - val_mae: 7.2191 - val_mse: 102.2350 - lr: 0.0010\n",
            "Epoch 8/100\n",
            "852/852 [==============================] - 167s 196ms/step - loss: 95.5129 - mae: 7.3298 - mse: 93.8332 - val_loss: 86.0191 - val_mae: 6.8757 - val_mse: 84.2978 - lr: 0.0010\n",
            "Epoch 9/100\n",
            "852/852 [==============================] - 166s 194ms/step - loss: 91.1072 - mae: 7.1297 - mse: 89.3534 - val_loss: 82.5215 - val_mae: 6.6540 - val_mse: 80.7339 - lr: 0.0010\n",
            "Epoch 10/100\n",
            "852/852 [==============================] - 167s 196ms/step - loss: 88.1775 - mae: 7.0225 - mse: 86.3477 - val_loss: 210.8546 - val_mae: 12.6745 - val_mse: 208.9429 - lr: 0.0010\n",
            "Epoch 11/100\n",
            "852/852 [==============================] - 168s 198ms/step - loss: 86.3882 - mae: 6.9071 - mse: 84.3889 - val_loss: 69.6315 - val_mae: 6.1445 - val_mse: 67.6008 - lr: 0.0010\n",
            "Epoch 12/100\n",
            "852/852 [==============================] - 167s 196ms/step - loss: 82.1905 - mae: 6.7427 - mse: 80.1397 - val_loss: 73.4287 - val_mae: 6.2418 - val_mse: 71.3636 - lr: 0.0010\n",
            "Epoch 13/100\n",
            "852/852 [==============================] - 167s 196ms/step - loss: 80.5564 - mae: 6.6844 - mse: 78.4703 - val_loss: 68.7339 - val_mae: 6.2093 - val_mse: 66.6281 - lr: 0.0010\n",
            "Epoch 14/100\n",
            "852/852 [==============================] - 166s 194ms/step - loss: 78.9555 - mae: 6.6255 - mse: 76.8336 - val_loss: 67.7777 - val_mae: 6.1901 - val_mse: 65.6339 - lr: 0.0010\n",
            "Epoch 15/100\n",
            "852/852 [==============================] - 167s 196ms/step - loss: 79.1187 - mae: 6.6169 - mse: 76.9586 - val_loss: 66.6348 - val_mae: 5.9855 - val_mse: 64.4426 - lr: 0.0010\n",
            "Epoch 16/100\n",
            "852/852 [==============================] - 167s 196ms/step - loss: 76.1822 - mae: 6.4849 - mse: 73.9719 - val_loss: 73.8248 - val_mae: 6.2715 - val_mse: 71.6016 - lr: 0.0010\n",
            "Epoch 17/100\n",
            "852/852 [==============================] - 168s 197ms/step - loss: 73.5788 - mae: 6.3793 - mse: 71.3447 - val_loss: 66.2978 - val_mae: 5.9127 - val_mse: 64.0470 - lr: 0.0010\n",
            "Epoch 18/100\n",
            "852/852 [==============================] - 168s 197ms/step - loss: 71.7830 - mae: 6.3083 - mse: 69.5205 - val_loss: 69.4773 - val_mae: 6.0680 - val_mse: 67.1988 - lr: 0.0010\n",
            "Epoch 19/100\n",
            "852/852 [==============================] - 167s 197ms/step - loss: 70.6581 - mae: 6.2775 - mse: 68.3634 - val_loss: 66.0343 - val_mae: 6.0127 - val_mse: 63.7199 - lr: 0.0010\n",
            "Epoch 20/100\n",
            "852/852 [==============================] - 167s 196ms/step - loss: 68.3091 - mae: 6.1608 - mse: 65.9842 - val_loss: 70.9498 - val_mae: 6.1213 - val_mse: 68.6090 - lr: 0.0010\n",
            "Epoch 21/100\n",
            "852/852 [==============================] - 167s 196ms/step - loss: 67.6102 - mae: 6.1279 - mse: 65.2512 - val_loss: 68.1600 - val_mae: 6.2731 - val_mse: 65.7758 - lr: 0.0010\n",
            "Epoch 22/100\n",
            "852/852 [==============================] - 168s 197ms/step - loss: 66.1599 - mae: 6.0529 - mse: 63.7671 - val_loss: 62.0335 - val_mae: 5.7594 - val_mse: 59.6189 - lr: 0.0010\n",
            "Epoch 23/100\n",
            "852/852 [==============================] - 167s 196ms/step - loss: 64.1274 - mae: 5.9494 - mse: 61.7112 - val_loss: 69.0413 - val_mae: 6.0162 - val_mse: 66.6087 - lr: 0.0010\n",
            "Epoch 24/100\n",
            "852/852 [==============================] - 167s 196ms/step - loss: 63.6542 - mae: 5.9594 - mse: 61.2177 - val_loss: 68.6726 - val_mae: 6.1282 - val_mse: 66.2274 - lr: 0.0010\n",
            "Epoch 25/100\n",
            "852/852 [==============================] - 167s 196ms/step - loss: 61.1990 - mae: 5.8332 - mse: 58.7468 - val_loss: 64.5349 - val_mae: 5.9295 - val_mse: 62.0681 - lr: 0.0010\n",
            "Epoch 26/100\n",
            "852/852 [==============================] - 168s 197ms/step - loss: 59.9856 - mae: 5.7877 - mse: 57.5160 - val_loss: 65.1297 - val_mae: 5.8584 - val_mse: 62.6513 - lr: 0.0010\n",
            "Epoch 27/100\n",
            "852/852 [==============================] - 168s 197ms/step - loss: 58.0138 - mae: 5.6958 - mse: 55.5379 - val_loss: 68.2947 - val_mae: 5.9225 - val_mse: 65.8121 - lr: 0.0010\n",
            "Epoch 28/100\n",
            "852/852 [==============================] - 168s 197ms/step - loss: 57.4474 - mae: 5.6548 - mse: 54.9618 - val_loss: 65.4962 - val_mae: 5.9094 - val_mse: 63.0077 - lr: 0.0010\n",
            "Epoch 29/100\n",
            "852/852 [==============================] - 169s 198ms/step - loss: 56.6723 - mae: 5.6184 - mse: 54.1870 - val_loss: 65.7498 - val_mae: 5.9441 - val_mse: 63.2599 - lr: 0.0010\n",
            "Epoch 30/100\n",
            "852/852 [==============================] - ETA: 0s - loss: 54.8589 - mae: 5.5437 - mse: 52.3754\n",
            "Epoch 30: ReduceLROnPlateau reducing learning rate to 0.0004000000189989805.\n",
            "852/852 [==============================] - 167s 196ms/step - loss: 54.8589 - mae: 5.5437 - mse: 52.3754 - val_loss: 62.1312 - val_mae: 5.6842 - val_mse: 59.6488 - lr: 0.0010\n",
            "Epoch 31/100\n",
            "852/852 [==============================] - 167s 196ms/step - loss: 50.8828 - mae: 5.3287 - mse: 48.4249 - val_loss: 63.0179 - val_mae: 5.6561 - val_mse: 60.5818 - lr: 4.0000e-04\n",
            "Epoch 32/100\n",
            "852/852 [==============================] - 167s 196ms/step - loss: 48.9632 - mae: 5.2256 - mse: 46.5480 - val_loss: 67.0538 - val_mae: 5.8264 - val_mse: 64.6590 - lr: 4.0000e-04\n"
          ]
        }
      ]
    },
    {
      "cell_type": "code",
      "source": [
        "plot_historys(history_10)"
      ],
      "metadata": {
        "colab": {
          "base_uri": "https://localhost:8080/",
          "height": 458
        },
        "id": "hb0D5eJ-RPmh",
        "outputId": "0f32b5a7-f095-4b6a-dd19-b23bd72f9f0b"
      },
      "execution_count": 109,
      "outputs": [
        {
          "output_type": "display_data",
          "data": {
            "text/plain": [
              "<Figure size 720x504 with 2 Axes>"
            ],
            "image/png": "[encoded data removed]"
          },
          "metadata": {
            "needs_background": "light"
          }
        }
      ]
    },
    {
      "cell_type": "code",
      "source": [
        "model_10.evaluate(tribrid_val_char_dataset)"
      ],
      "metadata": {
        "colab": {
          "base_uri": "https://localhost:8080/"
        },
        "id": "kOW3-nxSJAzp",
        "outputId": "16be882f-5dbc-4174-847e-f54d8f4705c4"
      },
      "execution_count": 103,
      "outputs": [
        {
          "output_type": "stream",
          "name": "stdout",
          "text": [
            "45/45 [==============================] - 8s 178ms/step - loss: 62.0335 - mae: 5.7594 - mse: 59.6189\n"
          ]
        },
        {
          "output_type": "execute_result",
          "data": {
            "text/plain": [
              "[62.033546447753906, 5.759425163269043, 59.618934631347656]"
            ]
          },
          "metadata": {},
          "execution_count": 103
        }
      ]
    },
    {
      "cell_type": "code",
      "source": [
        "model_10_preds = model_10.predict([test_letter_counts, test_char_seq, test_ph_norm])\n",
        "model_10_preds[:100]"
      ],
      "metadata": {
        "id": "8cMULdWiVno4"
      },
      "execution_count": null,
      "outputs": []
    },
    {
      "cell_type": "code",
      "source": [
        "model_10.save(\"/content/drive/MyDrive/Novozyme_Competition/novozyme_competition/model_10_tribrid__final_dense_batch_norm\")"
      ],
      "metadata": {
        "colab": {
          "base_uri": "https://localhost:8080/"
        },
        "id": "6WFPB10JMaJx",
        "outputId": "fab2918a-2a26-4ae5-9c7d-4b960791d0f5"
      },
      "execution_count": 107,
      "outputs": [
        {
          "output_type": "stream",
          "name": "stderr",
          "text": [
            "WARNING:absl:Found untraced functions such as lstm_cell_31_layer_call_fn, lstm_cell_31_layer_call_and_return_conditional_losses, lstm_cell_32_layer_call_fn, lstm_cell_32_layer_call_and_return_conditional_losses, lstm_cell_34_layer_call_fn while saving (showing 5 of 8). These functions will not be directly callable after loading.\n"
          ]
        }
      ]
    },
    {
      "cell_type": "code",
      "source": [
        "# 1. Setup protein sequence inputs (tribrid model)\n",
        "sequence_inputs = layers.Input(shape=(1,), dtype=tf.string, name='sequence_inputs')\n",
        "sequence_vectors = char_vectorizer(sequence_inputs)\n",
        "sequence_embeddings = character_embedding(sequence_vectors)\n",
        "sequence_outputs = layers.Bidirectional(layers.LSTM(128))(sequence_embeddings)\n",
        "sequence_model = tf.keras.Model(inputs = sequence_inputs, outputs = sequence_outputs)\n",
        "\n",
        "# 2. Setup pH inputs/Model\n",
        "pH_inputs = layers.Input(shape=(1,), dtype=tf.float32, name='ph_inputs')\n",
        "pH_outputs = layers.Dense(64, activation='relu')(pH_inputs)\n",
        "pH_model = tf.keras.Model(inputs = pH_inputs, outputs = pH_outputs)\n",
        "\n",
        "# 3. Set up letter count inputs \n",
        "letter_count_inputs = layers.Input(shape=(20,), dtype=tf.float32, name=\"letter_count_input\")\n",
        "letter_count_outputs = layers.Dense(64, activation='relu')(letter_count_inputs)\n",
        "letter_count_model = tf.keras.Model(inputs=letter_count_inputs, \n",
        "                                    outputs=letter_count_outputs)\n",
        "\n",
        "# 4. Concatenate sequence and pH inputs \n",
        "sequence_ph_concat = layers.Concatenate(name='concat_sequence_ph')([sequence_model.output, \n",
        "                                                                    pH_model.output])\n",
        "\n",
        "z = layers.Dense(512, activation='elu', kernel_regularizer=regularizers.l2(0.001))(sequence_ph_concat)\n",
        "z = layers.BatchNormalization()(z) # Add in BatchNorm layer\n",
        "z = layers.Dropout(0.5)(z) # increase dropout to 0.5\n",
        "z = layers.Dense(256, activation='elu', kernel_regularizer=regularizers.l2(0.001))(z)\n",
        "z = layers.BatchNormalization()(z) # Add in BatchNorm layer\n",
        "z = layers.Dropout(0.5)(z) # increase dropout to 0.5\n",
        "\n",
        "# 5. Combine letter count embeddings with sequence and ph embeddings for tribrid model\n",
        "z = layers.Concatenate(name='sequence_ph_lettercount_embedding')([letter_count_model.output, \n",
        "                                                                  z])\n",
        "\n",
        "combined_dense = layers.Dense(256, activation='elu', kernel_regularizer=regularizers.l2(0.001))(z)\n",
        "x = layers.BatchNormalization()(combined_dense)\n",
        "x = layers.Dropout(0.3)(x)\n",
        "\n",
        "# 7. Create output layer\n",
        "output_layer = layers.Dense(1, activation='linear')(x) \n",
        "\n",
        "# Construct the model \n",
        "model_11 = tf.keras.Model(inputs=[letter_count_model.input, sequence_model.input, pH_model.input],\n",
        "                         outputs=output_layer,\n",
        "                         name='model_11_bidirectional_LSTM_tribrid_with_final_dense_plus_batch_norm_regul')"
      ],
      "metadata": {
        "id": "yAGRpOYeMa_P"
      },
      "execution_count": 116,
      "outputs": []
    },
    {
      "cell_type": "code",
      "source": [
        "model_11.compile(loss='mse', \n",
        "                optimizer=tf.keras.optimizers.Adam(learning_rate=0.001),\n",
        "                metrics=['mae', 'mse'])\n",
        "\n",
        "history_11 = model_11.fit(tribrid_train_char_dataset, \n",
        "                        epochs=100,\n",
        "                        steps_per_epoch = len(tribrid_train_char_dataset),\n",
        "                        validation_data=tribrid_val_char_dataset,\n",
        "                        validation_steps = len(tribrid_val_char_dataset),\n",
        "                        callbacks=[early_stopping, reduce_lr, model_checkpoint(model_11.name)])"
      ],
      "metadata": {
        "colab": {
          "base_uri": "https://localhost:8080/"
        },
        "id": "QKz5cIGlMaNL",
        "outputId": "480755f4-1604-4cdd-9ecf-8958a61805ce"
      },
      "execution_count": 117,
      "outputs": [
        {
          "output_type": "stream",
          "name": "stdout",
          "text": [
            "Epoch 1/100\n",
            "852/852 [==============================] - 105s 113ms/step - loss: 817.3483 - mae: 21.5163 - mse: 816.1539 - val_loss: 111.1778 - val_mae: 7.8388 - val_mse: 109.7310 - lr: 0.0010\n",
            "Epoch 2/100\n",
            "852/852 [==============================] - 94s 111ms/step - loss: 127.4971 - mae: 8.5227 - mse: 125.6846 - val_loss: 104.0226 - val_mae: 7.3570 - val_mse: 101.8528 - lr: 0.0010\n",
            "Epoch 3/100\n",
            "852/852 [==============================] - 95s 112ms/step - loss: 119.0612 - mae: 8.2373 - mse: 116.4679 - val_loss: 94.7613 - val_mae: 7.3991 - val_mse: 91.8887 - lr: 0.0010\n",
            "Epoch 4/100\n",
            "852/852 [==============================] - 99s 116ms/step - loss: 106.9952 - mae: 7.7194 - mse: 103.9433 - val_loss: 83.8910 - val_mae: 6.7954 - val_mse: 80.6918 - lr: 0.0010\n",
            "Epoch 5/100\n",
            "852/852 [==============================] - 97s 113ms/step - loss: 98.4825 - mae: 7.3621 - mse: 95.2363 - val_loss: 76.9357 - val_mae: 6.3626 - val_mse: 73.7121 - lr: 0.0010\n",
            "Epoch 6/100\n",
            "852/852 [==============================] - 96s 112ms/step - loss: 94.9377 - mae: 7.2250 - mse: 91.6985 - val_loss: 85.8889 - val_mae: 6.6257 - val_mse: 82.6623 - lr: 0.0010\n",
            "Epoch 7/100\n",
            "852/852 [==============================] - 103s 121ms/step - loss: 90.2574 - mae: 7.0167 - mse: 87.0493 - val_loss: 74.4412 - val_mae: 6.4181 - val_mse: 71.2867 - lr: 0.0010\n",
            "Epoch 8/100\n",
            "852/852 [==============================] - 99s 116ms/step - loss: 86.4588 - mae: 6.8940 - mse: 83.3393 - val_loss: 70.0032 - val_mae: 6.1624 - val_mse: 66.9410 - lr: 0.0010\n",
            "Epoch 9/100\n",
            "852/852 [==============================] - 97s 113ms/step - loss: 83.4586 - mae: 6.7887 - mse: 80.4458 - val_loss: 87.3556 - val_mae: 6.5946 - val_mse: 84.4106 - lr: 0.0010\n",
            "Epoch 10/100\n",
            "852/852 [==============================] - 95s 112ms/step - loss: 82.0939 - mae: 6.7219 - mse: 79.1461 - val_loss: 73.9471 - val_mae: 6.1932 - val_mse: 70.9876 - lr: 0.0010\n",
            "Epoch 11/100\n",
            "852/852 [==============================] - 96s 112ms/step - loss: 79.8140 - mae: 6.6092 - mse: 76.8440 - val_loss: 69.6043 - val_mae: 6.1417 - val_mse: 66.6161 - lr: 0.0010\n",
            "Epoch 12/100\n",
            "852/852 [==============================] - 96s 113ms/step - loss: 78.0145 - mae: 6.5178 - mse: 75.0162 - val_loss: 69.9226 - val_mae: 6.0460 - val_mse: 66.9064 - lr: 0.0010\n",
            "Epoch 13/100\n",
            "852/852 [==============================] - 95s 111ms/step - loss: 75.5953 - mae: 6.4376 - mse: 72.5804 - val_loss: 64.8348 - val_mae: 5.8509 - val_mse: 61.8041 - lr: 0.0010\n",
            "Epoch 14/100\n",
            "852/852 [==============================] - 95s 112ms/step - loss: 76.6240 - mae: 6.4895 - mse: 73.5384 - val_loss: 63.4848 - val_mae: 5.7875 - val_mse: 60.3406 - lr: 0.0010\n",
            "Epoch 15/100\n",
            "852/852 [==============================] - 94s 111ms/step - loss: 73.4552 - mae: 6.3575 - mse: 70.2917 - val_loss: 64.4390 - val_mae: 5.8150 - val_mse: 61.2480 - lr: 0.0010\n",
            "Epoch 16/100\n",
            "852/852 [==============================] - 105s 123ms/step - loss: 70.9145 - mae: 6.2379 - mse: 67.7102 - val_loss: 64.6339 - val_mae: 5.7546 - val_mse: 61.4198 - lr: 0.0010\n",
            "Epoch 17/100\n",
            "852/852 [==============================] - 95s 112ms/step - loss: 68.9870 - mae: 6.1557 - mse: 65.7542 - val_loss: 61.9778 - val_mae: 5.7107 - val_mse: 58.7044 - lr: 0.0010\n",
            "Epoch 18/100\n",
            "852/852 [==============================] - 96s 113ms/step - loss: 67.0164 - mae: 6.0782 - mse: 63.7280 - val_loss: 67.2720 - val_mae: 5.7990 - val_mse: 63.9530 - lr: 0.0010\n",
            "Epoch 19/100\n",
            "852/852 [==============================] - 94s 111ms/step - loss: 66.0238 - mae: 6.0098 - mse: 62.6596 - val_loss: 63.7711 - val_mae: 5.7399 - val_mse: 60.3826 - lr: 0.0010\n",
            "Epoch 20/100\n",
            "852/852 [==============================] - 95s 111ms/step - loss: 65.3423 - mae: 5.9865 - mse: 61.9126 - val_loss: 63.1303 - val_mae: 5.7493 - val_mse: 59.6511 - lr: 0.0010\n",
            "Epoch 21/100\n",
            "852/852 [==============================] - 95s 112ms/step - loss: 62.0781 - mae: 5.8644 - mse: 58.5747 - val_loss: 64.4386 - val_mae: 5.7728 - val_mse: 60.9112 - lr: 0.0010\n",
            "Epoch 22/100\n",
            "852/852 [==============================] - 97s 113ms/step - loss: 59.9435 - mae: 5.7506 - mse: 56.3929 - val_loss: 63.8007 - val_mae: 5.7565 - val_mse: 60.2147 - lr: 0.0010\n",
            "Epoch 23/100\n",
            "852/852 [==============================] - ETA: 0s - loss: 60.1999 - mae: 5.7596 - mse: 56.5873\n",
            "Epoch 23: ReduceLROnPlateau reducing learning rate to 0.0004000000189989805.\n",
            "852/852 [==============================] - 96s 112ms/step - loss: 60.1999 - mae: 5.7596 - mse: 56.5873 - val_loss: 63.5702 - val_mae: 5.7215 - val_mse: 59.9161 - lr: 0.0010\n",
            "Epoch 24/100\n",
            "852/852 [==============================] - 131s 154ms/step - loss: 54.9625 - mae: 5.5085 - mse: 51.3388 - val_loss: 58.8522 - val_mae: 5.4841 - val_mse: 55.2607 - lr: 4.0000e-04\n",
            "Epoch 25/100\n",
            "852/852 [==============================] - 104s 122ms/step - loss: 52.3536 - mae: 5.3967 - mse: 48.7919 - val_loss: 59.2831 - val_mae: 5.4873 - val_mse: 55.7538 - lr: 4.0000e-04\n",
            "Epoch 26/100\n",
            "852/852 [==============================] - 98s 115ms/step - loss: 50.9171 - mae: 5.3187 - mse: 47.4154 - val_loss: 58.7133 - val_mae: 5.5132 - val_mse: 55.2389 - lr: 4.0000e-04\n",
            "Epoch 27/100\n",
            "852/852 [==============================] - 96s 113ms/step - loss: 49.2162 - mae: 5.2303 - mse: 45.7658 - val_loss: 60.2910 - val_mae: 5.5771 - val_mse: 56.8663 - lr: 4.0000e-04\n",
            "Epoch 28/100\n",
            "852/852 [==============================] - 95s 111ms/step - loss: 48.3625 - mae: 5.1942 - mse: 44.9573 - val_loss: 61.8112 - val_mae: 5.6708 - val_mse: 58.4266 - lr: 4.0000e-04\n",
            "Epoch 29/100\n",
            "852/852 [==============================] - 95s 112ms/step - loss: 47.7727 - mae: 5.1603 - mse: 44.4093 - val_loss: 61.3202 - val_mae: 5.6299 - val_mse: 57.9742 - lr: 4.0000e-04\n",
            "Epoch 30/100\n",
            "852/852 [==============================] - ETA: 0s - loss: 46.5287 - mae: 5.0940 - mse: 43.1995\n",
            "Epoch 30: ReduceLROnPlateau reducing learning rate to 0.00016000000759959222.\n",
            "852/852 [==============================] - 95s 112ms/step - loss: 46.5287 - mae: 5.0940 - mse: 43.1995 - val_loss: 62.1255 - val_mae: 5.6512 - val_mse: 58.8149 - lr: 4.0000e-04\n",
            "Epoch 31/100\n",
            "852/852 [==============================] - 95s 112ms/step - loss: 44.4142 - mae: 4.9797 - mse: 41.1157 - val_loss: 62.1438 - val_mae: 5.6440 - val_mse: 58.8600 - lr: 1.6000e-04\n",
            "Epoch 32/100\n",
            "852/852 [==============================] - 98s 115ms/step - loss: 43.5299 - mae: 4.8947 - mse: 40.2575 - val_loss: 62.7188 - val_mae: 5.6454 - val_mse: 59.4589 - lr: 1.6000e-04\n",
            "Epoch 33/100\n",
            "852/852 [==============================] - 98s 115ms/step - loss: 43.1647 - mae: 4.8931 - mse: 39.9182 - val_loss: 63.8863 - val_mae: 5.7269 - val_mse: 60.6528 - lr: 1.6000e-04\n",
            "Epoch 34/100\n",
            "852/852 [==============================] - 98s 115ms/step - loss: 42.2447 - mae: 4.8450 - mse: 39.0234 - val_loss: 63.1948 - val_mae: 5.6874 - val_mse: 59.9871 - lr: 1.6000e-04\n",
            "Epoch 35/100\n",
            "852/852 [==============================] - 97s 114ms/step - loss: 42.1884 - mae: 4.8425 - mse: 38.9926 - val_loss: 63.7379 - val_mae: 5.7063 - val_mse: 60.5535 - lr: 1.6000e-04\n",
            "Epoch 36/100\n",
            "852/852 [==============================] - ETA: 0s - loss: 41.4546 - mae: 4.7972 - mse: 38.2828\n",
            "Epoch 36: ReduceLROnPlateau reducing learning rate to 6.40000042039901e-05.\n",
            "852/852 [==============================] - 99s 116ms/step - loss: 41.4546 - mae: 4.7972 - mse: 38.2828 - val_loss: 63.0256 - val_mae: 5.7013 - val_mse: 59.8660 - lr: 1.6000e-04\n"
          ]
        }
      ]
    },
    {
      "cell_type": "code",
      "source": [
        "model_11.save(\"/content/drive/MyDrive/Novozyme_Competition/novozyme_competition/model_11_tribrid__final_dense_batch_norm\")"
      ],
      "metadata": {
        "colab": {
          "base_uri": "https://localhost:8080/"
        },
        "id": "p3W0ch4zQaih",
        "outputId": "d0ed6932-b9a2-496e-8f33-e4327c7ea53d"
      },
      "execution_count": 122,
      "outputs": [
        {
          "output_type": "stream",
          "name": "stderr",
          "text": [
            "WARNING:absl:Found untraced functions such as lstm_cell_46_layer_call_fn, lstm_cell_46_layer_call_and_return_conditional_losses, lstm_cell_47_layer_call_fn, lstm_cell_47_layer_call_and_return_conditional_losses while saving (showing 4 of 4). These functions will not be directly callable after loading.\n"
          ]
        }
      ]
    },
    {
      "cell_type": "code",
      "source": [
        "plot_historys(history_11)"
      ],
      "metadata": {
        "colab": {
          "base_uri": "https://localhost:8080/",
          "height": 458
        },
        "id": "1I6tlTLC0KzB",
        "outputId": "c1fa9f03-6b43-439f-a0ae-a31e7c157f0c"
      },
      "execution_count": 119,
      "outputs": [
        {
          "output_type": "display_data",
          "data": {
            "text/plain": [
              "<Figure size 720x504 with 2 Axes>"
            ],
            "image/png": "[encoded data removed]"
          },
          "metadata": {
            "needs_background": "light"
          }
        }
      ]
    },
    {
      "cell_type": "code",
      "source": [
        "model_11.evaluate(tribrid_val_char_dataset)"
      ],
      "metadata": {
        "colab": {
          "base_uri": "https://localhost:8080/"
        },
        "id": "pZSwFIA-0UCv",
        "outputId": "c5dd1bdc-b5f6-4791-d9fb-cccb69faa5b2"
      },
      "execution_count": 120,
      "outputs": [
        {
          "output_type": "stream",
          "name": "stdout",
          "text": [
            "45/45 [==============================] - 2s 50ms/step - loss: 58.8522 - mae: 5.4841 - mse: 55.2607\n"
          ]
        },
        {
          "output_type": "execute_result",
          "data": {
            "text/plain": [
              "[58.85218811035156, 5.4840617179870605, 55.26070785522461]"
            ]
          },
          "metadata": {},
          "execution_count": 120
        }
      ]
    },
    {
      "cell_type": "code",
      "source": [
        "model_11_preds = model_11.predict([test_letter_counts, test_char_seq, test_ph_norm])\n",
        "model_11_preds[:50]"
      ],
      "metadata": {
        "colab": {
          "base_uri": "https://localhost:8080/"
        },
        "id": "td_nRH1_0Z9w",
        "outputId": "967d0e13-a9fe-4326-f19d-f7f32a01dfed"
      },
      "execution_count": 123,
      "outputs": [
        {
          "output_type": "stream",
          "name": "stdout",
          "text": [
            "76/76 [==============================] - 3s 32ms/step\n"
          ]
        },
        {
          "output_type": "execute_result",
          "data": {
            "text/plain": [
              "array([[46.558266],\n",
              "       [46.49897 ],\n",
              "       [46.52664 ],\n",
              "       [46.59447 ],\n",
              "       [46.81723 ],\n",
              "       [46.65324 ],\n",
              "       [46.627914],\n",
              "       [46.562607],\n",
              "       [46.629414],\n",
              "       [46.566307],\n",
              "       [46.710934],\n",
              "       [46.713497],\n",
              "       [46.66867 ],\n",
              "       [46.720634],\n",
              "       [46.61566 ],\n",
              "       [46.730366],\n",
              "       [46.634506],\n",
              "       [46.6311  ],\n",
              "       [46.61422 ],\n",
              "       [46.689583],\n",
              "       [46.781246],\n",
              "       [46.73878 ],\n",
              "       [46.768845],\n",
              "       [46.64822 ],\n",
              "       [46.78521 ],\n",
              "       [46.689865],\n",
              "       [46.644844],\n",
              "       [46.68017 ],\n",
              "       [46.584938],\n",
              "       [46.65805 ],\n",
              "       [46.661953],\n",
              "       [46.591015],\n",
              "       [46.61848 ],\n",
              "       [46.706512],\n",
              "       [46.663033],\n",
              "       [46.728813],\n",
              "       [46.75877 ],\n",
              "       [46.733074],\n",
              "       [46.62698 ],\n",
              "       [46.59574 ],\n",
              "       [46.634037],\n",
              "       [46.635242],\n",
              "       [46.57834 ],\n",
              "       [46.60846 ],\n",
              "       [46.62915 ],\n",
              "       [46.613926],\n",
              "       [46.650402],\n",
              "       [46.63614 ],\n",
              "       [46.633144],\n",
              "       [46.569687]], dtype=float32)"
            ]
          },
          "metadata": {},
          "execution_count": 123
        }
      ]
    },
    {
      "cell_type": "code",
      "source": [],
      "metadata": {
        "id": "TkDuoZZUD-8v"
      },
      "execution_count": null,
      "outputs": []
    },
    {
      "cell_type": "code",
      "source": [
        "# 1. Setup protein sequence inputs (tribrid model)\n",
        "sequence_inputs = layers.Input(shape=(1,), dtype=tf.string, name='sequence_inputs')\n",
        "sequence_vectors = char_vectorizer(sequence_inputs)\n",
        "sequence_embeddings = character_embedding(sequence_vectors)\n",
        "sequence_outputs = layers.Bidirectional(layers.LSTM(128))(sequence_embeddings)\n",
        "sequence_model = tf.keras.Model(inputs = sequence_inputs, outputs = sequence_outputs)\n",
        "\n",
        "# 2. Setup pH inputs/Model\n",
        "pH_inputs = layers.Input(shape=(1,), dtype=tf.float32, name='ph_inputs')\n",
        "pH_outputs = layers.Dense(64, activation='relu')(pH_inputs)\n",
        "pH_model = tf.keras.Model(inputs = pH_inputs, outputs = pH_outputs)\n",
        "\n",
        "# 3. Set up letter count inputs \n",
        "letter_count_inputs = layers.Input(shape=(20,), dtype=tf.float32, name=\"letter_count_input\")\n",
        "letter_count_outputs = layers.Dense(64, activation='relu')(letter_count_inputs)\n",
        "letter_count_model = tf.keras.Model(inputs=letter_count_inputs, \n",
        "                                    outputs=letter_count_outputs)\n",
        "\n",
        "# 4. Concatenate sequence and pH inputs \n",
        "sequence_ph_concat = layers.Concatenate(name='concat_sequence_ph')([sequence_model.output, \n",
        "                                                                    pH_model.output])\n",
        "\n",
        "z = layers.Dense(512, activation='elu', kernel_regularizer=regularizers.l2(0.002))(sequence_ph_concat)\n",
        "z = layers.BatchNormalization()(z) # Add in BatchNorm layer\n",
        "z = layers.Dropout(0.5)(z) # increase dropout to 0.5\n",
        "\n",
        "\n",
        "# 5. Combine letter count embeddings with sequence and ph embeddings for tribrid model\n",
        "z = layers.Concatenate(name='sequence_ph_lettercount_embedding')([letter_count_model.output, \n",
        "                                                                  z])\n",
        "\n",
        "combined_dense = layers.Dense(256, activation='elu', kernel_regularizer=regularizers.l2(0.002))(z)\n",
        "x = layers.Dropout(0.3)(combined_dense)\n",
        "final_dense = layers.Dense(128, activation='elu')(x)\n",
        "final_dropout = layers.Dropout(0.3)(final_dense)\n",
        "\n",
        "# 7. Create output layer\n",
        "output_layer = layers.Dense(1, activation='linear')(final_dropout) \n",
        "\n",
        "# Construct the model \n",
        "model_12 = tf.keras.Model(inputs=[letter_count_model.input, sequence_model.input, pH_model.input],\n",
        "                         outputs=output_layer,\n",
        "                         name='model_12_bidirectional_LSTM_tribrid_with_final_dense_plus_batch_norm_regul')"
      ],
      "metadata": {
        "id": "-Ndfob7Z-3oc"
      },
      "execution_count": 127,
      "outputs": []
    },
    {
      "cell_type": "code",
      "source": [
        "model_12.summary()"
      ],
      "metadata": {
        "colab": {
          "base_uri": "https://localhost:8080/"
        },
        "id": "vBsC9B-qbMVU",
        "outputId": "08c3e8d3-f4b6-4a77-ce18-6b424c7ee5fe"
      },
      "execution_count": 128,
      "outputs": [
        {
          "output_type": "stream",
          "name": "stdout",
          "text": [
            "Model: \"model_12_bidirectional_LSTM_tribrid_with_final_dense_plus_batch_norm_regul\"\n",
            "__________________________________________________________________________________________________\n",
            " Layer (type)                   Output Shape         Param #     Connected to                     \n",
            "==================================================================================================\n",
            " sequence_inputs (InputLayer)   [(None, 1)]          0           []                               \n",
            "                                                                                                  \n",
            " char_vectorizer (TextVectoriza  (None, 2114)        0           ['sequence_inputs[0][0]']        \n",
            " tion)                                                                                            \n",
            "                                                                                                  \n",
            " embedding_1 (Embedding)        (None, 2114, 512)    10240       ['char_vectorizer[5][0]']        \n",
            "                                                                                                  \n",
            " ph_inputs (InputLayer)         [(None, 1)]          0           []                               \n",
            "                                                                                                  \n",
            " bidirectional_5 (Bidirectional  (None, 256)         656384      ['embedding_1[0][0]']            \n",
            " )                                                                                                \n",
            "                                                                                                  \n",
            " dense_21 (Dense)               (None, 64)           128         ['ph_inputs[0][0]']              \n",
            "                                                                                                  \n",
            " concat_sequence_ph (Concatenat  (None, 320)         0           ['bidirectional_5[0][0]',        \n",
            " e)                                                               'dense_21[0][0]']               \n",
            "                                                                                                  \n",
            " dense_23 (Dense)               (None, 512)          164352      ['concat_sequence_ph[0][0]']     \n",
            "                                                                                                  \n",
            " letter_count_input (InputLayer  [(None, 20)]        0           []                               \n",
            " )                                                                                                \n",
            "                                                                                                  \n",
            " batch_normalization_4 (BatchNo  (None, 512)         2048        ['dense_23[0][0]']               \n",
            " rmalization)                                                                                     \n",
            "                                                                                                  \n",
            " dense_22 (Dense)               (None, 64)           1344        ['letter_count_input[0][0]']     \n",
            "                                                                                                  \n",
            " dropout_8 (Dropout)            (None, 512)          0           ['batch_normalization_4[0][0]']  \n",
            "                                                                                                  \n",
            " sequence_ph_lettercount_embedd  (None, 576)         0           ['dense_22[0][0]',               \n",
            " ing (Concatenate)                                                'dropout_8[0][0]']              \n",
            "                                                                                                  \n",
            " dense_24 (Dense)               (None, 256)          147712      ['sequence_ph_lettercount_embeddi\n",
            "                                                                 ng[0][0]']                       \n",
            "                                                                                                  \n",
            " dropout_9 (Dropout)            (None, 256)          0           ['dense_24[0][0]']               \n",
            "                                                                                                  \n",
            " dense_25 (Dense)               (None, 128)          32896       ['dropout_9[0][0]']              \n",
            "                                                                                                  \n",
            " dropout_10 (Dropout)           (None, 128)          0           ['dense_25[0][0]']               \n",
            "                                                                                                  \n",
            " dense_26 (Dense)               (None, 1)            129         ['dropout_10[0][0]']             \n",
            "                                                                                                  \n",
            "==================================================================================================\n",
            "Total params: 1,015,233\n",
            "Trainable params: 1,014,209\n",
            "Non-trainable params: 1,024\n",
            "__________________________________________________________________________________________________\n"
          ]
        }
      ]
    },
    {
      "cell_type": "code",
      "source": [
        "model_12.compile(loss='mse', \n",
        "                optimizer=tf.keras.optimizers.Adam(learning_rate=0.001),\n",
        "                metrics=['mae', 'mse'])\n",
        "\n",
        "history_12 = model_12.fit(tribrid_train_char_dataset, \n",
        "                        epochs=100,\n",
        "                        steps_per_epoch = len(tribrid_train_char_dataset),\n",
        "                        validation_data=tribrid_val_char_dataset,\n",
        "                        validation_steps = len(tribrid_val_char_dataset),\n",
        "                        callbacks=[early_stopping, reduce_lr, model_checkpoint(model_12.name)])"
      ],
      "metadata": {
        "colab": {
          "base_uri": "https://localhost:8080/"
        },
        "id": "dHHueRXLa1ax",
        "outputId": "6670bd05-c327-4371-f756-7f6c83197e8b"
      },
      "execution_count": 129,
      "outputs": [
        {
          "output_type": "stream",
          "name": "stdout",
          "text": [
            "Epoch 1/100\n",
            "852/852 [==============================] - 145s 161ms/step - loss: 240.1212 - mae: 11.0297 - mse: 238.2833 - val_loss: 435.2480 - val_mae: 19.1698 - val_mse: 433.2514 - lr: 0.0010\n",
            "Epoch 2/100\n",
            "852/852 [==============================] - 138s 163ms/step - loss: 114.9333 - mae: 8.0352 - mse: 112.9233 - val_loss: 479.7473 - val_mae: 20.1952 - val_mse: 477.7216 - lr: 0.0010\n",
            "Epoch 3/100\n",
            "852/852 [==============================] - 134s 157ms/step - loss: 104.8041 - mae: 7.6711 - mse: 102.7343 - val_loss: 88.9221 - val_mae: 6.9195 - val_mse: 86.8177 - lr: 0.0010\n",
            "Epoch 4/100\n",
            "852/852 [==============================] - 133s 156ms/step - loss: 95.0786 - mae: 7.2861 - mse: 92.9622 - val_loss: 100.7259 - val_mae: 7.3828 - val_mse: 98.5984 - lr: 0.0010\n",
            "Epoch 5/100\n",
            "852/852 [==============================] - 132s 155ms/step - loss: 92.2491 - mae: 7.1501 - mse: 90.1114 - val_loss: 199.6405 - val_mae: 11.5036 - val_mse: 197.4736 - lr: 0.0010\n",
            "Epoch 6/100\n",
            "852/852 [==============================] - 132s 155ms/step - loss: 98.8408 - mae: 7.4034 - mse: 96.5262 - val_loss: 76.0671 - val_mae: 6.5274 - val_mse: 73.6677 - lr: 0.0010\n",
            "Epoch 7/100\n",
            "852/852 [==============================] - 132s 156ms/step - loss: 89.8195 - mae: 7.0586 - mse: 87.4241 - val_loss: 80.0406 - val_mae: 6.3404 - val_mse: 77.6370 - lr: 0.0010\n",
            "Epoch 8/100\n",
            "852/852 [==============================] - 132s 155ms/step - loss: 93.0284 - mae: 7.1429 - mse: 90.6220 - val_loss: 184.8254 - val_mae: 11.7372 - val_mse: 182.2667 - lr: 0.0010\n",
            "Epoch 9/100\n",
            "852/852 [==============================] - 132s 155ms/step - loss: 108.5511 - mae: 7.7701 - mse: 105.8098 - val_loss: 86.5197 - val_mae: 6.6055 - val_mse: 83.6916 - lr: 0.0010\n",
            "Epoch 10/100\n",
            "852/852 [==============================] - 131s 154ms/step - loss: 95.1681 - mae: 7.2451 - mse: 92.3100 - val_loss: 75.6147 - val_mae: 6.3377 - val_mse: 72.7252 - lr: 0.0010\n",
            "Epoch 11/100\n",
            "852/852 [==============================] - 133s 156ms/step - loss: 91.2470 - mae: 7.1100 - mse: 88.3094 - val_loss: 75.4689 - val_mae: 6.1911 - val_mse: 72.4785 - lr: 0.0010\n",
            "Epoch 12/100\n",
            "852/852 [==============================] - 132s 155ms/step - loss: 88.3243 - mae: 6.9949 - mse: 85.3438 - val_loss: 70.0433 - val_mae: 6.0125 - val_mse: 67.0681 - lr: 0.0010\n",
            "Epoch 13/100\n",
            "852/852 [==============================] - 131s 154ms/step - loss: 85.6224 - mae: 6.8806 - mse: 82.6592 - val_loss: 67.0966 - val_mae: 5.8878 - val_mse: 64.1425 - lr: 0.0010\n",
            "Epoch 14/100\n",
            "852/852 [==============================] - 129s 151ms/step - loss: 81.8955 - mae: 6.7391 - mse: 78.9347 - val_loss: 67.7081 - val_mae: 5.8927 - val_mse: 64.7256 - lr: 0.0010\n",
            "Epoch 15/100\n",
            "852/852 [==============================] - 129s 152ms/step - loss: 79.7736 - mae: 6.6627 - mse: 76.8092 - val_loss: 64.3805 - val_mae: 5.7906 - val_mse: 61.4201 - lr: 0.0010\n",
            "Epoch 16/100\n",
            "852/852 [==============================] - 129s 152ms/step - loss: 78.8234 - mae: 6.6234 - mse: 75.7655 - val_loss: 62.7639 - val_mae: 5.7112 - val_mse: 59.6807 - lr: 0.0010\n",
            "Epoch 17/100\n",
            "852/852 [==============================] - 129s 151ms/step - loss: 76.1532 - mae: 6.4936 - mse: 73.0124 - val_loss: 63.2056 - val_mae: 5.7720 - val_mse: 60.0189 - lr: 0.0010\n",
            "Epoch 18/100\n",
            "852/852 [==============================] - 130s 153ms/step - loss: 74.8850 - mae: 6.4680 - mse: 71.7103 - val_loss: 79.0025 - val_mae: 6.2353 - val_mse: 75.8183 - lr: 0.0010\n",
            "Epoch 19/100\n",
            "852/852 [==============================] - 129s 152ms/step - loss: 73.8573 - mae: 6.4292 - mse: 70.6421 - val_loss: 64.9441 - val_mae: 5.7747 - val_mse: 61.7089 - lr: 0.0010\n",
            "Epoch 20/100\n",
            "852/852 [==============================] - 130s 153ms/step - loss: 69.3381 - mae: 6.2334 - mse: 66.1112 - val_loss: 65.6383 - val_mae: 5.7834 - val_mse: 62.3953 - lr: 0.0010\n",
            "Epoch 21/100\n",
            "852/852 [==============================] - 130s 153ms/step - loss: 67.9203 - mae: 6.2057 - mse: 64.6801 - val_loss: 67.0371 - val_mae: 5.9339 - val_mse: 63.7685 - lr: 0.0010\n",
            "Epoch 22/100\n",
            "852/852 [==============================] - ETA: 0s - loss: 73.5174 - mae: 6.2545 - mse: 70.0837\n",
            "Epoch 22: ReduceLROnPlateau reducing learning rate to 0.0004000000189989805.\n",
            "852/852 [==============================] - 131s 153ms/step - loss: 73.5174 - mae: 6.2545 - mse: 70.0837 - val_loss: 65.6519 - val_mae: 5.8374 - val_mse: 62.0688 - lr: 0.0010\n",
            "Epoch 23/100\n",
            "852/852 [==============================] - 130s 153ms/step - loss: 63.4737 - mae: 5.9694 - mse: 59.9336 - val_loss: 62.3587 - val_mae: 5.6762 - val_mse: 58.8623 - lr: 4.0000e-04\n",
            "Epoch 24/100\n",
            "852/852 [==============================] - 132s 155ms/step - loss: 61.2270 - mae: 5.8750 - mse: 57.7664 - val_loss: 63.0998 - val_mae: 5.6647 - val_mse: 59.6765 - lr: 4.0000e-04\n",
            "Epoch 25/100\n",
            "852/852 [==============================] - 134s 157ms/step - loss: 61.2622 - mae: 5.7856 - mse: 57.8664 - val_loss: 64.2700 - val_mae: 5.6945 - val_mse: 60.8628 - lr: 4.0000e-04\n",
            "Epoch 26/100\n",
            "852/852 [==============================] - 133s 156ms/step - loss: 57.6605 - mae: 5.7080 - mse: 54.2835 - val_loss: 64.7967 - val_mae: 5.7358 - val_mse: 61.4481 - lr: 4.0000e-04\n",
            "Epoch 27/100\n",
            "852/852 [==============================] - 133s 156ms/step - loss: 56.3819 - mae: 5.6611 - mse: 53.0537 - val_loss: 64.7161 - val_mae: 5.7402 - val_mse: 61.4129 - lr: 4.0000e-04\n",
            "Epoch 28/100\n",
            "852/852 [==============================] - ETA: 0s - loss: 54.9052 - mae: 5.5739 - mse: 51.6254\n",
            "Epoch 28: ReduceLROnPlateau reducing learning rate to 0.00016000000759959222.\n",
            "852/852 [==============================] - 133s 156ms/step - loss: 54.9052 - mae: 5.5739 - mse: 51.6254 - val_loss: 63.4367 - val_mae: 5.6708 - val_mse: 60.1802 - lr: 4.0000e-04\n"
          ]
        }
      ]
    },
    {
      "cell_type": "code",
      "source": [
        "model_12.save(\"/content/drive/MyDrive/Novozyme_Competition/novozyme_competition/model_12_tribrid__final_dense_batch_norm\")"
      ],
      "metadata": {
        "colab": {
          "base_uri": "https://localhost:8080/"
        },
        "id": "AF6rvgRhh8Cy",
        "outputId": "66d7d375-2285-4518-deb7-a7bbcf61f65e"
      },
      "execution_count": 130,
      "outputs": [
        {
          "output_type": "stream",
          "name": "stderr",
          "text": [
            "WARNING:absl:Found untraced functions such as lstm_cell_16_layer_call_fn, lstm_cell_16_layer_call_and_return_conditional_losses, lstm_cell_17_layer_call_fn, lstm_cell_17_layer_call_and_return_conditional_losses while saving (showing 4 of 4). These functions will not be directly callable after loading.\n"
          ]
        }
      ]
    },
    {
      "cell_type": "code",
      "source": [
        "model_12.evaluate(tribrid_val_char_dataset)"
      ],
      "metadata": {
        "colab": {
          "base_uri": "https://localhost:8080/"
        },
        "id": "ovGKHHO_5TZk",
        "outputId": "2ab31a4e-03de-4ada-a328-43257490e4b3"
      },
      "execution_count": 132,
      "outputs": [
        {
          "output_type": "stream",
          "name": "stdout",
          "text": [
            "45/45 [==============================] - 8s 174ms/step - loss: 62.7639 - mae: 5.7112 - mse: 59.6807\n"
          ]
        },
        {
          "output_type": "execute_result",
          "data": {
            "text/plain": [
              "[62.763938903808594, 5.7111735343933105, 59.68071746826172]"
            ]
          },
          "metadata": {},
          "execution_count": 132
        }
      ]
    },
    {
      "cell_type": "code",
      "source": [
        "model_12_preds = model_12.predict(tribrid_val_char_dataset)\n",
        "model_12_preds[:50]"
      ],
      "metadata": {
        "colab": {
          "base_uri": "https://localhost:8080/"
        },
        "id": "9weKJJgb5YMf",
        "outputId": "bfd6b836-da96-4812-9ec4-0762d116759d"
      },
      "execution_count": 134,
      "outputs": [
        {
          "output_type": "stream",
          "name": "stdout",
          "text": [
            "45/45 [==============================] - 5s 109ms/step\n"
          ]
        },
        {
          "output_type": "execute_result",
          "data": {
            "text/plain": [
              "array([[48.17907 ],\n",
              "       [47.626133],\n",
              "       [45.992638],\n",
              "       [46.108936],\n",
              "       [63.348827],\n",
              "       [49.42348 ],\n",
              "       [51.548046],\n",
              "       [64.53137 ],\n",
              "       [82.05693 ],\n",
              "       [48.735104],\n",
              "       [44.72913 ],\n",
              "       [71.9305  ],\n",
              "       [72.10826 ],\n",
              "       [85.164894],\n",
              "       [50.300377],\n",
              "       [53.90262 ],\n",
              "       [51.234253],\n",
              "       [51.2845  ],\n",
              "       [44.40363 ],\n",
              "       [58.245285],\n",
              "       [46.877293],\n",
              "       [48.465107],\n",
              "       [49.394997],\n",
              "       [51.94977 ],\n",
              "       [85.59001 ],\n",
              "       [46.74009 ],\n",
              "       [50.669598],\n",
              "       [49.356377],\n",
              "       [47.576077],\n",
              "       [48.672913],\n",
              "       [64.08677 ],\n",
              "       [47.111248],\n",
              "       [64.11992 ],\n",
              "       [47.481293],\n",
              "       [48.57726 ],\n",
              "       [49.485252],\n",
              "       [48.10896 ],\n",
              "       [48.668236],\n",
              "       [47.690834],\n",
              "       [47.31583 ],\n",
              "       [49.63921 ],\n",
              "       [46.83821 ],\n",
              "       [50.50518 ],\n",
              "       [48.69662 ],\n",
              "       [67.27834 ],\n",
              "       [59.531044],\n",
              "       [47.369495],\n",
              "       [49.290096],\n",
              "       [46.521667],\n",
              "       [47.64896 ]], dtype=float32)"
            ]
          },
          "metadata": {},
          "execution_count": 134
        }
      ]
    },
    {
      "cell_type": "code",
      "source": [
        "# 1. Setup protein sequence inputs\n",
        "sequence_inputs = layers.Input(shape=(1,), dtype=tf.string, name='sequence_inputs')\n",
        "sequence_vectors = char_vectorizer(sequence_inputs)\n",
        "sequence_embeddings = character_embedding(sequence_vectors)\n",
        "x = layers.Bidirectional(layers.LSTM(64, return_sequences=True))(sequence_embeddings)\n",
        "sequence_outputs = layers.Bidirectional(layers.LSTM(128))(x)\n",
        "sequence_model = tf.keras.Model(inputs = sequence_inputs, outputs = sequence_outputs)\n",
        "\n",
        "# 2. Setup pH inputs/Model\n",
        "pH_inputs = layers.Input(shape=(1,), dtype=tf.float32, name='ph_inputs')\n",
        "pH_outputs = layers.Dense(128, activation='relu')(pH_inputs)\n",
        "pH_model = tf.keras.Model(inputs = pH_inputs, outputs = pH_outputs)\n",
        "\n",
        "\n",
        "# 4. Concatenate sequence and pH inputs \n",
        "sequence_ph_concat = layers.Concatenate(name='concat_sequence_ph')([sequence_model.output, \n",
        "                                                                    pH_model.output])\n",
        "\n",
        "\n",
        "# 6. Create output layers\n",
        "combined_dense = layers.Dense(256, activation='relu', kernel_regularizer=regularizers.l2(0.001))(sequence_ph_concat)\n",
        "combined_dropout = layers.Dropout(0.5)(combined_dense)\n",
        "x = layers.Dense(128, activation='relu', kernel_regularizer=regularizers.l2(0.001))(combined_dropout)\n",
        "x = layers.Dropout(0.5)(x)\n",
        "x = layers.Dense(128, activation='relu')(x)\n",
        "final_dropout = layers.Dropout(0.3)(x)\n",
        "\n",
        "# 7. Create output layer\n",
        "output_layer = layers.Dense(1, activation='linear')(final_dropout) \n",
        "\n",
        "# Construct the model \n",
        "model_13 = tf.keras.Model(inputs=[sequence_model.input, pH_model.input],\n",
        "                         outputs=output_layer,\n",
        "                         name='model_13_bidirectional_LSTM_with_l2_norm_dropout')"
      ],
      "metadata": {
        "id": "mlxqXAKv5lFb"
      },
      "execution_count": 110,
      "outputs": []
    },
    {
      "cell_type": "code",
      "source": [
        "model_13.summary()"
      ],
      "metadata": {
        "colab": {
          "base_uri": "https://localhost:8080/"
        },
        "id": "xtS0-er4jJ7Z",
        "outputId": "e5e5be85-ffc7-4fc2-8107-babf0887d1c0"
      },
      "execution_count": 120,
      "outputs": [
        {
          "output_type": "stream",
          "name": "stdout",
          "text": [
            "Model: \"model_13_bidirectional_LSTM_with_l2_norm_dropout\"\n",
            "__________________________________________________________________________________________________\n",
            " Layer (type)                   Output Shape         Param #     Connected to                     \n",
            "==================================================================================================\n",
            " sequence_inputs (InputLayer)   [(None, 1)]          0           []                               \n",
            "                                                                                                  \n",
            " char_vectorizer (TextVectoriza  (None, 2114)        0           ['sequence_inputs[0][0]']        \n",
            " tion)                                                                                            \n",
            "                                                                                                  \n",
            " embedding_1 (Embedding)        (None, 2114, 256)    5632        ['char_vectorizer[2][0]']        \n",
            "                                                                                                  \n",
            " bidirectional_4 (Bidirectional  (None, 2114, 128)   164352      ['embedding_1[2][0]']            \n",
            " )                                                                                                \n",
            "                                                                                                  \n",
            " ph_inputs (InputLayer)         [(None, 1)]          0           []                               \n",
            "                                                                                                  \n",
            " bidirectional_5 (Bidirectional  (None, 256)         263168      ['bidirectional_4[0][0]']        \n",
            " )                                                                                                \n",
            "                                                                                                  \n",
            " dense_6 (Dense)                (None, 128)          256         ['ph_inputs[0][0]']              \n",
            "                                                                                                  \n",
            " concat_sequence_ph (Concatenat  (None, 384)         0           ['bidirectional_5[0][0]',        \n",
            " e)                                                               'dense_6[0][0]']                \n",
            "                                                                                                  \n",
            " dense_7 (Dense)                (None, 256)          98560       ['concat_sequence_ph[0][0]']     \n",
            "                                                                                                  \n",
            " dropout_3 (Dropout)            (None, 256)          0           ['dense_7[0][0]']                \n",
            "                                                                                                  \n",
            " dense_8 (Dense)                (None, 128)          32896       ['dropout_3[0][0]']              \n",
            "                                                                                                  \n",
            " dropout_4 (Dropout)            (None, 128)          0           ['dense_8[0][0]']                \n",
            "                                                                                                  \n",
            " dense_9 (Dense)                (None, 128)          16512       ['dropout_4[0][0]']              \n",
            "                                                                                                  \n",
            " dropout_5 (Dropout)            (None, 128)          0           ['dense_9[0][0]']                \n",
            "                                                                                                  \n",
            " dense_10 (Dense)               (None, 1)            129         ['dropout_5[0][0]']              \n",
            "                                                                                                  \n",
            "==================================================================================================\n",
            "Total params: 581,505\n",
            "Trainable params: 581,505\n",
            "Non-trainable params: 0\n",
            "__________________________________________________________________________________________________\n"
          ]
        }
      ]
    },
    {
      "cell_type": "code",
      "source": [
        "model_13.compile(loss='mse', \n",
        "                optimizer=tf.keras.optimizers.Adam(learning_rate=0.001),\n",
        "                metrics=['mae', 'mse'])\n",
        "\n",
        "history_13 = model_13.fit(train_char_dataset, \n",
        "                        epochs=100,\n",
        "                        steps_per_epoch = len(train_char_dataset),\n",
        "                        validation_data=val_char_dataset,\n",
        "                        validation_steps = len(val_char_dataset),\n",
        "                        callbacks=[early_stopping, reduce_lr, model_checkpoint(model_13.name)])"
      ],
      "metadata": {
        "colab": {
          "base_uri": "https://localhost:8080/"
        },
        "id": "i-tBMfBVwWiv",
        "outputId": "3c865a03-6c11-4c1e-c1ca-b300c0d32de0"
      },
      "execution_count": 112,
      "outputs": [
        {
          "output_type": "stream",
          "name": "stdout",
          "text": [
            "Epoch 1/100\n",
            "852/852 [==============================] - 241s 261ms/step - loss: 260.7949 - mae: 11.9888 - mse: 260.4953 - val_loss: 113.6975 - val_mae: 7.5839 - val_mse: 113.4283 - lr: 0.0010\n",
            "Epoch 2/100\n",
            "852/852 [==============================] - 234s 275ms/step - loss: 176.8528 - mae: 10.1609 - mse: 176.5892 - val_loss: 96.1705 - val_mae: 7.3799 - val_mse: 95.9133 - lr: 0.0010\n",
            "Epoch 3/100\n",
            "852/852 [==============================] - 236s 278ms/step - loss: 157.6811 - mae: 9.6238 - mse: 157.4321 - val_loss: 93.4260 - val_mae: 7.2055 - val_mse: 93.1855 - lr: 0.0010\n",
            "Epoch 4/100\n",
            "852/852 [==============================] - 232s 273ms/step - loss: 144.4534 - mae: 9.1555 - mse: 144.2211 - val_loss: 108.0276 - val_mae: 7.9844 - val_mse: 107.8011 - lr: 0.0010\n",
            "Epoch 5/100\n",
            "852/852 [==============================] - 232s 273ms/step - loss: 129.0905 - mae: 8.6299 - mse: 128.8656 - val_loss: 91.7556 - val_mae: 6.9885 - val_mse: 91.5267 - lr: 0.0010\n",
            "Epoch 6/100\n",
            "852/852 [==============================] - 230s 270ms/step - loss: 114.0432 - mae: 8.1089 - mse: 113.8119 - val_loss: 76.4209 - val_mae: 6.4887 - val_mse: 76.1892 - lr: 0.0010\n",
            "Epoch 7/100\n",
            "852/852 [==============================] - 228s 268ms/step - loss: 109.1399 - mae: 7.8864 - mse: 108.9067 - val_loss: 78.7283 - val_mae: 6.5699 - val_mse: 78.4971 - lr: 0.0010\n",
            "Epoch 8/100\n",
            "852/852 [==============================] - 228s 268ms/step - loss: 103.2022 - mae: 7.6979 - mse: 102.9719 - val_loss: 74.5211 - val_mae: 6.4594 - val_mse: 74.2938 - lr: 0.0010\n",
            "Epoch 9/100\n",
            "852/852 [==============================] - 229s 268ms/step - loss: 101.8227 - mae: 7.6190 - mse: 101.5983 - val_loss: 73.9310 - val_mae: 6.3896 - val_mse: 73.7111 - lr: 0.0010\n",
            "Epoch 10/100\n",
            "852/852 [==============================] - 228s 268ms/step - loss: 100.2494 - mae: 7.5450 - mse: 100.0333 - val_loss: 73.1447 - val_mae: 6.3373 - val_mse: 72.9275 - lr: 0.0010\n",
            "Epoch 11/100\n",
            "852/852 [==============================] - 228s 268ms/step - loss: 95.4770 - mae: 7.3420 - mse: 95.2638 - val_loss: 70.1682 - val_mae: 6.1977 - val_mse: 69.9587 - lr: 0.0010\n",
            "Epoch 12/100\n",
            "852/852 [==============================] - 228s 268ms/step - loss: 92.4511 - mae: 7.2438 - mse: 92.2423 - val_loss: 70.4537 - val_mae: 6.2152 - val_mse: 70.2463 - lr: 0.0010\n",
            "Epoch 13/100\n",
            "852/852 [==============================] - 227s 267ms/step - loss: 89.1226 - mae: 7.1269 - mse: 88.9164 - val_loss: 66.1087 - val_mae: 6.0661 - val_mse: 65.9034 - lr: 0.0010\n",
            "Epoch 14/100\n",
            "852/852 [==============================] - 224s 263ms/step - loss: 87.0357 - mae: 7.0602 - mse: 86.8309 - val_loss: 66.3199 - val_mae: 6.0576 - val_mse: 66.1175 - lr: 0.0010\n",
            "Epoch 15/100\n",
            "852/852 [==============================] - 222s 260ms/step - loss: 86.1578 - mae: 7.0116 - mse: 85.9560 - val_loss: 65.6130 - val_mae: 6.0959 - val_mse: 65.4114 - lr: 0.0010\n",
            "Epoch 16/100\n",
            "852/852 [==============================] - 221s 260ms/step - loss: 83.2617 - mae: 6.9124 - mse: 83.0598 - val_loss: 65.0667 - val_mae: 6.0159 - val_mse: 64.8679 - lr: 0.0010\n",
            "Epoch 17/100\n",
            "852/852 [==============================] - 225s 264ms/step - loss: 82.5700 - mae: 6.9098 - mse: 82.3705 - val_loss: 64.1503 - val_mae: 5.9429 - val_mse: 63.9539 - lr: 0.0010\n",
            "Epoch 18/100\n",
            "852/852 [==============================] - 223s 262ms/step - loss: 79.7682 - mae: 6.7752 - mse: 79.5710 - val_loss: 63.4677 - val_mae: 5.9721 - val_mse: 63.2718 - lr: 0.0010\n",
            "Epoch 19/100\n",
            "852/852 [==============================] - 232s 272ms/step - loss: 79.3826 - mae: 6.7720 - mse: 79.1858 - val_loss: 63.8914 - val_mae: 5.9267 - val_mse: 63.6973 - lr: 0.0010\n",
            "Epoch 20/100\n",
            "852/852 [==============================] - 233s 273ms/step - loss: 77.3346 - mae: 6.6789 - mse: 77.1383 - val_loss: 62.6571 - val_mae: 5.8719 - val_mse: 62.4610 - lr: 0.0010\n",
            "Epoch 21/100\n",
            "852/852 [==============================] - 228s 268ms/step - loss: 75.7446 - mae: 6.6114 - mse: 75.5479 - val_loss: 61.6896 - val_mae: 5.8759 - val_mse: 61.4935 - lr: 0.0010\n",
            "Epoch 22/100\n",
            "852/852 [==============================] - 251s 294ms/step - loss: 74.8187 - mae: 6.5760 - mse: 74.6211 - val_loss: 59.9455 - val_mae: 5.7919 - val_mse: 59.7483 - lr: 0.0010\n",
            "Epoch 23/100\n",
            "852/852 [==============================] - 230s 270ms/step - loss: 73.0033 - mae: 6.5073 - mse: 72.8036 - val_loss: 61.4020 - val_mae: 5.8706 - val_mse: 61.2018 - lr: 0.0010\n",
            "Epoch 24/100\n",
            "852/852 [==============================] - 227s 266ms/step - loss: 72.5655 - mae: 6.4999 - mse: 72.3635 - val_loss: 61.7066 - val_mae: 5.8164 - val_mse: 61.5041 - lr: 0.0010\n",
            "Epoch 25/100\n",
            "852/852 [==============================] - 227s 267ms/step - loss: 70.2663 - mae: 6.4073 - mse: 70.0623 - val_loss: 59.1115 - val_mae: 5.6920 - val_mse: 58.9087 - lr: 0.0010\n",
            "Epoch 26/100\n",
            "852/852 [==============================] - 226s 265ms/step - loss: 70.2329 - mae: 6.4071 - mse: 70.0286 - val_loss: 61.2209 - val_mae: 5.7986 - val_mse: 61.0181 - lr: 0.0010\n",
            "Epoch 27/100\n",
            "852/852 [==============================] - 226s 266ms/step - loss: 69.3680 - mae: 6.3756 - mse: 69.1592 - val_loss: 60.1249 - val_mae: 5.7251 - val_mse: 59.9161 - lr: 0.0010\n",
            "Epoch 28/100\n",
            "852/852 [==============================] - ETA: 0s - loss: 67.9605 - mae: 6.2972 - mse: 67.7494\n",
            "Epoch 28: ReduceLROnPlateau reducing learning rate to 0.0004000000189989805.\n",
            "852/852 [==============================] - 226s 265ms/step - loss: 67.9605 - mae: 6.2972 - mse: 67.7494 - val_loss: 63.2972 - val_mae: 5.8625 - val_mse: 63.0847 - lr: 0.0010\n",
            "Epoch 29/100\n",
            "852/852 [==============================] - 225s 265ms/step - loss: 64.8845 - mae: 6.1690 - mse: 64.6736 - val_loss: 60.4799 - val_mae: 5.7006 - val_mse: 60.2704 - lr: 4.0000e-04\n",
            "Epoch 30/100\n",
            "852/852 [==============================] - 225s 264ms/step - loss: 62.0134 - mae: 6.0544 - mse: 61.8046 - val_loss: 60.2857 - val_mae: 5.6884 - val_mse: 60.0779 - lr: 4.0000e-04\n",
            "Epoch 31/100\n",
            "852/852 [==============================] - 225s 264ms/step - loss: 61.2748 - mae: 6.0180 - mse: 61.0671 - val_loss: 61.1115 - val_mae: 5.6711 - val_mse: 60.9056 - lr: 4.0000e-04\n",
            "Epoch 32/100\n",
            "852/852 [==============================] - 225s 265ms/step - loss: 60.8158 - mae: 6.0011 - mse: 60.6105 - val_loss: 60.1720 - val_mae: 5.6838 - val_mse: 59.9673 - lr: 4.0000e-04\n",
            "Epoch 33/100\n",
            "852/852 [==============================] - 226s 265ms/step - loss: 60.9085 - mae: 5.9781 - mse: 60.7036 - val_loss: 58.7033 - val_mae: 5.6189 - val_mse: 58.4987 - lr: 4.0000e-04\n",
            "Epoch 34/100\n",
            "852/852 [==============================] - 223s 262ms/step - loss: 59.7858 - mae: 5.9366 - mse: 59.5815 - val_loss: 59.5533 - val_mae: 5.6581 - val_mse: 59.3493 - lr: 4.0000e-04\n",
            "Epoch 35/100\n",
            "852/852 [==============================] - 225s 264ms/step - loss: 59.9558 - mae: 5.9608 - mse: 59.7512 - val_loss: 59.9288 - val_mae: 5.6090 - val_mse: 59.7238 - lr: 4.0000e-04\n",
            "Epoch 36/100\n",
            "852/852 [==============================] - 225s 264ms/step - loss: 57.8137 - mae: 5.8593 - mse: 57.6097 - val_loss: 58.7015 - val_mae: 5.6119 - val_mse: 58.4975 - lr: 4.0000e-04\n",
            "Epoch 37/100\n",
            "852/852 [==============================] - 224s 263ms/step - loss: 57.2332 - mae: 5.8193 - mse: 57.0284 - val_loss: 60.9576 - val_mae: 5.7145 - val_mse: 60.7532 - lr: 4.0000e-04\n"
          ]
        }
      ]
    },
    {
      "cell_type": "code",
      "source": [
        "model_13.save(\"/content/drive/MyDrive/Novozyme_Competition/novozyme_competition/model_13_biLSTM_two_input_with_regularization\")"
      ],
      "metadata": {
        "colab": {
          "base_uri": "https://localhost:8080/"
        },
        "id": "VVFe1et1Cz-P",
        "outputId": "d4331c80-f80c-49b3-c1cf-0fbf171b2528"
      },
      "execution_count": 113,
      "outputs": [
        {
          "output_type": "stream",
          "name": "stderr",
          "text": [
            "WARNING:absl:Found untraced functions such as lstm_cell_13_layer_call_fn, lstm_cell_13_layer_call_and_return_conditional_losses, lstm_cell_14_layer_call_fn, lstm_cell_14_layer_call_and_return_conditional_losses, lstm_cell_16_layer_call_fn while saving (showing 5 of 8). These functions will not be directly callable after loading.\n"
          ]
        }
      ]
    },
    {
      "cell_type": "code",
      "source": [
        "model_13.evaluate(val_char_dataset)"
      ],
      "metadata": {
        "colab": {
          "base_uri": "https://localhost:8080/"
        },
        "id": "bfFJsuvEFXEe",
        "outputId": "550ab444-6cd7-48fc-b4be-11b252ae24ee"
      },
      "execution_count": 114,
      "outputs": [
        {
          "output_type": "stream",
          "name": "stdout",
          "text": [
            "45/45 [==============================] - 7s 145ms/step - loss: 59.1115 - mae: 5.6920 - mse: 58.9087\n"
          ]
        },
        {
          "output_type": "execute_result",
          "data": {
            "text/plain": [
              "[59.11146545410156, 5.6920318603515625, 58.908660888671875]"
            ]
          },
          "metadata": {},
          "execution_count": 114
        }
      ]
    },
    {
      "cell_type": "code",
      "source": [
        "model_13_preds = model_13.predict(val_char_dataset)\n",
        "model_13_preds[:20]"
      ],
      "metadata": {
        "colab": {
          "base_uri": "https://localhost:8080/"
        },
        "id": "vNkjkOq2FZW_",
        "outputId": "6521c6ae-c1d0-4e33-d3de-fe0afe6a59c0"
      },
      "execution_count": 115,
      "outputs": [
        {
          "output_type": "stream",
          "name": "stdout",
          "text": [
            "45/45 [==============================] - 11s 137ms/step\n"
          ]
        },
        {
          "output_type": "execute_result",
          "data": {
            "text/plain": [
              "array([[46.057384],\n",
              "       [46.578583],\n",
              "       [46.140156],\n",
              "       [46.1386  ],\n",
              "       [64.20221 ],\n",
              "       [46.073307],\n",
              "       [46.033875],\n",
              "       [61.597042],\n",
              "       [88.51113 ],\n",
              "       [46.035778],\n",
              "       [46.10072 ],\n",
              "       [82.51499 ],\n",
              "       [66.753456],\n",
              "       [83.481834],\n",
              "       [47.789406],\n",
              "       [58.367916],\n",
              "       [50.78157 ],\n",
              "       [49.252792],\n",
              "       [46.03713 ],\n",
              "       [53.8818  ]], dtype=float32)"
            ]
          },
          "metadata": {},
          "execution_count": 115
        }
      ]
    },
    {
      "cell_type": "code",
      "source": [
        "model_13_test_preds = model_13.predict([test_char_seq, test_ph_norm])\n",
        "model_13_test_preds[:30]"
      ],
      "metadata": {
        "colab": {
          "base_uri": "https://localhost:8080/"
        },
        "id": "AftGBhhHFffD",
        "outputId": "5043c9fe-f8c7-4021-ccaf-1e2607d4f3b6"
      },
      "execution_count": 119,
      "outputs": [
        {
          "output_type": "stream",
          "name": "stdout",
          "text": [
            "76/76 [==============================] - 9s 29ms/step\n"
          ]
        },
        {
          "output_type": "execute_result",
          "data": {
            "text/plain": [
              "array([[46.221405],\n",
              "       [46.31897 ],\n",
              "       [46.263584],\n",
              "       [46.220848],\n",
              "       [46.216854],\n",
              "       [46.233154],\n",
              "       [46.21497 ],\n",
              "       [46.19687 ],\n",
              "       [46.241184],\n",
              "       [46.25862 ],\n",
              "       [46.236187],\n",
              "       [46.20945 ],\n",
              "       [46.214005],\n",
              "       [46.20268 ],\n",
              "       [46.239426],\n",
              "       [46.210735],\n",
              "       [46.2398  ],\n",
              "       [46.22797 ],\n",
              "       [46.24913 ],\n",
              "       [46.218143],\n",
              "       [46.198566],\n",
              "       [46.224228],\n",
              "       [46.3342  ],\n",
              "       [46.228287],\n",
              "       [46.31084 ],\n",
              "       [46.219032],\n",
              "       [46.250843],\n",
              "       [46.184895],\n",
              "       [46.245438],\n",
              "       [46.196148]], dtype=float32)"
            ]
          },
          "metadata": {},
          "execution_count": 119
        }
      ]
    },
    {
      "cell_type": "markdown",
      "source": [
        "## GRU Model"
      ],
      "metadata": {
        "id": "Q3yVUr5BfAMl"
      }
    },
    {
      "cell_type": "code",
      "source": [
        "# 1. Setup protein sequence inputs\n",
        "sequence_inputs = layers.Input(shape=(1), dtype=tf.string, name='sequence_inputs')\n",
        "sequence_vectors = char_vectorizer(sequence_inputs)\n",
        "sequence_embeddings = character_embedding(sequence_vectors)\n",
        "x = layers.GRU(64, return_sequences=True)(sequence_embeddings)\n",
        "sequence_outputs = layers.GRU(64)(x)\n",
        "sequence_model = tf.keras.Model(inputs = sequence_inputs, outputs = sequence_outputs)\n",
        "\n",
        "# 2. Setup pH inputs/Model\n",
        "pH_inputs = layers.Input(shape=(1,), dtype=tf.float32, name='pH_inputs')\n",
        "norm1 = normalizer1(pH_inputs)\n",
        "pH_outputs = layers.Dense(128, activation='relu')(norm1)\n",
        "pH_model = tf.keras.Model(inputs = pH_inputs, outputs = pH_outputs)\n",
        "\n",
        "# Concatenate sequence and pH inputs \n",
        "sequence_pH_concat = layers.Concatenate(name='concatenation')([sequence_model.output, \n",
        "                                                               pH_model.output])\n",
        "\n",
        "combined_dense = layers.Dense(128, activation='relu')(sequence_pH_concat)\n",
        "output_layer = layers.Dense(1, activation='linear')(combined_dense) \n",
        "\n",
        "# Construct the model \n",
        "model_14 = tf.keras.Model(inputs=[sequence_model.input, pH_model.input],\n",
        "                         outputs=output_layer,\n",
        "                         name='model_14_GRU')"
      ],
      "metadata": {
        "id": "xIG-704qe_jF"
      },
      "execution_count": null,
      "outputs": []
    },
    {
      "cell_type": "code",
      "source": [
        "model_14.compile(loss='mse',\n",
        "                optimizer = tf.keras.optimizers.Adam(),\n",
        "                metrics=['mae', 'mse'])"
      ],
      "metadata": {
        "id": "9lrb82msfL-T"
      },
      "execution_count": null,
      "outputs": []
    },
    {
      "cell_type": "code",
      "source": [
        "history_14 = model_4.fit(train_char_dataset, \n",
        "                        epochs=5,\n",
        "                        steps_per_epoch = len(train_char_dataset),\n",
        "                        validation_data=val_char_dataset,\n",
        "                        validation_steps = int(0.25*len(val_char_dataset)),\n",
        "                        callbacks=[reduce_lr, early_stopping, model_checkpoint(model_14.name)]))"
      ],
      "metadata": {
        "colab": {
          "base_uri": "https://localhost:8080/"
        },
        "id": "fL7-DnI0fPWE",
        "outputId": "9140c55f-0c8f-444d-ea7c-40607c003302"
      },
      "execution_count": null,
      "outputs": [
        {
          "output_type": "stream",
          "name": "stdout",
          "text": [
            "Epoch 1/5\n",
            "90/90 [==============================] - 8s 12ms/step - loss: nan - mae: nan - mse: nan\n",
            "Epoch 2/5\n",
            "90/90 [==============================] - 1s 12ms/step - loss: nan - mae: nan - mse: nan\n",
            "Epoch 3/5\n",
            "90/90 [==============================] - 1s 12ms/step - loss: nan - mae: nan - mse: nan\n",
            "Epoch 4/5\n",
            "90/90 [==============================] - 1s 12ms/step - loss: nan - mae: nan - mse: nan\n",
            "Epoch 5/5\n",
            "90/90 [==============================] - 1s 12ms/step - loss: nan - mae: nan - mse: nan\n"
          ]
        }
      ]
    },
    {
      "cell_type": "code",
      "source": [
        "# Function to calculate spearman correlation coefficient\n",
        "def spearman_coef(model, true_targets, test_dataset):\n",
        "  \"\"\"\n",
        "  Function to calcualte the spearman_coef of a trained model's results\n",
        "\n",
        "  Args\n",
        "  --------\n",
        "  model :  a trained Tensorflow model \n",
        "\n",
        "  true_targets : \n",
        "\n",
        "  Returns\n",
        "  --------\n",
        "  the spearmanr coefficient for the model's predictions and the true_targets\n",
        "\n",
        "  \"\"\"\n",
        "  # Make predictions on test sequences and pH\n",
        "  pred_targets = model.predict(test_dataset)\n",
        "\n",
        "  return spearmanr(pred_targets, true_targets)"
      ],
      "metadata": {
        "id": "ZQ-9T1BsDVVi"
      },
      "execution_count": null,
      "outputs": []
    },
    {
      "cell_type": "code",
      "source": [
        "test_df.head()"
      ],
      "metadata": {
        "id": "Txspvajzs3Rt"
      },
      "execution_count": null,
      "outputs": []
    },
    {
      "cell_type": "code",
      "source": [
        "import wandb\n",
        "\n",
        "wandb.init(project='novoenyme_competition')\n",
        "# # 2. Save model inputs and hyperparameters\n",
        "config = wandb.config\n",
        "config.learning_rate = 0.01\n",
        "# Model training here \n",
        "# 3. Log metrics over time to visualize performance\n",
        "# with tf.Session() as sess:\n",
        "# # ...\n",
        "# #wandb.tensorflow.log(tf.summary.merge_all())"
      ],
      "metadata": {
        "id": "FixK2EKccxsj"
      },
      "execution_count": null,
      "outputs": []
    },
    {
      "cell_type": "code",
      "source": [],
      "metadata": {
        "id": "iZ3u1RzWv6gj"
      },
      "execution_count": null,
      "outputs": []
    }
  ]
}